{
 "cells": [
  {
   "cell_type": "code",
   "execution_count": 3,
   "id": "78a21711",
   "metadata": {},
   "outputs": [],
   "source": [
    "import os.path as osp\n",
    "\n",
    "import torch\n",
    "import torch.nn.functional as F\n",
    "from sklearn.metrics import f1_score\n",
    "\n",
    "from torch_geometric.loader import DataLoader\n",
    "from torch_geometric.nn import GATConv, SAGEConv, NNConv\n",
    "import matplotlib.pyplot as plt"
   ]
  },
  {
   "cell_type": "code",
   "execution_count": 4,
   "id": "c3dffac1",
   "metadata": {},
   "outputs": [
    {
     "name": "stdout",
     "output_type": "stream",
     "text": [
      "DATASET LOADED\n",
      "EnterpriseModelDatasetNC(110)\n"
     ]
    },
    {
     "name": "stderr",
     "output_type": "stream",
     "text": [
      "Processing...\n",
      "Done!\n"
     ]
    }
   ],
   "source": [
    "%run dataset_nc.ipynb"
   ]
  },
  {
   "cell_type": "code",
   "execution_count": 5,
   "id": "e8b02199",
   "metadata": {},
   "outputs": [
    {
     "name": "stdout",
     "output_type": "stream",
     "text": [
      "Number of graphs total: 110\n",
      "Number of training graphs: 82\n",
      "Number of test graphs: 28\n",
      "Data(x=[26, 1], edge_index=[2, 25], edge_attr=[25, 1], y=[26], train_mask=[26], test_mask=[26])\n"
     ]
    }
   ],
   "source": [
    "torch.manual_seed(42)\n",
    "dataset = dataset_nc.shuffle()\n",
    "\n",
    "train_dataset = dataset[:int(len(dataset) * 0.75)]\n",
    "test_dataset = dataset[int(len(dataset) * 0.75):]\n",
    "\n",
    "print(f'Number of graphs total: {len(dataset)}')\n",
    "print(f'Number of training graphs: {len(train_dataset)}')\n",
    "print(f'Number of test graphs: {len(test_dataset)}')\n",
    "print(dataset[0])"
   ]
  },
  {
   "cell_type": "code",
   "execution_count": 6,
   "id": "97228dce",
   "metadata": {},
   "outputs": [],
   "source": [
    "from torch_geometric.loader import DataLoader\n",
    "\n",
    "NUM_GRAPHS_PER_BATCH = 8\n",
    "NUM_HIDDEN_CHANNELS = 64\n",
    "\n",
    "train_loader = DataLoader(train_dataset, batch_size=NUM_GRAPHS_PER_BATCH, shuffle=True)\n",
    "test_loader = DataLoader(test_dataset, batch_size=NUM_GRAPHS_PER_BATCH, shuffle=False)"
   ]
  },
  {
   "cell_type": "code",
   "execution_count": null,
   "id": "7f3378c0",
   "metadata": {},
   "outputs": [],
   "source": []
  },
  {
   "cell_type": "code",
   "execution_count": null,
   "id": "6d0685ba",
   "metadata": {},
   "outputs": [],
   "source": []
  },
  {
   "cell_type": "code",
   "execution_count": null,
   "id": "8ace2623",
   "metadata": {},
   "outputs": [],
   "source": []
  },
  {
   "cell_type": "code",
   "execution_count": 8,
   "id": "85448884",
   "metadata": {
    "scrolled": false
   },
   "outputs": [
    {
     "name": "stdout",
     "output_type": "stream",
     "text": [
      "GATGNN2(\n",
      "  (conv1): GATConv(1, 64, heads=4)\n",
      "  (lin1): Linear(in_features=1, out_features=256, bias=True)\n",
      "  (conv2): GATConv(256, 64, heads=4)\n",
      "  (lin2): Linear(in_features=256, out_features=256, bias=True)\n",
      "  (conv3): GATConv(256, 36, heads=6)\n",
      "  (lin3): Linear(in_features=256, out_features=36, bias=True)\n",
      ")\n",
      "Number of parameters:  200104\n",
      "Epoch: 001, Loss: 16.9247, Train: 0.0000, Test: 0.0000\n",
      "Epoch: 002, Loss: 9.5295, Train: 0.0000, Test: 0.0000\n",
      "Epoch: 003, Loss: 2.7548, Train: 0.0000, Test: 0.0000\n",
      "Epoch: 004, Loss: 2.1904, Train: 0.0000, Test: 0.0000\n",
      "Epoch: 005, Loss: 1.9213, Train: 0.0000, Test: 0.0000\n",
      "Epoch: 006, Loss: 1.4239, Train: 0.0000, Test: 0.0000\n",
      "Epoch: 007, Loss: 1.3623, Train: 0.0000, Test: 0.0000\n",
      "Epoch: 008, Loss: 1.3673, Train: 0.0000, Test: 0.0000\n",
      "Epoch: 009, Loss: 1.2795, Train: 0.0000, Test: 0.0000\n",
      "Epoch: 010, Loss: 1.1364, Train: 0.0000, Test: 0.0000\n",
      "Epoch: 011, Loss: 1.0210, Train: 0.0000, Test: 0.0000\n",
      "Epoch: 012, Loss: 1.0380, Train: 0.0000, Test: 0.0000\n",
      "Epoch: 013, Loss: 0.9406, Train: 0.0000, Test: 0.0000\n",
      "Epoch: 014, Loss: 0.9013, Train: 0.0000, Test: 0.0000\n",
      "Epoch: 015, Loss: 0.9463, Train: 0.0000, Test: 0.0000\n",
      "Epoch: 016, Loss: 0.8563, Train: 0.0000, Test: 0.0000\n",
      "Epoch: 017, Loss: 0.8642, Train: 0.0000, Test: 0.0000\n",
      "Epoch: 018, Loss: 0.9958, Train: 0.0000, Test: 0.0000\n",
      "Epoch: 019, Loss: 1.0799, Train: 0.0000, Test: 0.0000\n",
      "Epoch: 020, Loss: 0.8473, Train: 0.0000, Test: 0.0000\n",
      "Epoch: 021, Loss: 0.6950, Train: 0.0000, Test: 0.0000\n",
      "Epoch: 022, Loss: 0.6854, Train: 0.0000, Test: 0.0000\n",
      "Epoch: 023, Loss: 0.6410, Train: 0.0000, Test: 0.0000\n",
      "Epoch: 024, Loss: 0.6401, Train: 0.0000, Test: 0.0000\n",
      "Epoch: 025, Loss: 0.7318, Train: 0.0000, Test: 0.0000\n",
      "Epoch: 026, Loss: 0.7088, Train: 0.0000, Test: 0.0000\n",
      "Epoch: 027, Loss: 0.5588, Train: 0.0000, Test: 0.0000\n",
      "Epoch: 028, Loss: 0.7081, Train: 0.0000, Test: 0.0000\n",
      "Epoch: 029, Loss: 0.6090, Train: 0.0000, Test: 0.0000\n",
      "Epoch: 030, Loss: 0.6364, Train: 0.0000, Test: 0.0000\n",
      "Epoch: 031, Loss: 0.7611, Train: 0.0000, Test: 0.0000\n",
      "Epoch: 032, Loss: 0.7061, Train: 0.0000, Test: 0.0000\n",
      "Epoch: 033, Loss: 0.6282, Train: 0.0000, Test: 0.0000\n",
      "Epoch: 034, Loss: 0.5792, Train: 0.0000, Test: 0.0000\n",
      "Epoch: 035, Loss: 0.4972, Train: 0.0000, Test: 0.0000\n",
      "Epoch: 036, Loss: 0.5037, Train: 0.0000, Test: 0.0000\n",
      "Epoch: 037, Loss: 0.4782, Train: 0.0000, Test: 0.0000\n",
      "Epoch: 038, Loss: 0.4794, Train: 0.0000, Test: 0.0000\n",
      "Epoch: 039, Loss: 0.7139, Train: 0.0000, Test: 0.0000\n",
      "Epoch: 040, Loss: 0.7126, Train: 0.0000, Test: 0.0000\n",
      "Epoch: 041, Loss: 0.6256, Train: 0.0000, Test: 0.0000\n",
      "Epoch: 042, Loss: 0.5729, Train: 0.0000, Test: 0.0000\n",
      "Epoch: 043, Loss: 0.9461, Train: 0.0000, Test: 0.0000\n",
      "Epoch: 044, Loss: 0.9999, Train: 0.0000, Test: 0.0000\n",
      "Epoch: 045, Loss: 0.6227, Train: 0.0000, Test: 0.0000\n",
      "Epoch: 046, Loss: 0.5525, Train: 0.0000, Test: 0.0000\n",
      "Epoch: 047, Loss: 0.4706, Train: 0.0000, Test: 0.0000\n",
      "Epoch: 048, Loss: 0.4257, Train: 0.0000, Test: 0.0000\n",
      "Epoch: 049, Loss: 0.4823, Train: 0.0000, Test: 0.0000\n",
      "Epoch: 050, Loss: 0.4688, Train: 0.0000, Test: 0.0000\n"
     ]
    },
    {
     "data": {
      "image/png": "[encoded data removed]",
      "text/plain": [
       "<Figure size 640x480 with 1 Axes>"
      ]
     },
     "metadata": {},
     "output_type": "display_data"
    },
    {
     "name": "stdout",
     "output_type": "stream",
     "text": [
      "Max Accuracy: 0.0000\n"
     ]
    }
   ],
   "source": [
    "max_acc = 0\n",
    "class GATGNN2(torch.nn.Module): # uses edge_attr\n",
    "    def __init__(self):\n",
    "        super().__init__()\n",
    "        self.conv1 = GATConv(train_dataset.num_features, NUM_HIDDEN_CHANNELS, heads=4, edge_dim=1)\n",
    "        self.lin1 = torch.nn.Linear(train_dataset.num_features, 4 * NUM_HIDDEN_CHANNELS)\n",
    "        \n",
    "        self.conv2 = GATConv(4 * NUM_HIDDEN_CHANNELS, NUM_HIDDEN_CHANNELS, heads=4, edge_dim=1)\n",
    "        self.lin2 = torch.nn.Linear(4 * NUM_HIDDEN_CHANNELS, 4 * NUM_HIDDEN_CHANNELS)\n",
    "        \n",
    "        self.conv3 = GATConv(4 * NUM_HIDDEN_CHANNELS, train_dataset.num_classes, heads=6, concat=False, edge_dim=1)\n",
    "        self.lin3 = torch.nn.Linear(4 * NUM_HIDDEN_CHANNELS, train_dataset.num_classes)\n",
    "\n",
    "        \n",
    "    def forward(self, x, edge_index, edge_attr):\n",
    "        x = F.elu(self.conv1(x, edge_index, edge_attr) + self.lin1(x))\n",
    "        x = F.elu(self.conv2(x, edge_index, edge_attr) + self.lin2(x))\n",
    "        x = self.conv3(x, edge_index, edge_attr) + self.lin3(x)\n",
    "        return x\n",
    "\n",
    "\n",
    "\n",
    "device = torch.device('cuda' if torch.cuda.is_available() else 'cpu')\n",
    "model = GATGNN2().to(device)\n",
    "loss_op = torch.nn.BCEWithLogitsLoss()\n",
    "optimizer = torch.optim.Adam(model.parameters(), lr=0.005)\n",
    "print(model)\n",
    "print(\"Number of parameters: \", sum(p.numel() for p in model.parameters()))\n",
    "\n",
    "def train():\n",
    "    model.train()\n",
    "\n",
    "    total_loss = 0\n",
    "    for data in train_loader:\n",
    "        data = data.to(device)\n",
    "        optimizer.zero_grad()\n",
    "        loss = loss_op(model(data.x, data.edge_index, data.edge_attr), data.y)\n",
    "        total_loss += loss.item() * data.num_graphs\n",
    "        loss.backward()\n",
    "        optimizer.step()\n",
    "    return total_loss / len(train_loader.dataset)\n",
    "\n",
    "\n",
    "def flatten(l):\n",
    "    return [item for sublist in l for item in sublist]\n",
    "\n",
    "\n",
    "@torch.no_grad()\n",
    "def test2(loader):\n",
    "    model.eval()\n",
    "\n",
    "    ys, preds = [], []\n",
    "    for data in loader:\n",
    "        ys.append([int(y.argmax()) for y in data.y])\n",
    "        out = model(data.x.to(device), data.edge_index.to(device), edge_attr=data.edge_attr.to(device))\n",
    "        preds.append([int(pred.argmax()) for pred in out])\n",
    "\n",
    "    preds = flatten(preds)\n",
    "    ys = flatten(ys)\n",
    "    correct = 0\n",
    "    \n",
    "    for y, pred in zip(ys, preds):\n",
    "        if(y == pred):\n",
    "            correct += 1\n",
    "    \n",
    "    return correct / len(ys)\n",
    "\n",
    "\n",
    "@torch.no_grad()\n",
    "def test(loader):\n",
    "    model.eval()\n",
    "\n",
    "    ys, preds = [], []\n",
    "    for data in loader:\n",
    "        ys.append(data.y)\n",
    "        out = model(data.x.to(device), data.edge_index.to(device), edge_attr=data.edge_attr.to(device))\n",
    "        preds.append((out > 0).float().cpu())\n",
    "\n",
    "    y, pred = torch.cat(ys, dim=0).numpy(), torch.cat(preds, dim=0).numpy()\n",
    "    return f1_score(y, pred, average='micro') if pred.sum() > 0 else 0\n",
    "\n",
    "\n",
    "loss_values = []\n",
    "train_acc_values = []\n",
    "acc_values = []\n",
    "\n",
    "for epoch in range(1, 51):\n",
    "    loss = train()\n",
    "    train_acc = test(train_loader)\n",
    "    test_acc = test(test_loader)\n",
    "    if(test_acc > max_acc):\n",
    "        max_acc = test_acc\n",
    "    \n",
    "    loss_values.append(loss)\n",
    "    acc_values.append(test_acc)\n",
    "    train_acc_values.append(train_acc)\n",
    "    print(f'Epoch: {epoch:03d}, Loss: {loss:.4f}, 'f'Train: {train_acc:.4f}, 'f'Test: {test_acc:.4f}')\n",
    "    \n",
    "    if(test_acc >= 0.95):\n",
    "        break\n",
    "\n",
    "plt.plot(loss_values, 'r', acc_values, 'b', train_acc_values, 'g')\n",
    "plt.show()\n",
    "print(f'Max Accuracy: {max_acc:.4f}')"
   ]
  },
  {
   "cell_type": "code",
   "execution_count": 56,
   "id": "8735f061",
   "metadata": {},
   "outputs": [],
   "source": [
    "torch.save(model, '../models/model_nc.pth')"
   ]
  },
  {
   "cell_type": "code",
   "execution_count": 57,
   "id": "db05d7d6",
   "metadata": {},
   "outputs": [
    {
     "name": "stdout",
     "output_type": "stream",
     "text": [
      "Test Acc: 0.9542\n"
     ]
    }
   ],
   "source": [
    "loaded_model = torch.load('../models/model_nc.pth')\n",
    "loaded_model.eval()\n",
    "test_acc = test(test_loader)\n",
    "print(f'Test Acc: {test_acc:.4f}')"
   ]
  }
 ],
 "metadata": {
  "kernelspec": {
   "display_name": "Python [conda env:pyg_env]",
   "language": "python",
   "name": "conda-env-pyg_env-py"
  },
  "language_info": {
   "codemirror_mode": {
    "name": "ipython",
    "version": 3
   },
   "file_extension": ".py",
   "mimetype": "text/x-python",
   "name": "python",
   "nbconvert_exporter": "python",
   "pygments_lexer": "ipython3",
   "version": "3.10.4"
  }
 },
 "nbformat": 4,
 "nbformat_minor": 5
}
