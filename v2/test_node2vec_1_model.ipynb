{
 "cells": [
  {
   "cell_type": "code",
   "execution_count": 1,
   "id": "34196cea",
   "metadata": {},
   "outputs": [
    {
     "data": {
      "text/plain": [
       "<torch._C.Generator at 0x1d56aa867b0>"
      ]
     },
     "execution_count": 1,
     "metadata": {},
     "output_type": "execute_result"
    }
   ],
   "source": [
    "import os.path as osp\n",
    "\n",
    "import torch\n",
    "import torch.nn.functional as F\n",
    "from sklearn.metrics import f1_score\n",
    "\n",
    "from torch_geometric.loader import DataLoader\n",
    "from torch_geometric.data import Dataset, Data\n",
    "from torch_geometric.loader import DataLoader\n",
    "from torch_geometric.nn import GATConv, SAGEConv, NNConv, GCNConv\n",
    "import matplotlib.pyplot as plt\n",
    "\n",
    "from sklearn.manifold import TSNE\n",
    "from torch_geometric.nn import Node2Vec\n",
    "\n",
    "torch.manual_seed(42)"
   ]
  },
  {
   "cell_type": "code",
   "execution_count": 2,
   "id": "0a230390",
   "metadata": {},
   "outputs": [
    {
     "name": "stderr",
     "output_type": "stream",
     "text": [
      "Processing...\n",
      "Done!\n"
     ]
    },
    {
     "name": "stdout",
     "output_type": "stream",
     "text": [
      "DATASET LOADED: USE per_model variable !!!\n",
      "EnterpriseModelDatasetNCPerModeltype(110)\n"
     ]
    }
   ],
   "source": [
    "%run dataset_nc_per_modeltype.ipynb"
   ]
  },
  {
   "cell_type": "code",
   "execution_count": 3,
   "id": "9b600a03",
   "metadata": {},
   "outputs": [
    {
     "data": {
      "text/plain": [
       "{'Goal & Business Rule Model': 7,\n",
       " 'Business Rule & Process Model': 12,\n",
       " 'Concepts Model': 10,\n",
       " 'Actors and Resources Model': 11,\n",
       " 'Technical Components and Requirements Model': 10,\n",
       " '4EM General Model': 7,\n",
       " 'Business Process Model': 43,\n",
       " 'Product-Service-Model': 4,\n",
       " 'Goal Model': 6}"
      ]
     },
     "execution_count": 3,
     "metadata": {},
     "output_type": "execute_result"
    }
   ],
   "source": [
    "per_model[\"info\"]"
   ]
  },
  {
   "cell_type": "code",
   "execution_count": 4,
   "id": "575be251",
   "metadata": {},
   "outputs": [
    {
     "name": "stdout",
     "output_type": "stream",
     "text": [
      "Number of graphs total: 43\n",
      "tensor([26, 12, 26, 26, 12, 12, 12, 34, 34, 26, 26, 12, 26, 34, 26, 26, 12, 24,\n",
      "        12, 34, 26, 12, 30, 28, 26, 12, 12, 26, 20, 26, 12, 24, 26, 26, 26, 12])\n"
     ]
    }
   ],
   "source": [
    "# use only business process models\n",
    "bpms = per_model[\"data\"][\"Business Process Model\"]\n",
    "\n",
    "print(f'Number of graphs total: {len(bpms)}')\n",
    "print(bpms[1].y)"
   ]
  },
  {
   "cell_type": "code",
   "execution_count": 5,
   "id": "e1d79265",
   "metadata": {},
   "outputs": [
    {
     "name": "stdout",
     "output_type": "stream",
     "text": [
      "[34, 12, 19, 20, 24, 26, 28, 30]\n",
      "['Comment', 'Process', 'Join (AND)', 'Join (OR)', 'Split (OR)', 'Information Set', 'External Process', 'Split (AND)']\n",
      "{34: 0, 12: 1, 19: 2, 20: 3, 24: 4, 26: 5, 28: 6, 30: 7}\n"
     ]
    }
   ],
   "source": [
    "bpm_node_classes = []\n",
    "\n",
    "for graph in bpms:\n",
    "    for nclass in graph.y:\n",
    "        bpm_node_classes.append(nclass.item())\n",
    "    \n",
    "bpm_node_classes = list(set(bpm_node_classes))\n",
    "print(bpm_node_classes)\n",
    "\n",
    "new_node_classes = []\n",
    "map_old_to_new_node_class = {}\n",
    "\n",
    "for i, old_index in enumerate(bpm_node_classes):\n",
    "    new_node_classes.append(node_classes[old_index])\n",
    "    map_old_to_new_node_class[old_index] = i\n",
    "    \n",
    "    \n",
    "print(new_node_classes)\n",
    "print(map_old_to_new_node_class)"
   ]
  },
  {
   "cell_type": "code",
   "execution_count": 6,
   "id": "d5905702",
   "metadata": {},
   "outputs": [],
   "source": [
    "final_classes = [0, 1, 2] # 0: Information Set, 1: Process, 2: Other\n",
    "\n",
    "for graph in bpms:\n",
    "    for i, nclass in enumerate(graph.y):\n",
    "        if(new_node_classes[map_old_to_new_node_class[nclass.item()]] == \"Information Set\"):\n",
    "            graph.y[i] = 0\n",
    "        elif(new_node_classes[map_old_to_new_node_class[nclass.item()]] == \"Process\"):\n",
    "            graph.y[i] = 1\n",
    "        else:\n",
    "            graph.y[i] = 2"
   ]
  },
  {
   "cell_type": "code",
   "execution_count": 7,
   "id": "58dedb46",
   "metadata": {},
   "outputs": [],
   "source": [
    "dataset = bpms"
   ]
  },
  {
   "cell_type": "code",
   "execution_count": 8,
   "id": "51a53209",
   "metadata": {},
   "outputs": [
    {
     "data": {
      "text/plain": [
       "tensor([1, 0, 0, 0, 2, 1, 1, 1, 2, 1, 0])"
      ]
     },
     "execution_count": 8,
     "metadata": {},
     "output_type": "execute_result"
    }
   ],
   "source": [
    "dataset[0].y"
   ]
  },
  {
   "cell_type": "code",
   "execution_count": 9,
   "id": "3d6c1a3b",
   "metadata": {},
   "outputs": [
    {
     "data": {
      "text/plain": [
       "(array([0, 1, 2], dtype=int64), array([4, 5, 2], dtype=int64))"
      ]
     },
     "execution_count": 9,
     "metadata": {},
     "output_type": "execute_result"
    }
   ],
   "source": [
    "values, counts = np.unique(dataset[0].y, return_counts=True)\n",
    "values, counts"
   ]
  },
  {
   "cell_type": "code",
   "execution_count": 10,
   "id": "8078bfa9",
   "metadata": {},
   "outputs": [
    {
     "data": {
      "text/plain": [
       "43"
      ]
     },
     "execution_count": 10,
     "metadata": {},
     "output_type": "execute_result"
    }
   ],
   "source": [
    "len(dataset)"
   ]
  },
  {
   "cell_type": "code",
   "execution_count": 11,
   "id": "680421fc",
   "metadata": {},
   "outputs": [],
   "source": [
    "NUM_GRAPHS_PER_BATCH = len(bpms)\n",
    "NUM_HIDDEN_CHANNELS = 64\n",
    "\n",
    "train_loader = DataLoader(bpms, batch_size=NUM_GRAPHS_PER_BATCH, shuffle=False)"
   ]
  },
  {
   "cell_type": "code",
   "execution_count": 16,
   "id": "20ef22bd",
   "metadata": {},
   "outputs": [
    {
     "data": {
      "text/plain": [
       "(Data(x=[40, 1], edge_index=[2, 38], edge_attr=[38, 1], y=[40], train_mask=[40], test_mask=[40], modeltype=6),\n",
       " 40)"
      ]
     },
     "execution_count": 16,
     "metadata": {},
     "output_type": "execute_result"
    }
   ],
   "source": [
    "data = dataset[3]\n",
    "num_nodes = data.x.shape[0]\n",
    "data, num_nodes"
   ]
  },
  {
   "cell_type": "code",
   "execution_count": 17,
   "id": "43cde0a1",
   "metadata": {},
   "outputs": [
    {
     "data": {
      "text/plain": [
       "(array([0, 1, 2], dtype=int64), array([14, 14, 12], dtype=int64))"
      ]
     },
     "execution_count": 17,
     "metadata": {},
     "output_type": "execute_result"
    }
   ],
   "source": [
    "values, counts = np.unique(data.y, return_counts=True)\n",
    "values, counts"
   ]
  },
  {
   "cell_type": "code",
   "execution_count": 18,
   "id": "29ff355d",
   "metadata": {},
   "outputs": [],
   "source": [
    "embedding_dim = 8"
   ]
  },
  {
   "cell_type": "code",
   "execution_count": 20,
   "id": "538f1361",
   "metadata": {},
   "outputs": [
    {
     "name": "stdout",
     "output_type": "stream",
     "text": [
      "Epoch: 01, Loss: 2.5803, Acc: 0.2000\n",
      "Epoch: 02, Loss: 2.5525, Acc: 0.2000\n",
      "Epoch: 03, Loss: 2.5296, Acc: 0.2000\n",
      "Epoch: 04, Loss: 2.4980, Acc: 0.2000\n",
      "Epoch: 05, Loss: 2.4306, Acc: 0.2000\n",
      "Epoch: 06, Loss: 2.3592, Acc: 0.2000\n",
      "Epoch: 07, Loss: 2.3868, Acc: 0.2000\n",
      "Epoch: 08, Loss: 2.3060, Acc: 0.2000\n",
      "Epoch: 09, Loss: 2.2495, Acc: 0.2000\n",
      "Epoch: 10, Loss: 2.2469, Acc: 0.2000\n",
      "Epoch: 11, Loss: 2.2049, Acc: 0.2000\n",
      "Epoch: 12, Loss: 2.1451, Acc: 0.2000\n",
      "Epoch: 13, Loss: 2.1730, Acc: 0.2000\n",
      "Epoch: 14, Loss: 2.1801, Acc: 0.2000\n",
      "Epoch: 15, Loss: 2.1287, Acc: 0.2000\n",
      "Epoch: 16, Loss: 2.1305, Acc: 0.2000\n",
      "Epoch: 17, Loss: 2.0930, Acc: 0.2000\n",
      "Epoch: 18, Loss: 2.0579, Acc: 0.2000\n",
      "Epoch: 19, Loss: 2.0362, Acc: 0.2000\n",
      "Epoch: 20, Loss: 1.9994, Acc: 0.2000\n",
      "Epoch: 21, Loss: 1.9581, Acc: 0.2000\n",
      "Epoch: 22, Loss: 1.9343, Acc: 0.2000\n",
      "Epoch: 23, Loss: 1.9705, Acc: 0.2000\n",
      "Epoch: 24, Loss: 1.8903, Acc: 0.2000\n",
      "Epoch: 25, Loss: 1.9082, Acc: 0.2000\n",
      "Epoch: 26, Loss: 1.8657, Acc: 0.2000\n",
      "Epoch: 27, Loss: 1.8399, Acc: 0.2000\n",
      "Epoch: 28, Loss: 1.8121, Acc: 0.2000\n",
      "Epoch: 29, Loss: 1.8109, Acc: 0.2000\n",
      "Epoch: 30, Loss: 1.7687, Acc: 0.2000\n",
      "Epoch: 31, Loss: 1.7305, Acc: 0.2000\n",
      "Epoch: 32, Loss: 1.7307, Acc: 0.2000\n",
      "Epoch: 33, Loss: 1.7126, Acc: 0.2000\n",
      "Epoch: 34, Loss: 1.7168, Acc: 0.2000\n",
      "Epoch: 35, Loss: 1.7002, Acc: 0.3000\n",
      "Epoch: 36, Loss: 1.6744, Acc: 0.3000\n",
      "Epoch: 37, Loss: 1.6417, Acc: 0.3000\n",
      "Epoch: 38, Loss: 1.6056, Acc: 0.3000\n",
      "Epoch: 39, Loss: 1.6390, Acc: 0.3000\n",
      "Epoch: 40, Loss: 1.6067, Acc: 0.3000\n",
      "Epoch: 41, Loss: 1.5893, Acc: 0.3000\n",
      "Epoch: 42, Loss: 1.5727, Acc: 0.3000\n",
      "Epoch: 43, Loss: 1.5585, Acc: 0.3000\n",
      "Epoch: 44, Loss: 1.5543, Acc: 0.3000\n",
      "Epoch: 45, Loss: 1.5361, Acc: 0.3000\n",
      "Epoch: 46, Loss: 1.5516, Acc: 0.3000\n",
      "Epoch: 47, Loss: 1.5289, Acc: 0.3000\n",
      "Epoch: 48, Loss: 1.5069, Acc: 0.3000\n",
      "Epoch: 49, Loss: 1.4751, Acc: 0.3000\n",
      "Epoch: 50, Loss: 1.4681, Acc: 0.3000\n",
      "Epoch: 51, Loss: 1.4842, Acc: 0.3000\n",
      "Epoch: 52, Loss: 1.4739, Acc: 0.3000\n",
      "Epoch: 53, Loss: 1.4752, Acc: 0.3000\n",
      "Epoch: 54, Loss: 1.4364, Acc: 0.3000\n",
      "Epoch: 55, Loss: 1.4196, Acc: 0.3000\n",
      "Epoch: 56, Loss: 1.4068, Acc: 0.3000\n",
      "Epoch: 57, Loss: 1.4449, Acc: 0.3000\n",
      "Epoch: 58, Loss: 1.3966, Acc: 0.3000\n",
      "Epoch: 59, Loss: 1.3986, Acc: 0.3000\n",
      "Epoch: 60, Loss: 1.3790, Acc: 0.3000\n",
      "Epoch: 61, Loss: 1.3709, Acc: 0.3000\n",
      "Epoch: 62, Loss: 1.3767, Acc: 0.3000\n",
      "Epoch: 63, Loss: 1.3512, Acc: 0.3000\n",
      "Epoch: 64, Loss: 1.3383, Acc: 0.3000\n",
      "Epoch: 65, Loss: 1.3658, Acc: 0.3000\n",
      "Epoch: 66, Loss: 1.3512, Acc: 0.3000\n",
      "Epoch: 67, Loss: 1.3297, Acc: 0.3000\n",
      "Epoch: 68, Loss: 1.3363, Acc: 0.3000\n",
      "Epoch: 69, Loss: 1.3272, Acc: 0.3000\n",
      "Epoch: 70, Loss: 1.3290, Acc: 0.3000\n",
      "Epoch: 71, Loss: 1.3062, Acc: 0.3000\n",
      "Epoch: 72, Loss: 1.3098, Acc: 0.3000\n",
      "Epoch: 73, Loss: 1.2753, Acc: 0.3000\n",
      "Epoch: 74, Loss: 1.3071, Acc: 0.3000\n",
      "Epoch: 75, Loss: 1.2916, Acc: 0.3000\n",
      "Epoch: 76, Loss: 1.2768, Acc: 0.3000\n",
      "Epoch: 77, Loss: 1.2600, Acc: 0.3000\n",
      "Epoch: 78, Loss: 1.2849, Acc: 0.3000\n",
      "Epoch: 79, Loss: 1.2687, Acc: 0.3000\n",
      "Epoch: 80, Loss: 1.2429, Acc: 0.3000\n",
      "Epoch: 81, Loss: 1.2259, Acc: 0.3000\n",
      "Epoch: 82, Loss: 1.2245, Acc: 0.3000\n",
      "Epoch: 83, Loss: 1.2522, Acc: 0.3000\n",
      "Epoch: 84, Loss: 1.2401, Acc: 0.3000\n",
      "Epoch: 85, Loss: 1.2406, Acc: 0.3000\n",
      "Epoch: 86, Loss: 1.2161, Acc: 0.3000\n",
      "Epoch: 87, Loss: 1.2393, Acc: 0.3000\n",
      "Epoch: 88, Loss: 1.2252, Acc: 0.3000\n",
      "Epoch: 89, Loss: 1.2059, Acc: 0.3000\n",
      "Epoch: 90, Loss: 1.2052, Acc: 0.3000\n",
      "Epoch: 91, Loss: 1.1950, Acc: 0.3000\n",
      "Epoch: 92, Loss: 1.1856, Acc: 0.3000\n",
      "Epoch: 93, Loss: 1.1841, Acc: 0.3000\n",
      "Epoch: 94, Loss: 1.1898, Acc: 0.3000\n",
      "Epoch: 95, Loss: 1.1832, Acc: 0.3000\n",
      "Epoch: 96, Loss: 1.1787, Acc: 0.3000\n",
      "Epoch: 97, Loss: 1.1713, Acc: 0.3000\n",
      "Epoch: 98, Loss: 1.1611, Acc: 0.3000\n",
      "Epoch: 99, Loss: 1.1600, Acc: 0.3000\n",
      "Epoch: 100, Loss: 1.1755, Acc: 0.3000\n"
     ]
    },
    {
     "name": "stderr",
     "output_type": "stream",
     "text": [
      "C:\\Users\\alber\\anaconda3\\envs\\pyg_env\\lib\\site-packages\\sklearn\\manifold\\_t_sne.py:795: FutureWarning: The default initialization in TSNE will change from 'random' to 'pca' in 1.2.\n",
      "  warnings.warn(\n",
      "C:\\Users\\alber\\anaconda3\\envs\\pyg_env\\lib\\site-packages\\sklearn\\manifold\\_t_sne.py:805: FutureWarning: The default learning rate in TSNE will change from 200.0 to 'auto' in 1.2.\n",
      "  warnings.warn(\n"
     ]
    },
    {
     "data": {
      "image/png": "[encoded data removed]",
      "text/plain": [
       "<Figure size 800x800 with 1 Axes>"
      ]
     },
     "metadata": {},
     "output_type": "display_data"
    }
   ],
   "source": [
    "device = 'cuda' if torch.cuda.is_available() else 'cpu'\n",
    "model = Node2Vec(data.edge_index, embedding_dim=embedding_dim, walk_length=15,\n",
    "                 context_size=10, walks_per_node=10,\n",
    "                 num_negative_samples=1, p=1, q=1, sparse=True).to(device)\n",
    "\n",
    "num_workers = 0\n",
    "loader = model.loader(batch_size=64, shuffle=True, num_workers=num_workers)\n",
    "optimizer = torch.optim.SparseAdam(list(model.parameters()), lr=0.01)\n",
    "\n",
    "def train():\n",
    "    model.train()\n",
    "    total_loss = 0\n",
    "    for pos_rw, neg_rw in loader:\n",
    "        optimizer.zero_grad()\n",
    "        loss = model.loss(pos_rw.to(device), neg_rw.to(device))\n",
    "        loss.backward()\n",
    "        optimizer.step()\n",
    "        total_loss += loss.item()\n",
    "    return total_loss / len(loader)\n",
    "\n",
    "@torch.no_grad()\n",
    "def test():\n",
    "    model.eval()\n",
    "    z = model()\n",
    "    acc = model.test(z[data.train_mask], data.y[data.train_mask],\n",
    "                     z[data.test_mask], data.y[data.test_mask],\n",
    "                     max_iter=150)\n",
    "    return acc\n",
    "\n",
    "for epoch in range(1, 101):\n",
    "    loss = train()\n",
    "    acc = test()\n",
    "    print(f'Epoch: {epoch:02d}, Loss: {loss:.4f}, Acc: {acc:.4f}')\n",
    "\n",
    "@torch.no_grad()\n",
    "def plot_points(colors):\n",
    "    model.eval()\n",
    "    z = model(torch.arange(data.num_nodes, device=device))\n",
    "    z = TSNE(n_components=2).fit_transform(z.cpu().numpy())\n",
    "    y = data.y.cpu().numpy()\n",
    "\n",
    "    plt.figure(figsize=(8, 8))\n",
    "    for i in range(len(new_node_classes)):\n",
    "        plt.scatter(z[y == i, 0], z[y == i, 1], s=20, color=colors[i])\n",
    "    plt.axis('off')\n",
    "    plt.show()\n",
    "\n",
    "colors = [\n",
    "    '#ffc0cb', '#bada55', '#008080', '#420420', '#7fe5f0', '#065535',\n",
    "    '#ffd700', '#9900ff', '#008080', '#420420', '#7fe5f0', '#065535',\n",
    "    '#008080', '#420420', '#7fe5f0', '#ff00ff', '#993366', '#ff5050',\n",
    "    '#ff9933', '#ffff66', '#ffffcc', '#0066cc', '#00cc66', '#333300',\n",
    "    '#996600', '#99ff66', '#cc99ff', '#336699', '#33cc33', '#339966',\n",
    "    '#cc9900', '#66ff66', '#6666ff', '#009999', '#666699', '#ffcccc',\n",
    "]\n",
    "plot_points(colors)"
   ]
  },
  {
   "cell_type": "code",
   "execution_count": null,
   "id": "b627ad48",
   "metadata": {},
   "outputs": [],
   "source": []
  },
  {
   "cell_type": "code",
   "execution_count": null,
   "id": "bc303605",
   "metadata": {},
   "outputs": [],
   "source": []
  },
  {
   "cell_type": "code",
   "execution_count": null,
   "id": "8450cc8e",
   "metadata": {},
   "outputs": [],
   "source": []
  }
 ],
 "metadata": {
  "kernelspec": {
   "display_name": "Python [conda env:pyg_env]",
   "language": "python",
   "name": "conda-env-pyg_env-py"
  },
  "language_info": {
   "codemirror_mode": {
    "name": "ipython",
    "version": 3
   },
   "file_extension": ".py",
   "mimetype": "text/x-python",
   "name": "python",
   "nbconvert_exporter": "python",
   "pygments_lexer": "ipython3",
   "version": "3.10.4"
  }
 },
 "nbformat": 4,
 "nbformat_minor": 5
}
