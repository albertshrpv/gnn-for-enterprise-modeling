{
 "cells": [
  {
   "cell_type": "code",
   "execution_count": 21,
   "id": "29629765",
   "metadata": {},
   "outputs": [],
   "source": [
    "import os.path as osp\n",
    "\n",
    "import torch\n",
    "from sklearn.metrics import roc_auc_score\n",
    "import matplotlib.pyplot as plt\n",
    "\n",
    "import torch_geometric.transforms as T\n",
    "from torch_geometric.datasets import Planetoid\n",
    "from torch_geometric.nn import GCNConv\n",
    "from torch_geometric.utils import negative_sampling\n",
    "\n",
    "device = torch.device('cuda' if torch.cuda.is_available() else 'cpu')"
   ]
  },
  {
   "cell_type": "code",
   "execution_count": 13,
   "id": "e704c618",
   "metadata": {},
   "outputs": [
    {
     "data": {
      "text/plain": [
       "1433"
      ]
     },
     "execution_count": 13,
     "metadata": {},
     "output_type": "execute_result"
    }
   ],
   "source": [
    "# load the Cora dataset\n",
    "transform = T.Compose([\n",
    "    T.NormalizeFeatures(),\n",
    "    T.ToDevice(device),\n",
    "    T.RandomLinkSplit(num_val=0.10, num_test=0.20, neg_sampling_ratio = 1.0,\n",
    "                  is_undirected=True, add_negative_train_samples=False),\n",
    "])\n",
    "dataset = Planetoid('./data/Planetoid', name='Cora')\n",
    "dataset.num_features"
   ]
  },
  {
   "cell_type": "code",
   "execution_count": 14,
   "id": "c621ec61",
   "metadata": {},
   "outputs": [
    {
     "data": {
      "text/plain": [
       "Data(x=[2708, 1433], edge_index=[2, 10556], y=[2708], train_mask=[2708], val_mask=[2708], test_mask=[2708])"
      ]
     },
     "execution_count": 14,
     "metadata": {},
     "output_type": "execute_result"
    }
   ],
   "source": [
    "data = dataset[0]\n",
    "data"
   ]
  },
  {
   "cell_type": "code",
   "execution_count": 15,
   "id": "413c6339",
   "metadata": {},
   "outputs": [],
   "source": [
    "data = transform(data)"
   ]
  },
  {
   "cell_type": "code",
   "execution_count": 16,
   "id": "ba87cf36",
   "metadata": {},
   "outputs": [
    {
     "name": "stdout",
     "output_type": "stream",
     "text": [
      "Data(x=[2708, 1433], edge_index=[2, 7392], y=[2708], train_mask=[2708], val_mask=[2708], test_mask=[2708], edge_label=[3696], edge_label_index=[2, 3696])\n",
      "Data(x=[2708, 1433], edge_index=[2, 7392], y=[2708], train_mask=[2708], val_mask=[2708], test_mask=[2708], edge_label=[1054], edge_label_index=[2, 1054])\n",
      "Data(x=[2708, 1433], edge_index=[2, 8446], y=[2708], train_mask=[2708], val_mask=[2708], test_mask=[2708], edge_label=[2110], edge_label_index=[2, 2110])\n"
     ]
    }
   ],
   "source": [
    "# After applying the `RandomLinkSplit` transform, the data is transformed from\n",
    "# a data object to a list of tuples (train_data, val_data, test_data), with\n",
    "# each element representing the corresponding split.\n",
    "train_data, val_data, test_data = data\n",
    "print(train_data)\n",
    "print(val_data)\n",
    "print(test_data)"
   ]
  },
  {
   "cell_type": "code",
   "execution_count": 17,
   "id": "45717584",
   "metadata": {},
   "outputs": [],
   "source": [
    "class Net(torch.nn.Module):\n",
    "    def __init__(self, in_channels, hidden_channels, out_channels):\n",
    "        super().__init__()\n",
    "        self.conv1 = GCNConv(in_channels, hidden_channels)\n",
    "        self.conv2 = GCNConv(hidden_channels, out_channels)\n",
    "\n",
    "    def encode(self, x, edge_index):\n",
    "        x = self.conv1(x, edge_index).relu()\n",
    "        x = self.conv2(x, edge_index)\n",
    "        return x\n",
    "\n",
    "    def decode(self, z, edge_label_index):\n",
    "        return (z[edge_label_index[0]] * z[edge_label_index[1]]).sum(dim=-1)\n",
    "\n",
    "    def decode_all(self, z):\n",
    "        prob_adj = z @ z.t()\n",
    "        #return the indices of a non-zero element\n",
    "        return (prob_adj > 0).nonzero(as_tuple=False).t()"
   ]
  },
  {
   "cell_type": "code",
   "execution_count": 22,
   "id": "78d7d0e2",
   "metadata": {},
   "outputs": [],
   "source": [
    "model = Net(dataset.num_features, 128, 64).to(device)\n",
    "optimizer = torch.optim.Adam(params=model.parameters(), lr=0.01)\n",
    "criterion = torch.nn.BCEWithLogitsLoss()"
   ]
  },
  {
   "cell_type": "code",
   "execution_count": 19,
   "id": "735f9301",
   "metadata": {},
   "outputs": [],
   "source": [
    "def train():\n",
    "    model.train()\n",
    "    optimizer.zero_grad()\n",
    "    z = model.encode(train_data.x, train_data.edge_index)\n",
    "\n",
    "    # We perform a new round of negative sampling for every training epoch:\n",
    "    neg_edge_index = negative_sampling(\n",
    "        edge_index=train_data.edge_index, num_nodes=train_data.num_nodes,\n",
    "        num_neg_samples=train_data.edge_label_index.size(1))\n",
    "\n",
    "    edge_label_index = torch.cat(\n",
    "        [train_data.edge_label_index, neg_edge_index],\n",
    "        dim=-1,\n",
    "    )\n",
    "    edge_label = torch.cat([\n",
    "        train_data.edge_label,\n",
    "        train_data.edge_label.new_zeros(neg_edge_index.size(1))\n",
    "    ], dim=0)\n",
    "\n",
    "    out = model.decode(z, edge_label_index).view(-1)\n",
    "    loss = criterion(out, edge_label)\n",
    "    loss.backward()\n",
    "    optimizer.step()\n",
    "    return loss\n",
    "\n",
    "\n",
    "@torch.no_grad()\n",
    "def test(data):\n",
    "    model.eval()\n",
    "    z = model.encode(data.x, data.edge_index)\n",
    "    out = model.decode(z, data.edge_label_index).view(-1).sigmoid()\n",
    "    return roc_auc_score(data.edge_label.cpu().numpy(), out.cpu().numpy())\n",
    "\n"
   ]
  },
  {
   "cell_type": "code",
   "execution_count": 23,
   "id": "c981c92b",
   "metadata": {
    "scrolled": false
   },
   "outputs": [
    {
     "name": "stdout",
     "output_type": "stream",
     "text": [
      "Epoch: 001, Loss: 0.6930, Val: 0.6599, Test: 0.6826\n",
      "Epoch: 002, Loss: 0.6836, Val: 0.6537, Test: 0.6759\n",
      "Epoch: 003, Loss: 0.7059, Val: 0.6625, Test: 0.6858\n",
      "Epoch: 004, Loss: 0.6783, Val: 0.6871, Test: 0.7073\n",
      "Epoch: 005, Loss: 0.6851, Val: 0.7045, Test: 0.7256\n",
      "Epoch: 006, Loss: 0.6878, Val: 0.6890, Test: 0.7126\n",
      "Epoch: 007, Loss: 0.6876, Val: 0.6633, Test: 0.6875\n",
      "Epoch: 008, Loss: 0.6850, Val: 0.6512, Test: 0.6739\n",
      "Epoch: 009, Loss: 0.6797, Val: 0.6466, Test: 0.6683\n",
      "Epoch: 010, Loss: 0.6752, Val: 0.6448, Test: 0.6651\n",
      "Epoch: 011, Loss: 0.6770, Val: 0.6443, Test: 0.6618\n",
      "Epoch: 012, Loss: 0.6733, Val: 0.6462, Test: 0.6594\n",
      "Epoch: 013, Loss: 0.6661, Val: 0.6517, Test: 0.6622\n",
      "Epoch: 014, Loss: 0.6625, Val: 0.6605, Test: 0.6703\n",
      "Epoch: 015, Loss: 0.6592, Val: 0.6685, Test: 0.6790\n",
      "Epoch: 016, Loss: 0.6532, Val: 0.6717, Test: 0.6826\n",
      "Epoch: 017, Loss: 0.6442, Val: 0.6756, Test: 0.6856\n",
      "Epoch: 018, Loss: 0.6396, Val: 0.6965, Test: 0.7050\n",
      "Epoch: 019, Loss: 0.6272, Val: 0.7382, Test: 0.7440\n",
      "Epoch: 020, Loss: 0.6196, Val: 0.7815, Test: 0.7829\n",
      "Epoch: 021, Loss: 0.6095, Val: 0.7926, Test: 0.7961\n",
      "Epoch: 022, Loss: 0.5949, Val: 0.7921, Test: 0.7947\n",
      "Epoch: 023, Loss: 0.5806, Val: 0.7911, Test: 0.7930\n",
      "Epoch: 024, Loss: 0.5706, Val: 0.7907, Test: 0.7961\n",
      "Epoch: 025, Loss: 0.5523, Val: 0.7871, Test: 0.7944\n",
      "Epoch: 026, Loss: 0.5465, Val: 0.7888, Test: 0.7956\n",
      "Epoch: 027, Loss: 0.5444, Val: 0.7908, Test: 0.8024\n",
      "Epoch: 028, Loss: 0.5204, Val: 0.8052, Test: 0.8144\n",
      "Epoch: 029, Loss: 0.5381, Val: 0.8167, Test: 0.8299\n",
      "Epoch: 030, Loss: 0.5121, Val: 0.8269, Test: 0.8438\n",
      "Epoch: 031, Loss: 0.5072, Val: 0.8435, Test: 0.8571\n",
      "Epoch: 032, Loss: 0.4855, Val: 0.8547, Test: 0.8653\n",
      "Epoch: 033, Loss: 0.4863, Val: 0.8589, Test: 0.8704\n",
      "Epoch: 034, Loss: 0.4765, Val: 0.8608, Test: 0.8710\n",
      "Epoch: 035, Loss: 0.4848, Val: 0.8648, Test: 0.8721\n",
      "Epoch: 036, Loss: 0.4830, Val: 0.8661, Test: 0.8729\n",
      "Epoch: 037, Loss: 0.4801, Val: 0.8656, Test: 0.8721\n",
      "Epoch: 038, Loss: 0.4807, Val: 0.8674, Test: 0.8733\n",
      "Epoch: 039, Loss: 0.4790, Val: 0.8706, Test: 0.8753\n",
      "Epoch: 040, Loss: 0.4633, Val: 0.8724, Test: 0.8772\n",
      "Epoch: 041, Loss: 0.4724, Val: 0.8736, Test: 0.8789\n",
      "Epoch: 042, Loss: 0.4700, Val: 0.8729, Test: 0.8801\n",
      "Epoch: 043, Loss: 0.4700, Val: 0.8750, Test: 0.8823\n",
      "Epoch: 044, Loss: 0.4700, Val: 0.8791, Test: 0.8846\n",
      "Epoch: 045, Loss: 0.4693, Val: 0.8800, Test: 0.8849\n",
      "Epoch: 046, Loss: 0.4638, Val: 0.8796, Test: 0.8858\n",
      "Epoch: 047, Loss: 0.4656, Val: 0.8785, Test: 0.8850\n",
      "Epoch: 048, Loss: 0.4636, Val: 0.8782, Test: 0.8843\n",
      "Epoch: 049, Loss: 0.4593, Val: 0.8801, Test: 0.8854\n",
      "Epoch: 050, Loss: 0.4581, Val: 0.8823, Test: 0.8859\n",
      "Epoch: 051, Loss: 0.4583, Val: 0.8832, Test: 0.8858\n",
      "Epoch: 052, Loss: 0.4634, Val: 0.8821, Test: 0.8854\n",
      "Epoch: 053, Loss: 0.4556, Val: 0.8826, Test: 0.8864\n",
      "Epoch: 054, Loss: 0.4577, Val: 0.8847, Test: 0.8869\n",
      "Epoch: 055, Loss: 0.4537, Val: 0.8867, Test: 0.8868\n",
      "Epoch: 056, Loss: 0.4539, Val: 0.8869, Test: 0.8871\n",
      "Epoch: 057, Loss: 0.4414, Val: 0.8864, Test: 0.8879\n",
      "Epoch: 058, Loss: 0.4560, Val: 0.8848, Test: 0.8887\n",
      "Epoch: 059, Loss: 0.4455, Val: 0.8850, Test: 0.8890\n",
      "Epoch: 060, Loss: 0.4428, Val: 0.8878, Test: 0.8889\n",
      "Epoch: 061, Loss: 0.4568, Val: 0.8887, Test: 0.8884\n",
      "Epoch: 062, Loss: 0.4502, Val: 0.8883, Test: 0.8888\n",
      "Epoch: 063, Loss: 0.4558, Val: 0.8856, Test: 0.8897\n",
      "Epoch: 064, Loss: 0.4501, Val: 0.8859, Test: 0.8899\n",
      "Epoch: 065, Loss: 0.4521, Val: 0.8883, Test: 0.8902\n",
      "Epoch: 066, Loss: 0.4512, Val: 0.8895, Test: 0.8902\n",
      "Epoch: 067, Loss: 0.4415, Val: 0.8896, Test: 0.8909\n",
      "Epoch: 068, Loss: 0.4528, Val: 0.8894, Test: 0.8911\n",
      "Epoch: 069, Loss: 0.4458, Val: 0.8874, Test: 0.8908\n",
      "Epoch: 070, Loss: 0.4465, Val: 0.8873, Test: 0.8908\n",
      "Epoch: 071, Loss: 0.4501, Val: 0.8892, Test: 0.8911\n",
      "Epoch: 072, Loss: 0.4447, Val: 0.8908, Test: 0.8912\n",
      "Epoch: 073, Loss: 0.4537, Val: 0.8920, Test: 0.8916\n",
      "Epoch: 074, Loss: 0.4457, Val: 0.8917, Test: 0.8912\n",
      "Epoch: 075, Loss: 0.4339, Val: 0.8912, Test: 0.8913\n",
      "Epoch: 076, Loss: 0.4442, Val: 0.8905, Test: 0.8912\n",
      "Epoch: 077, Loss: 0.4399, Val: 0.8912, Test: 0.8915\n",
      "Epoch: 078, Loss: 0.4425, Val: 0.8921, Test: 0.8918\n",
      "Epoch: 079, Loss: 0.4534, Val: 0.8912, Test: 0.8916\n",
      "Epoch: 080, Loss: 0.4422, Val: 0.8909, Test: 0.8917\n",
      "Epoch: 081, Loss: 0.4391, Val: 0.8908, Test: 0.8916\n",
      "Epoch: 082, Loss: 0.4436, Val: 0.8908, Test: 0.8922\n",
      "Epoch: 083, Loss: 0.4462, Val: 0.8916, Test: 0.8924\n",
      "Epoch: 084, Loss: 0.4389, Val: 0.8905, Test: 0.8921\n",
      "Epoch: 085, Loss: 0.4482, Val: 0.8889, Test: 0.8917\n",
      "Epoch: 086, Loss: 0.4409, Val: 0.8886, Test: 0.8931\n",
      "Epoch: 087, Loss: 0.4397, Val: 0.8913, Test: 0.8942\n",
      "Epoch: 088, Loss: 0.4410, Val: 0.8937, Test: 0.8942\n",
      "Epoch: 089, Loss: 0.4412, Val: 0.8935, Test: 0.8934\n",
      "Epoch: 090, Loss: 0.4446, Val: 0.8917, Test: 0.8932\n",
      "Epoch: 091, Loss: 0.4412, Val: 0.8924, Test: 0.8942\n",
      "Epoch: 092, Loss: 0.4381, Val: 0.8943, Test: 0.8956\n",
      "Epoch: 093, Loss: 0.4418, Val: 0.8959, Test: 0.8956\n",
      "Epoch: 094, Loss: 0.4330, Val: 0.8964, Test: 0.8957\n",
      "Epoch: 095, Loss: 0.4352, Val: 0.8954, Test: 0.8954\n",
      "Epoch: 096, Loss: 0.4419, Val: 0.8944, Test: 0.8960\n",
      "Epoch: 097, Loss: 0.4413, Val: 0.8951, Test: 0.8970\n",
      "Epoch: 098, Loss: 0.4367, Val: 0.8974, Test: 0.8981\n",
      "Epoch: 099, Loss: 0.4371, Val: 0.8988, Test: 0.8984\n",
      "Epoch: 100, Loss: 0.4371, Val: 0.8986, Test: 0.8982\n",
      "Epoch: 101, Loss: 0.4288, Val: 0.8979, Test: 0.8988\n",
      "Epoch: 102, Loss: 0.4372, Val: 0.8981, Test: 0.8995\n",
      "Epoch: 103, Loss: 0.4368, Val: 0.8994, Test: 0.8996\n",
      "Epoch: 104, Loss: 0.4267, Val: 0.9003, Test: 0.9000\n",
      "Epoch: 105, Loss: 0.4304, Val: 0.9008, Test: 0.8997\n",
      "Epoch: 106, Loss: 0.4316, Val: 0.9003, Test: 0.9006\n",
      "Epoch: 107, Loss: 0.4271, Val: 0.8984, Test: 0.9008\n",
      "Epoch: 108, Loss: 0.4345, Val: 0.9000, Test: 0.9011\n",
      "Epoch: 109, Loss: 0.4355, Val: 0.9019, Test: 0.9005\n",
      "Epoch: 110, Loss: 0.4260, Val: 0.9015, Test: 0.8991\n",
      "Epoch: 111, Loss: 0.4331, Val: 0.8999, Test: 0.8991\n",
      "Epoch: 112, Loss: 0.4299, Val: 0.8986, Test: 0.8995\n",
      "Epoch: 113, Loss: 0.4288, Val: 0.8996, Test: 0.8999\n",
      "Epoch: 114, Loss: 0.4331, Val: 0.9009, Test: 0.8999\n",
      "Epoch: 115, Loss: 0.4304, Val: 0.9007, Test: 0.8988\n",
      "Epoch: 116, Loss: 0.4365, Val: 0.8995, Test: 0.8980\n",
      "Epoch: 117, Loss: 0.4262, Val: 0.8994, Test: 0.8990\n",
      "Epoch: 118, Loss: 0.4321, Val: 0.8995, Test: 0.8997\n",
      "Epoch: 119, Loss: 0.4338, Val: 0.9002, Test: 0.8996\n",
      "Epoch: 120, Loss: 0.4294, Val: 0.9003, Test: 0.8987\n",
      "Epoch: 121, Loss: 0.4350, Val: 0.9005, Test: 0.8983\n",
      "Epoch: 122, Loss: 0.4297, Val: 0.8996, Test: 0.8986\n",
      "Epoch: 123, Loss: 0.4247, Val: 0.8990, Test: 0.8993\n",
      "Epoch: 124, Loss: 0.4251, Val: 0.8997, Test: 0.8994\n",
      "Epoch: 125, Loss: 0.4267, Val: 0.9007, Test: 0.8983\n",
      "Epoch: 126, Loss: 0.4281, Val: 0.9015, Test: 0.8979\n",
      "Epoch: 127, Loss: 0.4295, Val: 0.9009, Test: 0.8989\n",
      "Epoch: 128, Loss: 0.4324, Val: 0.8990, Test: 0.8993\n",
      "Epoch: 129, Loss: 0.4244, Val: 0.8990, Test: 0.8994\n",
      "Epoch: 130, Loss: 0.4243, Val: 0.9008, Test: 0.8998\n",
      "Epoch: 131, Loss: 0.4245, Val: 0.9020, Test: 0.8995\n",
      "Epoch: 132, Loss: 0.4262, Val: 0.9020, Test: 0.8993\n",
      "Epoch: 133, Loss: 0.4216, Val: 0.9010, Test: 0.8996\n",
      "Epoch: 134, Loss: 0.4334, Val: 0.8994, Test: 0.8999\n",
      "Epoch: 135, Loss: 0.4232, Val: 0.9000, Test: 0.9010\n",
      "Epoch: 136, Loss: 0.4269, Val: 0.9013, Test: 0.9011\n",
      "Epoch: 137, Loss: 0.4254, Val: 0.9015, Test: 0.9004\n",
      "Epoch: 138, Loss: 0.4303, Val: 0.9010, Test: 0.9001\n",
      "Epoch: 139, Loss: 0.4291, Val: 0.9014, Test: 0.9008\n",
      "Epoch: 140, Loss: 0.4258, Val: 0.9021, Test: 0.9017\n",
      "Epoch: 141, Loss: 0.4263, Val: 0.9026, Test: 0.9020\n",
      "Epoch: 142, Loss: 0.4218, Val: 0.9020, Test: 0.9017\n",
      "Epoch: 143, Loss: 0.4299, Val: 0.9015, Test: 0.9015\n",
      "Epoch: 144, Loss: 0.4237, Val: 0.9018, Test: 0.9020\n",
      "Epoch: 145, Loss: 0.4242, Val: 0.9031, Test: 0.9028\n",
      "Epoch: 146, Loss: 0.4222, Val: 0.9035, Test: 0.9033\n",
      "Epoch: 147, Loss: 0.4240, Val: 0.9035, Test: 0.9038\n",
      "Epoch: 148, Loss: 0.4210, Val: 0.9021, Test: 0.9032\n",
      "Epoch: 149, Loss: 0.4238, Val: 0.9008, Test: 0.9026\n",
      "Epoch: 150, Loss: 0.4193, Val: 0.9031, Test: 0.9040\n",
      "Epoch: 151, Loss: 0.4265, Val: 0.9038, Test: 0.9048\n",
      "Epoch: 152, Loss: 0.4260, Val: 0.9028, Test: 0.9047\n",
      "Epoch: 153, Loss: 0.4270, Val: 0.9008, Test: 0.9036\n",
      "Epoch: 154, Loss: 0.4133, Val: 0.9007, Test: 0.9034\n",
      "Epoch: 155, Loss: 0.4252, Val: 0.9023, Test: 0.9044\n",
      "Epoch: 156, Loss: 0.4237, Val: 0.9026, Test: 0.9049\n",
      "Epoch: 157, Loss: 0.4279, Val: 0.9010, Test: 0.9039\n",
      "Epoch: 158, Loss: 0.4234, Val: 0.8993, Test: 0.9027\n",
      "Epoch: 159, Loss: 0.4275, Val: 0.9001, Test: 0.9034\n",
      "Epoch: 160, Loss: 0.4228, Val: 0.9011, Test: 0.9042\n"
     ]
    },
    {
     "name": "stdout",
     "output_type": "stream",
     "text": [
      "Epoch: 161, Loss: 0.4245, Val: 0.9012, Test: 0.9044\n",
      "Epoch: 162, Loss: 0.4243, Val: 0.9011, Test: 0.9044\n",
      "Epoch: 163, Loss: 0.4185, Val: 0.9013, Test: 0.9039\n",
      "Epoch: 164, Loss: 0.4179, Val: 0.9024, Test: 0.9036\n",
      "Epoch: 165, Loss: 0.4255, Val: 0.9031, Test: 0.9041\n",
      "Epoch: 166, Loss: 0.4199, Val: 0.9029, Test: 0.9045\n",
      "Epoch: 167, Loss: 0.4200, Val: 0.9012, Test: 0.9039\n",
      "Epoch: 168, Loss: 0.4171, Val: 0.9008, Test: 0.9037\n",
      "Epoch: 169, Loss: 0.4193, Val: 0.9028, Test: 0.9044\n",
      "Epoch: 170, Loss: 0.4206, Val: 0.9041, Test: 0.9044\n",
      "Epoch: 171, Loss: 0.4196, Val: 0.9042, Test: 0.9040\n",
      "Epoch: 172, Loss: 0.4205, Val: 0.9026, Test: 0.9037\n",
      "Epoch: 173, Loss: 0.4151, Val: 0.9021, Test: 0.9036\n",
      "Epoch: 174, Loss: 0.4169, Val: 0.9049, Test: 0.9044\n",
      "Epoch: 175, Loss: 0.4234, Val: 0.9065, Test: 0.9043\n",
      "Epoch: 176, Loss: 0.4122, Val: 0.9046, Test: 0.9035\n",
      "Epoch: 177, Loss: 0.4176, Val: 0.9025, Test: 0.9031\n",
      "Epoch: 178, Loss: 0.4205, Val: 0.9026, Test: 0.9037\n",
      "Epoch: 179, Loss: 0.4155, Val: 0.9045, Test: 0.9041\n",
      "Epoch: 180, Loss: 0.4245, Val: 0.9050, Test: 0.9039\n",
      "Epoch: 181, Loss: 0.4161, Val: 0.9030, Test: 0.9037\n",
      "Epoch: 182, Loss: 0.4166, Val: 0.9008, Test: 0.9034\n",
      "Epoch: 183, Loss: 0.4170, Val: 0.9010, Test: 0.9040\n",
      "Epoch: 184, Loss: 0.4241, Val: 0.9020, Test: 0.9043\n",
      "Epoch: 185, Loss: 0.4132, Val: 0.9017, Test: 0.9047\n",
      "Epoch: 186, Loss: 0.4192, Val: 0.9007, Test: 0.9048\n",
      "Epoch: 187, Loss: 0.4083, Val: 0.8992, Test: 0.9051\n",
      "Epoch: 188, Loss: 0.4138, Val: 0.8989, Test: 0.9054\n",
      "Epoch: 189, Loss: 0.4208, Val: 0.8996, Test: 0.9057\n",
      "Epoch: 190, Loss: 0.4236, Val: 0.8996, Test: 0.9057\n",
      "Epoch: 191, Loss: 0.4158, Val: 0.9000, Test: 0.9060\n",
      "Epoch: 192, Loss: 0.4131, Val: 0.9008, Test: 0.9071\n",
      "Epoch: 193, Loss: 0.4110, Val: 0.9000, Test: 0.9075\n",
      "Epoch: 194, Loss: 0.4128, Val: 0.8991, Test: 0.9065\n",
      "Epoch: 195, Loss: 0.4116, Val: 0.8992, Test: 0.9057\n",
      "Epoch: 196, Loss: 0.4121, Val: 0.9012, Test: 0.9060\n",
      "Epoch: 197, Loss: 0.4129, Val: 0.9032, Test: 0.9072\n",
      "Epoch: 198, Loss: 0.4126, Val: 0.9027, Test: 0.9078\n",
      "Epoch: 199, Loss: 0.4143, Val: 0.9010, Test: 0.9070\n",
      "Epoch: 200, Loss: 0.4113, Val: 0.9012, Test: 0.9064\n"
     ]
    },
    {
     "data": {
      "image/png": "[encoded data removed]",
      "text/plain": [
       "<Figure size 640x480 with 1 Axes>"
      ]
     },
     "metadata": {},
     "output_type": "display_data"
    },
    {
     "data": {
      "image/png": "[encoded data removed]",
      "text/plain": [
       "<Figure size 640x480 with 1 Axes>"
      ]
     },
     "metadata": {},
     "output_type": "display_data"
    }
   ],
   "source": [
    "loss_values, val_auc_values, test_auc_values, = [], [], []\n",
    "\n",
    "best_val_auc = final_test_auc = 0\n",
    "for epoch in range(1, 201):\n",
    "    loss = train()\n",
    "    val_auc = test(val_data)\n",
    "    test_auc = test(test_data)\n",
    "    loss_values.append(loss.item())\n",
    "    val_auc_values.append(val_auc)\n",
    "    test_auc_values.append(test_auc)\n",
    "    print(f'Epoch: {epoch:03d}, Loss: {loss:.4f}, Val: {val_auc:.4f}, 'f'Test: {test_auc:.4f}')\n",
    "\n",
    "\n",
    "plt.plot(loss_values, 'r',)\n",
    "plt.show()\n",
    "plt.plot(val_auc_values, 'b', test_auc_values, 'g' )\n",
    "plt.show()"
   ]
  },
  {
   "cell_type": "code",
   "execution_count": 7,
   "id": "47021921",
   "metadata": {},
   "outputs": [],
   "source": [
    "z = model.encode(test_data.x, test_data.edge_index)\n",
    "final_edge_index = model.decode_all(z)"
   ]
  },
  {
   "cell_type": "code",
   "execution_count": 9,
   "id": "f8ccd5f8",
   "metadata": {},
   "outputs": [
    {
     "data": {
      "text/plain": [
       "torch.Size([2, 3312102])"
      ]
     },
     "execution_count": 9,
     "metadata": {},
     "output_type": "execute_result"
    }
   ],
   "source": [
    "final_edge_index.shape"
   ]
  },
  {
   "cell_type": "code",
   "execution_count": null,
   "id": "4490171d",
   "metadata": {},
   "outputs": [],
   "source": []
  },
  {
   "cell_type": "code",
   "execution_count": null,
   "id": "bda6b97d",
   "metadata": {},
   "outputs": [],
   "source": []
  },
  {
   "cell_type": "code",
   "execution_count": null,
   "id": "fb09a692",
   "metadata": {},
   "outputs": [],
   "source": []
  },
  {
   "cell_type": "code",
   "execution_count": null,
   "id": "d4cdd930",
   "metadata": {},
   "outputs": [],
   "source": []
  },
  {
   "cell_type": "code",
   "execution_count": null,
   "id": "e0650ce4",
   "metadata": {},
   "outputs": [],
   "source": []
  },
  {
   "cell_type": "code",
   "execution_count": null,
   "id": "326925f5",
   "metadata": {},
   "outputs": [],
   "source": []
  },
  {
   "cell_type": "code",
   "execution_count": null,
   "id": "af6d9ce4",
   "metadata": {},
   "outputs": [],
   "source": []
  },
  {
   "cell_type": "code",
   "execution_count": null,
   "id": "de2300ac",
   "metadata": {},
   "outputs": [],
   "source": []
  },
  {
   "cell_type": "code",
   "execution_count": null,
   "id": "1c46dc0d",
   "metadata": {},
   "outputs": [],
   "source": []
  }
 ],
 "metadata": {
  "kernelspec": {
   "display_name": "Python [conda env:pyg_env]",
   "language": "python",
   "name": "conda-env-pyg_env-py"
  },
  "language_info": {
   "codemirror_mode": {
    "name": "ipython",
    "version": 3
   },
   "file_extension": ".py",
   "mimetype": "text/x-python",
   "name": "python",
   "nbconvert_exporter": "python",
   "pygments_lexer": "ipython3",
   "version": "3.10.4"
  }
 },
 "nbformat": 4,
 "nbformat_minor": 5
}
