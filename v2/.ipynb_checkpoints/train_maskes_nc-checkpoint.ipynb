{
 "cells": [
  {
   "cell_type": "code",
   "execution_count": 1,
   "id": "86a19140",
   "metadata": {},
   "outputs": [],
   "source": [
    "import os.path as osp\n",
    "\n",
    "import torch\n",
    "import torch.nn.functional as F\n",
    "from sklearn.metrics import f1_score\n",
    "\n",
    "from torch_geometric.loader import DataLoader\n",
    "from torch_geometric.nn import GATConv, SAGEConv, NNConv, GCNConv\n",
    "import matplotlib.pyplot as plt"
   ]
  },
  {
   "cell_type": "code",
   "execution_count": 193,
   "id": "f5a13513",
   "metadata": {},
   "outputs": [
    {
     "name": "stderr",
     "output_type": "stream",
     "text": [
      "Processing...\n"
     ]
    },
    {
     "name": "stdout",
     "output_type": "stream",
     "text": [
      "DATASET LOADED\n",
      "EnterpriseModelDatasetNC(110)\n"
     ]
    },
    {
     "name": "stderr",
     "output_type": "stream",
     "text": [
      "Done!\n"
     ]
    }
   ],
   "source": [
    "%run dataset_nc.ipynb"
   ]
  },
  {
   "cell_type": "code",
   "execution_count": 126,
   "id": "f22faf1a",
   "metadata": {},
   "outputs": [
    {
     "name": "stdout",
     "output_type": "stream",
     "text": [
      "Number of graphs total: 110\n",
      "Number of training graphs: 110\n",
      "Number of test graphs: 0\n",
      "Data(x=[26, 1], edge_index=[2, 25], edge_attr=[25, 1], y=[26], train_mask=[26], test_mask=[26])\n"
     ]
    }
   ],
   "source": [
    "torch.manual_seed(42)\n",
    "dataset = dataset_nc.shuffle()\n",
    "\n",
    "train_dataset = dataset[:int(len(dataset) * 1)]\n",
    "\n",
    "print(f'Number of graphs total: {len(dataset)}')\n",
    "print(f'Number of training graphs: {len(train_dataset)}')\n",
    "print(f'Number of test graphs: {len(test_dataset)}')\n",
    "print(dataset[0])"
   ]
  },
  {
   "cell_type": "code",
   "execution_count": 127,
   "id": "132bd373",
   "metadata": {},
   "outputs": [],
   "source": [
    "from torch_geometric.loader import DataLoader\n",
    "from torch_geometric.data import Dataset, Data\n",
    "\n",
    "NUM_GRAPHS_PER_BATCH = len(dataset)\n",
    "NUM_HIDDEN_CHANNELS = 64\n",
    "\n",
    "train_loader = DataLoader(train_dataset, batch_size=NUM_GRAPHS_PER_BATCH, shuffle=True)"
   ]
  },
  {
   "cell_type": "code",
   "execution_count": 128,
   "id": "2316091d",
   "metadata": {},
   "outputs": [
    {
     "name": "stdout",
     "output_type": "stream",
     "text": [
      "Data(x=[3020, 1], edge_index=[2, 3216], edge_attr=[3216, 1], y=[3020], train_mask=[3020], test_mask=[3020])\n"
     ]
    }
   ],
   "source": [
    "x = []\n",
    "edge_index = []\n",
    "edge_attr = []\n",
    "y = []\n",
    "train_mask = []\n",
    "test_mask = []\n",
    "for batch in train_loader:\n",
    "    x = batch.x\n",
    "    edge_index = batch.edge_index\n",
    "    edge_attr = batch.edge_attr\n",
    "    y = batch.y\n",
    "    train_mask = batch.train_mask\n",
    "    test_mask = batch.test_mask\n",
    "\n",
    "data = Data(x=x, \n",
    "            edge_index=edge_index,\n",
    "            edge_attr=edge_attr,\n",
    "            y=y,\n",
    "            train_mask=train_mask,\n",
    "            test_mask=test_mask\n",
    "            ) \n",
    "\n",
    "num_nodes = data.x.shape[0]\n",
    "print(data)"
   ]
  },
  {
   "cell_type": "code",
   "execution_count": 118,
   "id": "32fb5f38",
   "metadata": {},
   "outputs": [],
   "source": [
    "new_y = []\n",
    "for onehot in data.y:\n",
    "    new_y.append((onehot==1).nonzero().item())\n",
    "    \n",
    "data.y = torch.tensor(new_y, dtype=torch.int64)"
   ]
  },
  {
   "cell_type": "code",
   "execution_count": 129,
   "id": "5844ffdc",
   "metadata": {},
   "outputs": [
    {
     "data": {
      "text/plain": [
       "tensor([35, 35, 35,  ..., 19, 10, 10])"
      ]
     },
     "execution_count": 129,
     "metadata": {},
     "output_type": "execute_result"
    }
   ],
   "source": [
    "data.y"
   ]
  },
  {
   "cell_type": "code",
   "execution_count": 110,
   "id": "575dbfda",
   "metadata": {},
   "outputs": [],
   "source": [
    "class GCN(torch.nn.Module):\n",
    "    def __init__(self):\n",
    "        super().__init__()\n",
    "        self.conv1 = GCNConv(dataset.num_node_features, 16)\n",
    "        self.conv2 = GCNConv(16, dataset.num_classes)\n",
    "\n",
    "    def forward(self, data):\n",
    "        x, edge_index = data.x, data.edge_index\n",
    "\n",
    "        x = self.conv1(x, edge_index)\n",
    "        x = F.relu(x)\n",
    "        x = F.dropout(x, training=self.training)\n",
    "        x = self.conv2(x, edge_index)\n",
    "\n",
    "        return F.log_softmax(x, dim=1)"
   ]
  },
  {
   "cell_type": "code",
   "execution_count": 111,
   "id": "7f60fe8c",
   "metadata": {},
   "outputs": [
    {
     "ename": "RuntimeError",
     "evalue": "expected scalar type Long but found Float",
     "output_type": "error",
     "traceback": [
      "\u001b[1;31m---------------------------------------------------------------------------\u001b[0m",
      "\u001b[1;31mRuntimeError\u001b[0m                              Traceback (most recent call last)",
      "Input \u001b[1;32mIn [111]\u001b[0m, in \u001b[0;36m<cell line: 7>\u001b[1;34m()\u001b[0m\n\u001b[0;32m      8\u001b[0m optimizer\u001b[38;5;241m.\u001b[39mzero_grad()\n\u001b[0;32m      9\u001b[0m out \u001b[38;5;241m=\u001b[39m model(data)\n\u001b[1;32m---> 10\u001b[0m loss \u001b[38;5;241m=\u001b[39m \u001b[43mF\u001b[49m\u001b[38;5;241;43m.\u001b[39;49m\u001b[43mnll_loss\u001b[49m\u001b[43m(\u001b[49m\u001b[43mout\u001b[49m\u001b[43m[\u001b[49m\u001b[43mdata\u001b[49m\u001b[38;5;241;43m.\u001b[39;49m\u001b[43mtrain_mask\u001b[49m\u001b[43m]\u001b[49m\u001b[43m,\u001b[49m\u001b[43m \u001b[49m\u001b[43mdata\u001b[49m\u001b[38;5;241;43m.\u001b[39;49m\u001b[43my\u001b[49m\u001b[43m[\u001b[49m\u001b[43mdata\u001b[49m\u001b[38;5;241;43m.\u001b[39;49m\u001b[43mtrain_mask\u001b[49m\u001b[43m]\u001b[49m\u001b[43m)\u001b[49m\n\u001b[0;32m     11\u001b[0m loss\u001b[38;5;241m.\u001b[39mbackward()\n\u001b[0;32m     12\u001b[0m optimizer\u001b[38;5;241m.\u001b[39mstep()\n",
      "File \u001b[1;32m~\\anaconda3\\envs\\pyg_env\\lib\\site-packages\\torch\\nn\\functional.py:2671\u001b[0m, in \u001b[0;36mnll_loss\u001b[1;34m(input, target, weight, size_average, ignore_index, reduce, reduction)\u001b[0m\n\u001b[0;32m   2669\u001b[0m \u001b[38;5;28;01mif\u001b[39;00m size_average \u001b[38;5;129;01mis\u001b[39;00m \u001b[38;5;129;01mnot\u001b[39;00m \u001b[38;5;28;01mNone\u001b[39;00m \u001b[38;5;129;01mor\u001b[39;00m reduce \u001b[38;5;129;01mis\u001b[39;00m \u001b[38;5;129;01mnot\u001b[39;00m \u001b[38;5;28;01mNone\u001b[39;00m:\n\u001b[0;32m   2670\u001b[0m     reduction \u001b[38;5;241m=\u001b[39m _Reduction\u001b[38;5;241m.\u001b[39mlegacy_get_string(size_average, reduce)\n\u001b[1;32m-> 2671\u001b[0m \u001b[38;5;28;01mreturn\u001b[39;00m \u001b[43mtorch\u001b[49m\u001b[38;5;241;43m.\u001b[39;49m\u001b[43m_C\u001b[49m\u001b[38;5;241;43m.\u001b[39;49m\u001b[43m_nn\u001b[49m\u001b[38;5;241;43m.\u001b[39;49m\u001b[43mnll_loss_nd\u001b[49m\u001b[43m(\u001b[49m\u001b[38;5;28;43minput\u001b[39;49m\u001b[43m,\u001b[49m\u001b[43m \u001b[49m\u001b[43mtarget\u001b[49m\u001b[43m,\u001b[49m\u001b[43m \u001b[49m\u001b[43mweight\u001b[49m\u001b[43m,\u001b[49m\u001b[43m \u001b[49m\u001b[43m_Reduction\u001b[49m\u001b[38;5;241;43m.\u001b[39;49m\u001b[43mget_enum\u001b[49m\u001b[43m(\u001b[49m\u001b[43mreduction\u001b[49m\u001b[43m)\u001b[49m\u001b[43m,\u001b[49m\u001b[43m \u001b[49m\u001b[43mignore_index\u001b[49m\u001b[43m)\u001b[49m\n",
      "\u001b[1;31mRuntimeError\u001b[0m: expected scalar type Long but found Float"
     ]
    }
   ],
   "source": [
    "device = torch.device('cuda' if torch.cuda.is_available() else 'cpu')\n",
    "model = GCN().to(device)\n",
    "data = data.to(device)\n",
    "optimizer = torch.optim.Adam(model.parameters(), lr=0.01, weight_decay=5e-4)\n",
    "\n",
    "model.train()\n",
    "for epoch in range(200):\n",
    "    optimizer.zero_grad()\n",
    "    out = model(data)\n",
    "    loss = F.nll_loss(out[data.train_mask], data.y[data.train_mask])\n",
    "    loss.backward()\n",
    "    optimizer.step()"
   ]
  },
  {
   "cell_type": "code",
   "execution_count": 58,
   "id": "05e3805c",
   "metadata": {},
   "outputs": [
    {
     "name": "stdout",
     "output_type": "stream",
     "text": [
      "Accuracy: 0.2356\n"
     ]
    }
   ],
   "source": [
    "model.eval()\n",
    "pred = model(data).argmax(dim=1)\n",
    "correct = (pred[data.test_mask] == data.y[data.test_mask]).sum()\n",
    "acc = int(correct) / int(data.test_mask.sum())\n",
    "print(f'Accuracy: {acc:.4f}')\n"
   ]
  },
  {
   "cell_type": "code",
   "execution_count": null,
   "id": "4dce8498",
   "metadata": {},
   "outputs": [],
   "source": []
  },
  {
   "cell_type": "code",
   "execution_count": null,
   "id": "00275828",
   "metadata": {},
   "outputs": [],
   "source": []
  },
  {
   "cell_type": "code",
   "execution_count": null,
   "id": "4313c4d9",
   "metadata": {},
   "outputs": [],
   "source": []
  },
  {
   "cell_type": "code",
   "execution_count": null,
   "id": "4c0b3d3a",
   "metadata": {},
   "outputs": [],
   "source": []
  },
  {
   "cell_type": "code",
   "execution_count": null,
   "id": "76a0bbd0",
   "metadata": {},
   "outputs": [],
   "source": []
  },
  {
   "cell_type": "code",
   "execution_count": 14,
   "id": "fa640e30",
   "metadata": {},
   "outputs": [],
   "source": [
    "from torch_geometric.datasets import Planetoid\n",
    "\n",
    "dataset = Planetoid(root='/tmp/Cora', name='Cora')"
   ]
  },
  {
   "cell_type": "code",
   "execution_count": 15,
   "id": "dab5f26a",
   "metadata": {},
   "outputs": [
    {
     "data": {
      "text/plain": [
       "Data(x=[2708, 1433], edge_index=[2, 10556], y=[2708], train_mask=[2708], val_mask=[2708], test_mask=[2708])"
      ]
     },
     "execution_count": 15,
     "metadata": {},
     "output_type": "execute_result"
    }
   ],
   "source": [
    "cora = dataset[0]\n",
    "cora"
   ]
  },
  {
   "cell_type": "code",
   "execution_count": 16,
   "id": "4f28956e",
   "metadata": {},
   "outputs": [],
   "source": [
    "class GCN(torch.nn.Module):\n",
    "    def __init__(self):\n",
    "        super().__init__()\n",
    "        self.conv1 = GCNConv(dataset.num_node_features, 16)\n",
    "        self.conv2 = GCNConv(16, dataset.num_classes)\n",
    "\n",
    "    def forward(self, data):\n",
    "        x, edge_index = data.x, data.edge_index\n",
    "\n",
    "        x = self.conv1(x, edge_index)\n",
    "        x = F.relu(x)\n",
    "        x = F.dropout(x, training=self.training)\n",
    "        x = self.conv2(x, edge_index)\n",
    "\n",
    "        return F.log_softmax(x, dim=1)"
   ]
  },
  {
   "cell_type": "code",
   "execution_count": 17,
   "id": "1a135338",
   "metadata": {},
   "outputs": [],
   "source": [
    "device = torch.device('cuda' if torch.cuda.is_available() else 'cpu')\n",
    "model = GCN().to(device)\n",
    "cora = cora.to(device)\n",
    "optimizer = torch.optim.Adam(model.parameters(), lr=0.01, weight_decay=5e-4)\n",
    "\n",
    "model.train()\n",
    "for epoch in range(200):\n",
    "    optimizer.zero_grad()\n",
    "    out = model(cora)\n",
    "    loss = F.nll_loss(out[cora.train_mask], cora.y[cora.train_mask])\n",
    "    loss.backward()\n",
    "    optimizer.step()"
   ]
  },
  {
   "cell_type": "code",
   "execution_count": 18,
   "id": "7c88b9ed",
   "metadata": {},
   "outputs": [
    {
     "name": "stdout",
     "output_type": "stream",
     "text": [
      "Accuracy: 0.7850\n"
     ]
    }
   ],
   "source": [
    "model.eval()\n",
    "pred = model(cora).argmax(dim=1)\n",
    "correct = (pred[cora.test_mask] == cora.y[cora.test_mask]).sum()\n",
    "acc = int(correct) / int(cora.test_mask.sum())\n",
    "print(f'Accuracy: {acc:.4f}')"
   ]
  },
  {
   "cell_type": "code",
   "execution_count": null,
   "id": "09496485",
   "metadata": {},
   "outputs": [],
   "source": []
  },
  {
   "cell_type": "code",
   "execution_count": null,
   "id": "18b2b59d",
   "metadata": {},
   "outputs": [],
   "source": []
  },
  {
   "cell_type": "code",
   "execution_count": null,
   "id": "aa76c558",
   "metadata": {},
   "outputs": [],
   "source": []
  },
  {
   "cell_type": "code",
   "execution_count": null,
   "id": "9a3da633",
   "metadata": {},
   "outputs": [],
   "source": []
  },
  {
   "cell_type": "code",
   "execution_count": null,
   "id": "8fa9aa4c",
   "metadata": {},
   "outputs": [],
   "source": []
  },
  {
   "cell_type": "code",
   "execution_count": 59,
   "id": "e4171de6",
   "metadata": {},
   "outputs": [
    {
     "name": "stdout",
     "output_type": "stream",
     "text": [
      "Number of graphs total: 110\n",
      "Number of training graphs: 110\n",
      "Number of test graphs: 0\n",
      "Data(x=[26, 1], edge_index=[2, 25], edge_attr=[25, 1], y=[26, 36], train_mask=[26], test_mask=[26])\n"
     ]
    }
   ],
   "source": [
    "torch.manual_seed(42)\n",
    "dataset = dataset_nc.shuffle()\n",
    "\n",
    "train_dataset = dataset[:int(len(dataset) * 1)]\n",
    "\n",
    "print(f'Number of graphs total: {len(dataset)}')\n",
    "print(f'Number of training graphs: {len(train_dataset)}')\n",
    "print(f'Number of test graphs: {len(test_dataset)}')\n",
    "print(dataset[0])"
   ]
  },
  {
   "cell_type": "code",
   "execution_count": 60,
   "id": "d28353e7",
   "metadata": {},
   "outputs": [],
   "source": [
    "data = dataset[0]"
   ]
  },
  {
   "cell_type": "code",
   "execution_count": 61,
   "id": "7d586175",
   "metadata": {},
   "outputs": [],
   "source": [
    "new_y = []\n",
    "for onehot in data.y:\n",
    "    new_y.append((onehot==1).nonzero().item())\n",
    "    \n",
    "data.y = torch.tensor(new_y, dtype=torch.int64)"
   ]
  },
  {
   "cell_type": "code",
   "execution_count": 62,
   "id": "e977961b",
   "metadata": {},
   "outputs": [
    {
     "data": {
      "text/plain": [
       "Data(x=[26, 1], edge_index=[2, 25], edge_attr=[25, 1], y=[26], train_mask=[26], test_mask=[26])"
      ]
     },
     "execution_count": 62,
     "metadata": {},
     "output_type": "execute_result"
    }
   ],
   "source": [
    "data"
   ]
  },
  {
   "cell_type": "code",
   "execution_count": 68,
   "id": "9e0d3748",
   "metadata": {},
   "outputs": [],
   "source": [
    "class GCN(torch.nn.Module):\n",
    "    def __init__(self):\n",
    "        super().__init__()\n",
    "        self.conv1 = GCNConv(dataset.num_node_features, 16)\n",
    "        self.conv2 = GCNConv(16, dataset.num_classes)\n",
    "\n",
    "    def forward(self, data):\n",
    "        x, edge_index = data.x, data.edge_index\n",
    "\n",
    "        x = self.conv1(x, edge_index)\n",
    "        x = F.relu(x)\n",
    "        x = F.dropout(x, training=self.training)\n",
    "        x = self.conv2(x, edge_index)\n",
    "\n",
    "        return F.log_softmax(x, dim=1)"
   ]
  },
  {
   "cell_type": "code",
   "execution_count": 64,
   "id": "b86ed4a7",
   "metadata": {},
   "outputs": [],
   "source": [
    "device = torch.device('cuda' if torch.cuda.is_available() else 'cpu')\n",
    "model = GCN().to(device)\n",
    "data = data.to(device)\n",
    "optimizer = torch.optim.Adam(model.parameters(), lr=0.01, weight_decay=5e-4)\n",
    "\n",
    "model.train()\n",
    "for epoch in range(200):\n",
    "    optimizer.zero_grad()\n",
    "    out = model(data)\n",
    "    loss = F.nll_loss(out[data.train_mask], data.y[data.train_mask])\n",
    "    loss.backward()\n",
    "    optimizer.step()"
   ]
  },
  {
   "cell_type": "code",
   "execution_count": 65,
   "id": "410d0831",
   "metadata": {},
   "outputs": [
    {
     "name": "stdout",
     "output_type": "stream",
     "text": [
      "Accuracy: 0.6667\n"
     ]
    }
   ],
   "source": [
    "model.eval()\n",
    "pred = model(data).argmax(dim=1)\n",
    "correct = (pred[data.test_mask] == data.y[data.test_mask]).sum()\n",
    "acc = int(correct) / int(data.test_mask.sum())\n",
    "print(f'Accuracy: {acc:.4f}')"
   ]
  },
  {
   "cell_type": "code",
   "execution_count": null,
   "id": "5c49b54e",
   "metadata": {},
   "outputs": [],
   "source": []
  },
  {
   "cell_type": "code",
   "execution_count": null,
   "id": "7132bb97",
   "metadata": {},
   "outputs": [],
   "source": []
  },
  {
   "cell_type": "code",
   "execution_count": null,
   "id": "ee04da88",
   "metadata": {},
   "outputs": [],
   "source": []
  },
  {
   "cell_type": "code",
   "execution_count": null,
   "id": "790ba7df",
   "metadata": {},
   "outputs": [],
   "source": []
  },
  {
   "cell_type": "code",
   "execution_count": 214,
   "id": "aee4c9b6",
   "metadata": {},
   "outputs": [
    {
     "name": "stdout",
     "output_type": "stream",
     "text": [
      "Number of graphs total: 110\n",
      "Number of training graphs: 110\n",
      "Data(x=[26, 1], edge_index=[2, 25], edge_attr=[25, 1], y=[26], train_mask=[26], test_mask=[26])\n",
      "tensor([[26.],\n",
      "        [26.],\n",
      "        [35.],\n",
      "        [11.],\n",
      "        [26.],\n",
      "        [35.],\n",
      "        [26.],\n",
      "        [26.],\n",
      "        [35.],\n",
      "        [26.],\n",
      "        [ 4.],\n",
      "        [26.],\n",
      "        [35.],\n",
      "        [26.],\n",
      "        [26.],\n",
      "        [ 5.],\n",
      "        [35.],\n",
      "        [35.],\n",
      "        [26.],\n",
      "        [26.],\n",
      "        [22.],\n",
      "        [35.],\n",
      "        [26.],\n",
      "        [26.],\n",
      "        [35.],\n",
      "        [26.]])\n"
     ]
    }
   ],
   "source": [
    "torch.manual_seed(42)\n",
    "dataset = dataset_nc.shuffle()\n",
    "\n",
    "train_dataset = dataset[:int(len(dataset) * 1)]\n",
    "\n",
    "print(f'Number of graphs total: {len(dataset)}')\n",
    "print(f'Number of training graphs: {len(train_dataset)}')\n",
    "print(dataset[0])\n",
    "print(dataset[0].x)"
   ]
  },
  {
   "cell_type": "code",
   "execution_count": 141,
   "id": "a2ec9128",
   "metadata": {},
   "outputs": [],
   "source": [
    "from torch_geometric.loader import DataLoader\n",
    "from torch_geometric.data import Dataset, Data\n",
    "\n",
    "NUM_GRAPHS_PER_BATCH = 8\n",
    "NUM_HIDDEN_CHANNELS = 64\n",
    "\n",
    "train_loader = DataLoader(train_dataset, batch_size=NUM_GRAPHS_PER_BATCH, shuffle=True)"
   ]
  },
  {
   "cell_type": "code",
   "execution_count": 132,
   "id": "7f818350",
   "metadata": {},
   "outputs": [
    {
     "data": {
      "text/plain": [
       "EnterpriseModelDatasetNC(110)"
      ]
     },
     "execution_count": 132,
     "metadata": {},
     "output_type": "execute_result"
    }
   ],
   "source": [
    "train_loader.dataset"
   ]
  },
  {
   "cell_type": "code",
   "execution_count": 142,
   "id": "b37673b2",
   "metadata": {},
   "outputs": [],
   "source": [
    "class GCN(torch.nn.Module):\n",
    "    def __init__(self):\n",
    "        super().__init__()\n",
    "        self.conv1 = GCNConv(dataset.num_node_features, 16)\n",
    "        self.conv2 = GCNConv(16, dataset.num_classes)\n",
    "\n",
    "    def forward(self, data):\n",
    "        x, edge_index = data.x, data.edge_index\n",
    "\n",
    "        x = self.conv1(x, edge_index)\n",
    "        x = F.relu(x)\n",
    "        x = F.dropout(x, training=self.training)\n",
    "        x = self.conv2(x, edge_index)\n",
    "\n",
    "        return F.log_softmax(x, dim=1)"
   ]
  },
  {
   "cell_type": "code",
   "execution_count": 143,
   "id": "6f1066fd",
   "metadata": {},
   "outputs": [],
   "source": [
    "device = torch.device('cuda' if torch.cuda.is_available() else 'cpu')\n",
    "model = GCN().to(device)\n",
    "optimizer = torch.optim.Adam(model.parameters(), lr=0.01, weight_decay=5e-4)"
   ]
  },
  {
   "cell_type": "code",
   "execution_count": 144,
   "id": "e1a9d9be",
   "metadata": {},
   "outputs": [],
   "source": [
    "def train():\n",
    "    model.train()\n",
    "\n",
    "    total_loss = 0\n",
    "    for data in train_loader:\n",
    "        optimizer.zero_grad()\n",
    "        out = model(data)\n",
    "        loss = F.nll_loss(out[data.train_mask], data.y[data.train_mask])\n",
    "        total_loss += loss.item() * data.num_graphs\n",
    "        loss.backward()\n",
    "        optimizer.step()\n",
    "    return total_loss / len(train_loader.dataset)"
   ]
  },
  {
   "cell_type": "code",
   "execution_count": 145,
   "id": "458214ab",
   "metadata": {},
   "outputs": [],
   "source": [
    "@torch.no_grad()\n",
    "def test():\n",
    "    model.eval()\n",
    "\n",
    "    total_acc = 0\n",
    "    for data in train_loader:\n",
    "        pred = model(data).argmax(dim=1)\n",
    "        correct = (pred[data.test_mask] == data.y[data.test_mask]).sum()\n",
    "        acc = int(correct) / int(data.test_mask.sum())\n",
    "        total_acc += acc * data.num_graphs\n",
    "    return total_acc / len(train_loader.dataset)"
   ]
  },
  {
   "cell_type": "code",
   "execution_count": 146,
   "id": "5fb3a600",
   "metadata": {
    "scrolled": false
   },
   "outputs": [
    {
     "name": "stdout",
     "output_type": "stream",
     "text": [
      "Epoch: 001, Loss: 7.4855, Acc: 0.1489,\n",
      "Epoch: 002, Loss: 3.8820, Acc: 0.1584,\n",
      "Epoch: 003, Loss: 3.2635, Acc: 0.1449,\n",
      "Epoch: 004, Loss: 3.0469, Acc: 0.1509,\n",
      "Epoch: 005, Loss: 2.9848, Acc: 0.1580,\n",
      "Epoch: 006, Loss: 2.9413, Acc: 0.1723,\n",
      "Epoch: 007, Loss: 2.9319, Acc: 0.1694,\n",
      "Epoch: 008, Loss: 2.9021, Acc: 0.2129,\n",
      "Epoch: 009, Loss: 2.8747, Acc: 0.1885,\n",
      "Epoch: 010, Loss: 2.8575, Acc: 0.1988,\n"
     ]
    },
    {
     "data": {
      "image/png": "[encoded data removed]",
      "text/plain": [
       "<Figure size 640x480 with 1 Axes>"
      ]
     },
     "metadata": {},
     "output_type": "display_data"
    }
   ],
   "source": [
    "loss_values = []\n",
    "acc_values = []\n",
    "\n",
    "for epoch in range(1, 11):\n",
    "    loss = train()\n",
    "    acc = test()\n",
    "    \n",
    "    loss_values.append(loss)\n",
    "    acc_values.append(acc)\n",
    "    print(f'Epoch: {epoch:03d}, Loss: {loss:.4f}, 'f'Acc: {acc:.4f},')\n",
    "    \n",
    "\n",
    "plt.plot(loss_values, 'r', acc, 'b',)\n",
    "plt.show()\n"
   ]
  },
  {
   "cell_type": "code",
   "execution_count": null,
   "id": "19d6c70a",
   "metadata": {},
   "outputs": [],
   "source": []
  },
  {
   "cell_type": "code",
   "execution_count": null,
   "id": "5b885cff",
   "metadata": {},
   "outputs": [],
   "source": []
  },
  {
   "cell_type": "code",
   "execution_count": null,
   "id": "f34503cb",
   "metadata": {},
   "outputs": [],
   "source": []
  },
  {
   "cell_type": "code",
   "execution_count": null,
   "id": "6751ce9c",
   "metadata": {},
   "outputs": [],
   "source": []
  },
  {
   "cell_type": "code",
   "execution_count": null,
   "id": "67d02c22",
   "metadata": {},
   "outputs": [],
   "source": []
  },
  {
   "cell_type": "code",
   "execution_count": 194,
   "id": "aa284faf",
   "metadata": {},
   "outputs": [
    {
     "name": "stdout",
     "output_type": "stream",
     "text": [
      "Number of graphs total: 110\n",
      "Number of training graphs: 110\n",
      "Data(x=[26, 1], edge_index=[2, 25], edge_attr=[25, 1], y=[26], train_mask=[26], test_mask=[26])\n"
     ]
    }
   ],
   "source": [
    "torch.manual_seed(42)\n",
    "dataset = dataset_nc.shuffle()\n",
    "\n",
    "train_dataset = dataset[:int(len(dataset) * 1)]\n",
    "\n",
    "print(f'Number of graphs total: {len(dataset)}')\n",
    "print(f'Number of training graphs: {len(train_dataset)}')\n",
    "print(dataset[0])"
   ]
  },
  {
   "cell_type": "code",
   "execution_count": 195,
   "id": "e4790bba",
   "metadata": {},
   "outputs": [],
   "source": [
    "from torch_geometric.loader import DataLoader\n",
    "from torch_geometric.data import Dataset, Data\n",
    "\n",
    "NUM_GRAPHS_PER_BATCH = 8\n",
    "NUM_HIDDEN_CHANNELS = 64\n",
    "\n",
    "train_loader = DataLoader(train_dataset, batch_size=NUM_GRAPHS_PER_BATCH, shuffle=True)"
   ]
  },
  {
   "cell_type": "code",
   "execution_count": 196,
   "id": "dd365fe0",
   "metadata": {},
   "outputs": [],
   "source": [
    "class GCN(torch.nn.Module):\n",
    "    def __init__(self):\n",
    "        super().__init__()\n",
    "        self.conv1 = GCNConv(dataset.num_node_features, 16)\n",
    "        self.conv2 = GCNConv(16, dataset.num_classes)\n",
    "\n",
    "    def forward(self, data):\n",
    "        x, edge_index = data.x, data.edge_index\n",
    "\n",
    "        x = self.conv1(x, edge_index)\n",
    "        x = F.relu(x)\n",
    "        x = F.dropout(x, training=self.training)\n",
    "        x = self.conv2(x, edge_index)\n",
    "\n",
    "        return F.log_softmax(x, dim=1)"
   ]
  },
  {
   "cell_type": "code",
   "execution_count": 197,
   "id": "9e59fee0",
   "metadata": {},
   "outputs": [],
   "source": [
    "class GATGNN2(torch.nn.Module):\n",
    "    def __init__(self):\n",
    "        super().__init__()\n",
    "        self.conv1 = GATConv(dataset.num_node_features, NUM_HIDDEN_CHANNELS, heads=4, edge_dim=1)\n",
    "        self.lin1 = torch.nn.Linear(dataset.num_node_features, 4 * NUM_HIDDEN_CHANNELS)\n",
    "        \n",
    "        self.conv2 = GATConv(4 * NUM_HIDDEN_CHANNELS, NUM_HIDDEN_CHANNELS, heads=4, edge_dim=1)\n",
    "        self.lin2 = torch.nn.Linear(4 * NUM_HIDDEN_CHANNELS, 4 * NUM_HIDDEN_CHANNELS)\n",
    "        \n",
    "        self.conv3 = GATConv(4 * NUM_HIDDEN_CHANNELS, dataset.num_classes, heads=6, concat=False, edge_dim=1)\n",
    "        self.lin3 = torch.nn.Linear(4 * NUM_HIDDEN_CHANNELS, dataset.num_classes)\n",
    "\n",
    "        \n",
    "    def forward(self, data):\n",
    "        x, edge_index, edge_attr = data.x, data.edge_index, data.edge_attr\n",
    "        x = F.elu(self.conv1(x, edge_index, edge_attr) + self.lin1(x))\n",
    "        x = F.elu(self.conv2(x, edge_index, edge_attr) + self.lin2(x))\n",
    "        x = self.conv3(x, edge_index, edge_attr) + self.lin3(x)\n",
    "        return F.log_softmax(x, dim=1)\n",
    "        #return x"
   ]
  },
  {
   "cell_type": "code",
   "execution_count": 212,
   "id": "a7106cae",
   "metadata": {},
   "outputs": [
    {
     "name": "stdout",
     "output_type": "stream",
     "text": [
      "GATGNN2(\n",
      "  (conv1): GATConv(1, 64, heads=4)\n",
      "  (lin1): Linear(in_features=1, out_features=256, bias=True)\n",
      "  (conv2): GATConv(256, 64, heads=4)\n",
      "  (lin2): Linear(in_features=256, out_features=256, bias=True)\n",
      "  (conv3): GATConv(256, 36, heads=6)\n",
      "  (lin3): Linear(in_features=256, out_features=36, bias=True)\n",
      ")\n",
      "Number of parameters:  200104\n"
     ]
    }
   ],
   "source": [
    "device = torch.device('cuda' if torch.cuda.is_available() else 'cpu')\n",
    "model = GATGNN2().to(device)\n",
    "\n",
    "optimizer = torch.optim.Adam(model.parameters(), lr=0.01, weight_decay=5e-4)\n",
    "print(model)\n",
    "print(\"Number of parameters: \", sum(p.numel() for p in model.parameters()))"
   ]
  },
  {
   "cell_type": "code",
   "execution_count": 199,
   "id": "70e84cf4",
   "metadata": {},
   "outputs": [],
   "source": [
    "def train():\n",
    "    model.train()\n",
    "\n",
    "    total_loss = 0\n",
    "    for data in train_loader:\n",
    "        data = data.to(device)\n",
    "        optimizer.zero_grad()\n",
    "        out = model(data)\n",
    "        loss = F.nll_loss(out[data.train_mask], data.y[data.train_mask])\n",
    "        total_loss += loss.item() * data.num_graphs\n",
    "        loss.backward()\n",
    "        optimizer.step()\n",
    "    return total_loss / len(train_loader.dataset)"
   ]
  },
  {
   "cell_type": "code",
   "execution_count": 200,
   "id": "d8a18070",
   "metadata": {},
   "outputs": [],
   "source": [
    "@torch.no_grad()\n",
    "def test():\n",
    "    model.eval()\n",
    "\n",
    "    total_acc = 0\n",
    "    for data in train_loader:\n",
    "        pred = model(data).argmax(dim=1)\n",
    "        correct = (pred[data.test_mask] == data.y[data.test_mask]).sum()\n",
    "        acc = int(correct) / int(data.test_mask.sum())\n",
    "        total_acc += acc * data.num_graphs\n",
    "    return total_acc / len(train_loader.dataset)"
   ]
  },
  {
   "cell_type": "code",
   "execution_count": 213,
   "id": "7dea9037",
   "metadata": {
    "scrolled": true
   },
   "outputs": [
    {
     "name": "stdout",
     "output_type": "stream",
     "text": [
      "Epoch: 001, Loss: 60.7713, Acc: 0.0866,\n",
      "Epoch: 002, Loss: 7.6576, Acc: 0.1151,\n",
      "Epoch: 003, Loss: 3.6909, Acc: 0.2744,\n",
      "Epoch: 004, Loss: 2.7534, Acc: 0.2908,\n",
      "Epoch: 005, Loss: 2.6056, Acc: 0.4403,\n",
      "Epoch: 006, Loss: 2.3196, Acc: 0.4089,\n",
      "Epoch: 007, Loss: 1.9942, Acc: 0.4010,\n",
      "Epoch: 008, Loss: 2.2552, Acc: 0.4530,\n",
      "Epoch: 009, Loss: 2.0620, Acc: 0.4490,\n",
      "Epoch: 010, Loss: 2.1564, Acc: 0.4854,\n",
      "Epoch: 011, Loss: 2.3050, Acc: 0.3947,\n",
      "Epoch: 012, Loss: 1.9643, Acc: 0.5755,\n",
      "Epoch: 013, Loss: 1.6437, Acc: 0.4848,\n",
      "Epoch: 014, Loss: 1.5025, Acc: 0.5242,\n",
      "Epoch: 015, Loss: 1.4725, Acc: 0.5060,\n",
      "Epoch: 016, Loss: 1.5359, Acc: 0.6052,\n",
      "Epoch: 017, Loss: 1.2234, Acc: 0.6525,\n",
      "Epoch: 018, Loss: 1.2049, Acc: 0.6607,\n",
      "Epoch: 019, Loss: 1.3177, Acc: 0.6377,\n",
      "Epoch: 020, Loss: 1.3929, Acc: 0.6522,\n",
      "Epoch: 021, Loss: 1.4890, Acc: 0.6648,\n",
      "Epoch: 022, Loss: 1.3409, Acc: 0.6659,\n",
      "Epoch: 023, Loss: 1.1289, Acc: 0.6884,\n",
      "Epoch: 024, Loss: 1.2482, Acc: 0.6722,\n",
      "Epoch: 025, Loss: 1.4811, Acc: 0.6330,\n",
      "Epoch: 026, Loss: 1.5264, Acc: 0.6424,\n",
      "Epoch: 027, Loss: 1.3985, Acc: 0.6735,\n",
      "Epoch: 028, Loss: 1.3097, Acc: 0.6551,\n",
      "Epoch: 029, Loss: 1.2081, Acc: 0.6577,\n",
      "Epoch: 030, Loss: 1.3673, Acc: 0.6648,\n",
      "Epoch: 031, Loss: 1.3524, Acc: 0.6665,\n",
      "Epoch: 032, Loss: 1.1618, Acc: 0.7023,\n",
      "Epoch: 033, Loss: 1.0868, Acc: 0.6338,\n",
      "Epoch: 034, Loss: 1.0744, Acc: 0.6751,\n",
      "Epoch: 035, Loss: 1.1459, Acc: 0.7479,\n",
      "Epoch: 036, Loss: 1.1816, Acc: 0.6070,\n",
      "Epoch: 037, Loss: 1.5387, Acc: 0.5983,\n",
      "Epoch: 038, Loss: 1.3824, Acc: 0.6606,\n",
      "Epoch: 039, Loss: 1.4388, Acc: 0.5620,\n",
      "Epoch: 040, Loss: 1.3693, Acc: 0.7190,\n",
      "Epoch: 041, Loss: 1.0418, Acc: 0.6597,\n",
      "Epoch: 042, Loss: 1.0937, Acc: 0.5492,\n",
      "Epoch: 043, Loss: 1.2750, Acc: 0.7285,\n",
      "Epoch: 044, Loss: 1.2403, Acc: 0.7094,\n",
      "Epoch: 045, Loss: 1.1367, Acc: 0.7173,\n",
      "Epoch: 046, Loss: 1.1483, Acc: 0.7540,\n",
      "Epoch: 047, Loss: 1.0098, Acc: 0.7390,\n",
      "Epoch: 048, Loss: 0.9431, Acc: 0.7862,\n",
      "Epoch: 049, Loss: 0.9832, Acc: 0.6918,\n",
      "Epoch: 050, Loss: 1.1130, Acc: 0.7244,\n",
      "Epoch: 051, Loss: 1.0953, Acc: 0.7638,\n",
      "Epoch: 052, Loss: 0.8419, Acc: 0.6587,\n",
      "Epoch: 053, Loss: 0.8849, Acc: 0.7209,\n",
      "Epoch: 054, Loss: 1.0023, Acc: 0.7830,\n",
      "Epoch: 055, Loss: 1.1026, Acc: 0.7329,\n",
      "Epoch: 056, Loss: 1.1918, Acc: 0.6952,\n",
      "Epoch: 057, Loss: 1.3635, Acc: 0.5508,\n",
      "Epoch: 058, Loss: 1.7256, Acc: 0.5200,\n",
      "Epoch: 059, Loss: 1.4891, Acc: 0.7458,\n",
      "Epoch: 060, Loss: 1.0249, Acc: 0.7077,\n",
      "Epoch: 061, Loss: 0.8616, Acc: 0.8249,\n",
      "Epoch: 062, Loss: 0.9657, Acc: 0.7706,\n",
      "Epoch: 063, Loss: 1.0300, Acc: 0.7312,\n",
      "Epoch: 064, Loss: 1.0487, Acc: 0.7666,\n",
      "Epoch: 065, Loss: 1.2651, Acc: 0.6529,\n",
      "Epoch: 066, Loss: 1.5480, Acc: 0.7388,\n",
      "Epoch: 067, Loss: 1.6228, Acc: 0.4896,\n",
      "Epoch: 068, Loss: 1.7860, Acc: 0.7324,\n",
      "Epoch: 069, Loss: 1.7261, Acc: 0.6355,\n",
      "Epoch: 070, Loss: 1.2470, Acc: 0.6667,\n",
      "Epoch: 071, Loss: 1.3082, Acc: 0.7233,\n",
      "Epoch: 072, Loss: 1.0548, Acc: 0.7179,\n",
      "Epoch: 073, Loss: 1.3727, Acc: 0.7502,\n",
      "Epoch: 074, Loss: 1.4449, Acc: 0.6017,\n",
      "Epoch: 075, Loss: 1.6148, Acc: 0.7626,\n",
      "Epoch: 076, Loss: 1.0135, Acc: 0.7587,\n",
      "Epoch: 077, Loss: 1.1993, Acc: 0.7009,\n",
      "Epoch: 078, Loss: 1.8034, Acc: 0.7291,\n",
      "Epoch: 079, Loss: 1.8046, Acc: 0.7718,\n",
      "Epoch: 080, Loss: 1.2942, Acc: 0.7873,\n",
      "Epoch: 081, Loss: 1.1958, Acc: 0.6814,\n",
      "Epoch: 082, Loss: 1.2145, Acc: 0.7850,\n",
      "Epoch: 083, Loss: 1.2608, Acc: 0.6834,\n",
      "Epoch: 084, Loss: 1.0849, Acc: 0.7423,\n",
      "Epoch: 085, Loss: 1.0414, Acc: 0.7128,\n",
      "Epoch: 086, Loss: 1.1190, Acc: 0.6938,\n",
      "Epoch: 087, Loss: 1.1390, Acc: 0.7713,\n",
      "Epoch: 088, Loss: 1.4021, Acc: 0.7268,\n",
      "Epoch: 089, Loss: 1.7782, Acc: 0.6876,\n",
      "Epoch: 090, Loss: 1.2397, Acc: 0.7477,\n",
      "Epoch: 091, Loss: 1.9694, Acc: 0.6595,\n",
      "Epoch: 092, Loss: 2.1351, Acc: 0.4941,\n",
      "Epoch: 093, Loss: 1.5414, Acc: 0.7411,\n",
      "Epoch: 094, Loss: 1.7104, Acc: 0.6656,\n",
      "Epoch: 095, Loss: 1.1893, Acc: 0.7350,\n",
      "Epoch: 096, Loss: 1.0291, Acc: 0.7564,\n",
      "Epoch: 097, Loss: 0.7254, Acc: 0.7992,\n",
      "Epoch: 098, Loss: 0.7141, Acc: 0.8045,\n",
      "Epoch: 099, Loss: 0.6235, Acc: 0.7452,\n",
      "Epoch: 100, Loss: 0.5552, Acc: 0.8668,\n",
      "Epoch: 101, Loss: 0.3891, Acc: 0.8460,\n",
      "Epoch: 102, Loss: 0.5785, Acc: 0.7764,\n",
      "Epoch: 103, Loss: 0.7219, Acc: 0.7565,\n",
      "Epoch: 104, Loss: 0.7762, Acc: 0.7944,\n",
      "Epoch: 105, Loss: 0.8370, Acc: 0.8074,\n",
      "Epoch: 106, Loss: 0.8110, Acc: 0.7779,\n",
      "Epoch: 107, Loss: 0.5852, Acc: 0.7790,\n",
      "Epoch: 108, Loss: 1.0565, Acc: 0.6051,\n",
      "Epoch: 109, Loss: 2.8854, Acc: 0.6263,\n",
      "Epoch: 110, Loss: 2.3348, Acc: 0.6110,\n",
      "Epoch: 111, Loss: 1.5244, Acc: 0.7389,\n",
      "Epoch: 112, Loss: 1.2435, Acc: 0.7226,\n",
      "Epoch: 113, Loss: 0.7831, Acc: 0.7849,\n",
      "Epoch: 114, Loss: 0.8343, Acc: 0.7751,\n",
      "Epoch: 115, Loss: 0.6970, Acc: 0.7832,\n",
      "Epoch: 116, Loss: 0.6436, Acc: 0.7245,\n",
      "Epoch: 117, Loss: 0.8153, Acc: 0.6833,\n",
      "Epoch: 118, Loss: 0.9630, Acc: 0.8025,\n",
      "Epoch: 119, Loss: 0.8730, Acc: 0.7640,\n",
      "Epoch: 120, Loss: 1.2142, Acc: 0.6860,\n",
      "Epoch: 121, Loss: 1.0030, Acc: 0.7723,\n",
      "Epoch: 122, Loss: 1.1526, Acc: 0.7006,\n",
      "Epoch: 123, Loss: 1.8606, Acc: 0.7156,\n",
      "Epoch: 124, Loss: 1.5509, Acc: 0.6961,\n",
      "Epoch: 125, Loss: 1.2175, Acc: 0.8310,\n",
      "Epoch: 126, Loss: 1.2619, Acc: 0.7696,\n",
      "Epoch: 127, Loss: 1.2479, Acc: 0.7773,\n",
      "Epoch: 128, Loss: 0.7750, Acc: 0.8207,\n",
      "Epoch: 129, Loss: 0.9718, Acc: 0.7674,\n",
      "Epoch: 130, Loss: 1.0291, Acc: 0.6626,\n",
      "Epoch: 131, Loss: 1.0042, Acc: 0.7802,\n",
      "Epoch: 132, Loss: 1.0589, Acc: 0.7947,\n",
      "Epoch: 133, Loss: 1.0399, Acc: 0.7690,\n",
      "Epoch: 134, Loss: 0.8502, Acc: 0.8215,\n",
      "Epoch: 135, Loss: 0.9425, Acc: 0.7505,\n",
      "Epoch: 136, Loss: 0.8448, Acc: 0.8472,\n",
      "Epoch: 137, Loss: 1.0028, Acc: 0.8088,\n",
      "Epoch: 138, Loss: 0.8100, Acc: 0.6699,\n",
      "Epoch: 139, Loss: 1.1306, Acc: 0.4993,\n",
      "Epoch: 140, Loss: 1.3403, Acc: 0.6897,\n",
      "Epoch: 141, Loss: 1.6784, Acc: 0.7182,\n",
      "Epoch: 142, Loss: 1.2369, Acc: 0.7740,\n",
      "Epoch: 143, Loss: 1.1075, Acc: 0.7796,\n",
      "Epoch: 144, Loss: 0.8449, Acc: 0.8651,\n",
      "Epoch: 145, Loss: 1.2103, Acc: 0.8015,\n",
      "Epoch: 146, Loss: 1.0282, Acc: 0.6963,\n",
      "Epoch: 147, Loss: 1.2743, Acc: 0.7102,\n",
      "Epoch: 148, Loss: 0.7961, Acc: 0.8700,\n",
      "Epoch: 149, Loss: 0.5250, Acc: 0.9099,\n",
      "Epoch: 150, Loss: 0.6417, Acc: 0.9044,\n",
      "Epoch: 151, Loss: 0.6311, Acc: 0.7905,\n",
      "Epoch: 152, Loss: 0.8587, Acc: 0.8337,\n",
      "Epoch: 153, Loss: 0.7894, Acc: 0.7062,\n",
      "Epoch: 154, Loss: 0.8838, Acc: 0.7336,\n",
      "Epoch: 155, Loss: 1.0724, Acc: 0.7289,\n",
      "Epoch: 156, Loss: 0.9483, Acc: 0.8225,\n",
      "Epoch: 157, Loss: 0.6214, Acc: 0.8622,\n",
      "Epoch: 158, Loss: 0.4863, Acc: 0.8977,\n",
      "Epoch: 159, Loss: 0.6250, Acc: 0.7428,\n",
      "Epoch: 160, Loss: 0.9806, Acc: 0.8043,\n",
      "Epoch: 161, Loss: 0.8090, Acc: 0.8324,\n",
      "Epoch: 162, Loss: 0.7552, Acc: 0.8774,\n",
      "Epoch: 163, Loss: 0.5553, Acc: 0.8441,\n",
      "Epoch: 164, Loss: 1.3092, Acc: 0.6877,\n",
      "Epoch: 165, Loss: 2.5733, Acc: 0.6316,\n",
      "Epoch: 166, Loss: 1.7142, Acc: 0.6470,\n",
      "Epoch: 167, Loss: 1.9257, Acc: 0.6386,\n",
      "Epoch: 168, Loss: 2.2920, Acc: 0.7785,\n",
      "Epoch: 169, Loss: 1.7028, Acc: 0.7740,\n",
      "Epoch: 170, Loss: 1.4304, Acc: 0.7703,\n",
      "Epoch: 171, Loss: 1.8685, Acc: 0.7837,\n",
      "Epoch: 172, Loss: 1.3214, Acc: 0.8114,\n",
      "Epoch: 173, Loss: 1.0892, Acc: 0.8178,\n",
      "Epoch: 174, Loss: 0.8639, Acc: 0.8799,\n",
      "Epoch: 175, Loss: 0.6344, Acc: 0.8661,\n",
      "Epoch: 176, Loss: 0.4385, Acc: 0.8998,\n",
      "Epoch: 177, Loss: 0.5540, Acc: 0.8599,\n",
      "Epoch: 178, Loss: 0.7498, Acc: 0.8335,\n",
      "Epoch: 179, Loss: 0.6629, Acc: 0.8511,\n",
      "Epoch: 180, Loss: 0.4227, Acc: 0.8698,\n",
      "Epoch: 181, Loss: 0.3264, Acc: 0.8371,\n",
      "Epoch: 182, Loss: 0.6328, Acc: 0.8251,\n",
      "Epoch: 183, Loss: 0.6363, Acc: 0.7524,\n",
      "Epoch: 184, Loss: 0.8925, Acc: 0.7723,\n",
      "Epoch: 185, Loss: 1.4470, Acc: 0.8142,\n",
      "Epoch: 186, Loss: 1.5462, Acc: 0.8003,\n",
      "Epoch: 187, Loss: 0.7485, Acc: 0.8755,\n",
      "Epoch: 188, Loss: 0.8055, Acc: 0.8302,\n",
      "Epoch: 189, Loss: 1.0157, Acc: 0.7882,\n",
      "Epoch: 190, Loss: 0.7879, Acc: 0.7830,\n",
      "Epoch: 191, Loss: 0.6929, Acc: 0.8357,\n",
      "Epoch: 192, Loss: 0.9419, Acc: 0.6800,\n",
      "Epoch: 193, Loss: 1.1726, Acc: 0.8576,\n",
      "Epoch: 194, Loss: 1.1287, Acc: 0.8200,\n",
      "Epoch: 195, Loss: 0.7343, Acc: 0.7194,\n",
      "Epoch: 196, Loss: 0.9045, Acc: 0.8409,\n",
      "Epoch: 197, Loss: 1.0939, Acc: 0.6684,\n",
      "Epoch: 198, Loss: 1.5150, Acc: 0.7613,\n",
      "Epoch: 199, Loss: 1.0605, Acc: 0.8428,\n",
      "Epoch: 200, Loss: 0.7444, Acc: 0.8094,\n"
     ]
    },
    {
     "data": {
      "image/png": "[encoded data removed]",
      "text/plain": [
       "<Figure size 640x480 with 1 Axes>"
      ]
     },
     "metadata": {},
     "output_type": "display_data"
    },
    {
     "data": {
      "image/png": "[encoded data removed]",
      "text/plain": [
       "<Figure size 640x480 with 1 Axes>"
      ]
     },
     "metadata": {},
     "output_type": "display_data"
    }
   ],
   "source": [
    "loss_values = []\n",
    "acc_values = []\n",
    "\n",
    "for epoch in range(1, 201):\n",
    "    loss = train()\n",
    "    acc = test()\n",
    "    \n",
    "    loss_values.append(loss)\n",
    "    acc_values.append(acc)\n",
    "    print(f'Epoch: {epoch:03d}, Loss: {loss:.4f}, 'f'Acc: {acc:.4f},')\n",
    "    \n",
    "\n",
    "plt.plot(loss_values, 'r',)\n",
    "plt.show()\n",
    "plt.plot(acc_values, 'b',)\n",
    "plt.show()"
   ]
  },
  {
   "cell_type": "code",
   "execution_count": null,
   "id": "0f3b769a",
   "metadata": {},
   "outputs": [],
   "source": [
    "test_pred = model()"
   ]
  },
  {
   "cell_type": "code",
   "execution_count": null,
   "id": "696ba754",
   "metadata": {},
   "outputs": [],
   "source": []
  },
  {
   "cell_type": "code",
   "execution_count": null,
   "id": "7fa4a528",
   "metadata": {},
   "outputs": [],
   "source": []
  }
 ],
 "metadata": {
  "kernelspec": {
   "display_name": "Python [conda env:pyg_env]",
   "language": "python",
   "name": "conda-env-pyg_env-py"
  },
  "language_info": {
   "codemirror_mode": {
    "name": "ipython",
    "version": 3
   },
   "file_extension": ".py",
   "mimetype": "text/x-python",
   "name": "python",
   "nbconvert_exporter": "python",
   "pygments_lexer": "ipython3",
   "version": "3.10.4"
  }
 },
 "nbformat": 4,
 "nbformat_minor": 5
}
