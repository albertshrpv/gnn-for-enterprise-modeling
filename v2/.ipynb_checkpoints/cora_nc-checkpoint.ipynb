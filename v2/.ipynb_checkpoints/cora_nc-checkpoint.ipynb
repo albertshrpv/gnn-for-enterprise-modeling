{
 "cells": [
  {
   "cell_type": "markdown",
   "id": "d5a75066",
   "metadata": {},
   "source": [
    "Reference: https://github.com/pyg-team/pytorch_geometric/blob/master/examples/link_pred.py"
   ]
  },
  {
   "cell_type": "code",
   "execution_count": null,
   "id": "2de277d1",
   "metadata": {},
   "outputs": [],
   "source": [
    "import os.path as osp\n",
    "\n",
    "import torch\n",
    "from sklearn.metrics import roc_auc_score\n",
    "import matplotlib.pyplot as plt\n",
    "\n",
    "import torch_geometric.transforms as T\n",
    "from torch_geometric.datasets import Planetoid\n",
    "from torch_geometric.nn import GCNConv\n",
    "from torch_geometric.utils import negative_sampling\n",
    "\n",
    "device = torch.device('cuda' if torch.cuda.is_available() else 'cpu')"
   ]
  },
  {
   "cell_type": "code",
   "execution_count": 2,
   "id": "e704c618",
   "metadata": {},
   "outputs": [
    {
     "data": {
      "text/plain": [
       "1433"
      ]
     },
     "execution_count": 2,
     "metadata": {},
     "output_type": "execute_result"
    }
   ],
   "source": [
    "# load the Cora dataset\n",
    "transform = T.Compose([\n",
    "    T.NormalizeFeatures(),\n",
    "    T.ToDevice(device),\n",
    "    T.RandomLinkSplit(num_val=0.10, num_test=0.20, neg_sampling_ratio = 1.0,\n",
    "                  is_undirected=True, add_negative_train_samples=False),\n",
    "])\n",
    "dataset = Planetoid('./data/Planetoid', name='Cora')\n",
    "dataset.num_features"
   ]
  },
  {
   "cell_type": "code",
   "execution_count": 3,
   "id": "c621ec61",
   "metadata": {},
   "outputs": [
    {
     "data": {
      "text/plain": [
       "Data(x=[2708, 1433], edge_index=[2, 10556], y=[2708], train_mask=[2708], val_mask=[2708], test_mask=[2708])"
      ]
     },
     "execution_count": 3,
     "metadata": {},
     "output_type": "execute_result"
    }
   ],
   "source": [
    "data = dataset[0]\n",
    "data"
   ]
  },
  {
   "cell_type": "code",
   "execution_count": 4,
   "id": "413c6339",
   "metadata": {},
   "outputs": [],
   "source": [
    "data = transform(data)"
   ]
  },
  {
   "cell_type": "code",
   "execution_count": 5,
   "id": "ba87cf36",
   "metadata": {},
   "outputs": [
    {
     "name": "stdout",
     "output_type": "stream",
     "text": [
      "Data(x=[2708, 1433], edge_index=[2, 7392], y=[2708], train_mask=[2708], val_mask=[2708], test_mask=[2708], edge_label=[3696], edge_label_index=[2, 3696])\n",
      "Data(x=[2708, 1433], edge_index=[2, 7392], y=[2708], train_mask=[2708], val_mask=[2708], test_mask=[2708], edge_label=[1054], edge_label_index=[2, 1054])\n",
      "Data(x=[2708, 1433], edge_index=[2, 8446], y=[2708], train_mask=[2708], val_mask=[2708], test_mask=[2708], edge_label=[2110], edge_label_index=[2, 2110])\n"
     ]
    }
   ],
   "source": [
    "train_data, val_data, test_data = data\n",
    "print(train_data)\n",
    "print(val_data)\n",
    "print(test_data)"
   ]
  },
  {
   "cell_type": "code",
   "execution_count": 9,
   "id": "45717584",
   "metadata": {},
   "outputs": [],
   "source": [
    "class GCN(torch.nn.Module):\n",
    "    def __init__(self, in_channels, hidden_channels, out_channels):\n",
    "        super().__init__()\n",
    "        self.conv1 = GCNConv(in_channels, hidden_channels)\n",
    "        self.conv2 = GCNConv(hidden_channels, out_channels)\n",
    "\n",
    "    def encode(self, x, edge_index):\n",
    "        x = self.conv1(x, edge_index).relu()\n",
    "        x = self.conv2(x, edge_index)\n",
    "        return x\n",
    "\n",
    "    def decode(self, z, edge_label_index):\n",
    "        return (z[edge_label_index[0]] * z[edge_label_index[1]]).sum(dim=-1)\n",
    "\n",
    "    def decode_all(self, z):\n",
    "        p_adj = z @ z.t()\n",
    "        return (p_adj > 0).nonzero(as_tuple=False).t()"
   ]
  },
  {
   "cell_type": "code",
   "execution_count": 10,
   "id": "78d7d0e2",
   "metadata": {},
   "outputs": [],
   "source": [
    "model = GCN(dataset.num_features, 128, 64).to(device)\n",
    "optimizer = torch.optim.Adam(params=model.parameters(), lr=0.01)\n",
    "criterion = torch.nn.BCEWithLogitsLoss()"
   ]
  },
  {
   "cell_type": "code",
   "execution_count": 12,
   "id": "735f9301",
   "metadata": {},
   "outputs": [],
   "source": [
    "def train():\n",
    "    model.train()\n",
    "    optimizer.zero_grad()\n",
    "    z = model.encode(train_data.x, train_data.edge_index)\n",
    "\n",
    "    neg_edge_index = negative_sampling(\n",
    "        edge_index=train_data.edge_index, num_nodes=train_data.num_nodes,\n",
    "        num_neg_samples=train_data.edge_label_index.size(1))\n",
    "\n",
    "    edge_label_index = torch.cat(\n",
    "        [train_data.edge_label_index, neg_edge_index],\n",
    "        dim=-1,\n",
    "    )\n",
    "    edge_label = torch.cat([\n",
    "        train_data.edge_label,\n",
    "        train_data.edge_label.new_zeros(neg_edge_index.size(1))\n",
    "    ], dim=0)\n",
    "\n",
    "    out = model.decode(z, edge_label_index).view(-1)\n",
    "    loss = criterion(out, edge_label)\n",
    "    loss.backward()\n",
    "    optimizer.step()\n",
    "    return loss\n",
    "\n",
    "\n",
    "@torch.no_grad()\n",
    "def test(data):\n",
    "    model.eval()\n",
    "    z = model.encode(data.x, data.edge_index)\n",
    "    out = model.decode(z, data.edge_label_index).view(-1).sigmoid()\n",
    "    return roc_auc_score(data.edge_label.cpu().numpy(), out.cpu().numpy())\n",
    "\n"
   ]
  },
  {
   "cell_type": "code",
   "execution_count": 13,
   "id": "c981c92b",
   "metadata": {
    "scrolled": false
   },
   "outputs": [
    {
     "name": "stdout",
     "output_type": "stream",
     "text": [
      "Epoch: 001, Loss: 0.6930, Val: 0.6890, Test: 0.6814\n",
      "Epoch: 002, Loss: 0.6817, Val: 0.6806, Test: 0.6746\n",
      "Epoch: 003, Loss: 0.7111, Val: 0.6804, Test: 0.6808\n",
      "Epoch: 004, Loss: 0.6771, Val: 0.6867, Test: 0.6994\n",
      "Epoch: 005, Loss: 0.6850, Val: 0.7213, Test: 0.7325\n",
      "Epoch: 006, Loss: 0.6886, Val: 0.7569, Test: 0.7559\n",
      "Epoch: 007, Loss: 0.6896, Val: 0.7518, Test: 0.7407\n",
      "Epoch: 008, Loss: 0.6890, Val: 0.7395, Test: 0.7249\n",
      "Epoch: 009, Loss: 0.6868, Val: 0.7320, Test: 0.7179\n",
      "Epoch: 010, Loss: 0.6828, Val: 0.7248, Test: 0.7133\n",
      "Epoch: 011, Loss: 0.6775, Val: 0.7177, Test: 0.7091\n",
      "Epoch: 012, Loss: 0.6740, Val: 0.7114, Test: 0.7070\n",
      "Epoch: 013, Loss: 0.6735, Val: 0.7121, Test: 0.7119\n",
      "Epoch: 014, Loss: 0.6663, Val: 0.7259, Test: 0.7284\n",
      "Epoch: 015, Loss: 0.6573, Val: 0.7477, Test: 0.7512\n",
      "Epoch: 016, Loss: 0.6503, Val: 0.7587, Test: 0.7611\n",
      "Epoch: 017, Loss: 0.6401, Val: 0.7576, Test: 0.7601\n",
      "Epoch: 018, Loss: 0.6261, Val: 0.7563, Test: 0.7584\n",
      "Epoch: 019, Loss: 0.6114, Val: 0.7640, Test: 0.7656\n",
      "Epoch: 020, Loss: 0.5954, Val: 0.7664, Test: 0.7682\n",
      "Epoch: 021, Loss: 0.5815, Val: 0.7615, Test: 0.7623\n",
      "Epoch: 022, Loss: 0.5766, Val: 0.7562, Test: 0.7589\n",
      "Epoch: 023, Loss: 0.5691, Val: 0.7546, Test: 0.7554\n",
      "Epoch: 024, Loss: 0.5698, Val: 0.7540, Test: 0.7498\n",
      "Epoch: 025, Loss: 0.5721, Val: 0.7572, Test: 0.7546\n",
      "Epoch: 026, Loss: 0.5653, Val: 0.7620, Test: 0.7594\n",
      "Epoch: 027, Loss: 0.5622, Val: 0.7675, Test: 0.7633\n",
      "Epoch: 028, Loss: 0.5630, Val: 0.7738, Test: 0.7676\n",
      "Epoch: 029, Loss: 0.5580, Val: 0.7807, Test: 0.7738\n",
      "Epoch: 030, Loss: 0.5575, Val: 0.7869, Test: 0.7803\n",
      "Epoch: 031, Loss: 0.5472, Val: 0.7905, Test: 0.7853\n",
      "Epoch: 032, Loss: 0.5492, Val: 0.7940, Test: 0.7889\n",
      "Epoch: 033, Loss: 0.5315, Val: 0.7958, Test: 0.7911\n",
      "Epoch: 034, Loss: 0.5309, Val: 0.8001, Test: 0.7954\n",
      "Epoch: 035, Loss: 0.5275, Val: 0.8075, Test: 0.8031\n",
      "Epoch: 036, Loss: 0.5241, Val: 0.8163, Test: 0.8120\n",
      "Epoch: 037, Loss: 0.5119, Val: 0.8237, Test: 0.8194\n",
      "Epoch: 038, Loss: 0.5078, Val: 0.8294, Test: 0.8247\n",
      "Epoch: 039, Loss: 0.5008, Val: 0.8313, Test: 0.8271\n",
      "Epoch: 040, Loss: 0.4988, Val: 0.8309, Test: 0.8267\n",
      "Epoch: 041, Loss: 0.5036, Val: 0.8305, Test: 0.8265\n",
      "Epoch: 042, Loss: 0.5038, Val: 0.8296, Test: 0.8265\n",
      "Epoch: 043, Loss: 0.5098, Val: 0.8315, Test: 0.8302\n",
      "Epoch: 044, Loss: 0.4988, Val: 0.8311, Test: 0.8328\n",
      "Epoch: 045, Loss: 0.4986, Val: 0.8332, Test: 0.8371\n",
      "Epoch: 046, Loss: 0.4956, Val: 0.8346, Test: 0.8387\n",
      "Epoch: 047, Loss: 0.4905, Val: 0.8351, Test: 0.8390\n",
      "Epoch: 048, Loss: 0.4870, Val: 0.8376, Test: 0.8423\n",
      "Epoch: 049, Loss: 0.4822, Val: 0.8391, Test: 0.8447\n",
      "Epoch: 050, Loss: 0.4761, Val: 0.8418, Test: 0.8473\n",
      "Epoch: 051, Loss: 0.4850, Val: 0.8452, Test: 0.8489\n",
      "Epoch: 052, Loss: 0.4806, Val: 0.8492, Test: 0.8517\n",
      "Epoch: 053, Loss: 0.4820, Val: 0.8538, Test: 0.8570\n",
      "Epoch: 054, Loss: 0.4777, Val: 0.8569, Test: 0.8625\n",
      "Epoch: 055, Loss: 0.4747, Val: 0.8602, Test: 0.8659\n",
      "Epoch: 056, Loss: 0.4696, Val: 0.8640, Test: 0.8674\n",
      "Epoch: 057, Loss: 0.4679, Val: 0.8660, Test: 0.8684\n",
      "Epoch: 058, Loss: 0.4684, Val: 0.8673, Test: 0.8705\n",
      "Epoch: 059, Loss: 0.4616, Val: 0.8678, Test: 0.8730\n",
      "Epoch: 060, Loss: 0.4758, Val: 0.8669, Test: 0.8740\n",
      "Epoch: 061, Loss: 0.4641, Val: 0.8675, Test: 0.8746\n",
      "Epoch: 062, Loss: 0.4696, Val: 0.8699, Test: 0.8754\n",
      "Epoch: 063, Loss: 0.4688, Val: 0.8717, Test: 0.8756\n",
      "Epoch: 064, Loss: 0.4738, Val: 0.8734, Test: 0.8769\n",
      "Epoch: 065, Loss: 0.4535, Val: 0.8734, Test: 0.8780\n",
      "Epoch: 066, Loss: 0.4589, Val: 0.8735, Test: 0.8791\n",
      "Epoch: 067, Loss: 0.4589, Val: 0.8751, Test: 0.8802\n",
      "Epoch: 068, Loss: 0.4556, Val: 0.8758, Test: 0.8802\n",
      "Epoch: 069, Loss: 0.4592, Val: 0.8767, Test: 0.8796\n",
      "Epoch: 070, Loss: 0.4597, Val: 0.8780, Test: 0.8804\n",
      "Epoch: 071, Loss: 0.4559, Val: 0.8792, Test: 0.8817\n",
      "Epoch: 072, Loss: 0.4592, Val: 0.8785, Test: 0.8824\n",
      "Epoch: 073, Loss: 0.4560, Val: 0.8774, Test: 0.8827\n",
      "Epoch: 074, Loss: 0.4567, Val: 0.8796, Test: 0.8829\n",
      "Epoch: 075, Loss: 0.4612, Val: 0.8819, Test: 0.8844\n",
      "Epoch: 076, Loss: 0.4429, Val: 0.8842, Test: 0.8875\n",
      "Epoch: 077, Loss: 0.4512, Val: 0.8847, Test: 0.8893\n",
      "Epoch: 078, Loss: 0.4559, Val: 0.8847, Test: 0.8893\n",
      "Epoch: 079, Loss: 0.4430, Val: 0.8851, Test: 0.8895\n",
      "Epoch: 080, Loss: 0.4547, Val: 0.8870, Test: 0.8903\n",
      "Epoch: 081, Loss: 0.4409, Val: 0.8897, Test: 0.8914\n",
      "Epoch: 082, Loss: 0.4483, Val: 0.8907, Test: 0.8927\n",
      "Epoch: 083, Loss: 0.4471, Val: 0.8908, Test: 0.8929\n",
      "Epoch: 084, Loss: 0.4540, Val: 0.8909, Test: 0.8923\n",
      "Epoch: 085, Loss: 0.4477, Val: 0.8909, Test: 0.8912\n",
      "Epoch: 086, Loss: 0.4468, Val: 0.8920, Test: 0.8916\n",
      "Epoch: 087, Loss: 0.4441, Val: 0.8943, Test: 0.8927\n",
      "Epoch: 088, Loss: 0.4481, Val: 0.8950, Test: 0.8934\n",
      "Epoch: 089, Loss: 0.4447, Val: 0.8943, Test: 0.8935\n",
      "Epoch: 090, Loss: 0.4460, Val: 0.8944, Test: 0.8935\n",
      "Epoch: 091, Loss: 0.4449, Val: 0.8952, Test: 0.8935\n",
      "Epoch: 092, Loss: 0.4465, Val: 0.8951, Test: 0.8930\n",
      "Epoch: 093, Loss: 0.4390, Val: 0.8954, Test: 0.8944\n",
      "Epoch: 094, Loss: 0.4423, Val: 0.8952, Test: 0.8951\n",
      "Epoch: 095, Loss: 0.4380, Val: 0.8945, Test: 0.8955\n",
      "Epoch: 096, Loss: 0.4354, Val: 0.8939, Test: 0.8953\n",
      "Epoch: 097, Loss: 0.4453, Val: 0.8939, Test: 0.8951\n",
      "Epoch: 098, Loss: 0.4345, Val: 0.8946, Test: 0.8962\n",
      "Epoch: 099, Loss: 0.4388, Val: 0.8952, Test: 0.8973\n",
      "Epoch: 100, Loss: 0.4381, Val: 0.8952, Test: 0.8980\n",
      "Epoch: 101, Loss: 0.4395, Val: 0.8952, Test: 0.8982\n",
      "Epoch: 102, Loss: 0.4312, Val: 0.8957, Test: 0.8981\n",
      "Epoch: 103, Loss: 0.4344, Val: 0.8957, Test: 0.8978\n",
      "Epoch: 104, Loss: 0.4394, Val: 0.8966, Test: 0.8981\n",
      "Epoch: 105, Loss: 0.4357, Val: 0.8975, Test: 0.8991\n",
      "Epoch: 106, Loss: 0.4355, Val: 0.8976, Test: 0.8993\n",
      "Epoch: 107, Loss: 0.4354, Val: 0.8973, Test: 0.8995\n",
      "Epoch: 108, Loss: 0.4307, Val: 0.8974, Test: 0.8994\n",
      "Epoch: 109, Loss: 0.4401, Val: 0.8974, Test: 0.8985\n",
      "Epoch: 110, Loss: 0.4376, Val: 0.8991, Test: 0.8983\n",
      "Epoch: 111, Loss: 0.4384, Val: 0.8991, Test: 0.8994\n",
      "Epoch: 112, Loss: 0.4315, Val: 0.8988, Test: 0.9005\n",
      "Epoch: 113, Loss: 0.4363, Val: 0.8983, Test: 0.9001\n",
      "Epoch: 114, Loss: 0.4335, Val: 0.8977, Test: 0.8986\n",
      "Epoch: 115, Loss: 0.4333, Val: 0.8975, Test: 0.8979\n",
      "Epoch: 116, Loss: 0.4340, Val: 0.8974, Test: 0.8985\n",
      "Epoch: 117, Loss: 0.4364, Val: 0.8979, Test: 0.8995\n",
      "Epoch: 118, Loss: 0.4356, Val: 0.8985, Test: 0.9003\n",
      "Epoch: 119, Loss: 0.4305, Val: 0.8987, Test: 0.9007\n",
      "Epoch: 120, Loss: 0.4367, Val: 0.8978, Test: 0.9000\n",
      "Epoch: 121, Loss: 0.4364, Val: 0.8976, Test: 0.8989\n",
      "Epoch: 122, Loss: 0.4338, Val: 0.8981, Test: 0.8987\n",
      "Epoch: 123, Loss: 0.4280, Val: 0.8979, Test: 0.8998\n",
      "Epoch: 124, Loss: 0.4362, Val: 0.8972, Test: 0.9007\n",
      "Epoch: 125, Loss: 0.4307, Val: 0.8968, Test: 0.9004\n",
      "Epoch: 126, Loss: 0.4355, Val: 0.8977, Test: 0.8996\n",
      "Epoch: 127, Loss: 0.4236, Val: 0.8983, Test: 0.8989\n",
      "Epoch: 128, Loss: 0.4307, Val: 0.8982, Test: 0.8984\n",
      "Epoch: 129, Loss: 0.4271, Val: 0.8983, Test: 0.9003\n",
      "Epoch: 130, Loss: 0.4310, Val: 0.8988, Test: 0.9019\n",
      "Epoch: 131, Loss: 0.4327, Val: 0.8996, Test: 0.9013\n",
      "Epoch: 132, Loss: 0.4364, Val: 0.9002, Test: 0.8993\n",
      "Epoch: 133, Loss: 0.4239, Val: 0.9002, Test: 0.8986\n",
      "Epoch: 134, Loss: 0.4366, Val: 0.9008, Test: 0.9004\n",
      "Epoch: 135, Loss: 0.4286, Val: 0.9012, Test: 0.9023\n",
      "Epoch: 136, Loss: 0.4323, Val: 0.9015, Test: 0.9022\n",
      "Epoch: 137, Loss: 0.4224, Val: 0.9018, Test: 0.9008\n",
      "Epoch: 138, Loss: 0.4290, Val: 0.9020, Test: 0.9004\n",
      "Epoch: 139, Loss: 0.4279, Val: 0.9022, Test: 0.9015\n",
      "Epoch: 140, Loss: 0.4208, Val: 0.9032, Test: 0.9032\n",
      "Epoch: 141, Loss: 0.4298, Val: 0.9038, Test: 0.9041\n",
      "Epoch: 142, Loss: 0.4218, Val: 0.9034, Test: 0.9035\n",
      "Epoch: 143, Loss: 0.4234, Val: 0.9040, Test: 0.9035\n",
      "Epoch: 144, Loss: 0.4166, Val: 0.9049, Test: 0.9042\n",
      "Epoch: 145, Loss: 0.4214, Val: 0.9055, Test: 0.9053\n",
      "Epoch: 146, Loss: 0.4199, Val: 0.9061, Test: 0.9049\n",
      "Epoch: 147, Loss: 0.4196, Val: 0.9065, Test: 0.9049\n",
      "Epoch: 148, Loss: 0.4232, Val: 0.9063, Test: 0.9047\n",
      "Epoch: 149, Loss: 0.4196, Val: 0.9057, Test: 0.9052\n",
      "Epoch: 150, Loss: 0.4195, Val: 0.9057, Test: 0.9055\n",
      "Epoch: 151, Loss: 0.4245, Val: 0.9059, Test: 0.9061\n",
      "Epoch: 152, Loss: 0.4225, Val: 0.9064, Test: 0.9065\n",
      "Epoch: 153, Loss: 0.4215, Val: 0.9064, Test: 0.9069\n",
      "Epoch: 154, Loss: 0.4202, Val: 0.9051, Test: 0.9056\n",
      "Epoch: 155, Loss: 0.4238, Val: 0.9037, Test: 0.9051\n",
      "Epoch: 156, Loss: 0.4278, Val: 0.9027, Test: 0.9058\n",
      "Epoch: 157, Loss: 0.4189, Val: 0.9034, Test: 0.9069\n",
      "Epoch: 158, Loss: 0.4235, Val: 0.9038, Test: 0.9061\n"
     ]
    },
    {
     "name": "stdout",
     "output_type": "stream",
     "text": [
      "Epoch: 159, Loss: 0.4189, Val: 0.9028, Test: 0.9048\n",
      "Epoch: 160, Loss: 0.4191, Val: 0.9011, Test: 0.9035\n",
      "Epoch: 161, Loss: 0.4194, Val: 0.9016, Test: 0.9036\n",
      "Epoch: 162, Loss: 0.4211, Val: 0.9034, Test: 0.9052\n",
      "Epoch: 163, Loss: 0.4214, Val: 0.9048, Test: 0.9063\n",
      "Epoch: 164, Loss: 0.4244, Val: 0.9048, Test: 0.9057\n",
      "Epoch: 165, Loss: 0.4203, Val: 0.9034, Test: 0.9033\n",
      "Epoch: 166, Loss: 0.4168, Val: 0.9029, Test: 0.9022\n",
      "Epoch: 167, Loss: 0.4221, Val: 0.9046, Test: 0.9027\n",
      "Epoch: 168, Loss: 0.4196, Val: 0.9058, Test: 0.9041\n",
      "Epoch: 169, Loss: 0.4179, Val: 0.9062, Test: 0.9055\n",
      "Epoch: 170, Loss: 0.4150, Val: 0.9065, Test: 0.9057\n",
      "Epoch: 171, Loss: 0.4159, Val: 0.9054, Test: 0.9046\n",
      "Epoch: 172, Loss: 0.4252, Val: 0.9054, Test: 0.9038\n",
      "Epoch: 173, Loss: 0.4201, Val: 0.9057, Test: 0.9041\n",
      "Epoch: 174, Loss: 0.4182, Val: 0.9058, Test: 0.9053\n",
      "Epoch: 175, Loss: 0.4170, Val: 0.9058, Test: 0.9059\n",
      "Epoch: 176, Loss: 0.4130, Val: 0.9050, Test: 0.9053\n",
      "Epoch: 177, Loss: 0.4141, Val: 0.9046, Test: 0.9053\n",
      "Epoch: 178, Loss: 0.4178, Val: 0.9046, Test: 0.9056\n",
      "Epoch: 179, Loss: 0.4191, Val: 0.9037, Test: 0.9062\n",
      "Epoch: 180, Loss: 0.4148, Val: 0.9026, Test: 0.9059\n",
      "Epoch: 181, Loss: 0.4177, Val: 0.9022, Test: 0.9049\n",
      "Epoch: 182, Loss: 0.4102, Val: 0.9027, Test: 0.9054\n",
      "Epoch: 183, Loss: 0.4170, Val: 0.9026, Test: 0.9047\n",
      "Epoch: 184, Loss: 0.4165, Val: 0.9020, Test: 0.9049\n",
      "Epoch: 185, Loss: 0.4205, Val: 0.9001, Test: 0.9049\n",
      "Epoch: 186, Loss: 0.4074, Val: 0.8986, Test: 0.9045\n",
      "Epoch: 187, Loss: 0.4208, Val: 0.8990, Test: 0.9034\n",
      "Epoch: 188, Loss: 0.4146, Val: 0.8999, Test: 0.9030\n",
      "Epoch: 189, Loss: 0.4150, Val: 0.9015, Test: 0.9035\n",
      "Epoch: 190, Loss: 0.4165, Val: 0.9015, Test: 0.9042\n",
      "Epoch: 191, Loss: 0.4167, Val: 0.9006, Test: 0.9050\n",
      "Epoch: 192, Loss: 0.4147, Val: 0.8999, Test: 0.9049\n",
      "Epoch: 193, Loss: 0.4092, Val: 0.9003, Test: 0.9045\n",
      "Epoch: 194, Loss: 0.4135, Val: 0.9018, Test: 0.9043\n",
      "Epoch: 195, Loss: 0.4102, Val: 0.9021, Test: 0.9049\n",
      "Epoch: 196, Loss: 0.4173, Val: 0.9015, Test: 0.9054\n",
      "Epoch: 197, Loss: 0.4191, Val: 0.9014, Test: 0.9058\n",
      "Epoch: 198, Loss: 0.4176, Val: 0.9029, Test: 0.9055\n",
      "Epoch: 199, Loss: 0.4151, Val: 0.9040, Test: 0.9055\n",
      "Epoch: 200, Loss: 0.4066, Val: 0.9045, Test: 0.9059\n"
     ]
    },
    {
     "data": {
      "image/png": "[encoded data removed]",
      "text/plain": [
       "<Figure size 640x480 with 1 Axes>"
      ]
     },
     "metadata": {},
     "output_type": "display_data"
    },
    {
     "data": {
      "image/png": "[encoded data removed]",
      "text/plain": [
       "<Figure size 640x480 with 1 Axes>"
      ]
     },
     "metadata": {},
     "output_type": "display_data"
    }
   ],
   "source": [
    "loss_values, val_auc_values, test_auc_values, = [], [], []\n",
    "\n",
    "best_val_auc = final_test_auc = 0\n",
    "for epoch in range(1, 201):\n",
    "    loss = train()\n",
    "    val_auc = test(val_data)\n",
    "    test_auc = test(test_data)\n",
    "    loss_values.append(loss.item())\n",
    "    val_auc_values.append(val_auc)\n",
    "    test_auc_values.append(test_auc)\n",
    "    print(f'Epoch: {epoch:03d}, Loss: {loss:.4f}, Val: {val_auc:.4f}, 'f'Test: {test_auc:.4f}')\n",
    "\n",
    "\n",
    "plt.plot(loss_values, 'r',)\n",
    "plt.savefig('loss_cora.png')\n",
    "plt.show()\n",
    "plt.plot(val_auc_values, 'b', test_auc_values, 'g' )\n",
    "plt.savefig('acc_cora.png')\n",
    "plt.show()"
   ]
  },
  {
   "cell_type": "code",
   "execution_count": 7,
   "id": "47021921",
   "metadata": {},
   "outputs": [],
   "source": [
    "z = model.encode(test_data.x, test_data.edge_index)\n",
    "final_edge_index = model.decode_all(z)"
   ]
  },
  {
   "cell_type": "code",
   "execution_count": 9,
   "id": "f8ccd5f8",
   "metadata": {},
   "outputs": [
    {
     "data": {
      "text/plain": [
       "torch.Size([2, 3312102])"
      ]
     },
     "execution_count": 9,
     "metadata": {},
     "output_type": "execute_result"
    }
   ],
   "source": [
    "final_edge_index.shape"
   ]
  },
  {
   "cell_type": "code",
   "execution_count": null,
   "id": "4490171d",
   "metadata": {},
   "outputs": [],
   "source": []
  },
  {
   "cell_type": "code",
   "execution_count": null,
   "id": "bda6b97d",
   "metadata": {},
   "outputs": [],
   "source": []
  },
  {
   "cell_type": "code",
   "execution_count": null,
   "id": "fb09a692",
   "metadata": {},
   "outputs": [],
   "source": []
  },
  {
   "cell_type": "code",
   "execution_count": null,
   "id": "d4cdd930",
   "metadata": {},
   "outputs": [],
   "source": []
  },
  {
   "cell_type": "code",
   "execution_count": null,
   "id": "e0650ce4",
   "metadata": {},
   "outputs": [],
   "source": []
  },
  {
   "cell_type": "code",
   "execution_count": null,
   "id": "326925f5",
   "metadata": {},
   "outputs": [],
   "source": []
  },
  {
   "cell_type": "code",
   "execution_count": null,
   "id": "af6d9ce4",
   "metadata": {},
   "outputs": [],
   "source": []
  },
  {
   "cell_type": "code",
   "execution_count": null,
   "id": "de2300ac",
   "metadata": {},
   "outputs": [],
   "source": []
  },
  {
   "cell_type": "code",
   "execution_count": null,
   "id": "1c46dc0d",
   "metadata": {},
   "outputs": [],
   "source": []
  }
 ],
 "metadata": {
  "kernelspec": {
   "display_name": "Python [conda env:pyg_env]",
   "language": "python",
   "name": "conda-env-pyg_env-py"
  },
  "language_info": {
   "codemirror_mode": {
    "name": "ipython",
    "version": 3
   },
   "file_extension": ".py",
   "mimetype": "text/x-python",
   "name": "python",
   "nbconvert_exporter": "python",
   "pygments_lexer": "ipython3",
   "version": "3.10.4"
  }
 },
 "nbformat": 4,
 "nbformat_minor": 5
}
