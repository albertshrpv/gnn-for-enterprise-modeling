{
 "cells": [
  {
   "cell_type": "code",
   "execution_count": 1,
   "id": "4d199931",
   "metadata": {},
   "outputs": [
    {
     "data": {
      "text/plain": [
       "<torch._C.Generator at 0x11e6f6c55b0>"
      ]
     },
     "execution_count": 1,
     "metadata": {},
     "output_type": "execute_result"
    }
   ],
   "source": [
    "import os.path as osp\n",
    "\n",
    "import torch\n",
    "import torch.nn.functional as F\n",
    "from sklearn.metrics import f1_score\n",
    "\n",
    "from torch_geometric.loader import DataLoader\n",
    "from torch_geometric.data import Dataset, Data\n",
    "from torch_geometric.loader import DataLoader\n",
    "from torch_geometric.nn import GATConv, SAGEConv, NNConv, GCNConv\n",
    "import matplotlib.pyplot as plt\n",
    "\n",
    "from sklearn.manifold import TSNE\n",
    "from torch_geometric.nn import Node2Vec\n",
    "\n",
    "torch.manual_seed(42)"
   ]
  },
  {
   "cell_type": "code",
   "execution_count": 2,
   "id": "6439c54c",
   "metadata": {},
   "outputs": [
    {
     "name": "stderr",
     "output_type": "stream",
     "text": [
      "Processing...\n",
      "Done!\n"
     ]
    },
    {
     "name": "stdout",
     "output_type": "stream",
     "text": [
      "DATASET LOADED: USE per_model variable !!!\n",
      "EnterpriseModelDatasetNCPerModeltype(110)\n"
     ]
    }
   ],
   "source": [
    "%run dataset_nc_per_modeltype.ipynb"
   ]
  },
  {
   "cell_type": "code",
   "execution_count": 3,
   "id": "6f6b403c",
   "metadata": {},
   "outputs": [
    {
     "data": {
      "text/plain": [
       "{'Concepts Model': 10,\n",
       " 'Business Rule & Process Model': 12,\n",
       " '4EM General Model': 7,\n",
       " 'Business Process Model': 43,\n",
       " 'Actors and Resources Model': 11,\n",
       " 'Technical Components and Requirements Model': 10,\n",
       " 'Goal Model': 6,\n",
       " 'Product-Service-Model': 4,\n",
       " 'Goal & Business Rule Model': 7}"
      ]
     },
     "execution_count": 3,
     "metadata": {},
     "output_type": "execute_result"
    }
   ],
   "source": [
    "per_model[\"info\"]"
   ]
  },
  {
   "cell_type": "code",
   "execution_count": 4,
   "id": "6d7bc1c4",
   "metadata": {},
   "outputs": [
    {
     "name": "stdout",
     "output_type": "stream",
     "text": [
      "Number of graphs total: 43\n",
      "tensor([18, 16, 18, 18, 16, 16, 16, 13, 13, 18, 18, 16, 18, 13, 18, 18, 16, 29,\n",
      "        16, 13, 18, 16, 10, 34, 18, 16, 16, 18,  3, 18, 16, 29, 18, 18, 18, 16])\n"
     ]
    }
   ],
   "source": [
    "# use only business process models\n",
    "bpms = per_model[\"data\"][\"Business Process Model\"]\n",
    "\n",
    "print(f'Number of graphs total: {len(bpms)}')\n",
    "print(bpms[1].y)"
   ]
  },
  {
   "cell_type": "code",
   "execution_count": 5,
   "id": "1d0cd081",
   "metadata": {},
   "outputs": [
    {
     "name": "stdout",
     "output_type": "stream",
     "text": [
      "[34, 3, 10, 11, 13, 16, 18, 29]\n",
      "['External Process', 'Join (OR)', 'Split (AND)', 'Join (AND)', 'Comment', 'Process', 'Information Set', 'Split (OR)']\n",
      "{34: 0, 3: 1, 10: 2, 11: 3, 13: 4, 16: 5, 18: 6, 29: 7}\n"
     ]
    }
   ],
   "source": [
    "bpm_node_classes = []\n",
    "\n",
    "for graph in bpms:\n",
    "    for nclass in graph.y:\n",
    "        bpm_node_classes.append(nclass.item())\n",
    "    \n",
    "bpm_node_classes = list(set(bpm_node_classes))\n",
    "print(bpm_node_classes)\n",
    "\n",
    "new_node_classes = []\n",
    "map_old_to_new_node_class = {}\n",
    "\n",
    "for i, old_index in enumerate(bpm_node_classes):\n",
    "    new_node_classes.append(node_classes[old_index])\n",
    "    map_old_to_new_node_class[old_index] = i\n",
    "    \n",
    "    \n",
    "print(new_node_classes)\n",
    "print(map_old_to_new_node_class)"
   ]
  },
  {
   "cell_type": "code",
   "execution_count": 6,
   "id": "0502d37d",
   "metadata": {},
   "outputs": [],
   "source": [
    "final_classes = [0, 1, 2] # 0: Information Set, 1: Process, 2: Other\n",
    "\n",
    "for graph in bpms:\n",
    "    for i, nclass in enumerate(graph.y):\n",
    "        if(new_node_classes[map_old_to_new_node_class[nclass.item()]] == \"Information Set\"):\n",
    "            graph.y[i] = 0\n",
    "        elif(new_node_classes[map_old_to_new_node_class[nclass.item()]] == \"Process\"):\n",
    "            graph.y[i] = 1\n",
    "        else:\n",
    "            graph.y[i] = 2"
   ]
  },
  {
   "cell_type": "code",
   "execution_count": 7,
   "id": "3ece0c83",
   "metadata": {},
   "outputs": [],
   "source": [
    "dataset = bpms"
   ]
  },
  {
   "cell_type": "code",
   "execution_count": 8,
   "id": "ded9e4f1",
   "metadata": {},
   "outputs": [
    {
     "data": {
      "text/plain": [
       "tensor([1, 0, 0, 0, 2, 1, 1, 1, 2, 1, 0])"
      ]
     },
     "execution_count": 8,
     "metadata": {},
     "output_type": "execute_result"
    }
   ],
   "source": [
    "dataset[0].y"
   ]
  },
  {
   "cell_type": "code",
   "execution_count": 9,
   "id": "1c6a32c8",
   "metadata": {},
   "outputs": [
    {
     "data": {
      "text/plain": [
       "(array([0, 1, 2], dtype=int64), array([4, 5, 2], dtype=int64))"
      ]
     },
     "execution_count": 9,
     "metadata": {},
     "output_type": "execute_result"
    }
   ],
   "source": [
    "values, counts = np.unique(dataset[0].y, return_counts=True)\n",
    "values, counts"
   ]
  },
  {
   "cell_type": "code",
   "execution_count": 10,
   "id": "a968f064",
   "metadata": {},
   "outputs": [
    {
     "data": {
      "text/plain": [
       "43"
      ]
     },
     "execution_count": 10,
     "metadata": {},
     "output_type": "execute_result"
    }
   ],
   "source": [
    "len(dataset)"
   ]
  },
  {
   "cell_type": "code",
   "execution_count": 11,
   "id": "522dfea9",
   "metadata": {},
   "outputs": [],
   "source": [
    "train_loader = DataLoader(bpms, batch_size=len(bpms), shuffle=False)"
   ]
  },
  {
   "cell_type": "code",
   "execution_count": 12,
   "id": "2dc5c5aa",
   "metadata": {},
   "outputs": [
    {
     "name": "stdout",
     "output_type": "stream",
     "text": [
      "Data(x=[835, 1], edge_index=[2, 836], edge_attr=[836, 1], y=[835], train_mask=[835], test_mask=[835])\n"
     ]
    }
   ],
   "source": [
    "x = []\n",
    "edge_index = []\n",
    "edge_attr = []\n",
    "y = []\n",
    "train_mask = []\n",
    "test_mask = []\n",
    "for batch in train_loader:\n",
    "    x = batch.x\n",
    "    edge_index = batch.edge_index\n",
    "    edge_attr = batch.edge_attr\n",
    "    y = batch.y\n",
    "    train_mask = batch.train_mask\n",
    "    test_mask = batch.test_mask\n",
    "\n",
    "    \n",
    "data = Data(x=x, \n",
    "            edge_index=edge_index,\n",
    "            edge_attr=edge_attr,\n",
    "            y=y,\n",
    "            train_mask=train_mask,\n",
    "            test_mask=test_mask\n",
    "            ) \n",
    "\n",
    "num_nodes = data.x.shape[0]\n",
    "print(data)"
   ]
  },
  {
   "cell_type": "code",
   "execution_count": 13,
   "id": "b78f51a6",
   "metadata": {},
   "outputs": [
    {
     "data": {
      "text/plain": [
       "(array([0, 1, 2], dtype=int64), array([367, 308, 160], dtype=int64))"
      ]
     },
     "execution_count": 13,
     "metadata": {},
     "output_type": "execute_result"
    }
   ],
   "source": [
    "values, counts = np.unique(data.y, return_counts=True)\n",
    "values, counts"
   ]
  },
  {
   "cell_type": "code",
   "execution_count": 14,
   "id": "a15a1ad4",
   "metadata": {},
   "outputs": [
    {
     "data": {
      "text/plain": [
       "tensor([1, 0, 0, 0, 2, 1, 1, 1, 2, 1])"
      ]
     },
     "execution_count": 14,
     "metadata": {},
     "output_type": "execute_result"
    }
   ],
   "source": [
    "data.y[:10]"
   ]
  },
  {
   "cell_type": "code",
   "execution_count": 15,
   "id": "dd94a0fc",
   "metadata": {},
   "outputs": [],
   "source": [
    "embedding_dim = 8"
   ]
  },
  {
   "cell_type": "code",
   "execution_count": 23,
   "id": "1ba40322",
   "metadata": {
    "scrolled": false
   },
   "outputs": [
    {
     "name": "stdout",
     "output_type": "stream",
     "text": [
      "Epoch: 01, Loss: 1.9833, Acc: 0.3949\n",
      "Epoch: 02, Loss: 1.7402, Acc: 0.3949\n",
      "Epoch: 03, Loss: 1.5954, Acc: 0.3897\n",
      "Epoch: 04, Loss: 1.4547, Acc: 0.3949\n",
      "Epoch: 05, Loss: 1.3280, Acc: 0.3949\n",
      "Epoch: 06, Loss: 1.2293, Acc: 0.4000\n",
      "Epoch: 07, Loss: 1.1749, Acc: 0.4051\n",
      "Epoch: 08, Loss: 1.1215, Acc: 0.3897\n",
      "Epoch: 09, Loss: 1.0778, Acc: 0.3949\n",
      "Epoch: 10, Loss: 1.0297, Acc: 0.3846\n",
      "Epoch: 11, Loss: 1.0007, Acc: 0.3846\n",
      "Epoch: 12, Loss: 0.9880, Acc: 0.3846\n",
      "Epoch: 13, Loss: 0.9547, Acc: 0.3795\n",
      "Epoch: 14, Loss: 0.9475, Acc: 0.3795\n",
      "Epoch: 15, Loss: 0.9265, Acc: 0.3795\n",
      "Epoch: 16, Loss: 0.9136, Acc: 0.3795\n",
      "Epoch: 17, Loss: 0.8996, Acc: 0.3949\n",
      "Epoch: 18, Loss: 0.8913, Acc: 0.3846\n",
      "Epoch: 19, Loss: 0.8820, Acc: 0.3846\n",
      "Epoch: 20, Loss: 0.8732, Acc: 0.3795\n",
      "Epoch: 21, Loss: 0.8700, Acc: 0.3744\n",
      "Epoch: 22, Loss: 0.8613, Acc: 0.3744\n",
      "Epoch: 23, Loss: 0.8612, Acc: 0.3795\n",
      "Epoch: 24, Loss: 0.8574, Acc: 0.3744\n",
      "Epoch: 25, Loss: 0.8568, Acc: 0.3744\n",
      "Epoch: 26, Loss: 0.8500, Acc: 0.3795\n",
      "Epoch: 27, Loss: 0.8494, Acc: 0.3795\n",
      "Epoch: 28, Loss: 0.8452, Acc: 0.3795\n",
      "Epoch: 29, Loss: 0.8470, Acc: 0.3744\n",
      "Epoch: 30, Loss: 0.8383, Acc: 0.3744\n",
      "Epoch: 31, Loss: 0.8364, Acc: 0.3744\n",
      "Epoch: 32, Loss: 0.8336, Acc: 0.3795\n",
      "Epoch: 33, Loss: 0.8325, Acc: 0.3692\n",
      "Epoch: 34, Loss: 0.8273, Acc: 0.3692\n",
      "Epoch: 35, Loss: 0.8305, Acc: 0.3641\n",
      "Epoch: 36, Loss: 0.8317, Acc: 0.3641\n",
      "Epoch: 37, Loss: 0.8263, Acc: 0.3641\n",
      "Epoch: 38, Loss: 0.8214, Acc: 0.3692\n",
      "Epoch: 39, Loss: 0.8242, Acc: 0.3744\n",
      "Epoch: 40, Loss: 0.8195, Acc: 0.3744\n",
      "Epoch: 41, Loss: 0.8231, Acc: 0.3744\n",
      "Epoch: 42, Loss: 0.8198, Acc: 0.3744\n",
      "Epoch: 43, Loss: 0.8173, Acc: 0.3744\n",
      "Epoch: 44, Loss: 0.8188, Acc: 0.3744\n",
      "Epoch: 45, Loss: 0.8172, Acc: 0.3744\n",
      "Epoch: 46, Loss: 0.8189, Acc: 0.3744\n",
      "Epoch: 47, Loss: 0.8145, Acc: 0.3692\n",
      "Epoch: 48, Loss: 0.8197, Acc: 0.3795\n",
      "Epoch: 49, Loss: 0.8140, Acc: 0.3641\n",
      "Epoch: 50, Loss: 0.8169, Acc: 0.3744\n",
      "Epoch: 51, Loss: 0.8147, Acc: 0.3744\n",
      "Epoch: 52, Loss: 0.8161, Acc: 0.3744\n",
      "Epoch: 53, Loss: 0.8149, Acc: 0.3744\n",
      "Epoch: 54, Loss: 0.8129, Acc: 0.3795\n",
      "Epoch: 55, Loss: 0.8128, Acc: 0.3744\n",
      "Epoch: 56, Loss: 0.8153, Acc: 0.3846\n",
      "Epoch: 57, Loss: 0.8152, Acc: 0.3846\n",
      "Epoch: 58, Loss: 0.8127, Acc: 0.3795\n",
      "Epoch: 59, Loss: 0.8106, Acc: 0.3949\n",
      "Epoch: 60, Loss: 0.8109, Acc: 0.3846\n",
      "Epoch: 61, Loss: 0.8142, Acc: 0.3846\n",
      "Epoch: 62, Loss: 0.8141, Acc: 0.3846\n",
      "Epoch: 63, Loss: 0.8107, Acc: 0.3846\n",
      "Epoch: 64, Loss: 0.8106, Acc: 0.3846\n",
      "Epoch: 65, Loss: 0.8098, Acc: 0.3846\n",
      "Epoch: 66, Loss: 0.8131, Acc: 0.3846\n",
      "Epoch: 67, Loss: 0.8134, Acc: 0.3897\n",
      "Epoch: 68, Loss: 0.8117, Acc: 0.3897\n",
      "Epoch: 69, Loss: 0.8078, Acc: 0.3949\n",
      "Epoch: 70, Loss: 0.8116, Acc: 0.3949\n",
      "Epoch: 71, Loss: 0.8151, Acc: 0.3897\n",
      "Epoch: 72, Loss: 0.8100, Acc: 0.3949\n",
      "Epoch: 73, Loss: 0.8105, Acc: 0.3949\n",
      "Epoch: 74, Loss: 0.8093, Acc: 0.3949\n",
      "Epoch: 75, Loss: 0.8099, Acc: 0.3949\n",
      "Epoch: 76, Loss: 0.8075, Acc: 0.3897\n",
      "Epoch: 77, Loss: 0.8093, Acc: 0.3897\n",
      "Epoch: 78, Loss: 0.8089, Acc: 0.3897\n",
      "Epoch: 79, Loss: 0.8076, Acc: 0.3949\n",
      "Epoch: 80, Loss: 0.8114, Acc: 0.3949\n",
      "Epoch: 81, Loss: 0.8069, Acc: 0.3897\n",
      "Epoch: 82, Loss: 0.8071, Acc: 0.3897\n",
      "Epoch: 83, Loss: 0.8110, Acc: 0.3846\n",
      "Epoch: 84, Loss: 0.8090, Acc: 0.3897\n",
      "Epoch: 85, Loss: 0.8079, Acc: 0.3897\n",
      "Epoch: 86, Loss: 0.8096, Acc: 0.3897\n",
      "Epoch: 87, Loss: 0.8069, Acc: 0.3897\n",
      "Epoch: 88, Loss: 0.8068, Acc: 0.3949\n",
      "Epoch: 89, Loss: 0.8106, Acc: 0.3897\n",
      "Epoch: 90, Loss: 0.8084, Acc: 0.3949\n",
      "Epoch: 91, Loss: 0.8079, Acc: 0.3846\n",
      "Epoch: 92, Loss: 0.8091, Acc: 0.3846\n",
      "Epoch: 93, Loss: 0.8048, Acc: 0.3846\n",
      "Epoch: 94, Loss: 0.8095, Acc: 0.3897\n",
      "Epoch: 95, Loss: 0.8067, Acc: 0.3795\n",
      "Epoch: 96, Loss: 0.8076, Acc: 0.3795\n",
      "Epoch: 97, Loss: 0.8075, Acc: 0.3744\n",
      "Epoch: 98, Loss: 0.8106, Acc: 0.3744\n",
      "Epoch: 99, Loss: 0.8055, Acc: 0.3795\n",
      "Epoch: 100, Loss: 0.8094, Acc: 0.3846\n"
     ]
    },
    {
     "name": "stderr",
     "output_type": "stream",
     "text": [
      "C:\\Users\\alber\\anaconda3\\envs\\pyg_env\\lib\\site-packages\\sklearn\\manifold\\_t_sne.py:795: FutureWarning: The default initialization in TSNE will change from 'random' to 'pca' in 1.2.\n",
      "  warnings.warn(\n",
      "C:\\Users\\alber\\anaconda3\\envs\\pyg_env\\lib\\site-packages\\sklearn\\manifold\\_t_sne.py:805: FutureWarning: The default learning rate in TSNE will change from 200.0 to 'auto' in 1.2.\n",
      "  warnings.warn(\n"
     ]
    },
    {
     "data": {
      "image/png": "[encoded data removed]",
      "text/plain": [
       "<Figure size 800x800 with 1 Axes>"
      ]
     },
     "metadata": {},
     "output_type": "display_data"
    }
   ],
   "source": [
    "device = 'cuda' if torch.cuda.is_available() else 'cpu'\n",
    "model = Node2Vec(data.edge_index, embedding_dim=embedding_dim, walk_length=15,\n",
    "                 context_size=10, walks_per_node=10,\n",
    "                 num_negative_samples=1, p=1, q=1, sparse=True).to(device)\n",
    "\n",
    "num_workers = 0\n",
    "loader = model.loader(batch_size=64, shuffle=True, num_workers=num_workers)\n",
    "optimizer = torch.optim.SparseAdam(list(model.parameters()), lr=0.01)\n",
    "\n",
    "def train():\n",
    "    model.train()\n",
    "    total_loss = 0\n",
    "    for pos_rw, neg_rw in loader:\n",
    "        optimizer.zero_grad()\n",
    "        loss = model.loss(pos_rw.to(device), neg_rw.to(device))\n",
    "        loss.backward()\n",
    "        optimizer.step()\n",
    "        total_loss += loss.item()\n",
    "    return total_loss / len(loader)\n",
    "\n",
    "@torch.no_grad()\n",
    "def test():\n",
    "    model.eval()\n",
    "    z = model()\n",
    "    acc = model.test(z[data.train_mask], data.y[data.train_mask],\n",
    "                     z[data.test_mask], data.y[data.test_mask],\n",
    "                     max_iter=150)\n",
    "    return acc\n",
    "\n",
    "loss_values = []\n",
    "acc_values = []\n",
    "for epoch in range(1, 101):\n",
    "    loss = train()\n",
    "    acc = test()\n",
    "    loss_values.append(loss)\n",
    "    acc_values.append(acc)\n",
    "    print(f'Epoch: {epoch:02d}, Loss: {loss:.4f}, Acc: {acc:.4f}')\n",
    "\n",
    "@torch.no_grad()\n",
    "def plot_points(colors):\n",
    "    model.eval()\n",
    "    z = model(torch.arange(data.num_nodes, device=device))\n",
    "    z = TSNE(n_components=2).fit_transform(z.cpu().numpy())\n",
    "    y = data.y.cpu().numpy()\n",
    "\n",
    "    plt.figure(figsize=(8, 8))\n",
    "    for i in range(len(new_node_classes)):\n",
    "        plt.scatter(z[y == i, 0], z[y == i, 1], s=20, color=colors[i])\n",
    "    plt.axis('off')\n",
    "    plt.show()\n",
    "\n",
    "colors = [\n",
    "    '#ffc0cb', '#bada55', '#008080', '#420420', '#7fe5f0', '#065535',\n",
    "    '#ffd700', '#9900ff', '#008080', '#420420', '#7fe5f0', '#065535',\n",
    "    '#008080', '#420420', '#7fe5f0', '#ff00ff', '#993366', '#ff5050',\n",
    "    '#ff9933', '#ffff66', '#ffffcc', '#0066cc', '#00cc66', '#333300',\n",
    "    '#996600', '#99ff66', '#cc99ff', '#336699', '#33cc33', '#339966',\n",
    "    '#cc9900', '#66ff66', '#6666ff', '#009999', '#666699', '#ffcccc',\n",
    "]\n",
    "plot_points(colors)"
   ]
  },
  {
   "cell_type": "code",
   "execution_count": 24,
   "id": "a24dbc0b",
   "metadata": {},
   "outputs": [
    {
     "data": {
      "image/png": "[encoded data removed]",
      "text/plain": [
       "<Figure size 640x480 with 1 Axes>"
      ]
     },
     "metadata": {},
     "output_type": "display_data"
    },
    {
     "data": {
      "image/png": "[encoded data removed]",
      "text/plain": [
       "<Figure size 640x480 with 1 Axes>"
      ]
     },
     "metadata": {},
     "output_type": "display_data"
    }
   ],
   "source": [
    "plt.plot(acc_values, 'b',)\n",
    "plt.savefig('node2vec_acc.png')\n",
    "plt.show()\n",
    "\n",
    "plt.plot(loss_values, 'r')\n",
    "plt.savefig('node2vec_loss.png')\n",
    "plt.show()"
   ]
  },
  {
   "cell_type": "code",
   "execution_count": 16,
   "id": "4ec50330",
   "metadata": {},
   "outputs": [
    {
     "ename": "NameError",
     "evalue": "name 'model' is not defined",
     "output_type": "error",
     "traceback": [
      "\u001b[1;31m---------------------------------------------------------------------------\u001b[0m",
      "\u001b[1;31mNameError\u001b[0m                                 Traceback (most recent call last)",
      "Input \u001b[1;32mIn [16]\u001b[0m, in \u001b[0;36m<cell line: 1>\u001b[1;34m()\u001b[0m\n\u001b[1;32m----> 1\u001b[0m z \u001b[38;5;241m=\u001b[39m \u001b[43mmodel\u001b[49m()\n\u001b[0;32m      2\u001b[0m z[\u001b[38;5;241m0\u001b[39m]\n",
      "\u001b[1;31mNameError\u001b[0m: name 'model' is not defined"
     ]
    }
   ],
   "source": [
    "z = model()\n",
    "z[0]"
   ]
  },
  {
   "cell_type": "code",
   "execution_count": 18,
   "id": "27e9f250",
   "metadata": {},
   "outputs": [
    {
     "data": {
      "text/plain": [
       "835"
      ]
     },
     "execution_count": 18,
     "metadata": {},
     "output_type": "execute_result"
    }
   ],
   "source": [
    "embeddings = []\n",
    "for emb in z:\n",
    "    new = []\n",
    "    for val in emb:\n",
    "        new.append(val.item())\n",
    "    embeddings.append(new)\n",
    "\n",
    "len(embeddings)"
   ]
  },
  {
   "cell_type": "code",
   "execution_count": 19,
   "id": "95c2f822",
   "metadata": {},
   "outputs": [
    {
     "data": {
      "text/plain": [
       "torch.Size([11, 1])"
      ]
     },
     "execution_count": 19,
     "metadata": {},
     "output_type": "execute_result"
    }
   ],
   "source": [
    "bpms[0]\n",
    "bpms[0].x.shape"
   ]
  },
  {
   "cell_type": "code",
   "execution_count": 20,
   "id": "3163d171",
   "metadata": {},
   "outputs": [],
   "source": [
    "data_emb = []\n",
    "i = 0\n",
    "for graph in bpms:\n",
    "    emb = []\n",
    "    edge_index = graph.edge_index\n",
    "    edge_attr = graph.edge_attr\n",
    "    y = graph.y\n",
    "    train_mask = graph.train_mask\n",
    "    test_mask = graph.test_mask\n",
    "    for j, _ in enumerate(graph.x):\n",
    "        emb.append(embeddings[i])\n",
    "        i += 1\n",
    "        \n",
    "    new_data = Data(x=torch.tensor(emb, dtype=torch.float), \n",
    "            edge_index=edge_index,\n",
    "            edge_attr=edge_attr,\n",
    "            y=y,\n",
    "            train_mask=train_mask,\n",
    "            test_mask=test_mask\n",
    "            )\n",
    "    data_emb.append(new_data)"
   ]
  },
  {
   "cell_type": "code",
   "execution_count": 21,
   "id": "93d8ab2b",
   "metadata": {},
   "outputs": [
    {
     "data": {
      "text/plain": [
       "8"
      ]
     },
     "execution_count": 21,
     "metadata": {},
     "output_type": "execute_result"
    }
   ],
   "source": [
    "data_emb[0].x.shape[1]"
   ]
  },
  {
   "cell_type": "code",
   "execution_count": 22,
   "id": "253e24d5",
   "metadata": {},
   "outputs": [
    {
     "name": "stdout",
     "output_type": "stream",
     "text": [
      "Number of graphs total: 43\n",
      "Number of training graphs: 43\n",
      "Data(x=[11, 8], edge_index=[2, 11], edge_attr=[11, 1], y=[11], train_mask=[11], test_mask=[11])\n"
     ]
    }
   ],
   "source": [
    "dataset = data_emb\n",
    "\n",
    "train_dataset = dataset[:int(len(dataset) * 1)]\n",
    "\n",
    "print(f'Number of graphs total: {len(dataset)}')\n",
    "print(f'Number of training graphs: {len(train_dataset)}')\n",
    "print(dataset[0])"
   ]
  },
  {
   "cell_type": "code",
   "execution_count": 23,
   "id": "9db98cba",
   "metadata": {},
   "outputs": [],
   "source": [
    "from torch_geometric.loader import DataLoader\n",
    "from torch_geometric.data import Dataset, Data\n",
    "\n",
    "NUM_GRAPHS_PER_BATCH = 8\n",
    "hidden_channels = 32\n",
    "\n",
    "train_loader = DataLoader(train_dataset, batch_size=NUM_GRAPHS_PER_BATCH, shuffle=True)"
   ]
  },
  {
   "cell_type": "code",
   "execution_count": 160,
   "id": "b4eab3b2",
   "metadata": {},
   "outputs": [],
   "source": [
    "class GATGNN(torch.nn.Module):\n",
    "    def __init__(self):\n",
    "        super().__init__()\n",
    "        self.conv1 = GATConv(embedding_dim, hidden_channels, heads=4, edge_dim=1)\n",
    "        self.lin1 = torch.nn.Linear(embedding_dim, 4 * hidden_channels)\n",
    "        \n",
    "        self.conv2 = GATConv(4 * hidden_channels, hidden_channels, heads=4, edge_dim=1)\n",
    "        self.lin2 = torch.nn.Linear(4 * hidden_channels, 4 * hidden_channels)\n",
    "        \n",
    "        \n",
    "        self.conv3 = GATConv(4 * hidden_channels, len(final_classes), heads=6, concat=False, edge_dim=1)\n",
    "        self.lin3 = torch.nn.Linear(4 * hidden_channels, len(final_classes))\n",
    "\n",
    "        \n",
    "    def forward(self, data):\n",
    "        x, edge_index, edge_attr = data.x, data.edge_index, data.edge_attr\n",
    "        x = F.elu(self.conv1(x, edge_index, edge_attr) + self.lin1(x))\n",
    "        x = F.elu(self.conv2(x, edge_index, edge_attr) + self.lin2(x))\n",
    "        x = self.conv3(x, edge_index, edge_attr) + self.lin3(x)\n",
    "        return F.log_softmax(x, dim=1)"
   ]
  },
  {
   "cell_type": "code",
   "execution_count": 161,
   "id": "61b5307e",
   "metadata": {},
   "outputs": [
    {
     "name": "stdout",
     "output_type": "stream",
     "text": [
      "GATGNN(\n",
      "  (conv1): GATConv(8, 32, heads=4)\n",
      "  (lin1): Linear(in_features=8, out_features=128, bias=True)\n",
      "  (conv2): GATConv(128, 32, heads=4)\n",
      "  (lin2): Linear(in_features=128, out_features=128, bias=True)\n",
      "  (conv3): GATConv(128, 3, heads=6)\n",
      "  (lin3): Linear(in_features=128, out_features=3, bias=True)\n",
      ")\n",
      "Number of parameters:  39118\n"
     ]
    }
   ],
   "source": [
    "device = torch.device('cuda' if torch.cuda.is_available() else 'cpu')\n",
    "model = GATGNN().to(device)\n",
    "\n",
    "optimizer = torch.optim.Adam(model.parameters(), lr=0.005, weight_decay=5e-4)\n",
    "print(model)\n",
    "print(\"Number of parameters: \", sum(p.numel() for p in model.parameters()))"
   ]
  },
  {
   "cell_type": "code",
   "execution_count": 162,
   "id": "8fdf916d",
   "metadata": {},
   "outputs": [],
   "source": [
    "def train():\n",
    "    model.train()\n",
    "\n",
    "    total_loss = 0\n",
    "    for data in train_loader:\n",
    "        data = data.to(device)\n",
    "        optimizer.zero_grad()\n",
    "        out = model(data)\n",
    "        loss = F.nll_loss(out[data.train_mask], data.y[data.train_mask])\n",
    "        total_loss += loss.item() * data.num_graphs\n",
    "        loss.backward()\n",
    "        optimizer.step()\n",
    "    return total_loss / len(train_loader.dataset)"
   ]
  },
  {
   "cell_type": "code",
   "execution_count": 163,
   "id": "c8de5722",
   "metadata": {},
   "outputs": [],
   "source": [
    "@torch.no_grad()\n",
    "def test():\n",
    "    model.eval()\n",
    "\n",
    "    total_acc = 0\n",
    "    for data in train_loader:\n",
    "        pred = model(data).argmax(dim=1)\n",
    "        correct = (pred[data.test_mask] == data.y[data.test_mask]).sum()\n",
    "        acc = int(correct) / int(data.test_mask.sum())\n",
    "        total_acc += acc * data.num_graphs\n",
    "    return total_acc / len(train_loader.dataset)\n",
    "\n",
    "@torch.no_grad()\n",
    "def test_train():\n",
    "    model.eval()\n",
    "\n",
    "    total_acc = 0\n",
    "    for data in train_loader:\n",
    "        pred = model(data).argmax(dim=1)\n",
    "        correct = (pred[data.train_mask] == data.y[data.train_mask]).sum()\n",
    "        acc = int(correct) / int(data.train_mask.sum())\n",
    "        total_acc += acc * data.num_graphs\n",
    "    return total_acc / len(train_loader.dataset)"
   ]
  },
  {
   "cell_type": "code",
   "execution_count": 164,
   "id": "6cf27939",
   "metadata": {
    "scrolled": false
   },
   "outputs": [
    {
     "name": "stdout",
     "output_type": "stream",
     "text": [
      "Epoch: 001, Loss: 1.1705, Train Acc: 0.4244, Test Acc: 0.3556\n",
      "Epoch: 002, Loss: 1.0818, Train Acc: 0.3901, Test Acc: 0.4074\n",
      "Epoch: 003, Loss: 1.0644, Train Acc: 0.4401, Test Acc: 0.4280\n",
      "Epoch: 004, Loss: 1.0702, Train Acc: 0.4514, Test Acc: 0.4330\n",
      "Epoch: 005, Loss: 1.0669, Train Acc: 0.4413, Test Acc: 0.3795\n",
      "Epoch: 006, Loss: 1.0336, Train Acc: 0.4663, Test Acc: 0.4171\n",
      "Epoch: 007, Loss: 1.0449, Train Acc: 0.4340, Test Acc: 0.4659\n",
      "Epoch: 008, Loss: 1.0407, Train Acc: 0.4699, Test Acc: 0.4397\n",
      "Epoch: 009, Loss: 1.0226, Train Acc: 0.4813, Test Acc: 0.4527\n",
      "Epoch: 010, Loss: 1.0261, Train Acc: 0.4959, Test Acc: 0.4686\n",
      "Epoch: 011, Loss: 1.0237, Train Acc: 0.4787, Test Acc: 0.4200\n",
      "Epoch: 012, Loss: 1.0130, Train Acc: 0.4953, Test Acc: 0.3955\n",
      "Epoch: 013, Loss: 1.0140, Train Acc: 0.4835, Test Acc: 0.4454\n",
      "Epoch: 014, Loss: 1.0077, Train Acc: 0.4833, Test Acc: 0.4641\n",
      "Epoch: 015, Loss: 1.0170, Train Acc: 0.4958, Test Acc: 0.4252\n",
      "Epoch: 016, Loss: 1.0123, Train Acc: 0.4990, Test Acc: 0.4270\n",
      "Epoch: 017, Loss: 1.0021, Train Acc: 0.4888, Test Acc: 0.4330\n",
      "Epoch: 018, Loss: 1.0072, Train Acc: 0.5141, Test Acc: 0.4754\n",
      "Epoch: 019, Loss: 1.0063, Train Acc: 0.5076, Test Acc: 0.4256\n",
      "Epoch: 020, Loss: 1.0019, Train Acc: 0.5115, Test Acc: 0.4557\n",
      "Epoch: 021, Loss: 0.9997, Train Acc: 0.5107, Test Acc: 0.4597\n",
      "Epoch: 022, Loss: 0.9890, Train Acc: 0.4980, Test Acc: 0.4533\n",
      "Epoch: 023, Loss: 1.0081, Train Acc: 0.4867, Test Acc: 0.4368\n",
      "Epoch: 024, Loss: 1.0150, Train Acc: 0.5232, Test Acc: 0.4380\n",
      "Epoch: 025, Loss: 1.0002, Train Acc: 0.5022, Test Acc: 0.4239\n",
      "Epoch: 026, Loss: 1.0175, Train Acc: 0.5034, Test Acc: 0.4372\n",
      "Epoch: 027, Loss: 0.9934, Train Acc: 0.5078, Test Acc: 0.4381\n",
      "Epoch: 028, Loss: 1.0079, Train Acc: 0.5136, Test Acc: 0.4220\n",
      "Epoch: 029, Loss: 0.9992, Train Acc: 0.5092, Test Acc: 0.4260\n",
      "Epoch: 030, Loss: 0.9718, Train Acc: 0.5195, Test Acc: 0.4591\n",
      "Epoch: 031, Loss: 0.9842, Train Acc: 0.5363, Test Acc: 0.4445\n",
      "Epoch: 032, Loss: 0.9871, Train Acc: 0.5211, Test Acc: 0.4362\n",
      "Epoch: 033, Loss: 0.9785, Train Acc: 0.5351, Test Acc: 0.3968\n",
      "Epoch: 034, Loss: 0.9725, Train Acc: 0.5291, Test Acc: 0.4569\n",
      "Epoch: 035, Loss: 0.9756, Train Acc: 0.5021, Test Acc: 0.4421\n",
      "Epoch: 036, Loss: 0.9628, Train Acc: 0.5363, Test Acc: 0.4460\n",
      "Epoch: 037, Loss: 0.9616, Train Acc: 0.5554, Test Acc: 0.4154\n",
      "Epoch: 038, Loss: 0.9653, Train Acc: 0.5259, Test Acc: 0.3943\n",
      "Epoch: 039, Loss: 0.9521, Train Acc: 0.5372, Test Acc: 0.4287\n",
      "Epoch: 040, Loss: 0.9568, Train Acc: 0.5263, Test Acc: 0.4355\n",
      "Epoch: 041, Loss: 0.9519, Train Acc: 0.5261, Test Acc: 0.3925\n",
      "Epoch: 042, Loss: 0.9505, Train Acc: 0.5402, Test Acc: 0.4208\n",
      "Epoch: 043, Loss: 0.9364, Train Acc: 0.5524, Test Acc: 0.4659\n",
      "Epoch: 044, Loss: 0.9371, Train Acc: 0.5499, Test Acc: 0.4438\n",
      "Epoch: 045, Loss: 0.9443, Train Acc: 0.5584, Test Acc: 0.4197\n",
      "Epoch: 046, Loss: 0.9483, Train Acc: 0.5418, Test Acc: 0.4182\n",
      "Epoch: 047, Loss: 0.9408, Train Acc: 0.5421, Test Acc: 0.4153\n",
      "Epoch: 048, Loss: 0.9261, Train Acc: 0.5439, Test Acc: 0.4570\n",
      "Epoch: 049, Loss: 0.9443, Train Acc: 0.5413, Test Acc: 0.4115\n",
      "Epoch: 050, Loss: 0.9277, Train Acc: 0.5734, Test Acc: 0.4414\n",
      "Epoch: 051, Loss: 0.9221, Train Acc: 0.5339, Test Acc: 0.3254\n",
      "Epoch: 052, Loss: 0.9720, Train Acc: 0.5405, Test Acc: 0.4156\n",
      "Epoch: 053, Loss: 0.9272, Train Acc: 0.5327, Test Acc: 0.3480\n",
      "Epoch: 054, Loss: 0.9244, Train Acc: 0.5563, Test Acc: 0.4392\n",
      "Epoch: 055, Loss: 0.9139, Train Acc: 0.5744, Test Acc: 0.3891\n",
      "Epoch: 056, Loss: 0.9067, Train Acc: 0.5591, Test Acc: 0.3763\n",
      "Epoch: 057, Loss: 0.8932, Train Acc: 0.5714, Test Acc: 0.4548\n",
      "Epoch: 058, Loss: 0.8912, Train Acc: 0.5985, Test Acc: 0.3993\n",
      "Epoch: 059, Loss: 0.8812, Train Acc: 0.5810, Test Acc: 0.4653\n",
      "Epoch: 060, Loss: 0.8714, Train Acc: 0.6062, Test Acc: 0.4101\n",
      "Epoch: 061, Loss: 0.8740, Train Acc: 0.6011, Test Acc: 0.4437\n",
      "Epoch: 062, Loss: 0.8734, Train Acc: 0.5817, Test Acc: 0.4453\n",
      "Epoch: 063, Loss: 0.9217, Train Acc: 0.5779, Test Acc: 0.4213\n",
      "Epoch: 064, Loss: 0.8605, Train Acc: 0.5790, Test Acc: 0.4171\n",
      "Epoch: 065, Loss: 0.8741, Train Acc: 0.6051, Test Acc: 0.4543\n",
      "Epoch: 066, Loss: 0.8573, Train Acc: 0.5957, Test Acc: 0.4232\n",
      "Epoch: 067, Loss: 0.8466, Train Acc: 0.5943, Test Acc: 0.4384\n",
      "Epoch: 068, Loss: 0.8592, Train Acc: 0.6065, Test Acc: 0.4365\n",
      "Epoch: 069, Loss: 0.8469, Train Acc: 0.6254, Test Acc: 0.4176\n",
      "Epoch: 070, Loss: 0.8296, Train Acc: 0.5928, Test Acc: 0.3906\n",
      "Epoch: 071, Loss: 0.8323, Train Acc: 0.6064, Test Acc: 0.4245\n",
      "Epoch: 072, Loss: 0.8332, Train Acc: 0.5924, Test Acc: 0.4184\n",
      "Epoch: 073, Loss: 0.8365, Train Acc: 0.5886, Test Acc: 0.4459\n",
      "Epoch: 074, Loss: 0.8694, Train Acc: 0.6100, Test Acc: 0.4809\n",
      "Epoch: 075, Loss: 0.8850, Train Acc: 0.5919, Test Acc: 0.4124\n",
      "Epoch: 076, Loss: 0.8600, Train Acc: 0.5871, Test Acc: 0.4022\n",
      "Epoch: 077, Loss: 0.8716, Train Acc: 0.5919, Test Acc: 0.4066\n",
      "Epoch: 078, Loss: 0.8882, Train Acc: 0.6176, Test Acc: 0.4603\n",
      "Epoch: 079, Loss: 0.8840, Train Acc: 0.6129, Test Acc: 0.4761\n",
      "Epoch: 080, Loss: 0.8361, Train Acc: 0.6144, Test Acc: 0.4305\n",
      "Epoch: 081, Loss: 0.8332, Train Acc: 0.5938, Test Acc: 0.4259\n",
      "Epoch: 082, Loss: 0.8292, Train Acc: 0.6231, Test Acc: 0.4535\n",
      "Epoch: 083, Loss: 0.8576, Train Acc: 0.6020, Test Acc: 0.4142\n",
      "Epoch: 084, Loss: 0.8610, Train Acc: 0.6335, Test Acc: 0.4664\n",
      "Epoch: 085, Loss: 0.7997, Train Acc: 0.5944, Test Acc: 0.4604\n",
      "Epoch: 086, Loss: 0.8307, Train Acc: 0.6779, Test Acc: 0.4317\n",
      "Epoch: 087, Loss: 0.7868, Train Acc: 0.6334, Test Acc: 0.4048\n",
      "Epoch: 088, Loss: 0.7735, Train Acc: 0.6661, Test Acc: 0.4239\n",
      "Epoch: 089, Loss: 0.7508, Train Acc: 0.6716, Test Acc: 0.4498\n",
      "Epoch: 090, Loss: 0.7391, Train Acc: 0.6750, Test Acc: 0.4770\n",
      "Epoch: 091, Loss: 0.7436, Train Acc: 0.6931, Test Acc: 0.4723\n",
      "Epoch: 092, Loss: 0.7311, Train Acc: 0.6806, Test Acc: 0.4656\n",
      "Epoch: 093, Loss: 0.7222, Train Acc: 0.6807, Test Acc: 0.4904\n",
      "Epoch: 094, Loss: 0.7081, Train Acc: 0.6993, Test Acc: 0.4252\n",
      "Epoch: 095, Loss: 0.6889, Train Acc: 0.7077, Test Acc: 0.4633\n",
      "Epoch: 096, Loss: 0.7182, Train Acc: 0.7037, Test Acc: 0.4703\n",
      "Epoch: 097, Loss: 0.6915, Train Acc: 0.6896, Test Acc: 0.4846\n",
      "Epoch: 098, Loss: 0.7236, Train Acc: 0.7148, Test Acc: 0.4304\n",
      "Epoch: 099, Loss: 0.7031, Train Acc: 0.7065, Test Acc: 0.4591\n",
      "Epoch: 100, Loss: 0.6915, Train Acc: 0.7036, Test Acc: 0.4532\n",
      "Epoch: 101, Loss: 0.6816, Train Acc: 0.7230, Test Acc: 0.4680\n",
      "Epoch: 102, Loss: 0.6738, Train Acc: 0.7220, Test Acc: 0.4659\n",
      "Epoch: 103, Loss: 0.6754, Train Acc: 0.7043, Test Acc: 0.4578\n",
      "Epoch: 104, Loss: 0.6963, Train Acc: 0.7348, Test Acc: 0.5045\n",
      "Epoch: 105, Loss: 0.6611, Train Acc: 0.6991, Test Acc: 0.4369\n",
      "Epoch: 106, Loss: 0.7100, Train Acc: 0.7197, Test Acc: 0.4641\n",
      "Epoch: 107, Loss: 0.6651, Train Acc: 0.7084, Test Acc: 0.4827\n",
      "Epoch: 108, Loss: 0.6688, Train Acc: 0.7121, Test Acc: 0.4773\n",
      "Epoch: 109, Loss: 0.6836, Train Acc: 0.7307, Test Acc: 0.4893\n",
      "Epoch: 110, Loss: 0.6363, Train Acc: 0.7463, Test Acc: 0.4642\n",
      "Epoch: 111, Loss: 0.6480, Train Acc: 0.7356, Test Acc: 0.4668\n",
      "Epoch: 112, Loss: 0.6405, Train Acc: 0.7438, Test Acc: 0.4671\n",
      "Epoch: 113, Loss: 0.6505, Train Acc: 0.7262, Test Acc: 0.4611\n",
      "Epoch: 114, Loss: 0.6439, Train Acc: 0.7591, Test Acc: 0.5139\n",
      "Epoch: 115, Loss: 0.6376, Train Acc: 0.7414, Test Acc: 0.4650\n",
      "Epoch: 116, Loss: 0.6409, Train Acc: 0.7318, Test Acc: 0.5257\n",
      "Epoch: 117, Loss: 0.6195, Train Acc: 0.7413, Test Acc: 0.4821\n",
      "Epoch: 118, Loss: 0.5954, Train Acc: 0.7671, Test Acc: 0.4870\n",
      "Epoch: 119, Loss: 0.6103, Train Acc: 0.7608, Test Acc: 0.5080\n",
      "Epoch: 120, Loss: 0.5714, Train Acc: 0.7876, Test Acc: 0.5212\n",
      "Epoch: 121, Loss: 0.5591, Train Acc: 0.7746, Test Acc: 0.5386\n",
      "Epoch: 122, Loss: 0.5338, Train Acc: 0.7921, Test Acc: 0.4941\n",
      "Epoch: 123, Loss: 0.5254, Train Acc: 0.7961, Test Acc: 0.5211\n",
      "Epoch: 124, Loss: 0.5264, Train Acc: 0.8180, Test Acc: 0.5329\n",
      "Epoch: 125, Loss: 0.4918, Train Acc: 0.8053, Test Acc: 0.4809\n",
      "Epoch: 126, Loss: 0.4989, Train Acc: 0.8370, Test Acc: 0.5226\n",
      "Epoch: 127, Loss: 0.4883, Train Acc: 0.8274, Test Acc: 0.5166\n",
      "Epoch: 128, Loss: 0.4770, Train Acc: 0.8213, Test Acc: 0.5367\n",
      "Epoch: 129, Loss: 0.5147, Train Acc: 0.8255, Test Acc: 0.5441\n",
      "Epoch: 130, Loss: 0.4808, Train Acc: 0.8071, Test Acc: 0.4951\n",
      "Epoch: 131, Loss: 0.5055, Train Acc: 0.8436, Test Acc: 0.5483\n",
      "Epoch: 132, Loss: 0.4667, Train Acc: 0.8088, Test Acc: 0.5179\n",
      "Epoch: 133, Loss: 0.4835, Train Acc: 0.8161, Test Acc: 0.5420\n",
      "Epoch: 134, Loss: 0.4612, Train Acc: 0.8146, Test Acc: 0.5287\n"
     ]
    },
    {
     "name": "stdout",
     "output_type": "stream",
     "text": [
      "Epoch: 135, Loss: 0.4422, Train Acc: 0.8496, Test Acc: 0.5313\n",
      "Epoch: 136, Loss: 0.4111, Train Acc: 0.8267, Test Acc: 0.5531\n",
      "Epoch: 137, Loss: 0.4289, Train Acc: 0.8348, Test Acc: 0.5405\n",
      "Epoch: 138, Loss: 0.4138, Train Acc: 0.8629, Test Acc: 0.5811\n",
      "Epoch: 139, Loss: 0.4167, Train Acc: 0.8543, Test Acc: 0.5377\n",
      "Epoch: 140, Loss: 0.4162, Train Acc: 0.8299, Test Acc: 0.5602\n",
      "Epoch: 141, Loss: 0.4487, Train Acc: 0.8430, Test Acc: 0.5394\n",
      "Epoch: 142, Loss: 0.4280, Train Acc: 0.8327, Test Acc: 0.5520\n",
      "Epoch: 143, Loss: 0.4692, Train Acc: 0.8403, Test Acc: 0.5489\n",
      "Epoch: 144, Loss: 0.4363, Train Acc: 0.8380, Test Acc: 0.5314\n",
      "Epoch: 145, Loss: 0.5016, Train Acc: 0.8366, Test Acc: 0.5589\n",
      "Epoch: 146, Loss: 0.4395, Train Acc: 0.8352, Test Acc: 0.5745\n",
      "Epoch: 147, Loss: 0.4215, Train Acc: 0.8669, Test Acc: 0.5556\n",
      "Epoch: 148, Loss: 0.3898, Train Acc: 0.8549, Test Acc: 0.5624\n",
      "Epoch: 149, Loss: 0.3804, Train Acc: 0.8754, Test Acc: 0.5707\n",
      "Epoch: 150, Loss: 0.3674, Train Acc: 0.8727, Test Acc: 0.5797\n",
      "Epoch: 151, Loss: 0.3640, Train Acc: 0.8755, Test Acc: 0.5852\n",
      "Epoch: 152, Loss: 0.3530, Train Acc: 0.8731, Test Acc: 0.5456\n",
      "Epoch: 153, Loss: 0.3524, Train Acc: 0.9047, Test Acc: 0.5655\n",
      "Epoch: 154, Loss: 0.3700, Train Acc: 0.8911, Test Acc: 0.5827\n",
      "Epoch: 155, Loss: 0.3703, Train Acc: 0.8537, Test Acc: 0.5237\n",
      "Epoch: 156, Loss: 0.3846, Train Acc: 0.8800, Test Acc: 0.5866\n",
      "Epoch: 157, Loss: 0.3814, Train Acc: 0.8640, Test Acc: 0.5268\n",
      "Epoch: 158, Loss: 0.4770, Train Acc: 0.8209, Test Acc: 0.4755\n",
      "Epoch: 159, Loss: 0.4646, Train Acc: 0.8511, Test Acc: 0.5439\n",
      "Epoch: 160, Loss: 0.4318, Train Acc: 0.8866, Test Acc: 0.5672\n",
      "Epoch: 161, Loss: 0.4030, Train Acc: 0.8507, Test Acc: 0.5849\n",
      "Epoch: 162, Loss: 0.3976, Train Acc: 0.8566, Test Acc: 0.5631\n",
      "Epoch: 163, Loss: 0.4389, Train Acc: 0.8437, Test Acc: 0.5458\n",
      "Epoch: 164, Loss: 0.4175, Train Acc: 0.8704, Test Acc: 0.5575\n",
      "Epoch: 165, Loss: 0.4419, Train Acc: 0.8690, Test Acc: 0.5190\n",
      "Epoch: 166, Loss: 0.4031, Train Acc: 0.8347, Test Acc: 0.6015\n",
      "Epoch: 167, Loss: 0.4157, Train Acc: 0.8491, Test Acc: 0.5754\n",
      "Epoch: 168, Loss: 0.3979, Train Acc: 0.8645, Test Acc: 0.5554\n",
      "Epoch: 169, Loss: 0.3925, Train Acc: 0.8472, Test Acc: 0.5634\n",
      "Epoch: 170, Loss: 0.4222, Train Acc: 0.8684, Test Acc: 0.5721\n",
      "Epoch: 171, Loss: 0.4115, Train Acc: 0.8798, Test Acc: 0.5627\n",
      "Epoch: 172, Loss: 0.3961, Train Acc: 0.8475, Test Acc: 0.6006\n",
      "Epoch: 173, Loss: 0.3888, Train Acc: 0.8654, Test Acc: 0.5821\n",
      "Epoch: 174, Loss: 0.3433, Train Acc: 0.8981, Test Acc: 0.5880\n",
      "Epoch: 175, Loss: 0.3241, Train Acc: 0.8798, Test Acc: 0.5928\n",
      "Epoch: 176, Loss: 0.3008, Train Acc: 0.9007, Test Acc: 0.5629\n",
      "Epoch: 177, Loss: 0.2805, Train Acc: 0.9061, Test Acc: 0.5629\n",
      "Epoch: 178, Loss: 0.2725, Train Acc: 0.9180, Test Acc: 0.5750\n",
      "Epoch: 179, Loss: 0.2584, Train Acc: 0.9231, Test Acc: 0.5817\n",
      "Epoch: 180, Loss: 0.2527, Train Acc: 0.9313, Test Acc: 0.5967\n",
      "Epoch: 181, Loss: 0.2410, Train Acc: 0.9371, Test Acc: 0.5988\n",
      "Epoch: 182, Loss: 0.2451, Train Acc: 0.9368, Test Acc: 0.6331\n",
      "Epoch: 183, Loss: 0.2240, Train Acc: 0.9335, Test Acc: 0.5800\n",
      "Epoch: 184, Loss: 0.2242, Train Acc: 0.9389, Test Acc: 0.5996\n",
      "Epoch: 185, Loss: 0.2222, Train Acc: 0.9323, Test Acc: 0.5911\n",
      "Epoch: 186, Loss: 0.2328, Train Acc: 0.9266, Test Acc: 0.5803\n",
      "Epoch: 187, Loss: 0.2445, Train Acc: 0.9219, Test Acc: 0.5677\n",
      "Epoch: 188, Loss: 0.2368, Train Acc: 0.9393, Test Acc: 0.5707\n",
      "Epoch: 189, Loss: 0.2360, Train Acc: 0.9310, Test Acc: 0.6082\n",
      "Epoch: 190, Loss: 0.2341, Train Acc: 0.9384, Test Acc: 0.5743\n",
      "Epoch: 191, Loss: 0.2407, Train Acc: 0.9108, Test Acc: 0.5971\n",
      "Epoch: 192, Loss: 0.2654, Train Acc: 0.9074, Test Acc: 0.6132\n",
      "Epoch: 193, Loss: 0.2916, Train Acc: 0.9248, Test Acc: 0.5865\n",
      "Epoch: 194, Loss: 0.3109, Train Acc: 0.9081, Test Acc: 0.5866\n",
      "Epoch: 195, Loss: 0.2810, Train Acc: 0.9292, Test Acc: 0.5713\n",
      "Epoch: 196, Loss: 0.2422, Train Acc: 0.9337, Test Acc: 0.6078\n",
      "Epoch: 197, Loss: 0.2383, Train Acc: 0.9395, Test Acc: 0.6430\n",
      "Epoch: 198, Loss: 0.2041, Train Acc: 0.9507, Test Acc: 0.5813\n",
      "Epoch: 199, Loss: 0.2145, Train Acc: 0.9471, Test Acc: 0.5828\n",
      "Epoch: 200, Loss: 0.1992, Train Acc: 0.9443, Test Acc: 0.6024\n"
     ]
    },
    {
     "data": {
      "image/png": "[encoded data removed]",
      "text/plain": [
       "<Figure size 640x480 with 1 Axes>"
      ]
     },
     "metadata": {},
     "output_type": "display_data"
    },
    {
     "data": {
      "image/png": "[encoded data removed]",
      "text/plain": [
       "<Figure size 640x480 with 1 Axes>"
      ]
     },
     "metadata": {},
     "output_type": "display_data"
    }
   ],
   "source": [
    "loss_values = []\n",
    "train_acc_values = []\n",
    "test_acc_values = []\n",
    "\n",
    "for epoch in range(1, 201):\n",
    "    loss = train()\n",
    "    test_acc = test()\n",
    "    train_acc = test_train()\n",
    "    \n",
    "    loss_values.append(loss)\n",
    "    test_acc_values.append(test_acc)\n",
    "    train_acc_values.append(train_acc)\n",
    "    print(f'Epoch: {epoch:03d}, Loss: {loss:.4f}, Train Acc: {train_acc:.4f}, Test Acc: {test_acc:.4f}')\n",
    "    if(acc > 0.61): break\n",
    "\n",
    "plt.plot(loss_values, 'r',)\n",
    "plt.savefig('loss_nc.png')\n",
    "plt.show()\n",
    "plt.plot(test_acc_values, 'b', train_acc_values, 'g')\n",
    "\n",
    "plt.savefig('acc_nc.png')\n",
    "plt.show()"
   ]
  },
  {
   "cell_type": "code",
   "execution_count": null,
   "id": "d4c5a1f5",
   "metadata": {},
   "outputs": [],
   "source": []
  },
  {
   "cell_type": "code",
   "execution_count": null,
   "id": "7ab1abe5",
   "metadata": {},
   "outputs": [],
   "source": []
  }
 ],
 "metadata": {
  "kernelspec": {
   "display_name": "Python [conda env:pyg_env]",
   "language": "python",
   "name": "conda-env-pyg_env-py"
  },
  "language_info": {
   "codemirror_mode": {
    "name": "ipython",
    "version": 3
   },
   "file_extension": ".py",
   "mimetype": "text/x-python",
   "name": "python",
   "nbconvert_exporter": "python",
   "pygments_lexer": "ipython3",
   "version": "3.10.4"
  }
 },
 "nbformat": 4,
 "nbformat_minor": 5
}
