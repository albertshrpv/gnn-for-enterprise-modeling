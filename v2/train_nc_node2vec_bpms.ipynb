{
 "cells": [
  {
   "cell_type": "code",
   "execution_count": 1,
   "id": "4d199931",
   "metadata": {},
   "outputs": [
    {
     "data": {
      "text/plain": [
       "<torch._C.Generator at 0x229d2ed6750>"
      ]
     },
     "execution_count": 1,
     "metadata": {},
     "output_type": "execute_result"
    }
   ],
   "source": [
    "import os.path as osp\n",
    "\n",
    "import torch\n",
    "import torch.nn.functional as F\n",
    "from sklearn.metrics import f1_score\n",
    "\n",
    "from torch_geometric.loader import DataLoader\n",
    "from torch_geometric.data import Dataset, Data\n",
    "from torch_geometric.loader import DataLoader\n",
    "from torch_geometric.nn import GATConv, SAGEConv, NNConv, GCNConv\n",
    "import matplotlib.pyplot as plt\n",
    "\n",
    "from sklearn.manifold import TSNE\n",
    "from torch_geometric.nn import Node2Vec\n",
    "\n",
    "torch.manual_seed(42)"
   ]
  },
  {
   "cell_type": "code",
   "execution_count": 78,
   "id": "6439c54c",
   "metadata": {},
   "outputs": [
    {
     "name": "stderr",
     "output_type": "stream",
     "text": [
      "Processing...\n",
      "Done!\n"
     ]
    },
    {
     "name": "stdout",
     "output_type": "stream",
     "text": [
      "DATASET LOADED: USE per_model variable !!!\n",
      "EnterpriseModelDatasetNCPerModeltype(110)\n"
     ]
    }
   ],
   "source": [
    "%run dataset_nc_per_modeltype.ipynb"
   ]
  },
  {
   "cell_type": "code",
   "execution_count": 79,
   "id": "6f6b403c",
   "metadata": {},
   "outputs": [
    {
     "data": {
      "text/plain": [
       "{'Product-Service-Model': 4,\n",
       " '4EM General Model': 7,\n",
       " 'Goal & Business Rule Model': 7,\n",
       " 'Actors and Resources Model': 11,\n",
       " 'Goal Model': 6,\n",
       " 'Technical Components and Requirements Model': 10,\n",
       " 'Concepts Model': 10,\n",
       " 'Business Process Model': 43,\n",
       " 'Business Rule & Process Model': 12}"
      ]
     },
     "execution_count": 79,
     "metadata": {},
     "output_type": "execute_result"
    }
   ],
   "source": [
    "per_model[\"info\"]"
   ]
  },
  {
   "cell_type": "code",
   "execution_count": 80,
   "id": "6d7bc1c4",
   "metadata": {},
   "outputs": [
    {
     "name": "stdout",
     "output_type": "stream",
     "text": [
      "Number of graphs total: 43\n",
      "tensor([ 3, 34,  3,  3, 34, 34, 34,  2,  2,  3,  3, 34,  3,  2,  3,  3, 34, 17,\n",
      "        34,  2,  3, 34, 13,  5,  3, 34, 34,  3,  9,  3, 34, 17,  3,  3,  3, 34])\n"
     ]
    }
   ],
   "source": [
    "# use only business process models\n",
    "bpms = per_model[\"data\"][\"Business Process Model\"]\n",
    "\n",
    "print(f'Number of graphs total: {len(bpms)}')\n",
    "print(bpms[1].y)"
   ]
  },
  {
   "cell_type": "code",
   "execution_count": 81,
   "id": "1d0cd081",
   "metadata": {},
   "outputs": [
    {
     "name": "stdout",
     "output_type": "stream",
     "text": [
      "[2, 34, 3, 5, 9, 10, 13, 17]\n",
      "['Comment', 'Process', 'Information Set', 'External Process', 'Join (OR)', 'Join (AND)', 'Split (AND)', 'Split (OR)']\n",
      "{2: 0, 34: 1, 3: 2, 5: 3, 9: 4, 10: 5, 13: 6, 17: 7}\n"
     ]
    }
   ],
   "source": [
    "bpm_node_classes = []\n",
    "\n",
    "for graph in bpms:\n",
    "    for nclass in graph.y:\n",
    "        bpm_node_classes.append(nclass.item())\n",
    "    \n",
    "bpm_node_classes = list(set(bpm_node_classes))\n",
    "print(bpm_node_classes)\n",
    "\n",
    "new_node_classes = []\n",
    "map_old_to_new_node_class = {}\n",
    "\n",
    "for i, old_index in enumerate(bpm_node_classes):\n",
    "    new_node_classes.append(node_classes[old_index])\n",
    "    map_old_to_new_node_class[old_index] = i\n",
    "    \n",
    "    \n",
    "print(new_node_classes)\n",
    "print(map_old_to_new_node_class)"
   ]
  },
  {
   "cell_type": "code",
   "execution_count": 82,
   "id": "0502d37d",
   "metadata": {},
   "outputs": [],
   "source": [
    "final_classes = [0, 1, 2] # 0: Information Set, 1: Process, 2: Other\n",
    "\n",
    "for graph in bpms:\n",
    "    for i, nclass in enumerate(graph.y):\n",
    "        if(new_node_classes[map_old_to_new_node_class[nclass.item()]] == \"Information Set\"):\n",
    "            graph.y[i] = 0\n",
    "        elif(new_node_classes[map_old_to_new_node_class[nclass.item()]] == \"Process\"):\n",
    "            graph.y[i] = 1\n",
    "        else:\n",
    "            graph.y[i] = 2"
   ]
  },
  {
   "cell_type": "code",
   "execution_count": 83,
   "id": "3ece0c83",
   "metadata": {},
   "outputs": [],
   "source": [
    "dataset = bpms"
   ]
  },
  {
   "cell_type": "code",
   "execution_count": 84,
   "id": "ded9e4f1",
   "metadata": {},
   "outputs": [
    {
     "data": {
      "text/plain": [
       "tensor([1, 0, 0, 0, 2, 1, 1, 1, 2, 1, 0])"
      ]
     },
     "execution_count": 84,
     "metadata": {},
     "output_type": "execute_result"
    }
   ],
   "source": [
    "dataset[0].y"
   ]
  },
  {
   "cell_type": "code",
   "execution_count": 85,
   "id": "1c6a32c8",
   "metadata": {},
   "outputs": [
    {
     "data": {
      "text/plain": [
       "(array([0, 1, 2], dtype=int64), array([4, 5, 2], dtype=int64))"
      ]
     },
     "execution_count": 85,
     "metadata": {},
     "output_type": "execute_result"
    }
   ],
   "source": [
    "values, counts = np.unique(dataset[0].y, return_counts=True)\n",
    "values, counts"
   ]
  },
  {
   "cell_type": "code",
   "execution_count": 86,
   "id": "a968f064",
   "metadata": {},
   "outputs": [
    {
     "data": {
      "text/plain": [
       "43"
      ]
     },
     "execution_count": 86,
     "metadata": {},
     "output_type": "execute_result"
    }
   ],
   "source": [
    "len(dataset)"
   ]
  },
  {
   "cell_type": "code",
   "execution_count": 87,
   "id": "522dfea9",
   "metadata": {},
   "outputs": [],
   "source": [
    "NUM_GRAPHS_PER_BATCH = len(bpms)\n",
    "NUM_HIDDEN_CHANNELS = 64\n",
    "\n",
    "train_loader = DataLoader(bpms, batch_size=NUM_GRAPHS_PER_BATCH, shuffle=False)"
   ]
  },
  {
   "cell_type": "code",
   "execution_count": 88,
   "id": "2dc5c5aa",
   "metadata": {},
   "outputs": [
    {
     "name": "stdout",
     "output_type": "stream",
     "text": [
      "Data(x=[835, 1], edge_index=[2, 836], edge_attr=[836, 1], y=[835], train_mask=[835], test_mask=[835])\n"
     ]
    }
   ],
   "source": [
    "x = []\n",
    "edge_index = []\n",
    "edge_attr = []\n",
    "y = []\n",
    "train_mask = []\n",
    "test_mask = []\n",
    "for batch in train_loader:\n",
    "    x = batch.x\n",
    "    edge_index = batch.edge_index\n",
    "    edge_attr = batch.edge_attr\n",
    "    y = batch.y\n",
    "    train_mask = batch.train_mask\n",
    "    test_mask = batch.test_mask\n",
    "\n",
    "    \n",
    "data = Data(x=x, \n",
    "            edge_index=edge_index,\n",
    "            edge_attr=edge_attr,\n",
    "            y=y,\n",
    "            train_mask=train_mask,\n",
    "            test_mask=test_mask\n",
    "            ) \n",
    "\n",
    "num_nodes = data.x.shape[0]\n",
    "print(data)"
   ]
  },
  {
   "cell_type": "code",
   "execution_count": 89,
   "id": "b78f51a6",
   "metadata": {},
   "outputs": [
    {
     "data": {
      "text/plain": [
       "(array([0, 1, 2], dtype=int64), array([367, 308, 160], dtype=int64))"
      ]
     },
     "execution_count": 89,
     "metadata": {},
     "output_type": "execute_result"
    }
   ],
   "source": [
    "values, counts = np.unique(data.y, return_counts=True)\n",
    "values, counts"
   ]
  },
  {
   "cell_type": "code",
   "execution_count": 90,
   "id": "a15a1ad4",
   "metadata": {},
   "outputs": [
    {
     "data": {
      "text/plain": [
       "tensor([1, 0, 0, 0, 2, 1, 1, 1, 2, 1])"
      ]
     },
     "execution_count": 90,
     "metadata": {},
     "output_type": "execute_result"
    }
   ],
   "source": [
    "data.y[:10]"
   ]
  },
  {
   "cell_type": "code",
   "execution_count": 142,
   "id": "dd94a0fc",
   "metadata": {},
   "outputs": [],
   "source": [
    "embedding_dim = 8"
   ]
  },
  {
   "cell_type": "code",
   "execution_count": 93,
   "id": "1ba40322",
   "metadata": {},
   "outputs": [
    {
     "name": "stdout",
     "output_type": "stream",
     "text": [
      "Epoch: 01, Loss: 1.9061, Acc: 0.4424\n",
      "Epoch: 02, Loss: 1.6953, Acc: 0.4378\n",
      "Epoch: 03, Loss: 1.5366, Acc: 0.4332\n",
      "Epoch: 04, Loss: 1.4033, Acc: 0.4332\n",
      "Epoch: 05, Loss: 1.3048, Acc: 0.4424\n",
      "Epoch: 06, Loss: 1.1961, Acc: 0.4378\n",
      "Epoch: 07, Loss: 1.1360, Acc: 0.4378\n",
      "Epoch: 08, Loss: 1.1015, Acc: 0.4470\n",
      "Epoch: 09, Loss: 1.0596, Acc: 0.4378\n",
      "Epoch: 10, Loss: 1.0255, Acc: 0.4332\n",
      "Epoch: 11, Loss: 0.9989, Acc: 0.4378\n",
      "Epoch: 12, Loss: 0.9847, Acc: 0.4378\n",
      "Epoch: 13, Loss: 0.9492, Acc: 0.4470\n",
      "Epoch: 14, Loss: 0.9301, Acc: 0.4470\n",
      "Epoch: 15, Loss: 0.9173, Acc: 0.4470\n",
      "Epoch: 16, Loss: 0.9023, Acc: 0.4470\n",
      "Epoch: 17, Loss: 0.8931, Acc: 0.4516\n",
      "Epoch: 18, Loss: 0.8816, Acc: 0.4562\n",
      "Epoch: 19, Loss: 0.8788, Acc: 0.4470\n",
      "Epoch: 20, Loss: 0.8787, Acc: 0.4470\n",
      "Epoch: 21, Loss: 0.8640, Acc: 0.4470\n",
      "Epoch: 22, Loss: 0.8630, Acc: 0.4608\n",
      "Epoch: 23, Loss: 0.8552, Acc: 0.4654\n",
      "Epoch: 24, Loss: 0.8534, Acc: 0.4654\n",
      "Epoch: 25, Loss: 0.8530, Acc: 0.4747\n",
      "Epoch: 26, Loss: 0.8472, Acc: 0.4793\n",
      "Epoch: 27, Loss: 0.8441, Acc: 0.4793\n",
      "Epoch: 28, Loss: 0.8421, Acc: 0.4654\n",
      "Epoch: 29, Loss: 0.8381, Acc: 0.4654\n",
      "Epoch: 30, Loss: 0.8371, Acc: 0.4654\n",
      "Epoch: 31, Loss: 0.8384, Acc: 0.4608\n",
      "Epoch: 32, Loss: 0.8319, Acc: 0.4608\n",
      "Epoch: 33, Loss: 0.8344, Acc: 0.4654\n",
      "Epoch: 34, Loss: 0.8268, Acc: 0.4654\n",
      "Epoch: 35, Loss: 0.8245, Acc: 0.4700\n",
      "Epoch: 36, Loss: 0.8314, Acc: 0.4654\n",
      "Epoch: 37, Loss: 0.8257, Acc: 0.4654\n",
      "Epoch: 38, Loss: 0.8250, Acc: 0.4608\n",
      "Epoch: 39, Loss: 0.8222, Acc: 0.4608\n",
      "Epoch: 40, Loss: 0.8231, Acc: 0.4562\n",
      "Epoch: 41, Loss: 0.8223, Acc: 0.4608\n",
      "Epoch: 42, Loss: 0.8220, Acc: 0.4654\n",
      "Epoch: 43, Loss: 0.8236, Acc: 0.4608\n",
      "Epoch: 44, Loss: 0.8198, Acc: 0.4608\n",
      "Epoch: 45, Loss: 0.8175, Acc: 0.4608\n",
      "Epoch: 46, Loss: 0.8198, Acc: 0.4516\n",
      "Epoch: 47, Loss: 0.8213, Acc: 0.4562\n",
      "Epoch: 48, Loss: 0.8171, Acc: 0.4470\n",
      "Epoch: 49, Loss: 0.8129, Acc: 0.4516\n",
      "Epoch: 50, Loss: 0.8194, Acc: 0.4562\n",
      "Epoch: 51, Loss: 0.8181, Acc: 0.4654\n",
      "Epoch: 52, Loss: 0.8163, Acc: 0.4654\n",
      "Epoch: 53, Loss: 0.8123, Acc: 0.4654\n",
      "Epoch: 54, Loss: 0.8148, Acc: 0.4608\n",
      "Epoch: 55, Loss: 0.8150, Acc: 0.4654\n",
      "Epoch: 56, Loss: 0.8173, Acc: 0.4562\n",
      "Epoch: 57, Loss: 0.8120, Acc: 0.4608\n",
      "Epoch: 58, Loss: 0.8117, Acc: 0.4654\n",
      "Epoch: 59, Loss: 0.8133, Acc: 0.4654\n",
      "Epoch: 60, Loss: 0.8113, Acc: 0.4608\n",
      "Epoch: 61, Loss: 0.8133, Acc: 0.4608\n",
      "Epoch: 62, Loss: 0.8105, Acc: 0.4608\n",
      "Epoch: 63, Loss: 0.8116, Acc: 0.4608\n",
      "Epoch: 64, Loss: 0.8184, Acc: 0.4562\n",
      "Epoch: 65, Loss: 0.8144, Acc: 0.4562\n",
      "Epoch: 66, Loss: 0.8080, Acc: 0.4654\n",
      "Epoch: 67, Loss: 0.8092, Acc: 0.4608\n",
      "Epoch: 68, Loss: 0.8072, Acc: 0.4562\n",
      "Epoch: 69, Loss: 0.8063, Acc: 0.4516\n",
      "Epoch: 70, Loss: 0.8107, Acc: 0.4516\n",
      "Epoch: 71, Loss: 0.8067, Acc: 0.4562\n",
      "Epoch: 72, Loss: 0.8058, Acc: 0.4608\n",
      "Epoch: 73, Loss: 0.8078, Acc: 0.4654\n",
      "Epoch: 74, Loss: 0.8054, Acc: 0.4608\n",
      "Epoch: 75, Loss: 0.8099, Acc: 0.4608\n",
      "Epoch: 76, Loss: 0.8061, Acc: 0.4654\n",
      "Epoch: 77, Loss: 0.8093, Acc: 0.4700\n",
      "Epoch: 78, Loss: 0.8077, Acc: 0.4608\n",
      "Epoch: 79, Loss: 0.8109, Acc: 0.4608\n",
      "Epoch: 80, Loss: 0.8063, Acc: 0.4562\n",
      "Epoch: 81, Loss: 0.8088, Acc: 0.4516\n",
      "Epoch: 82, Loss: 0.8117, Acc: 0.4470\n",
      "Epoch: 83, Loss: 0.8106, Acc: 0.4608\n",
      "Epoch: 84, Loss: 0.8073, Acc: 0.4562\n",
      "Epoch: 85, Loss: 0.8098, Acc: 0.4562\n",
      "Epoch: 86, Loss: 0.8086, Acc: 0.4562\n",
      "Epoch: 87, Loss: 0.8088, Acc: 0.4654\n",
      "Epoch: 88, Loss: 0.8045, Acc: 0.4654\n",
      "Epoch: 89, Loss: 0.8073, Acc: 0.4608\n",
      "Epoch: 90, Loss: 0.8111, Acc: 0.4654\n",
      "Epoch: 91, Loss: 0.8084, Acc: 0.4700\n",
      "Epoch: 92, Loss: 0.8085, Acc: 0.4700\n",
      "Epoch: 93, Loss: 0.8097, Acc: 0.4562\n",
      "Epoch: 94, Loss: 0.8120, Acc: 0.4562\n",
      "Epoch: 95, Loss: 0.8066, Acc: 0.4470\n",
      "Epoch: 96, Loss: 0.8096, Acc: 0.4332\n",
      "Epoch: 97, Loss: 0.8077, Acc: 0.4424\n",
      "Epoch: 98, Loss: 0.8064, Acc: 0.4470\n",
      "Epoch: 99, Loss: 0.8068, Acc: 0.4562\n",
      "Epoch: 100, Loss: 0.8103, Acc: 0.4424\n"
     ]
    },
    {
     "name": "stderr",
     "output_type": "stream",
     "text": [
      "C:\\Users\\alber\\anaconda3\\envs\\pyg_env\\lib\\site-packages\\sklearn\\manifold\\_t_sne.py:795: FutureWarning: The default initialization in TSNE will change from 'random' to 'pca' in 1.2.\n",
      "  warnings.warn(\n",
      "C:\\Users\\alber\\anaconda3\\envs\\pyg_env\\lib\\site-packages\\sklearn\\manifold\\_t_sne.py:805: FutureWarning: The default learning rate in TSNE will change from 200.0 to 'auto' in 1.2.\n",
      "  warnings.warn(\n"
     ]
    },
    {
     "data": {
      "image/png": "[encoded data removed]",
      "text/plain": [
       "<Figure size 800x800 with 1 Axes>"
      ]
     },
     "metadata": {},
     "output_type": "display_data"
    }
   ],
   "source": [
    "device = 'cuda' if torch.cuda.is_available() else 'cpu'\n",
    "model = Node2Vec(data.edge_index, embedding_dim=embedding_dim, walk_length=15,\n",
    "                 context_size=10, walks_per_node=10,\n",
    "                 num_negative_samples=1, p=1, q=1, sparse=True).to(device)\n",
    "\n",
    "num_workers = 0\n",
    "loader = model.loader(batch_size=64, shuffle=True, num_workers=num_workers)\n",
    "optimizer = torch.optim.SparseAdam(list(model.parameters()), lr=0.01)\n",
    "\n",
    "def train():\n",
    "    model.train()\n",
    "    total_loss = 0\n",
    "    for pos_rw, neg_rw in loader:\n",
    "        optimizer.zero_grad()\n",
    "        loss = model.loss(pos_rw.to(device), neg_rw.to(device))\n",
    "        loss.backward()\n",
    "        optimizer.step()\n",
    "        total_loss += loss.item()\n",
    "    return total_loss / len(loader)\n",
    "\n",
    "@torch.no_grad()\n",
    "def test():\n",
    "    model.eval()\n",
    "    z = model()\n",
    "    acc = model.test(z[data.train_mask], data.y[data.train_mask],\n",
    "                     z[data.test_mask], data.y[data.test_mask],\n",
    "                     max_iter=150)\n",
    "    return acc\n",
    "\n",
    "for epoch in range(1, 101):\n",
    "    loss = train()\n",
    "    acc = test()\n",
    "    print(f'Epoch: {epoch:02d}, Loss: {loss:.4f}, Acc: {acc:.4f}')\n",
    "\n",
    "@torch.no_grad()\n",
    "def plot_points(colors):\n",
    "    model.eval()\n",
    "    z = model(torch.arange(data.num_nodes, device=device))\n",
    "    z = TSNE(n_components=2).fit_transform(z.cpu().numpy())\n",
    "    y = data.y.cpu().numpy()\n",
    "\n",
    "    plt.figure(figsize=(8, 8))\n",
    "    for i in range(len(new_node_classes)):\n",
    "        plt.scatter(z[y == i, 0], z[y == i, 1], s=20, color=colors[i])\n",
    "    plt.axis('off')\n",
    "    plt.show()\n",
    "\n",
    "colors = [\n",
    "    '#ffc0cb', '#bada55', '#008080', '#420420', '#7fe5f0', '#065535',\n",
    "    '#ffd700', '#9900ff', '#008080', '#420420', '#7fe5f0', '#065535',\n",
    "    '#008080', '#420420', '#7fe5f0', '#ff00ff', '#993366', '#ff5050',\n",
    "    '#ff9933', '#ffff66', '#ffffcc', '#0066cc', '#00cc66', '#333300',\n",
    "    '#996600', '#99ff66', '#cc99ff', '#336699', '#33cc33', '#339966',\n",
    "    '#cc9900', '#66ff66', '#6666ff', '#009999', '#666699', '#ffcccc',\n",
    "]\n",
    "plot_points(colors)"
   ]
  },
  {
   "cell_type": "code",
   "execution_count": 118,
   "id": "4ec50330",
   "metadata": {},
   "outputs": [
    {
     "data": {
      "text/plain": [
       "tensor([-0.2437,  0.0534,  0.1797,  0.2099,  0.0856, -0.2798,  0.1411, -0.2521],\n",
       "       grad_fn=<SelectBackward0>)"
      ]
     },
     "execution_count": 118,
     "metadata": {},
     "output_type": "execute_result"
    }
   ],
   "source": [
    "z = model()\n",
    "z[0]"
   ]
  },
  {
   "cell_type": "code",
   "execution_count": 132,
   "id": "27e9f250",
   "metadata": {},
   "outputs": [
    {
     "data": {
      "text/plain": [
       "835"
      ]
     },
     "execution_count": 132,
     "metadata": {},
     "output_type": "execute_result"
    }
   ],
   "source": [
    "embeddings = []\n",
    "for emb in z:\n",
    "    new = []\n",
    "    for val in emb:\n",
    "        new.append(val.item())\n",
    "    embeddings.append(new)\n",
    "\n",
    "len(embeddings)"
   ]
  },
  {
   "cell_type": "code",
   "execution_count": 122,
   "id": "95c2f822",
   "metadata": {},
   "outputs": [
    {
     "data": {
      "text/plain": [
       "torch.Size([11, 1])"
      ]
     },
     "execution_count": 122,
     "metadata": {},
     "output_type": "execute_result"
    }
   ],
   "source": [
    "bpms[0]\n",
    "bpms[0].x.shape"
   ]
  },
  {
   "cell_type": "code",
   "execution_count": 133,
   "id": "3163d171",
   "metadata": {},
   "outputs": [],
   "source": [
    "data_emb = []\n",
    "i = 0\n",
    "for graph in bpms:\n",
    "    emb = []\n",
    "    edge_index = graph.edge_index\n",
    "    edge_attr = graph.edge_attr\n",
    "    y = graph.y\n",
    "    train_mask = graph.train_mask\n",
    "    test_mask = graph.test_mask\n",
    "    for j, _ in enumerate(graph.x):\n",
    "        emb.append(embeddings[i])\n",
    "        i += 1\n",
    "        \n",
    "    new_data = Data(x=torch.tensor(emb, dtype=torch.float), \n",
    "            edge_index=edge_index,\n",
    "            edge_attr=edge_attr,\n",
    "            y=y,\n",
    "            train_mask=train_mask,\n",
    "            test_mask=test_mask\n",
    "            )\n",
    "    data_emb.append(new_data)"
   ]
  },
  {
   "cell_type": "code",
   "execution_count": 141,
   "id": "93d8ab2b",
   "metadata": {},
   "outputs": [
    {
     "data": {
      "text/plain": [
       "8"
      ]
     },
     "execution_count": 141,
     "metadata": {},
     "output_type": "execute_result"
    }
   ],
   "source": [
    "data_emb[0].x.shape[1]"
   ]
  },
  {
   "cell_type": "code",
   "execution_count": 137,
   "id": "253e24d5",
   "metadata": {},
   "outputs": [
    {
     "name": "stdout",
     "output_type": "stream",
     "text": [
      "Number of graphs total: 43\n",
      "Number of training graphs: 43\n",
      "Data(x=[11, 8], edge_index=[2, 11], edge_attr=[11, 1], y=[11], train_mask=[11], test_mask=[11])\n"
     ]
    }
   ],
   "source": [
    "dataset = data_emb\n",
    "\n",
    "train_dataset = dataset[:int(len(dataset) * 1)]\n",
    "\n",
    "print(f'Number of graphs total: {len(dataset)}')\n",
    "print(f'Number of training graphs: {len(train_dataset)}')\n",
    "print(dataset[0])"
   ]
  },
  {
   "cell_type": "code",
   "execution_count": 163,
   "id": "9db98cba",
   "metadata": {},
   "outputs": [],
   "source": [
    "from torch_geometric.loader import DataLoader\n",
    "from torch_geometric.data import Dataset, Data\n",
    "\n",
    "NUM_GRAPHS_PER_BATCH = 8\n",
    "NUM_HIDDEN_CHANNELS = 64\n",
    "\n",
    "train_loader = DataLoader(train_dataset, batch_size=NUM_GRAPHS_PER_BATCH, shuffle=True)"
   ]
  },
  {
   "cell_type": "code",
   "execution_count": 158,
   "id": "b4eab3b2",
   "metadata": {},
   "outputs": [],
   "source": [
    "class GATGNN2(torch.nn.Module):\n",
    "    def __init__(self):\n",
    "        super().__init__()\n",
    "        self.conv1 = GATConv(embedding_dim, NUM_HIDDEN_CHANNELS, heads=4, edge_dim=1)\n",
    "        self.lin1 = torch.nn.Linear(embedding_dim, 4 * NUM_HIDDEN_CHANNELS)\n",
    "        \n",
    "        self.conv2 = GATConv(4 * NUM_HIDDEN_CHANNELS, NUM_HIDDEN_CHANNELS, heads=4, edge_dim=1)\n",
    "        self.lin2 = torch.nn.Linear(4 * NUM_HIDDEN_CHANNELS, 4 * NUM_HIDDEN_CHANNELS)\n",
    "        \n",
    "        self.conv3 = GATConv(4 * NUM_HIDDEN_CHANNELS, len(final_classes), heads=6, concat=False, edge_dim=1)\n",
    "        self.lin3 = torch.nn.Linear(4 * NUM_HIDDEN_CHANNELS, len(final_classes))\n",
    "\n",
    "        \n",
    "    def forward(self, data):\n",
    "        x, edge_index, edge_attr = data.x, data.edge_index, data.edge_attr\n",
    "        x = F.elu(self.conv1(x, edge_index, edge_attr) + self.lin1(x))\n",
    "        x = F.elu(self.conv2(x, edge_index, edge_attr) + self.lin2(x))\n",
    "        x = self.conv3(x, edge_index, edge_attr) + self.lin3(x)\n",
    "        return F.log_softmax(x, dim=1)"
   ]
  },
  {
   "cell_type": "code",
   "execution_count": 167,
   "id": "61b5307e",
   "metadata": {},
   "outputs": [
    {
     "name": "stdout",
     "output_type": "stream",
     "text": [
      "GATGNN2(\n",
      "  (conv1): GATConv(8, 64, heads=4)\n",
      "  (lin1): Linear(in_features=8, out_features=256, bias=True)\n",
      "  (conv2): GATConv(256, 64, heads=4)\n",
      "  (lin2): Linear(in_features=256, out_features=256, bias=True)\n",
      "  (conv3): GATConv(256, 3, heads=6)\n",
      "  (lin3): Linear(in_features=256, out_features=3, bias=True)\n",
      ")\n",
      "Number of parameters:  143694\n"
     ]
    }
   ],
   "source": [
    "device = torch.device('cuda' if torch.cuda.is_available() else 'cpu')\n",
    "model = GATGNN2().to(device)\n",
    "\n",
    "optimizer = torch.optim.Adam(model.parameters(), lr=0.01, weight_decay=5e-4)\n",
    "print(model)\n",
    "print(\"Number of parameters: \", sum(p.numel() for p in model.parameters()))"
   ]
  },
  {
   "cell_type": "code",
   "execution_count": 160,
   "id": "8fdf916d",
   "metadata": {},
   "outputs": [],
   "source": [
    "def train():\n",
    "    model.train()\n",
    "\n",
    "    total_loss = 0\n",
    "    for data in train_loader:\n",
    "        data = data.to(device)\n",
    "        optimizer.zero_grad()\n",
    "        out = model(data)\n",
    "        loss = F.nll_loss(out[data.train_mask], data.y[data.train_mask])\n",
    "        total_loss += loss.item() * data.num_graphs\n",
    "        loss.backward()\n",
    "        optimizer.step()\n",
    "    return total_loss / len(train_loader.dataset)"
   ]
  },
  {
   "cell_type": "code",
   "execution_count": 161,
   "id": "c8de5722",
   "metadata": {},
   "outputs": [],
   "source": [
    "@torch.no_grad()\n",
    "def test():\n",
    "    model.eval()\n",
    "\n",
    "    total_acc = 0\n",
    "    for data in train_loader:\n",
    "        pred = model(data).argmax(dim=1)\n",
    "        correct = (pred[data.test_mask] == data.y[data.test_mask]).sum()\n",
    "        acc = int(correct) / int(data.test_mask.sum())\n",
    "        total_acc += acc * data.num_graphs\n",
    "    return total_acc / len(train_loader.dataset)"
   ]
  },
  {
   "cell_type": "code",
   "execution_count": 168,
   "id": "6cf27939",
   "metadata": {
    "scrolled": false
   },
   "outputs": [
    {
     "name": "stdout",
     "output_type": "stream",
     "text": [
      "Epoch: 001, Loss: 1.8025, Acc: 0.3842,\n",
      "Epoch: 002, Loss: 1.5259, Acc: 0.3143,\n",
      "Epoch: 003, Loss: 1.1927, Acc: 0.4083,\n",
      "Epoch: 004, Loss: 1.1952, Acc: 0.3510,\n",
      "Epoch: 005, Loss: 1.1197, Acc: 0.3999,\n",
      "Epoch: 006, Loss: 1.0706, Acc: 0.4370,\n",
      "Epoch: 007, Loss: 1.0241, Acc: 0.4104,\n",
      "Epoch: 008, Loss: 1.0611, Acc: 0.3463,\n",
      "Epoch: 009, Loss: 1.1288, Acc: 0.3388,\n",
      "Epoch: 010, Loss: 1.0570, Acc: 0.4536,\n",
      "Epoch: 011, Loss: 1.0280, Acc: 0.4495,\n",
      "Epoch: 012, Loss: 1.0218, Acc: 0.3375,\n",
      "Epoch: 013, Loss: 1.0389, Acc: 0.3505,\n",
      "Epoch: 014, Loss: 1.0307, Acc: 0.4223,\n",
      "Epoch: 015, Loss: 1.0569, Acc: 0.4048,\n",
      "Epoch: 016, Loss: 1.0708, Acc: 0.3644,\n",
      "Epoch: 017, Loss: 1.1951, Acc: 0.3272,\n",
      "Epoch: 018, Loss: 1.0616, Acc: 0.4929,\n",
      "Epoch: 019, Loss: 1.0381, Acc: 0.4475,\n",
      "Epoch: 020, Loss: 1.0415, Acc: 0.3712,\n",
      "Epoch: 021, Loss: 1.0153, Acc: 0.3534,\n",
      "Epoch: 022, Loss: 1.0085, Acc: 0.4661,\n",
      "Epoch: 023, Loss: 1.0157, Acc: 0.4402,\n",
      "Epoch: 024, Loss: 1.0011, Acc: 0.3611,\n",
      "Epoch: 025, Loss: 1.0130, Acc: 0.4192,\n",
      "Epoch: 026, Loss: 0.9874, Acc: 0.4382,\n",
      "Epoch: 027, Loss: 0.9808, Acc: 0.4561,\n",
      "Epoch: 028, Loss: 1.0126, Acc: 0.3826,\n",
      "Epoch: 029, Loss: 0.9945, Acc: 0.4186,\n",
      "Epoch: 030, Loss: 0.9762, Acc: 0.4094,\n",
      "Epoch: 031, Loss: 0.9602, Acc: 0.4549,\n",
      "Epoch: 032, Loss: 0.9575, Acc: 0.3578,\n",
      "Epoch: 033, Loss: 0.9555, Acc: 0.5081,\n",
      "Epoch: 034, Loss: 0.9458, Acc: 0.3975,\n",
      "Epoch: 035, Loss: 0.9605, Acc: 0.4674,\n",
      "Epoch: 036, Loss: 0.9659, Acc: 0.3793,\n",
      "Epoch: 037, Loss: 0.9729, Acc: 0.4614,\n",
      "Epoch: 038, Loss: 0.9524, Acc: 0.3562,\n",
      "Epoch: 039, Loss: 0.9795, Acc: 0.4778,\n",
      "Epoch: 040, Loss: 0.9470, Acc: 0.4587,\n",
      "Epoch: 041, Loss: 0.9319, Acc: 0.4346,\n",
      "Epoch: 042, Loss: 0.9224, Acc: 0.4235,\n",
      "Epoch: 043, Loss: 0.9061, Acc: 0.4443,\n",
      "Epoch: 044, Loss: 0.9115, Acc: 0.4618,\n",
      "Epoch: 045, Loss: 0.9106, Acc: 0.3997,\n",
      "Epoch: 046, Loss: 0.9198, Acc: 0.4293,\n",
      "Epoch: 047, Loss: 0.9231, Acc: 0.4590,\n",
      "Epoch: 048, Loss: 0.9019, Acc: 0.4802,\n",
      "Epoch: 049, Loss: 0.9115, Acc: 0.4458,\n",
      "Epoch: 050, Loss: 0.8978, Acc: 0.3661,\n",
      "Epoch: 051, Loss: 0.9205, Acc: 0.4662,\n",
      "Epoch: 052, Loss: 0.9390, Acc: 0.5152,\n",
      "Epoch: 053, Loss: 0.9161, Acc: 0.4728,\n",
      "Epoch: 054, Loss: 0.9251, Acc: 0.4138,\n",
      "Epoch: 055, Loss: 0.8856, Acc: 0.4682,\n",
      "Epoch: 056, Loss: 0.8663, Acc: 0.5403,\n",
      "Epoch: 057, Loss: 0.8681, Acc: 0.4839,\n",
      "Epoch: 058, Loss: 0.8595, Acc: 0.4496,\n",
      "Epoch: 059, Loss: 0.8882, Acc: 0.4602,\n",
      "Epoch: 060, Loss: 0.9086, Acc: 0.3928,\n",
      "Epoch: 061, Loss: 0.9606, Acc: 0.4293,\n",
      "Epoch: 062, Loss: 0.9586, Acc: 0.4935,\n",
      "Epoch: 063, Loss: 0.9622, Acc: 0.4616,\n",
      "Epoch: 064, Loss: 0.9445, Acc: 0.5167,\n",
      "Epoch: 065, Loss: 0.9566, Acc: 0.4709,\n",
      "Epoch: 066, Loss: 0.9186, Acc: 0.4923,\n",
      "Epoch: 067, Loss: 0.8791, Acc: 0.5069,\n",
      "Epoch: 068, Loss: 0.8911, Acc: 0.4154,\n",
      "Epoch: 069, Loss: 0.8768, Acc: 0.4854,\n",
      "Epoch: 070, Loss: 0.9026, Acc: 0.4707,\n",
      "Epoch: 071, Loss: 0.8401, Acc: 0.4723,\n",
      "Epoch: 072, Loss: 0.8910, Acc: 0.4398,\n",
      "Epoch: 073, Loss: 0.9143, Acc: 0.4184,\n",
      "Epoch: 074, Loss: 0.8654, Acc: 0.3812,\n",
      "Epoch: 075, Loss: 0.8834, Acc: 0.5084,\n",
      "Epoch: 076, Loss: 0.9287, Acc: 0.4859,\n",
      "Epoch: 077, Loss: 0.8965, Acc: 0.5176,\n",
      "Epoch: 078, Loss: 0.8878, Acc: 0.5195,\n",
      "Epoch: 079, Loss: 0.8728, Acc: 0.5054,\n",
      "Epoch: 080, Loss: 0.9355, Acc: 0.5102,\n",
      "Epoch: 081, Loss: 0.9463, Acc: 0.4679,\n",
      "Epoch: 082, Loss: 0.8759, Acc: 0.5118,\n",
      "Epoch: 083, Loss: 0.9193, Acc: 0.4406,\n",
      "Epoch: 084, Loss: 0.8792, Acc: 0.5344,\n",
      "Epoch: 085, Loss: 0.8238, Acc: 0.4829,\n",
      "Epoch: 086, Loss: 0.7520, Acc: 0.5336,\n",
      "Epoch: 087, Loss: 0.7874, Acc: 0.5281,\n",
      "Epoch: 088, Loss: 0.7661, Acc: 0.4606,\n",
      "Epoch: 089, Loss: 0.7562, Acc: 0.5593,\n",
      "Epoch: 090, Loss: 0.7124, Acc: 0.5526,\n",
      "Epoch: 091, Loss: 0.7356, Acc: 0.4816,\n",
      "Epoch: 092, Loss: 0.7218, Acc: 0.4831,\n",
      "Epoch: 093, Loss: 0.7306, Acc: 0.5456,\n",
      "Epoch: 094, Loss: 0.6880, Acc: 0.5378,\n",
      "Epoch: 095, Loss: 0.7010, Acc: 0.4703,\n",
      "Epoch: 096, Loss: 0.6935, Acc: 0.5406,\n",
      "Epoch: 097, Loss: 0.6860, Acc: 0.5347,\n",
      "Epoch: 098, Loss: 0.6905, Acc: 0.4478,\n",
      "Epoch: 099, Loss: 0.6847, Acc: 0.5542,\n",
      "Epoch: 100, Loss: 0.6981, Acc: 0.5072,\n",
      "Epoch: 101, Loss: 0.6957, Acc: 0.5399,\n",
      "Epoch: 102, Loss: 0.6795, Acc: 0.5478,\n",
      "Epoch: 103, Loss: 0.6578, Acc: 0.5582,\n",
      "Epoch: 104, Loss: 0.6767, Acc: 0.4291,\n",
      "Epoch: 105, Loss: 0.6328, Acc: 0.5669,\n",
      "Epoch: 106, Loss: 0.6052, Acc: 0.5118,\n",
      "Epoch: 107, Loss: 0.6272, Acc: 0.5327,\n",
      "Epoch: 108, Loss: 0.6502, Acc: 0.5211,\n",
      "Epoch: 109, Loss: 0.6681, Acc: 0.5794,\n",
      "Epoch: 110, Loss: 0.6340, Acc: 0.5435,\n",
      "Epoch: 111, Loss: 0.6652, Acc: 0.5757,\n",
      "Epoch: 112, Loss: 0.6252, Acc: 0.5613,\n",
      "Epoch: 113, Loss: 0.6265, Acc: 0.5574,\n",
      "Epoch: 114, Loss: 0.6343, Acc: 0.5361,\n",
      "Epoch: 115, Loss: 0.6100, Acc: 0.4857,\n",
      "Epoch: 116, Loss: 0.6875, Acc: 0.5611,\n",
      "Epoch: 117, Loss: 0.6595, Acc: 0.5511,\n",
      "Epoch: 118, Loss: 0.6329, Acc: 0.5720,\n",
      "Epoch: 119, Loss: 0.6679, Acc: 0.5082,\n",
      "Epoch: 120, Loss: 0.6084, Acc: 0.4988,\n",
      "Epoch: 121, Loss: 0.6412, Acc: 0.5385,\n",
      "Epoch: 122, Loss: 0.6250, Acc: 0.5122,\n",
      "Epoch: 123, Loss: 0.6241, Acc: 0.4874,\n",
      "Epoch: 124, Loss: 0.6192, Acc: 0.5631,\n",
      "Epoch: 125, Loss: 0.5419, Acc: 0.5198,\n",
      "Epoch: 126, Loss: 0.5110, Acc: 0.5464,\n",
      "Epoch: 127, Loss: 0.5122, Acc: 0.5867,\n",
      "Epoch: 128, Loss: 0.4540, Acc: 0.6199,\n"
     ]
    },
    {
     "data": {
      "image/png": "[encoded data removed]",
      "text/plain": [
       "<Figure size 640x480 with 1 Axes>"
      ]
     },
     "metadata": {},
     "output_type": "display_data"
    },
    {
     "data": {
      "image/png": "[encoded data removed]",
      "text/plain": [
       "<Figure size 640x480 with 1 Axes>"
      ]
     },
     "metadata": {},
     "output_type": "display_data"
    }
   ],
   "source": [
    "loss_values = []\n",
    "acc_values = []\n",
    "\n",
    "for epoch in range(1, 201):\n",
    "    loss = train()\n",
    "    acc = test()\n",
    "    \n",
    "    loss_values.append(loss)\n",
    "    acc_values.append(acc)\n",
    "    print(f'Epoch: {epoch:03d}, Loss: {loss:.4f}, 'f'Acc: {acc:.4f},')\n",
    "    if(acc > 0.61): break\n",
    "\n",
    "plt.plot(loss_values, 'r',)\n",
    "plt.show()\n",
    "plt.plot(acc_values, 'b',)\n",
    "plt.show()"
   ]
  },
  {
   "cell_type": "code",
   "execution_count": null,
   "id": "d4c5a1f5",
   "metadata": {},
   "outputs": [],
   "source": []
  },
  {
   "cell_type": "code",
   "execution_count": null,
   "id": "7ab1abe5",
   "metadata": {},
   "outputs": [],
   "source": []
  }
 ],
 "metadata": {
  "kernelspec": {
   "display_name": "Python [conda env:pyg_env]",
   "language": "python",
   "name": "conda-env-pyg_env-py"
  },
  "language_info": {
   "codemirror_mode": {
    "name": "ipython",
    "version": 3
   },
   "file_extension": ".py",
   "mimetype": "text/x-python",
   "name": "python",
   "nbconvert_exporter": "python",
   "pygments_lexer": "ipython3",
   "version": "3.10.4"
  }
 },
 "nbformat": 4,
 "nbformat_minor": 5
}
