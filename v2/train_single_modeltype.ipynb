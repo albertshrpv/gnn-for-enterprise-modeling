{
 "cells": [
  {
   "cell_type": "code",
   "execution_count": 2,
   "id": "70158a26",
   "metadata": {},
   "outputs": [
    {
     "data": {
      "text/plain": [
       "<torch._C.Generator at 0x24e728cc350>"
      ]
     },
     "execution_count": 2,
     "metadata": {},
     "output_type": "execute_result"
    }
   ],
   "source": [
    "import os.path as osp\n",
    "\n",
    "import torch\n",
    "import torch.nn.functional as F\n",
    "from sklearn.metrics import f1_score\n",
    "\n",
    "from torch_geometric.loader import DataLoader\n",
    "from torch_geometric.data import Dataset, Data\n",
    "from torch_geometric.loader import DataLoader\n",
    "from torch_geometric.nn import GATConv, SAGEConv, NNConv, GCNConv\n",
    "import matplotlib.pyplot as plt\n",
    "\n",
    "from sklearn.manifold import TSNE\n",
    "from torch_geometric.nn import Node2Vec\n",
    "\n",
    "torch.manual_seed(42)"
   ]
  },
  {
   "cell_type": "code",
   "execution_count": 124,
   "id": "c6f00128",
   "metadata": {},
   "outputs": [
    {
     "name": "stderr",
     "output_type": "stream",
     "text": [
      "Processing...\n",
      "Done!\n"
     ]
    },
    {
     "name": "stdout",
     "output_type": "stream",
     "text": [
      "DATASET LOADED: USE per_model variable !!!\n",
      "EnterpriseModelDatasetNCPerModeltype(110)\n"
     ]
    }
   ],
   "source": [
    "%run dataset_nc_per_modeltype.ipynb"
   ]
  },
  {
   "cell_type": "code",
   "execution_count": 125,
   "id": "e1da2530",
   "metadata": {},
   "outputs": [
    {
     "data": {
      "text/plain": [
       "tensor([ 1,  1, 35, 29,  1,  1,  1,  1, 29, 29, 33, 29,  9, 29,  1,  1, 13, 29,\n",
       "        13, 27, 27, 27,  1, 29,  1, 29, 29,  1, 12,  1, 29,  9,  1,  1, 29, 29,\n",
       "         1, 33, 34, 34])"
      ]
     },
     "execution_count": 125,
     "metadata": {},
     "output_type": "execute_result"
    }
   ],
   "source": [
    "dataset_nc_per_modeltype[0].y"
   ]
  },
  {
   "cell_type": "code",
   "execution_count": 126,
   "id": "5cb3e785",
   "metadata": {},
   "outputs": [
    {
     "data": {
      "text/plain": [
       "{'Goal Model': 6,\n",
       " 'Actors and Resources Model': 11,\n",
       " 'Product-Service-Model': 4,\n",
       " 'Business Rule & Process Model': 12,\n",
       " '4EM General Model': 7,\n",
       " 'Goal & Business Rule Model': 7,\n",
       " 'Business Process Model': 43,\n",
       " 'Concepts Model': 10,\n",
       " 'Technical Components and Requirements Model': 10}"
      ]
     },
     "execution_count": 126,
     "metadata": {},
     "output_type": "execute_result"
    }
   ],
   "source": [
    "per_model[\"info\"]"
   ]
  },
  {
   "cell_type": "code",
   "execution_count": 127,
   "id": "25e02faf",
   "metadata": {},
   "outputs": [
    {
     "name": "stdout",
     "output_type": "stream",
     "text": [
      "Number of graphs total: 43\n",
      "tensor([ 1, 29,  1,  1, 29, 29, 29, 12, 12,  1,  1, 29,  1, 12,  1,  1, 29,  9,\n",
      "        29, 12,  1, 29, 13, 19,  1, 29, 29,  1, 33,  1, 29,  9,  1,  1,  1, 29])\n"
     ]
    }
   ],
   "source": [
    "# use only business process models\n",
    "bpms = per_model[\"data\"][\"Business Process Model\"]\n",
    "\n",
    "print(f'Number of graphs total: {len(bpms)}')\n",
    "print(bpms[1].y)"
   ]
  },
  {
   "cell_type": "code",
   "execution_count": 128,
   "id": "cc22aaa7",
   "metadata": {},
   "outputs": [
    {
     "name": "stdout",
     "output_type": "stream",
     "text": [
      "[1, 33, 35, 9, 12, 13, 19, 29]\n",
      "['Information Set', 'Join (OR)', 'Join (AND)', 'Split (OR)', 'Comment', 'Split (AND)', 'External Process', 'Process']\n",
      "{1: 0, 33: 1, 35: 2, 9: 3, 12: 4, 13: 5, 19: 6, 29: 7}\n"
     ]
    }
   ],
   "source": [
    "bpm_node_classes = []\n",
    "\n",
    "for graph in bpms:\n",
    "    for nclass in graph.y:\n",
    "        bpm_node_classes.append(nclass.item())\n",
    "    \n",
    "bpm_node_classes = list(set(bpm_node_classes))\n",
    "print(bpm_node_classes)\n",
    "\n",
    "new_node_classes = []\n",
    "map_old_to_new_node_class = {}\n",
    "\n",
    "for i, old_index in enumerate(bpm_node_classes):\n",
    "    new_node_classes.append(node_classes[old_index])\n",
    "    map_old_to_new_node_class[old_index] = i\n",
    "    \n",
    "    \n",
    "print(new_node_classes)\n",
    "print(map_old_to_new_node_class)"
   ]
  },
  {
   "cell_type": "code",
   "execution_count": 129,
   "id": "377bf64e",
   "metadata": {},
   "outputs": [],
   "source": [
    "for graph in bpms:\n",
    "    for i, nclass in enumerate(graph.y):\n",
    "        graph.y[i] = map_old_to_new_node_class[nclass.item()]"
   ]
  },
  {
   "cell_type": "code",
   "execution_count": 130,
   "id": "3408f0fc",
   "metadata": {},
   "outputs": [
    {
     "data": {
      "text/plain": [
       "43"
      ]
     },
     "execution_count": 130,
     "metadata": {},
     "output_type": "execute_result"
    }
   ],
   "source": [
    "len(bpms)"
   ]
  },
  {
   "cell_type": "code",
   "execution_count": 131,
   "id": "52a47298",
   "metadata": {},
   "outputs": [],
   "source": [
    "NUM_GRAPHS_PER_BATCH = len(bpms)\n",
    "NUM_HIDDEN_CHANNELS = 64\n",
    "\n",
    "train_loader = DataLoader(bpms, batch_size=NUM_GRAPHS_PER_BATCH, shuffle=True)"
   ]
  },
  {
   "cell_type": "code",
   "execution_count": 132,
   "id": "54c710e1",
   "metadata": {},
   "outputs": [
    {
     "name": "stdout",
     "output_type": "stream",
     "text": [
      "Data(x=[835, 1], edge_index=[2, 836], edge_attr=[836, 1], y=[835], train_mask=[835], test_mask=[835])\n"
     ]
    }
   ],
   "source": [
    "x = []\n",
    "edge_index = []\n",
    "edge_attr = []\n",
    "y = []\n",
    "train_mask = []\n",
    "test_mask = []\n",
    "for batch in train_loader:\n",
    "    x = batch.x\n",
    "    edge_index = batch.edge_index\n",
    "    edge_attr = batch.edge_attr\n",
    "    y = batch.y\n",
    "    train_mask = batch.train_mask\n",
    "    test_mask = batch.test_mask\n",
    "\n",
    "    \n",
    "data = Data(x=x, \n",
    "            edge_index=edge_index,\n",
    "            edge_attr=edge_attr,\n",
    "            y=y,\n",
    "            train_mask=train_mask,\n",
    "            test_mask=test_mask\n",
    "            ) \n",
    "\n",
    "num_nodes = data.x.shape[0]\n",
    "print(data)"
   ]
  },
  {
   "cell_type": "code",
   "execution_count": 134,
   "id": "4b450b9a",
   "metadata": {},
   "outputs": [
    {
     "data": {
      "text/plain": [
       "(array([0, 1, 2, 3, 4, 5, 6, 7], dtype=int64),\n",
       " array([367,  15,  14,  41,  33,  27,  30, 308], dtype=int64))"
      ]
     },
     "execution_count": 134,
     "metadata": {},
     "output_type": "execute_result"
    }
   ],
   "source": [
    "values, counts = np.unique(data.y, return_counts=True)\n",
    "values, counts"
   ]
  },
  {
   "cell_type": "markdown",
   "id": "9cb2dfcf",
   "metadata": {},
   "source": [
    "!!! stark unbalanciert\n",
    "367 Information Sets, 308 Processes, und nur 160 von den anderen Klassen\n",
    "    -> Testen, wie sich entwickelt, wenn nur Prozesse und Information Sets trainiert und getestet werden"
   ]
  },
  {
   "cell_type": "code",
   "execution_count": null,
   "id": "c0551656",
   "metadata": {},
   "outputs": [],
   "source": []
  },
  {
   "cell_type": "code",
   "execution_count": 135,
   "id": "430a0218",
   "metadata": {
    "scrolled": true
   },
   "outputs": [
    {
     "name": "stdout",
     "output_type": "stream",
     "text": [
      "Epoch: 01, Loss: 2.0890, Acc: 0.3761\n"
     ]
    },
    {
     "name": "stderr",
     "output_type": "stream",
     "text": [
      "C:\\Users\\alber\\anaconda3\\envs\\pyg_env\\lib\\site-packages\\sklearn\\manifold\\_t_sne.py:795: FutureWarning: The default initialization in TSNE will change from 'random' to 'pca' in 1.2.\n",
      "  warnings.warn(\n",
      "C:\\Users\\alber\\anaconda3\\envs\\pyg_env\\lib\\site-packages\\sklearn\\manifold\\_t_sne.py:805: FutureWarning: The default learning rate in TSNE will change from 200.0 to 'auto' in 1.2.\n",
      "  warnings.warn(\n"
     ]
    },
    {
     "data": {
      "image/png": "[encoded data removed]",
      "text/plain": [
       "<Figure size 800x800 with 1 Axes>"
      ]
     },
     "metadata": {},
     "output_type": "display_data"
    }
   ],
   "source": [
    "device = 'cuda' if torch.cuda.is_available() else 'cpu'\n",
    "model = Node2Vec(data.edge_index, embedding_dim=16, walk_length=20,\n",
    "                 context_size=10, walks_per_node=10,\n",
    "                 num_negative_samples=1, p=1, q=1, sparse=True).to(device)\n",
    "\n",
    "num_workers = 1\n",
    "loader = model.loader(batch_size=32, shuffle=True, num_workers=num_workers)\n",
    "optimizer = torch.optim.SparseAdam(list(model.parameters()), lr=0.01)\n",
    "\n",
    "def train():\n",
    "    model.train()\n",
    "    total_loss = 0\n",
    "    for pos_rw, neg_rw in loader:\n",
    "        optimizer.zero_grad()\n",
    "        loss = model.loss(pos_rw.to(device), neg_rw.to(device))\n",
    "        loss.backward()\n",
    "        optimizer.step()\n",
    "        total_loss += loss.item()\n",
    "    return total_loss / len(loader)\n",
    "\n",
    "@torch.no_grad()\n",
    "def test():\n",
    "    model.eval()\n",
    "    z = model()\n",
    "    acc = model.test(z[data.train_mask], data.y[data.train_mask],\n",
    "                     z[data.test_mask], data.y[data.test_mask],\n",
    "                     max_iter=150)\n",
    "    return acc\n",
    "\n",
    "for epoch in range(1, 2):\n",
    "    loss = train()\n",
    "    acc = test()\n",
    "    print(f'Epoch: {epoch:02d}, Loss: {loss:.4f}, Acc: {acc:.4f}')\n",
    "\n",
    "@torch.no_grad()\n",
    "def plot_points(colors):\n",
    "    model.eval()\n",
    "    z = model(torch.arange(data.num_nodes, device=device))\n",
    "    z = TSNE(n_components=2).fit_transform(z.cpu().numpy())\n",
    "    y = data.y.cpu().numpy()\n",
    "\n",
    "    plt.figure(figsize=(8, 8))\n",
    "    for i in range(len(new_node_classes)):\n",
    "        plt.scatter(z[y == i, 0], z[y == i, 1], s=20, color=colors[i])\n",
    "    plt.axis('off')\n",
    "    plt.show()\n",
    "\n",
    "colors = [\n",
    "    '#ffc0cb', '#bada55', '#008080', '#420420', '#7fe5f0', '#065535',\n",
    "    '#ffd700', '#9900ff', '#008080', '#420420', '#7fe5f0', '#065535',\n",
    "    '#008080', '#420420', '#7fe5f0', '#ff00ff', '#993366', '#ff5050',\n",
    "    '#ff9933', '#ffff66', '#ffffcc', '#0066cc', '#00cc66', '#333300',\n",
    "    '#996600', '#99ff66', '#cc99ff', '#336699', '#33cc33', '#339966',\n",
    "    '#cc9900', '#66ff66', '#6666ff', '#009999', '#666699', '#ffcccc',\n",
    "]\n",
    "plot_points(colors)"
   ]
  },
  {
   "cell_type": "code",
   "execution_count": 106,
   "id": "20e73036",
   "metadata": {},
   "outputs": [
    {
     "data": {
      "text/plain": [
       "tensor([ 0.1896, -0.2857, -0.1463,  0.2405, -0.1143, -0.0413, -0.1885, -0.0563,\n",
       "        -0.3704,  0.0011,  0.2796, -0.1334, -0.1844, -0.4163,  0.1368,  0.1909],\n",
       "       grad_fn=<SelectBackward0>)"
      ]
     },
     "execution_count": 106,
     "metadata": {},
     "output_type": "execute_result"
    }
   ],
   "source": [
    "z = model()\n",
    "z[0]"
   ]
  },
  {
   "cell_type": "code",
   "execution_count": 52,
   "id": "ac74b9af",
   "metadata": {},
   "outputs": [
    {
     "data": {
      "text/plain": [
       "Data(x=[835, 1], edge_index=[2, 836], edge_attr=[836, 1], y=[835], train_mask=[835], test_mask=[835])"
      ]
     },
     "execution_count": 52,
     "metadata": {},
     "output_type": "execute_result"
    }
   ],
   "source": [
    "data.x.shape"
   ]
  },
  {
   "cell_type": "code",
   "execution_count": 107,
   "id": "95db5bfe",
   "metadata": {},
   "outputs": [
    {
     "name": "stdout",
     "output_type": "stream",
     "text": [
      "Data(x=[835, 16], edge_index=[2, 836], edge_attr=[836, 1], y=[835], train_mask=[835], test_mask=[835])\n"
     ]
    }
   ],
   "source": [
    "x = []\n",
    "edge_index = []\n",
    "edge_attr = []\n",
    "y = []\n",
    "train_mask = []\n",
    "test_mask = []\n",
    "for batch in train_loader:\n",
    "    x = z\n",
    "    edge_index = batch.edge_index\n",
    "    edge_attr = batch.edge_attr\n",
    "    y = batch.y\n",
    "    train_mask = batch.train_mask\n",
    "    test_mask = batch.test_mask\n",
    "\n",
    "    \n",
    "data = Data(x=x, \n",
    "            edge_index=edge_index,\n",
    "            edge_attr=edge_attr,\n",
    "            y=y,\n",
    "            train_mask=train_mask,\n",
    "            test_mask=test_mask\n",
    "            ) \n",
    "\n",
    "num_nodes = data.x.shape[0]\n",
    "print(data)"
   ]
  },
  {
   "cell_type": "markdown",
   "id": "48beea13",
   "metadata": {},
   "source": [
    "Nun kann ein Modell mit den gelernten Embeddings der Nodes gelernt werden"
   ]
  },
  {
   "cell_type": "code",
   "execution_count": 108,
   "id": "3fabf3cc",
   "metadata": {},
   "outputs": [
    {
     "data": {
      "text/plain": [
       "tensor([7, 7, 0, 6, 0, 7, 0, 0, 0, 5, 7, 0, 7, 0, 0, 7, 0, 6, 0, 7, 7, 0, 0, 7,\n",
       "        0, 3, 0, 7, 7, 7, 7, 0, 0, 7, 2, 0, 7, 0, 0, 7, 0, 6, 0, 7, 0, 0, 3, 7,\n",
       "        7, 0, 0, 5, 7, 0, 0, 7, 0, 7, 0, 7, 0, 0, 7, 0, 7, 0, 0, 6, 4, 7, 7, 0,\n",
       "        5, 0, 0, 2, 7, 0, 4, 0, 7, 7, 4, 0, 7, 0, 3, 7, 3, 0, 0, 7, 4, 7, 7, 0,\n",
       "        7, 7, 0, 0, 0, 6, 3, 4, 4, 7, 4, 7, 0, 7, 7, 0, 7, 7, 7, 0, 0, 0, 7, 7,\n",
       "        7, 3, 0, 1, 0, 0, 0, 0, 7, 2, 0, 7, 0, 0, 7, 0, 6, 0, 7, 0, 0, 3, 7, 7,\n",
       "        0, 0, 5, 7, 0, 0, 7, 0, 7, 0, 0, 3, 7, 0, 0, 7, 0, 0, 5, 7, 7, 0, 0, 0,\n",
       "        5, 7, 7, 7, 5, 7, 0, 0, 0, 7, 1, 0, 0, 0, 0, 0, 7, 7, 7, 7, 0, 4, 7, 1,\n",
       "        0, 7, 3, 7, 0, 7, 7, 7, 0, 0, 0, 7, 7, 7, 7, 3, 1, 0, 0, 0, 7, 0, 7, 7,\n",
       "        0, 0, 7, 0, 7, 0, 0, 7, 0, 7, 0, 3, 7, 0, 7, 7, 0, 0, 3, 7, 0, 0, 3, 0,\n",
       "        0, 0, 0, 3, 2, 7, 0, 0, 7, 0, 0, 0, 5, 7, 7, 7, 5, 7, 0, 7, 4, 7, 7, 7,\n",
       "        0, 7, 0, 0, 7, 7, 5, 0, 0, 0, 0, 0, 0, 7, 3, 0, 0, 0, 7, 7, 1, 7, 0, 7,\n",
       "        7, 5, 0, 0, 0, 2, 4, 7, 7, 7, 7, 0, 7, 0, 4, 0, 7, 0, 0, 7, 0, 7, 0, 0,\n",
       "        7, 7, 7, 7, 7, 6, 0, 0, 0, 1, 0, 0, 7, 0, 7, 0, 6, 6, 0, 7, 5, 6, 6, 7,\n",
       "        0, 0, 7, 7, 7, 5, 5, 7, 0, 7, 7, 0, 0, 7, 0, 7, 0, 0, 7, 0, 7, 0, 3, 7,\n",
       "        0, 7, 7, 0, 0, 3, 7, 0, 0, 3, 0, 0, 0, 0, 3, 2, 7, 7, 0, 7, 7, 0, 7, 0,\n",
       "        7, 0, 0, 7, 0, 7, 0, 6, 0, 7, 5, 6, 6, 7, 0, 0, 7, 7, 7, 5, 5, 7, 7, 7,\n",
       "        7, 7, 7, 0, 0, 0, 6, 0, 0, 5, 7, 7, 7, 0, 0, 0, 2, 2, 3, 0, 7, 7, 7, 7,\n",
       "        7, 0, 0, 3, 0, 0, 0, 1, 7, 7, 7, 7, 7, 7, 0, 0, 0, 0, 0, 0, 7, 7, 0, 1,\n",
       "        0, 3, 4, 7, 6, 0, 0, 0, 0, 0, 0, 7, 7, 7, 7, 7, 7, 7, 7, 5, 0, 0, 0, 0,\n",
       "        6, 6, 0, 0, 7, 3, 0, 0, 0, 7, 7, 1, 7, 0, 7, 7, 5, 0, 0, 0, 0, 7, 7, 7,\n",
       "        5, 2, 2, 4, 7, 7, 0, 6, 0, 6, 0, 0, 0, 7, 0, 7, 0, 0, 0, 7, 7, 7, 7, 0,\n",
       "        0, 0, 7, 7, 7, 7, 0, 0, 0, 7, 7, 7, 0, 0, 5, 0, 0, 0, 0, 7, 0, 7, 4, 7,\n",
       "        2, 0, 0, 7, 7, 7, 7, 0, 0, 3, 0, 1, 7, 0, 3, 0, 0, 7, 7, 0, 0, 3, 7, 7,\n",
       "        0, 0, 7, 0, 0, 0, 5, 7, 0, 7, 0, 0, 7, 0, 6, 0, 7, 7, 0, 0, 7, 0, 3, 0,\n",
       "        7, 0, 0, 3, 7, 0, 0, 7, 3, 0, 7, 0, 7, 0, 7, 7, 0, 0, 0, 0, 7, 1, 0, 0,\n",
       "        0, 0, 0, 7, 7, 7, 7, 0, 4, 1, 0, 0, 7, 7, 0, 7, 0, 0, 0, 2, 7, 0, 0, 3,\n",
       "        7, 7, 3, 0, 0, 7, 7, 7, 4, 0, 0, 7, 0, 7, 7, 7, 5, 6, 0, 7, 7, 0, 7, 0,\n",
       "        4, 0, 4, 0, 7, 0, 4, 0, 4, 4, 7, 7, 0, 6, 0, 6, 0, 0, 0, 7, 3, 0, 7, 7,\n",
       "        7, 7, 0, 0, 3, 0, 1, 0, 7, 0, 0, 7, 7, 7, 4, 4, 0, 0, 7, 0, 4, 0, 0, 7,\n",
       "        3, 7, 4, 0, 7, 5, 6, 0, 7, 7, 0, 1, 0, 7, 3, 0, 0, 0, 7, 7, 7, 7, 7, 0,\n",
       "        0, 3, 0, 7, 7, 7, 0, 0, 0, 0, 0, 7, 0, 0, 4, 6, 3, 6, 7, 5, 0, 0, 0, 0,\n",
       "        7, 0, 7, 7, 2, 0, 0, 4, 6, 0, 7, 0, 7, 0, 0, 7, 0, 7, 4, 7, 7, 0, 5, 0,\n",
       "        0, 2, 6, 7, 0, 4, 0, 7, 7, 7, 4, 0, 7, 0, 3, 4, 7, 3, 0, 0, 4, 7, 7, 0,\n",
       "        7, 7, 0, 0, 0, 6, 3, 4, 7, 0, 7, 7, 7, 7, 3, 0, 1, 0, 0])"
      ]
     },
     "execution_count": 108,
     "metadata": {},
     "output_type": "execute_result"
    }
   ],
   "source": [
    "dataset = data\n",
    "dataset.y"
   ]
  },
  {
   "cell_type": "code",
   "execution_count": 111,
   "id": "d826ce38",
   "metadata": {},
   "outputs": [],
   "source": [
    "class GATGNN2(torch.nn.Module):\n",
    "    def __init__(self):\n",
    "        super().__init__()\n",
    "        self.conv1 = GATConv(dataset.num_node_features, NUM_HIDDEN_CHANNELS, heads=4, edge_dim=1)\n",
    "        self.lin1 = torch.nn.Linear(dataset.num_node_features, 4 * NUM_HIDDEN_CHANNELS)\n",
    "        \n",
    "        self.conv2 = GATConv(4 * NUM_HIDDEN_CHANNELS, NUM_HIDDEN_CHANNELS, heads=4, edge_dim=1)\n",
    "        self.lin2 = torch.nn.Linear(4 * NUM_HIDDEN_CHANNELS, 4 * NUM_HIDDEN_CHANNELS)\n",
    "        \n",
    "        self.conv3 = GATConv(4 * NUM_HIDDEN_CHANNELS, len(new_node_classes), heads=6, concat=False, edge_dim=1)\n",
    "        self.lin3 = torch.nn.Linear(4 * NUM_HIDDEN_CHANNELS, len(new_node_classes))\n",
    "\n",
    "        \n",
    "    def forward(self, data):\n",
    "        x, edge_index, edge_attr = data.x, data.edge_index, data.edge_attr\n",
    "        x = F.elu(self.conv1(x, edge_index, edge_attr) + self.lin1(x))\n",
    "        x = F.elu(self.conv2(x, edge_index, edge_attr) + self.lin2(x))\n",
    "        x = self.conv3(x, edge_index, edge_attr) + self.lin3(x)\n",
    "        return F.log_softmax(x, dim=1)"
   ]
  },
  {
   "cell_type": "code",
   "execution_count": 112,
   "id": "d6689c90",
   "metadata": {},
   "outputs": [
    {
     "name": "stdout",
     "output_type": "stream",
     "text": [
      "GATGNN2(\n",
      "  (conv1): GATConv(16, 64, heads=4)\n",
      "  (lin1): Linear(in_features=16, out_features=256, bias=True)\n",
      "  (conv2): GATConv(256, 64, heads=4)\n",
      "  (lin2): Linear(in_features=256, out_features=256, bias=True)\n",
      "  (conv3): GATConv(256, 8, heads=6)\n",
      "  (lin3): Linear(in_features=256, out_features=8, bias=True)\n",
      ")\n",
      "Number of parameters:  156880\n"
     ]
    }
   ],
   "source": [
    "device = torch.device('cuda' if torch.cuda.is_available() else 'cpu')\n",
    "model = GATGNN2().to(device)\n",
    "\n",
    "optimizer = torch.optim.Adam(model.parameters(), lr=0.01, weight_decay=5e-4)\n",
    "print(model)\n",
    "print(\"Number of parameters: \", sum(p.numel() for p in model.parameters()))"
   ]
  },
  {
   "cell_type": "code",
   "execution_count": 113,
   "id": "1966a431",
   "metadata": {},
   "outputs": [],
   "source": [
    "def train():\n",
    "    model.train()\n",
    "\n",
    "    total_loss = 0\n",
    "    for data in train_loader:\n",
    "        data = data.to(device)\n",
    "        optimizer.zero_grad()\n",
    "        out = model(data)\n",
    "        loss = F.nll_loss(out[data.train_mask], data.y[data.train_mask])\n",
    "        total_loss += loss.item() * data.num_graphs\n",
    "        loss.backward()\n",
    "        optimizer.step()\n",
    "    return total_loss / len(train_loader.dataset)"
   ]
  },
  {
   "cell_type": "code",
   "execution_count": null,
   "id": "aa9a190f",
   "metadata": {},
   "outputs": [],
   "source": [
    "@torch.no_grad()\n",
    "def test():\n",
    "    model.eval()\n",
    "\n",
    "    total_acc = 0\n",
    "    for data in train_loader:\n",
    "        pred = model(data).argmax(dim=1)\n",
    "        correct = (pred[data.test_mask] == data.y[data.test_mask]).sum()\n",
    "        acc = int(correct) / int(data.test_mask.sum())\n",
    "        total_acc += acc * data.num_graphs\n",
    "    return total_acc / len(train_loader.dataset)"
   ]
  },
  {
   "cell_type": "code",
   "execution_count": null,
   "id": "d876af64",
   "metadata": {},
   "outputs": [],
   "source": [
    "loss_values = []\n",
    "acc_values = []\n",
    "\n",
    "for epoch in range(1, 2):\n",
    "    loss = train()\n",
    "    acc = test()\n",
    "    \n",
    "    loss_values.append(loss)\n",
    "    acc_values.append(acc)\n",
    "    print(f'Epoch: {epoch:03d}, Loss: {loss:.4f}, 'f'Acc: {acc:.4f},')\n",
    "    \n",
    "\n",
    "plt.plot(loss_values, 'r',)\n",
    "plt.show()\n",
    "plt.plot(acc_values, 'b',)\n",
    "plt.show()"
   ]
  },
  {
   "cell_type": "code",
   "execution_count": null,
   "id": "2428f184",
   "metadata": {},
   "outputs": [],
   "source": []
  },
  {
   "cell_type": "code",
   "execution_count": null,
   "id": "572f8184",
   "metadata": {},
   "outputs": [],
   "source": []
  }
 ],
 "metadata": {
  "kernelspec": {
   "display_name": "Python [conda env:pyg_env]",
   "language": "python",
   "name": "conda-env-pyg_env-py"
  },
  "language_info": {
   "codemirror_mode": {
    "name": "ipython",
    "version": 3
   },
   "file_extension": ".py",
   "mimetype": "text/x-python",
   "name": "python",
   "nbconvert_exporter": "python",
   "pygments_lexer": "ipython3",
   "version": "3.10.4"
  }
 },
 "nbformat": 4,
 "nbformat_minor": 5
}
