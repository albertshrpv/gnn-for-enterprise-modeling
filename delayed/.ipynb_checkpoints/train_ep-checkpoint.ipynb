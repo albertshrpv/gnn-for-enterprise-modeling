{
 "cells": [
  {
   "cell_type": "code",
   "execution_count": 26,
   "id": "78a21711",
   "metadata": {},
   "outputs": [],
   "source": [
    "import os.path as osp\n",
    "\n",
    "import torch\n",
    "import torch.nn.functional as F\n",
    "from sklearn.metrics import f1_score\n",
    "    \n",
    "from torch_geometric.loader import DataLoader\n",
    "from torch_geometric.nn import GCNConv, GATConv, SAGEConv, NNConv\n",
    "import matplotlib.pyplot as plt\n",
    "\n",
    "from sklearn.metrics import roc_auc_score\n",
    "\n",
    "from torch_geometric.utils import negative_sampling\n",
    "import torch_geometric.transforms as T\n",
    "from torch_geometric.utils import train_test_split_edges"
   ]
  },
  {
   "cell_type": "code",
   "execution_count": 27,
   "id": "c3dffac1",
   "metadata": {},
   "outputs": [
    {
     "name": "stdout",
     "output_type": "stream",
     "text": [
      "DATASET LOADED\n",
      "Data(x=[43, 1], edge_index=[2, 45], edge_attr=[45, 1], y=[45, 16])\n"
     ]
    },
    {
     "name": "stderr",
     "output_type": "stream",
     "text": [
      "Processing...\n",
      "Done!\n"
     ]
    }
   ],
   "source": [
    "%run dataset_ep.ipynb"
   ]
  },
  {
   "cell_type": "code",
   "execution_count": 28,
   "id": "e8b02199",
   "metadata": {},
   "outputs": [
    {
     "name": "stdout",
     "output_type": "stream",
     "text": [
      "Number of graphs total: 54\n",
      "Number of training graphs: 35\n",
      "Number of test graphs: 36\n",
      "Data(x=[48, 1], edge_index=[2, 51], edge_attr=[51, 1], y=[51, 16])\n",
      "54\n"
     ]
    }
   ],
   "source": [
    "torch.manual_seed(42)\n",
    "dataset = dataset_ep.shuffle()\n",
    "\n",
    "train_dataset = dataset[:int(len(dataset) * 0.65)]\n",
    "test_dataset = dataset[int(len(dataset) * 0.35):]\n",
    "\n",
    "print(f'Number of graphs total: {len(dataset)}')\n",
    "print(f'Number of training graphs: {len(train_dataset)}')\n",
    "print(f'Number of test graphs: {len(test_dataset)}')\n",
    "print(dataset[0])\n",
    "print(len(dataset))"
   ]
  },
  {
   "cell_type": "code",
   "execution_count": 29,
   "id": "97228dce",
   "metadata": {},
   "outputs": [],
   "source": [
    "from torch_geometric.loader import DataLoader\n",
    "from torch_geometric.data import Dataset, Data\n",
    "\n",
    "NUM_GRAPHS_PER_BATCH = len(dataset)\n",
    "NUM_HIDDEN_CHANNELS = 64\n",
    "\n",
    "train_loader = DataLoader(train_dataset, batch_size=NUM_GRAPHS_PER_BATCH, shuffle=True)\n",
    "# test_loader = DataLoader(test_dataset, batch_size=NUM_GRAPHS_PER_BATCH, shuffle=False)"
   ]
  },
  {
   "cell_type": "code",
   "execution_count": 33,
   "id": "45e2217d",
   "metadata": {},
   "outputs": [
    {
     "name": "stdout",
     "output_type": "stream",
     "text": [
      "DataBatch(x=[1006, 1], edge_index=[2, 1053], edge_attr=[1053, 1], y=[1053, 16], batch=[1006], ptr=[36])\n",
      "Data(x=[1006, 1], edge_index=[2, 1053], edge_attr=[1053, 1], y=[1053, 16])\n"
     ]
    }
   ],
   "source": [
    "x = []\n",
    "edge_index = []\n",
    "edge_attr = []\n",
    "y = []\n",
    "for batch in train_loader:\n",
    "    x = batch.x\n",
    "    edge_index = batch.edge_index\n",
    "    edge_attr = batch.edge_attr\n",
    "    y = batch.y\n",
    "    print(batch)\n",
    "    \n",
    "# print(x)\n",
    "# print(edge_index)\n",
    "# print(edge_attr)\n",
    "# print(y)\n",
    "\n",
    "data = Data(x=x, \n",
    "            edge_index=edge_index,\n",
    "            edge_attr=edge_attr,\n",
    "            y=y,\n",
    "            ) \n",
    "\n",
    "print(data)"
   ]
  },
  {
   "cell_type": "code",
   "execution_count": 34,
   "id": "f0cc8da5",
   "metadata": {
    "scrolled": true
   },
   "outputs": [
    {
     "name": "stdout",
     "output_type": "stream",
     "text": [
      "Data(x=[1006, 1], val_pos_edge_index=[2, 29], val_pos_edge_attr=[29, 1], test_pos_edge_index=[2, 58], test_pos_edge_attr=[58, 1], train_pos_edge_index=[2, 1000], train_pos_edge_attr=[1000, 1], train_neg_adj_mask=[1006, 1006], val_neg_edge_index=[2, 29], test_neg_edge_index=[2, 58])\n"
     ]
    }
   ],
   "source": [
    "# use train_test_split_edges to create neg and positive edges\n",
    "data.train_mask = data.val_mask = data.test_mask = data.y = None\n",
    "data = train_test_split_edges(data)\n",
    "print(data)"
   ]
  },
  {
   "cell_type": "code",
   "execution_count": 37,
   "id": "b137be6d",
   "metadata": {},
   "outputs": [],
   "source": [
    "device = torch.device('cuda' if torch.cuda.is_available() else 'cpu')\n",
    "\n",
    "\n",
    "class Net(torch.nn.Module):\n",
    "    def __init__(self):\n",
    "        super(Net, self).__init__()\n",
    "        self.conv1 = GCNConv(dataset.num_features, 128)\n",
    "        self.conv2 = GCNConv(128, 64)\n",
    "\n",
    "    def encode(self):\n",
    "        x = self.conv1(data.x, data.train_pos_edge_index) # convolution 1\n",
    "        x = x.relu()\n",
    "        return self.conv2(x, data.train_pos_edge_index) # convolution 2\n",
    "\n",
    "    def decode(self, z, pos_edge_index, neg_edge_index): # only pos and neg edges\n",
    "        edge_index = torch.cat([pos_edge_index, neg_edge_index], dim=-1) # concatenate pos and neg edges\n",
    "        logits = (z[edge_index[0]] * z[edge_index[1]]).sum(dim=-1)  # dot product \n",
    "        return logits\n",
    "\n",
    "    def decode_all(self, z): \n",
    "        prob_adj = z @ z.t() # get adj NxN\n",
    "        return (prob_adj > 0).nonzero(as_tuple=False).t() # get predicted edge_list "
   ]
  },
  {
   "cell_type": "code",
   "execution_count": 43,
   "id": "0b14b039",
   "metadata": {},
   "outputs": [],
   "source": [
    "model, data = Net().to(device), data.to(device)\n",
    "optimizer = torch.optim.Adam(params=model.parameters(), lr=0.01)"
   ]
  },
  {
   "cell_type": "code",
   "execution_count": 42,
   "id": "cdd159a0",
   "metadata": {},
   "outputs": [],
   "source": [
    "\n",
    "def get_link_labels(pos_edge_index, neg_edge_index):\n",
    "    # returns a tensor:\n",
    "    # [1,1,1,1,...,0,0,0,0,0,..] with the number of ones is equel to the lenght of pos_edge_index\n",
    "    # and the number of zeros is equal to the length of neg_edge_index\n",
    "    E = pos_edge_index.size(1) + neg_edge_index.size(1)\n",
    "    link_labels = torch.zeros(E, dtype=torch.float, device=device)\n",
    "    link_labels[:pos_edge_index.size(1)] = 1.\n",
    "    return link_labels\n",
    "\n",
    "\n",
    "def train():\n",
    "    model.train()\n",
    "\n",
    "    neg_edge_index = negative_sampling(\n",
    "        edge_index=data.train_pos_edge_index, #positive edges\n",
    "        num_nodes=data.num_nodes, # number of nodes\n",
    "        num_neg_samples=data.train_pos_edge_index.size(1)) # number of neg_sample equal to number of pos_edges\n",
    "\n",
    "    optimizer.zero_grad()\n",
    "    \n",
    "    z = model.encode() #encode\n",
    "    link_logits = model.decode(z, data.train_pos_edge_index, neg_edge_index) # decode\n",
    "    \n",
    "    link_labels = get_link_labels(data.train_pos_edge_index, neg_edge_index)\n",
    "    loss = F.binary_cross_entropy_with_logits(link_logits, link_labels)\n",
    "    loss.backward()\n",
    "    optimizer.step()\n",
    "\n",
    "    return loss\n",
    "\n",
    "\n",
    "@torch.no_grad()\n",
    "def test():\n",
    "    model.eval()\n",
    "    perfs = []\n",
    "    for prefix in [\"val\", \"test\"]:\n",
    "        pos_edge_index = data[f'{prefix}_pos_edge_index']\n",
    "        neg_edge_index = data[f'{prefix}_neg_edge_index']\n",
    "\n",
    "        z = model.encode() # encode train\n",
    "        link_logits = model.decode(z, pos_edge_index, neg_edge_index) # decode test or val\n",
    "        link_probs = link_logits.sigmoid() # apply sigmoid\n",
    "        \n",
    "        link_labels = get_link_labels(pos_edge_index, neg_edge_index) # get link\n",
    "        \n",
    "        perfs.append(roc_auc_score(link_labels.cpu(), link_probs.cpu())) #compute roc_auc score\n",
    "    return perfs\n"
   ]
  },
  {
   "cell_type": "code",
   "execution_count": 44,
   "id": "d3ce266a",
   "metadata": {},
   "outputs": [
    {
     "name": "stdout",
     "output_type": "stream",
     "text": [
      "Epoch: 010, Loss: 4.1557, Val: 0.5327, Test: 0.5593\n",
      "Epoch: 020, Loss: 1.5846, Val: 0.5327, Test: 0.5593\n",
      "Epoch: 030, Loss: 0.8188, Val: 0.5327, Test: 0.5593\n",
      "Epoch: 040, Loss: 0.7282, Val: 0.5386, Test: 0.5664\n",
      "Epoch: 050, Loss: 0.6963, Val: 0.5458, Test: 0.5670\n",
      "Epoch: 060, Loss: 0.6902, Val: 0.5755, Test: 0.5771\n",
      "Epoch: 070, Loss: 0.6887, Val: 0.5815, Test: 0.5870\n",
      "Epoch: 080, Loss: 0.6889, Val: 0.5815, Test: 0.5870\n",
      "Epoch: 090, Loss: 0.6874, Val: 0.5886, Test: 0.6101\n",
      "Epoch: 100, Loss: 0.6875, Val: 0.5886, Test: 0.6101\n",
      "Epoch: 110, Loss: 0.6861, Val: 0.5886, Test: 0.6101\n",
      "Epoch: 120, Loss: 0.6831, Val: 0.5981, Test: 0.6271\n",
      "Epoch: 130, Loss: 0.6818, Val: 0.6005, Test: 0.6304\n",
      "Epoch: 140, Loss: 0.6805, Val: 0.6052, Test: 0.6378\n",
      "Epoch: 150, Loss: 0.6817, Val: 0.6052, Test: 0.6378\n",
      "Epoch: 160, Loss: 0.6737, Val: 0.6100, Test: 0.6476\n",
      "Epoch: 170, Loss: 0.6717, Val: 0.6159, Test: 0.6473\n",
      "Epoch: 180, Loss: 0.6730, Val: 0.6159, Test: 0.6473\n",
      "Epoch: 190, Loss: 0.6668, Val: 0.6159, Test: 0.6473\n",
      "Epoch: 200, Loss: 0.6652, Val: 0.6159, Test: 0.6473\n",
      "Epoch: 210, Loss: 0.6578, Val: 0.6159, Test: 0.6473\n",
      "Epoch: 220, Loss: 0.6552, Val: 0.6159, Test: 0.6473\n",
      "Epoch: 230, Loss: 0.6560, Val: 0.6159, Test: 0.6473\n",
      "Epoch: 240, Loss: 0.6514, Val: 0.6159, Test: 0.6473\n",
      "Epoch: 250, Loss: 0.6420, Val: 0.6159, Test: 0.6473\n",
      "Epoch: 260, Loss: 0.6408, Val: 0.6159, Test: 0.6473\n",
      "Epoch: 270, Loss: 0.6337, Val: 0.6159, Test: 0.6473\n",
      "Epoch: 280, Loss: 0.6332, Val: 0.6159, Test: 0.6473\n",
      "Epoch: 290, Loss: 0.6275, Val: 0.6159, Test: 0.6473\n",
      "Epoch: 300, Loss: 0.6332, Val: 0.6159, Test: 0.6473\n",
      "Epoch: 310, Loss: 0.6269, Val: 0.6159, Test: 0.6473\n",
      "Epoch: 320, Loss: 0.6264, Val: 0.6159, Test: 0.6473\n",
      "Epoch: 330, Loss: 0.6185, Val: 0.6159, Test: 0.6473\n",
      "Epoch: 340, Loss: 0.6367, Val: 0.6159, Test: 0.6473\n",
      "Epoch: 350, Loss: 0.6250, Val: 0.6159, Test: 0.6473\n",
      "Epoch: 360, Loss: 0.6351, Val: 0.6159, Test: 0.6473\n",
      "Epoch: 370, Loss: 0.6247, Val: 0.6159, Test: 0.6473\n",
      "Epoch: 380, Loss: 0.6285, Val: 0.6159, Test: 0.6473\n",
      "Epoch: 390, Loss: 0.6142, Val: 0.6159, Test: 0.6473\n",
      "Epoch: 400, Loss: 0.6321, Val: 0.6159, Test: 0.6473\n",
      "Epoch: 410, Loss: 0.6291, Val: 0.6159, Test: 0.6473\n",
      "Epoch: 420, Loss: 0.6290, Val: 0.6159, Test: 0.6473\n",
      "Epoch: 430, Loss: 0.6173, Val: 0.6159, Test: 0.6473\n",
      "Epoch: 440, Loss: 0.6147, Val: 0.6159, Test: 0.6473\n",
      "Epoch: 450, Loss: 0.6246, Val: 0.6159, Test: 0.6473\n",
      "Epoch: 460, Loss: 0.6188, Val: 0.6159, Test: 0.6473\n",
      "Epoch: 470, Loss: 0.6224, Val: 0.6159, Test: 0.6473\n",
      "Epoch: 480, Loss: 0.6265, Val: 0.6159, Test: 0.6473\n",
      "Epoch: 490, Loss: 0.6300, Val: 0.6159, Test: 0.6473\n",
      "Epoch: 500, Loss: 0.6303, Val: 0.6159, Test: 0.6473\n",
      "Epoch: 510, Loss: 0.6207, Val: 0.6159, Test: 0.6473\n",
      "Epoch: 520, Loss: 0.6273, Val: 0.6159, Test: 0.6473\n",
      "Epoch: 530, Loss: 0.6146, Val: 0.6159, Test: 0.6473\n",
      "Epoch: 540, Loss: 0.6327, Val: 0.6159, Test: 0.6473\n",
      "Epoch: 550, Loss: 0.6250, Val: 0.6159, Test: 0.6473\n",
      "Epoch: 560, Loss: 0.6230, Val: 0.6159, Test: 0.6473\n",
      "Epoch: 570, Loss: 0.6154, Val: 0.6159, Test: 0.6473\n",
      "Epoch: 580, Loss: 0.6177, Val: 0.6159, Test: 0.6473\n",
      "Epoch: 590, Loss: 0.6196, Val: 0.6159, Test: 0.6473\n",
      "Epoch: 600, Loss: 0.6241, Val: 0.6159, Test: 0.6473\n",
      "Epoch: 610, Loss: 0.6204, Val: 0.6159, Test: 0.6473\n",
      "Epoch: 620, Loss: 0.6226, Val: 0.6159, Test: 0.6473\n",
      "Epoch: 630, Loss: 0.6205, Val: 0.6159, Test: 0.6473\n",
      "Epoch: 640, Loss: 0.6207, Val: 0.6159, Test: 0.6473\n",
      "Epoch: 650, Loss: 0.6224, Val: 0.6159, Test: 0.6473\n",
      "Epoch: 660, Loss: 0.6077, Val: 0.6159, Test: 0.6473\n",
      "Epoch: 670, Loss: 0.6155, Val: 0.6159, Test: 0.6473\n",
      "Epoch: 680, Loss: 0.6119, Val: 0.6159, Test: 0.6473\n",
      "Epoch: 690, Loss: 0.6136, Val: 0.6159, Test: 0.6473\n",
      "Epoch: 700, Loss: 0.6095, Val: 0.6159, Test: 0.6473\n",
      "Epoch: 710, Loss: 0.6196, Val: 0.6159, Test: 0.6473\n",
      "Epoch: 720, Loss: 0.6218, Val: 0.6159, Test: 0.6473\n",
      "Epoch: 730, Loss: 0.6177, Val: 0.6159, Test: 0.6473\n",
      "Epoch: 740, Loss: 0.6216, Val: 0.6159, Test: 0.6473\n",
      "Epoch: 750, Loss: 0.6049, Val: 0.6159, Test: 0.6473\n",
      "Epoch: 760, Loss: 0.6075, Val: 0.6159, Test: 0.6473\n",
      "Epoch: 770, Loss: 0.6024, Val: 0.6159, Test: 0.6473\n",
      "Epoch: 780, Loss: 0.6018, Val: 0.6159, Test: 0.6473\n",
      "Epoch: 790, Loss: 0.6179, Val: 0.6159, Test: 0.6473\n",
      "Epoch: 800, Loss: 0.6171, Val: 0.6159, Test: 0.6473\n",
      "Epoch: 810, Loss: 0.6090, Val: 0.6159, Test: 0.6473\n",
      "Epoch: 820, Loss: 0.6119, Val: 0.6159, Test: 0.6473\n",
      "Epoch: 830, Loss: 0.6093, Val: 0.6159, Test: 0.6473\n",
      "Epoch: 840, Loss: 0.6072, Val: 0.6159, Test: 0.6473\n",
      "Epoch: 850, Loss: 0.6122, Val: 0.6159, Test: 0.6473\n",
      "Epoch: 860, Loss: 0.6002, Val: 0.6159, Test: 0.6473\n",
      "Epoch: 870, Loss: 0.5924, Val: 0.6159, Test: 0.6473\n",
      "Epoch: 880, Loss: 0.6063, Val: 0.6159, Test: 0.6556\n",
      "Epoch: 890, Loss: 0.5992, Val: 0.6159, Test: 0.6556\n",
      "Epoch: 900, Loss: 0.5992, Val: 0.6159, Test: 0.6556\n",
      "Epoch: 910, Loss: 0.5979, Val: 0.6171, Test: 0.6619\n",
      "Epoch: 920, Loss: 0.5857, Val: 0.6207, Test: 0.6648\n",
      "Epoch: 930, Loss: 0.5907, Val: 0.6231, Test: 0.6669\n",
      "Epoch: 940, Loss: 0.6016, Val: 0.6290, Test: 0.6654\n",
      "Epoch: 950, Loss: 0.5903, Val: 0.6290, Test: 0.6654\n",
      "Epoch: 960, Loss: 0.5837, Val: 0.6290, Test: 0.6654\n",
      "Epoch: 970, Loss: 0.5953, Val: 0.6290, Test: 0.6654\n",
      "Epoch: 980, Loss: 0.5846, Val: 0.6373, Test: 0.6443\n",
      "Epoch: 990, Loss: 0.5858, Val: 0.6373, Test: 0.6443\n",
      "Epoch: 1000, Loss: 0.5878, Val: 0.6373, Test: 0.6443\n"
     ]
    }
   ],
   "source": [
    "\n",
    "best_val_perf = test_perf = 0\n",
    "for epoch in range(1, 1001):\n",
    "    train_loss = train()\n",
    "    val_perf, tmp_test_perf = test()\n",
    "    if val_perf > best_val_perf:\n",
    "        best_val_perf = val_perf\n",
    "        test_perf = tmp_test_perf\n",
    "    log = 'Epoch: {:03d}, Loss: {:.4f}, Val: {:.4f}, Test: {:.4f}'\n",
    "    if epoch % 10 == 0:\n",
    "        print(log.format(epoch, train_loss, best_val_perf, test_perf))\n",
    "\n"
   ]
  },
  {
   "cell_type": "code",
   "execution_count": 45,
   "id": "85448884",
   "metadata": {
    "scrolled": true
   },
   "outputs": [
    {
     "name": "stdout",
     "output_type": "stream",
     "text": [
      "torch.Size([2, 588560])\n"
     ]
    }
   ],
   "source": [
    "z = model.encode()\n",
    "final_edge_index = model.decode_all(z)\n",
    "print(final_edge_index.shape)"
   ]
  },
  {
   "cell_type": "code",
   "execution_count": null,
   "id": "c5020c29",
   "metadata": {},
   "outputs": [],
   "source": []
  },
  {
   "cell_type": "code",
   "execution_count": null,
   "id": "c70b463b",
   "metadata": {},
   "outputs": [],
   "source": []
  },
  {
   "cell_type": "code",
   "execution_count": null,
   "id": "a17a1b93",
   "metadata": {},
   "outputs": [],
   "source": []
  },
  {
   "cell_type": "code",
   "execution_count": null,
   "id": "7e294bb1",
   "metadata": {},
   "outputs": [],
   "source": []
  },
  {
   "cell_type": "code",
   "execution_count": 46,
   "id": "8735f061",
   "metadata": {},
   "outputs": [],
   "source": [
    "torch.save(model, 'models/model_ep.pth')"
   ]
  },
  {
   "cell_type": "code",
   "execution_count": 49,
   "id": "db05d7d6",
   "metadata": {},
   "outputs": [
    {
     "name": "stdout",
     "output_type": "stream",
     "text": [
      "[0.6159334126040428, 0.656807372175981]\n"
     ]
    }
   ],
   "source": [
    "loaded_model = torch.load('models/model_ep.pth')\n",
    "test_acc = test()\n",
    "print(test_acc)"
   ]
  },
  {
   "cell_type": "code",
   "execution_count": null,
   "id": "caf3852c",
   "metadata": {
    "scrolled": false
   },
   "outputs": [],
   "source": []
  },
  {
   "cell_type": "code",
   "execution_count": null,
   "id": "79721ed3",
   "metadata": {
    "scrolled": true
   },
   "outputs": [],
   "source": []
  }
 ],
 "metadata": {
  "kernelspec": {
   "display_name": "Python [conda env:pyg_env]",
   "language": "python",
   "name": "conda-env-pyg_env-py"
  },
  "language_info": {
   "codemirror_mode": {
    "name": "ipython",
    "version": 3
   },
   "file_extension": ".py",
   "mimetype": "text/x-python",
   "name": "python",
   "nbconvert_exporter": "python",
   "pygments_lexer": "ipython3",
   "version": "3.10.4"
  }
 },
 "nbformat": 4,
 "nbformat_minor": 5
}
