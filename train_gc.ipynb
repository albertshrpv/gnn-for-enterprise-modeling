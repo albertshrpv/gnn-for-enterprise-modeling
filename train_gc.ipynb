{
 "cells": [
  {
   "cell_type": "code",
   "execution_count": 1,
   "id": "2b81d962",
   "metadata": {},
   "outputs": [],
   "source": [
    "# Helper function for visualization.\n",
    "%matplotlib inline\n",
    "import networkx as nx\n",
    "import matplotlib.pyplot as plt\n",
    "\n",
    "def visualize_graph(G, color):\n",
    "    plt.figure(figsize=(7,7))\n",
    "    plt.xticks([])\n",
    "    plt.yticks([])\n",
    "    nx.draw_networkx(G, pos=nx.spring_layout(G, seed=42), with_labels=False,\n",
    "                     node_color=color, cmap=\"Set2\")\n",
    "    plt.show()\n",
    "\n",
    "\n",
    "def visualize_embedding(h, color, epoch=None, loss=None):\n",
    "    plt.figure(figsize=(7,7))\n",
    "    plt.xticks([])\n",
    "    plt.yticks([])\n",
    "    h = h.detach().cpu().numpy()\n",
    "    plt.scatter(h[:, 0], h[:, 1], s=140, c=color, cmap=\"Set2\")\n",
    "    if epoch is not None and loss is not None:\n",
    "        plt.xlabel(f'Epoch: {epoch}, Loss: {loss.item():.4f}', fontsize=16)\n",
    "    plt.show()"
   ]
  },
  {
   "cell_type": "code",
   "execution_count": 56,
   "id": "64dc6fcd",
   "metadata": {},
   "outputs": [
    {
     "name": "stdout",
     "output_type": "stream",
     "text": [
      "DATASET LOADED\n",
      "Data(x=[42, 1], edge_index=[2, 40], edge_attr=[40, 1], y=[1])\n"
     ]
    },
    {
     "name": "stderr",
     "output_type": "stream",
     "text": [
      "Processing...\n",
      "Done!\n"
     ]
    }
   ],
   "source": [
    "%run dataset_gc.ipynb"
   ]
  },
  {
   "cell_type": "code",
   "execution_count": 83,
   "id": "0ba400b3",
   "metadata": {},
   "outputs": [
    {
     "name": "stdout",
     "output_type": "stream",
     "text": [
      "\n",
      "Dataset: EnterpriseModelDataset(54):\n",
      "====================\n",
      "Number of graphs: 54\n",
      "Number of features: 1\n",
      "Number of classes: 10\n",
      "\n",
      "Data(x=[48, 1], edge_index=[2, 51], edge_attr=[51, 1], y=[1])\n",
      "=============================================================\n",
      "Number of nodes: 48\n",
      "Number of edges: 51\n",
      "Average node degree: 1.06\n",
      "Has isolated nodes: False\n",
      "Has self-loops: False\n",
      "Is undirected: False\n",
      "\n",
      "=============================================================\n",
      "tensor([11.])\n",
      "torch.Size([51, 1])\n",
      "tensor([8])\n"
     ]
    }
   ],
   "source": [
    "torch.manual_seed(42)\n",
    "dataset = dataset_gc.shuffle()\n",
    "\n",
    "print()\n",
    "print(f'Dataset: {dataset}:')\n",
    "print('====================')\n",
    "print(f'Number of graphs: {len(dataset)}')\n",
    "print(f'Number of features: {dataset.num_features}')\n",
    "print(f'Number of classes: {dataset.num_classes}')\n",
    "\n",
    "data = dataset[0]  # Get the first graph object.\n",
    "\n",
    "print()\n",
    "print(data)\n",
    "print('=============================================================')\n",
    "\n",
    "# Gather some statistics about the first graph.\n",
    "print(f'Number of nodes: {data.num_nodes}')\n",
    "print(f'Number of edges: {data.num_edges}')\n",
    "print(f'Average node degree: {data.num_edges / data.num_nodes:.2f}')\n",
    "print(f'Has isolated nodes: {data.has_isolated_nodes()}')\n",
    "print(f'Has self-loops: {data.has_self_loops()}')\n",
    "print(f'Is undirected: {data.is_undirected()}')\n",
    "\n",
    "print()\n",
    "print('=============================================================')\n",
    "\n",
    "print(data.x[0])\n",
    "print(data.edge_attr.shape)\n",
    "print(data.y)"
   ]
  },
  {
   "cell_type": "code",
   "execution_count": 84,
   "id": "a6408198",
   "metadata": {},
   "outputs": [
    {
     "name": "stdout",
     "output_type": "stream",
     "text": [
      "Number of graphs total: 54\n",
      "Number of training graphs: 35\n",
      "Number of test graphs: 36\n"
     ]
    }
   ],
   "source": [
    "torch.manual_seed(42)\n",
    "dataset = dataset.shuffle()\n",
    "\n",
    "train_dataset = dataset[:int(len(dataset) * 0.65)]\n",
    "test_dataset = dataset[int(len(dataset) * 0.35):]\n",
    "\n",
    "print(f'Number of graphs total: {len(dataset)}')\n",
    "print(f'Number of training graphs: {len(train_dataset)}')\n",
    "print(f'Number of test graphs: {len(test_dataset)}')"
   ]
  },
  {
   "cell_type": "code",
   "execution_count": 75,
   "id": "d583b9fe",
   "metadata": {},
   "outputs": [],
   "source": [
    "from torch_geometric.loader import DataLoader\n",
    "\n",
    "NUM_GRAPHS_PER_BATCH = 6\n",
    "NUM_HIDDEN_CHANNELS = 32\n",
    "\n",
    "train_loader = DataLoader(train_dataset, batch_size=NUM_GRAPHS_PER_BATCH, shuffle=True)\n",
    "test_loader = DataLoader(test_dataset, batch_size=NUM_GRAPHS_PER_BATCH, shuffle=True)\n",
    "\n",
    "#for step, data in enumerate(train_loader):\n",
    "    #print(f'Step {step + 1}:')\n",
    "    #print('=======')\n",
    "    #print(f'Number of graphs in the current batch: {data.num_graphs}')\n",
    "    #print(data)\n",
    "    #print()"
   ]
  },
  {
   "cell_type": "code",
   "execution_count": 76,
   "id": "11723458",
   "metadata": {},
   "outputs": [],
   "source": [
    "from torch.nn import Linear\n",
    "import torch.nn.functional as F\n",
    "from torch_geometric.nn import GCNConv, GraphConv, SAGEConv\n",
    "from torch_geometric.nn import global_mean_pool\n",
    "\n",
    "\n",
    "class GCN(torch.nn.Module):\n",
    "    def __init__(self, hidden_channels):\n",
    "        super(GCN, self).__init__()\n",
    "        torch.manual_seed(42)\n",
    "        self.conv1 = SAGEConv(dataset.num_node_features, 2 * hidden_channels)\n",
    "        self.conv2 = SAGEConv(2 * hidden_channels, 4 *  hidden_channels)\n",
    "        self.conv3 = SAGEConv(4 * hidden_channels, 2 * hidden_channels)\n",
    "        self.lin1 = Linear(2 * hidden_channels, hidden_channels)\n",
    "        self.lin2 = Linear(hidden_channels, dataset.num_classes)\n",
    "\n",
    "    def forward(self, x, edge_index, batch):\n",
    "        x = self.conv1(x, edge_index)\n",
    "        x = x.relu()\n",
    "        x = self.conv2(x, edge_index)\n",
    "        x = x.relu()\n",
    "        x = self.conv3(x, edge_index)\n",
    "\n",
    "        x = global_mean_pool(x, batch)  # [batch_size, hidden_channels]\n",
    "\n",
    "#         x = F.dropout(x, p=0.5, training=self.training)\n",
    "        x = self.lin1(x)\n",
    "        x = self.lin2(x)\n",
    "        \n",
    "        return x\n"
   ]
  },
  {
   "cell_type": "code",
   "execution_count": 78,
   "id": "85a7fe66",
   "metadata": {
    "scrolled": true
   },
   "outputs": [
    {
     "name": "stdout",
     "output_type": "stream",
     "text": [
      "GCN(\n",
      "  (conv1): SAGEConv(1, 64)\n",
      "  (conv2): SAGEConv(64, 128)\n",
      "  (conv3): SAGEConv(128, 64)\n",
      "  (lin1): Linear(in_features=64, out_features=32, bias=True)\n",
      "  (lin2): Linear(in_features=32, out_features=10, bias=True)\n",
      ")\n",
      "Number of parameters:  35562\n",
      "Epoch: 001, Loss: 2.6992, Train Acc: 0.1143, Test Acc: 0.1111\n",
      "Epoch: 002, Loss: 2.7856, Train Acc: 0.4571, Test Acc: 0.3333\n",
      "Epoch: 003, Loss: 1.7511, Train Acc: 0.4571, Test Acc: 0.3333\n",
      "Epoch: 004, Loss: 1.6107, Train Acc: 0.4857, Test Acc: 0.3611\n",
      "Epoch: 005, Loss: 2.3084, Train Acc: 0.4571, Test Acc: 0.3333\n",
      "Epoch: 006, Loss: 1.2182, Train Acc: 0.4857, Test Acc: 0.3611\n",
      "Epoch: 007, Loss: 1.3010, Train Acc: 0.4857, Test Acc: 0.3611\n",
      "Epoch: 008, Loss: 2.3873, Train Acc: 0.4571, Test Acc: 0.3333\n",
      "Epoch: 009, Loss: 2.3667, Train Acc: 0.5429, Test Acc: 0.4444\n",
      "Epoch: 010, Loss: 1.7154, Train Acc: 0.1429, Test Acc: 0.1389\n",
      "Epoch: 011, Loss: 1.9828, Train Acc: 0.1143, Test Acc: 0.1389\n",
      "Epoch: 012, Loss: 2.2546, Train Acc: 0.1429, Test Acc: 0.1389\n",
      "Epoch: 013, Loss: 2.1686, Train Acc: 0.3714, Test Acc: 0.2500\n",
      "Epoch: 014, Loss: 2.3745, Train Acc: 0.4857, Test Acc: 0.3611\n",
      "Epoch: 015, Loss: 1.5501, Train Acc: 0.4857, Test Acc: 0.3611\n",
      "Epoch: 016, Loss: 1.2414, Train Acc: 0.4571, Test Acc: 0.3889\n",
      "Epoch: 017, Loss: 1.0881, Train Acc: 0.4571, Test Acc: 0.3611\n",
      "Epoch: 018, Loss: 2.6838, Train Acc: 0.4571, Test Acc: 0.3889\n",
      "Epoch: 019, Loss: 2.5984, Train Acc: 0.4571, Test Acc: 0.3889\n",
      "Epoch: 020, Loss: 0.8634, Train Acc: 0.5143, Test Acc: 0.3889\n",
      "Epoch: 021, Loss: 1.4186, Train Acc: 0.5143, Test Acc: 0.3889\n",
      "Epoch: 022, Loss: 1.1581, Train Acc: 0.4857, Test Acc: 0.3333\n",
      "Epoch: 023, Loss: 1.2205, Train Acc: 0.6000, Test Acc: 0.4722\n",
      "Epoch: 024, Loss: 0.9681, Train Acc: 0.6000, Test Acc: 0.4722\n",
      "Epoch: 025, Loss: 1.7249, Train Acc: 0.6000, Test Acc: 0.4722\n",
      "Epoch: 026, Loss: 1.0373, Train Acc: 0.5714, Test Acc: 0.4167\n",
      "Epoch: 027, Loss: 1.7423, Train Acc: 0.5714, Test Acc: 0.4167\n",
      "Epoch: 028, Loss: 2.4731, Train Acc: 0.5714, Test Acc: 0.4167\n",
      "Epoch: 029, Loss: 0.8415, Train Acc: 0.5429, Test Acc: 0.4167\n",
      "Epoch: 030, Loss: 1.1493, Train Acc: 0.5429, Test Acc: 0.3889\n",
      "Epoch: 031, Loss: 2.0809, Train Acc: 0.5714, Test Acc: 0.4167\n",
      "Epoch: 032, Loss: 0.9339, Train Acc: 0.5714, Test Acc: 0.4167\n",
      "Epoch: 033, Loss: 1.0674, Train Acc: 0.5714, Test Acc: 0.4167\n",
      "Epoch: 034, Loss: 0.9249, Train Acc: 0.6000, Test Acc: 0.4444\n",
      "Epoch: 035, Loss: 1.6291, Train Acc: 0.6000, Test Acc: 0.4444\n",
      "Epoch: 036, Loss: 1.6334, Train Acc: 0.6000, Test Acc: 0.4167\n",
      "Epoch: 037, Loss: 1.1717, Train Acc: 0.6286, Test Acc: 0.4444\n",
      "Epoch: 038, Loss: 1.1994, Train Acc: 0.6000, Test Acc: 0.4444\n",
      "Epoch: 039, Loss: 0.8942, Train Acc: 0.6000, Test Acc: 0.4444\n",
      "Epoch: 040, Loss: 0.6943, Train Acc: 0.6000, Test Acc: 0.4444\n",
      "Epoch: 041, Loss: 1.0993, Train Acc: 0.6000, Test Acc: 0.4167\n",
      "Epoch: 042, Loss: 1.5151, Train Acc: 0.6000, Test Acc: 0.4444\n",
      "Epoch: 043, Loss: 0.7644, Train Acc: 0.6000, Test Acc: 0.4444\n",
      "Epoch: 044, Loss: 0.2534, Train Acc: 0.6000, Test Acc: 0.4444\n",
      "Epoch: 045, Loss: 1.1991, Train Acc: 0.6571, Test Acc: 0.4722\n",
      "Epoch: 046, Loss: 1.7585, Train Acc: 0.6571, Test Acc: 0.4444\n",
      "Epoch: 047, Loss: 1.4702, Train Acc: 0.6857, Test Acc: 0.4167\n",
      "Epoch: 048, Loss: 1.3131, Train Acc: 0.6857, Test Acc: 0.4444\n",
      "Epoch: 049, Loss: 0.3012, Train Acc: 0.7429, Test Acc: 0.5556\n",
      "Epoch: 050, Loss: 0.9788, Train Acc: 0.7143, Test Acc: 0.5000\n",
      "Epoch: 051, Loss: 0.4924, Train Acc: 0.6286, Test Acc: 0.4444\n",
      "Epoch: 052, Loss: 0.8690, Train Acc: 0.6000, Test Acc: 0.4167\n",
      "Epoch: 053, Loss: 0.7526, Train Acc: 0.6000, Test Acc: 0.4167\n",
      "Epoch: 054, Loss: 2.0942, Train Acc: 0.6571, Test Acc: 0.5000\n",
      "Epoch: 055, Loss: 0.9058, Train Acc: 0.6571, Test Acc: 0.5000\n",
      "Epoch: 056, Loss: 0.1925, Train Acc: 0.6571, Test Acc: 0.5000\n",
      "Epoch: 057, Loss: 0.8071, Train Acc: 0.5714, Test Acc: 0.4167\n",
      "Epoch: 058, Loss: 1.0870, Train Acc: 0.5714, Test Acc: 0.4167\n",
      "Epoch: 059, Loss: 1.3974, Train Acc: 0.6286, Test Acc: 0.4444\n",
      "Epoch: 060, Loss: 1.0542, Train Acc: 0.6571, Test Acc: 0.4722\n",
      "Epoch: 061, Loss: 0.9427, Train Acc: 0.6286, Test Acc: 0.4722\n",
      "Epoch: 062, Loss: 1.1409, Train Acc: 0.6286, Test Acc: 0.5000\n",
      "Epoch: 063, Loss: 0.7884, Train Acc: 0.6571, Test Acc: 0.4722\n",
      "Epoch: 064, Loss: 0.7785, Train Acc: 0.6000, Test Acc: 0.5000\n",
      "Epoch: 065, Loss: 1.0945, Train Acc: 0.6286, Test Acc: 0.5278\n",
      "Epoch: 066, Loss: 0.9639, Train Acc: 0.6571, Test Acc: 0.6111\n",
      "Epoch: 067, Loss: 1.0508, Train Acc: 0.6286, Test Acc: 0.5833\n",
      "Epoch: 068, Loss: 0.7415, Train Acc: 0.6286, Test Acc: 0.5556\n",
      "Epoch: 069, Loss: 1.1325, Train Acc: 0.6571, Test Acc: 0.5278\n",
      "Epoch: 070, Loss: 0.7243, Train Acc: 0.6000, Test Acc: 0.5000\n",
      "Epoch: 071, Loss: 0.3496, Train Acc: 0.6000, Test Acc: 0.5000\n",
      "Epoch: 072, Loss: 0.6013, Train Acc: 0.6571, Test Acc: 0.5556\n",
      "Epoch: 073, Loss: 1.4251, Train Acc: 0.7143, Test Acc: 0.6389\n",
      "Epoch: 074, Loss: 0.6433, Train Acc: 0.7143, Test Acc: 0.6667\n",
      "Epoch: 075, Loss: 1.0565, Train Acc: 0.6857, Test Acc: 0.6389\n",
      "Epoch: 076, Loss: 1.3729, Train Acc: 0.7143, Test Acc: 0.6944\n",
      "Epoch: 077, Loss: 0.7497, Train Acc: 0.7143, Test Acc: 0.6944\n",
      "Epoch: 078, Loss: 0.8075, Train Acc: 0.6571, Test Acc: 0.6111\n",
      "Epoch: 079, Loss: 2.2834, Train Acc: 0.7143, Test Acc: 0.6111\n",
      "Epoch: 080, Loss: 0.4969, Train Acc: 0.7143, Test Acc: 0.6667\n",
      "Epoch: 081, Loss: 0.6798, Train Acc: 0.7143, Test Acc: 0.6667\n",
      "Epoch: 082, Loss: 0.6442, Train Acc: 0.7143, Test Acc: 0.6667\n",
      "Epoch: 083, Loss: 0.7668, Train Acc: 0.7429, Test Acc: 0.6389\n",
      "Epoch: 084, Loss: 0.4634, Train Acc: 0.6857, Test Acc: 0.6389\n",
      "Epoch: 085, Loss: 1.2034, Train Acc: 0.7143, Test Acc: 0.6667\n",
      "Epoch: 086, Loss: 0.6871, Train Acc: 0.8000, Test Acc: 0.6667\n",
      "Epoch: 087, Loss: 0.7017, Train Acc: 0.7714, Test Acc: 0.6111\n",
      "Epoch: 088, Loss: 0.4535, Train Acc: 0.6857, Test Acc: 0.5278\n",
      "Epoch: 089, Loss: 0.9156, Train Acc: 0.6571, Test Acc: 0.5000\n",
      "Epoch: 090, Loss: 0.4740, Train Acc: 0.6571, Test Acc: 0.5556\n",
      "Epoch: 091, Loss: 0.9347, Train Acc: 0.6571, Test Acc: 0.5000\n",
      "Epoch: 092, Loss: 0.7406, Train Acc: 0.6857, Test Acc: 0.5000\n",
      "Epoch: 093, Loss: 1.3042, Train Acc: 0.6857, Test Acc: 0.5556\n",
      "Epoch: 094, Loss: 0.4389, Train Acc: 0.6857, Test Acc: 0.5556\n",
      "Epoch: 095, Loss: 0.4471, Train Acc: 0.7429, Test Acc: 0.5833\n",
      "Epoch: 096, Loss: 1.2137, Train Acc: 0.7143, Test Acc: 0.5556\n",
      "Epoch: 097, Loss: 0.3327, Train Acc: 0.7429, Test Acc: 0.5556\n",
      "Epoch: 098, Loss: 1.0558, Train Acc: 0.7714, Test Acc: 0.5556\n",
      "Epoch: 099, Loss: 1.7151, Train Acc: 0.6857, Test Acc: 0.4722\n",
      "Epoch: 100, Loss: 0.7099, Train Acc: 0.7143, Test Acc: 0.5278\n",
      "Epoch: 101, Loss: 1.3661, Train Acc: 0.7714, Test Acc: 0.6944\n",
      "Epoch: 102, Loss: 0.3925, Train Acc: 0.8000, Test Acc: 0.6667\n",
      "Epoch: 103, Loss: 0.2871, Train Acc: 0.7143, Test Acc: 0.7222\n",
      "Epoch: 104, Loss: 0.1856, Train Acc: 0.7143, Test Acc: 0.6944\n",
      "Epoch: 105, Loss: 0.7635, Train Acc: 0.6857, Test Acc: 0.6389\n",
      "Epoch: 106, Loss: 0.1710, Train Acc: 0.6857, Test Acc: 0.6111\n",
      "Epoch: 107, Loss: 0.7115, Train Acc: 0.6857, Test Acc: 0.6389\n",
      "Epoch: 108, Loss: 1.0730, Train Acc: 0.7143, Test Acc: 0.7222\n",
      "Epoch: 109, Loss: 0.4212, Train Acc: 0.6857, Test Acc: 0.6944\n",
      "Epoch: 110, Loss: 0.2159, Train Acc: 0.6857, Test Acc: 0.6944\n",
      "Epoch: 111, Loss: 0.7384, Train Acc: 0.6571, Test Acc: 0.6944\n",
      "Epoch: 112, Loss: 0.7530, Train Acc: 0.6571, Test Acc: 0.6389\n",
      "Epoch: 113, Loss: 0.8853, Train Acc: 0.6571, Test Acc: 0.6389\n",
      "Epoch: 114, Loss: 0.6838, Train Acc: 0.6571, Test Acc: 0.6111\n",
      "Epoch: 115, Loss: 4.0837, Train Acc: 0.7143, Test Acc: 0.6667\n",
      "Epoch: 116, Loss: 2.7257, Train Acc: 0.8000, Test Acc: 0.7222\n",
      "Epoch: 117, Loss: 0.3960, Train Acc: 0.7429, Test Acc: 0.7500\n",
      "Epoch: 118, Loss: 0.6255, Train Acc: 0.6571, Test Acc: 0.6944\n",
      "Epoch: 119, Loss: 1.2314, Train Acc: 0.6571, Test Acc: 0.6667\n",
      "Epoch: 120, Loss: 0.8875, Train Acc: 0.7714, Test Acc: 0.7222\n",
      "Epoch: 121, Loss: 1.0303, Train Acc: 0.8000, Test Acc: 0.7222\n",
      "Epoch: 122, Loss: 0.7500, Train Acc: 0.7714, Test Acc: 0.6944\n",
      "Epoch: 123, Loss: 0.5744, Train Acc: 0.8000, Test Acc: 0.7222\n",
      "Epoch: 124, Loss: 1.3304, Train Acc: 0.8286, Test Acc: 0.7500\n",
      "Epoch: 125, Loss: 0.9784, Train Acc: 0.8000, Test Acc: 0.6944\n",
      "Epoch: 126, Loss: 0.5086, Train Acc: 0.7143, Test Acc: 0.6111\n",
      "Epoch: 127, Loss: 0.6238, Train Acc: 0.7143, Test Acc: 0.6111\n",
      "Epoch: 128, Loss: 1.6579, Train Acc: 0.7143, Test Acc: 0.6389\n",
      "Epoch: 129, Loss: 0.9025, Train Acc: 0.7429, Test Acc: 0.6667\n",
      "Epoch: 130, Loss: 0.3511, Train Acc: 0.7714, Test Acc: 0.6944\n"
     ]
    },
    {
     "name": "stdout",
     "output_type": "stream",
     "text": [
      "Epoch: 131, Loss: 1.1483, Train Acc: 0.7714, Test Acc: 0.6667\n",
      "Epoch: 132, Loss: 0.4454, Train Acc: 0.7714, Test Acc: 0.6944\n",
      "Epoch: 133, Loss: 0.5357, Train Acc: 0.7714, Test Acc: 0.7222\n",
      "Epoch: 134, Loss: 0.8674, Train Acc: 0.7714, Test Acc: 0.7222\n",
      "Epoch: 135, Loss: 1.2321, Train Acc: 0.7714, Test Acc: 0.7500\n",
      "Epoch: 136, Loss: 0.2795, Train Acc: 0.8286, Test Acc: 0.8333\n"
     ]
    },
    {
     "data": {
      "image/png": "[encoded data removed]",
      "text/plain": [
       "<Figure size 640x480 with 1 Axes>"
      ]
     },
     "metadata": {},
     "output_type": "display_data"
    }
   ],
   "source": [
    "model = GCN(hidden_channels=NUM_HIDDEN_CHANNELS)\n",
    "print(model)\n",
    "print(\"Number of parameters: \", sum(p.numel() for p in model.parameters()))\n",
    "\n",
    "optimizer = torch.optim.Adam(model.parameters(), lr=0.005)\n",
    "criterion = torch.nn.CrossEntropyLoss()\n",
    "\n",
    "def train():\n",
    "    model.train()\n",
    "\n",
    "    for data in train_loader:\n",
    "        out = model(data.x, data.edge_index, data.batch)\n",
    "        loss = criterion(out, data.y)\n",
    "        loss.backward()\n",
    "        optimizer.step()\n",
    "        optimizer.zero_grad()\n",
    "        return loss\n",
    "\n",
    "def test(loader):\n",
    "    model.eval()\n",
    "    correct = 0\n",
    "    for data in loader:\n",
    "        out = model(data.x, data.edge_index, data.batch)  \n",
    "        pred = out.argmax(dim=1)\n",
    "        correct += int((pred == data.y).sum())\n",
    "    return correct / len(loader.dataset)\n",
    "\n",
    "loss_values = []\n",
    "train_acc_values = []\n",
    "acc_values = []\n",
    "\n",
    "for epoch in range(1, 251):\n",
    "    loss = train()\n",
    "    train_acc = test(train_loader)\n",
    "    test_acc = test(test_loader)\n",
    "        \n",
    "    loss_values.append(loss)\n",
    "    acc_values.append(test_acc)\n",
    "    train_acc_values.append(train_acc)\n",
    "    print(f'Epoch: {epoch:03d}, Loss: {loss:.4f}, Train Acc: {train_acc:.4f}, Test Acc: {test_acc:.4f}')\n",
    "    if(test_acc > 0.81):\n",
    "        break\n",
    "\n",
    "plt.plot( acc_values, 'b', train_acc_values, 'g')\n",
    "plt.show()"
   ]
  },
  {
   "cell_type": "markdown",
   "id": "72c81f46",
   "metadata": {},
   "source": [
    "### Fragen:\n",
    "\n",
    "- \"Generation of test enterprise models\" <- was genau ist damit gemeint, bzw. was kann ich mir darunter vorstellen\n",
    "        - \"For testing purposes, several enterprise models were built with definitely correct and wrong elements.\"\n",
    "        -> was kann ich mir darunter vorstellen?  gibt es die noch?\n",
    "- wie relevant ist überhaupt die technische Umsetzung, also wie detailliert sollte ich meine Schritte beschreiben\n",
    "- gibt es noch mehr Modelle, die ich benutzen könnte?\n",
    "- Alle benutzten Layer, act.F. Algorithmen etc. im Vornherein erläutern oder währenddessen?\n",
    "- Hyperparameteroptimierung sinnvoll oder nicht (weil nur POC oder so)\n",
    "- Fragen link prediction\n",
    "mermaid"
   ]
  },
  {
   "cell_type": "code",
   "execution_count": 79,
   "id": "f9675d10",
   "metadata": {},
   "outputs": [],
   "source": [
    "torch.save(model, 'models/model_gc.pth')"
   ]
  },
  {
   "cell_type": "code",
   "execution_count": 80,
   "id": "6f2e2a40",
   "metadata": {},
   "outputs": [],
   "source": [
    "loaded_model = torch.load('models/model_gc.pth')"
   ]
  },
  {
   "cell_type": "code",
   "execution_count": 81,
   "id": "6cab175c",
   "metadata": {},
   "outputs": [
    {
     "data": {
      "text/plain": [
       "GCN(\n",
       "  (conv1): SAGEConv(1, 64)\n",
       "  (conv2): SAGEConv(64, 128)\n",
       "  (conv3): SAGEConv(128, 64)\n",
       "  (lin1): Linear(in_features=64, out_features=32, bias=True)\n",
       "  (lin2): Linear(in_features=32, out_features=10, bias=True)\n",
       ")"
      ]
     },
     "execution_count": 81,
     "metadata": {},
     "output_type": "execute_result"
    }
   ],
   "source": [
    "loaded_model.eval()"
   ]
  },
  {
   "cell_type": "code",
   "execution_count": 85,
   "id": "ce61363d",
   "metadata": {},
   "outputs": [
    {
     "name": "stdout",
     "output_type": "stream",
     "text": [
      "Test Acc: 0.8333\n"
     ]
    }
   ],
   "source": [
    "def test_loaded(loader):\n",
    "    loaded_model.eval()\n",
    "    correct = 0\n",
    "    for data in loader:  # Iterate in batches over the training/test dataset.\n",
    "        out = loaded_model(data.x, data.edge_index, data.batch)  \n",
    "        pred = out.argmax(dim=1)  # Use the class with highest probability.\n",
    "        correct += int((pred == data.y).sum())  # Check against ground-truth labels.\n",
    "    return correct / len(loader.dataset)  # Derive ratio of correct predictions.\n",
    "\n",
    "test_acc = test_loaded(test_loader)\n",
    "print(f'Test Acc: {test_acc:.4f}')"
   ]
  },
  {
   "cell_type": "code",
   "execution_count": null,
   "id": "ed36b993",
   "metadata": {},
   "outputs": [],
   "source": []
  },
  {
   "cell_type": "code",
   "execution_count": null,
   "id": "2fa0e5cf",
   "metadata": {},
   "outputs": [],
   "source": []
  }
 ],
 "metadata": {
  "kernelspec": {
   "display_name": "Python [conda env:pyg_env]",
   "language": "python",
   "name": "conda-env-pyg_env-py"
  },
  "language_info": {
   "codemirror_mode": {
    "name": "ipython",
    "version": 3
   },
   "file_extension": ".py",
   "mimetype": "text/x-python",
   "name": "python",
   "nbconvert_exporter": "python",
   "pygments_lexer": "ipython3",
   "version": "3.10.4"
  }
 },
 "nbformat": 4,
 "nbformat_minor": 5
}
