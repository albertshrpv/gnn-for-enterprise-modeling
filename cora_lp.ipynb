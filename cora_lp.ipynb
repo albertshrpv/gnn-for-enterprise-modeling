{
 "cells": [
  {
   "cell_type": "markdown",
   "id": "d5a75066",
   "metadata": {},
   "source": [
    "Reference: https://github.com/pyg-team/pytorch_geometric/blob/master/examples/link_pred.py"
   ]
  },
  {
   "cell_type": "code",
   "execution_count": 1,
   "id": "2de277d1",
   "metadata": {},
   "outputs": [],
   "source": [
    "import os.path as osp\n",
    "\n",
    "import torch\n",
    "from sklearn.metrics import roc_auc_score\n",
    "import matplotlib.pyplot as plt\n",
    "\n",
    "import torch_geometric.transforms as T\n",
    "from torch_geometric.datasets import Planetoid\n",
    "from torch_geometric.nn import GCNConv\n",
    "from torch_geometric.utils import negative_sampling\n",
    "\n",
    "device = torch.device('cuda' if torch.cuda.is_available() else 'cpu')"
   ]
  },
  {
   "cell_type": "code",
   "execution_count": 3,
   "id": "e704c618",
   "metadata": {},
   "outputs": [
    {
     "name": "stdout",
     "output_type": "stream",
     "text": [
      "Cora()\n"
     ]
    }
   ],
   "source": [
    "transform = T.Compose([\n",
    "    T.NormalizeFeatures(),\n",
    "    T.ToDevice(device),\n",
    "    T.RandomLinkSplit(num_val=0.10, num_test=0.20, neg_sampling_ratio = 1.0,\n",
    "                  is_undirected=True, add_negative_train_samples=False),\n",
    "])\n",
    "dataset = Planetoid('./data/Planetoid', name='Cora')\n",
    "print(dataset)"
   ]
  },
  {
   "cell_type": "code",
   "execution_count": 4,
   "id": "c621ec61",
   "metadata": {},
   "outputs": [
    {
     "data": {
      "text/plain": [
       "Data(x=[2708, 1433], edge_index=[2, 10556], y=[2708], train_mask=[2708], val_mask=[2708], test_mask=[2708])"
      ]
     },
     "execution_count": 4,
     "metadata": {},
     "output_type": "execute_result"
    }
   ],
   "source": [
    "data = dataset[0]\n",
    "data"
   ]
  },
  {
   "cell_type": "code",
   "execution_count": 5,
   "id": "413c6339",
   "metadata": {},
   "outputs": [],
   "source": [
    "data = transform(data)"
   ]
  },
  {
   "cell_type": "code",
   "execution_count": 6,
   "id": "ba87cf36",
   "metadata": {},
   "outputs": [
    {
     "name": "stdout",
     "output_type": "stream",
     "text": [
      "Data(x=[2708, 1433], edge_index=[2, 7392], y=[2708], train_mask=[2708], val_mask=[2708], test_mask=[2708], edge_label=[3696], edge_label_index=[2, 3696])\n",
      "Data(x=[2708, 1433], edge_index=[2, 7392], y=[2708], train_mask=[2708], val_mask=[2708], test_mask=[2708], edge_label=[1054], edge_label_index=[2, 1054])\n",
      "Data(x=[2708, 1433], edge_index=[2, 8446], y=[2708], train_mask=[2708], val_mask=[2708], test_mask=[2708], edge_label=[2110], edge_label_index=[2, 2110])\n"
     ]
    }
   ],
   "source": [
    "train_data, val_data, test_data = data\n",
    "print(train_data)\n",
    "print(val_data)\n",
    "print(test_data)"
   ]
  },
  {
   "cell_type": "code",
   "execution_count": 7,
   "id": "45717584",
   "metadata": {},
   "outputs": [],
   "source": [
    "class GCN(torch.nn.Module):\n",
    "    def __init__(self, in_channels, hidden_channels, out_channels):\n",
    "        super().__init__()\n",
    "        self.conv1 = GCNConv(in_channels, hidden_channels)\n",
    "        self.conv2 = GCNConv(hidden_channels, out_channels)\n",
    "\n",
    "    def encode(self, x, edge_index):\n",
    "        x = self.conv1(x, edge_index).relu()\n",
    "        x = self.conv2(x, edge_index)\n",
    "        return x\n",
    "\n",
    "    def decode(self, z, edge_label_index):\n",
    "        return (z[edge_label_index[0]] * z[edge_label_index[1]]).sum(dim=-1)\n",
    "\n",
    "    def decode_all(self, z):\n",
    "        p_adj = z @ z.t()\n",
    "        return (p_adj > 0).nonzero(as_tuple=False).t()"
   ]
  },
  {
   "cell_type": "code",
   "execution_count": 8,
   "id": "78d7d0e2",
   "metadata": {},
   "outputs": [],
   "source": [
    "model = GCN(dataset.num_features, 128, 64).to(device)\n",
    "optimizer = torch.optim.Adam(params=model.parameters(), lr=0.01)\n",
    "criterion = torch.nn.BCEWithLogitsLoss()"
   ]
  },
  {
   "cell_type": "code",
   "execution_count": 9,
   "id": "735f9301",
   "metadata": {},
   "outputs": [],
   "source": [
    "def train():\n",
    "    model.train()\n",
    "    optimizer.zero_grad()\n",
    "    z = model.encode(train_data.x, train_data.edge_index)\n",
    "\n",
    "    neg_edge_index = negative_sampling(\n",
    "        edge_index=train_data.edge_index, num_nodes=train_data.num_nodes,\n",
    "        num_neg_samples=train_data.edge_label_index.size(1))\n",
    "\n",
    "    edge_label_index = torch.cat(\n",
    "        [train_data.edge_label_index, neg_edge_index],\n",
    "        dim=-1,\n",
    "    )\n",
    "    edge_label = torch.cat([\n",
    "        train_data.edge_label,\n",
    "        train_data.edge_label.new_zeros(neg_edge_index.size(1))\n",
    "    ], dim=0)\n",
    "\n",
    "    out = model.decode(z, edge_label_index).view(-1)\n",
    "    loss = criterion(out, edge_label)\n",
    "    loss.backward()\n",
    "    optimizer.step()\n",
    "    return loss\n",
    "\n",
    "\n",
    "@torch.no_grad()\n",
    "def test(data):\n",
    "    model.eval()\n",
    "    z = model.encode(data.x, data.edge_index)\n",
    "    out = model.decode(z, data.edge_label_index).view(-1).sigmoid()\n",
    "    return roc_auc_score(data.edge_label.cpu().numpy(), out.cpu().numpy())\n",
    "\n"
   ]
  },
  {
   "cell_type": "code",
   "execution_count": 10,
   "id": "c981c92b",
   "metadata": {
    "scrolled": false
   },
   "outputs": [
    {
     "name": "stdout",
     "output_type": "stream",
     "text": [
      "Epoch: 001, Loss: 0.6930, Val: 0.6804, Test: 0.6949\n",
      "Epoch: 002, Loss: 0.6824, Val: 0.6728, Test: 0.6846\n",
      "Epoch: 003, Loss: 0.7122, Val: 0.6784, Test: 0.6893\n",
      "Epoch: 004, Loss: 0.6773, Val: 0.6953, Test: 0.7012\n",
      "Epoch: 005, Loss: 0.6852, Val: 0.7255, Test: 0.7282\n",
      "Epoch: 006, Loss: 0.6888, Val: 0.7631, Test: 0.7594\n",
      "Epoch: 007, Loss: 0.6900, Val: 0.7555, Test: 0.7477\n",
      "Epoch: 008, Loss: 0.6898, Val: 0.7375, Test: 0.7278\n",
      "Epoch: 009, Loss: 0.6882, Val: 0.7282, Test: 0.7192\n",
      "Epoch: 010, Loss: 0.6847, Val: 0.7201, Test: 0.7142\n",
      "Epoch: 011, Loss: 0.6796, Val: 0.7132, Test: 0.7095\n",
      "Epoch: 012, Loss: 0.6743, Val: 0.7086, Test: 0.7060\n",
      "Epoch: 013, Loss: 0.6750, Val: 0.7104, Test: 0.7065\n",
      "Epoch: 014, Loss: 0.6708, Val: 0.7192, Test: 0.7123\n",
      "Epoch: 015, Loss: 0.6636, Val: 0.7373, Test: 0.7281\n",
      "Epoch: 016, Loss: 0.6570, Val: 0.7540, Test: 0.7452\n",
      "Epoch: 017, Loss: 0.6499, Val: 0.7596, Test: 0.7522\n",
      "Epoch: 018, Loss: 0.6402, Val: 0.7592, Test: 0.7530\n",
      "Epoch: 019, Loss: 0.6294, Val: 0.7641, Test: 0.7590\n",
      "Epoch: 020, Loss: 0.6209, Val: 0.7788, Test: 0.7744\n",
      "Epoch: 021, Loss: 0.6005, Val: 0.7894, Test: 0.7835\n",
      "Epoch: 022, Loss: 0.5892, Val: 0.7882, Test: 0.7832\n",
      "Epoch: 023, Loss: 0.5844, Val: 0.7826, Test: 0.7812\n",
      "Epoch: 024, Loss: 0.5787, Val: 0.7819, Test: 0.7802\n",
      "Epoch: 025, Loss: 0.5685, Val: 0.7814, Test: 0.7803\n",
      "Epoch: 026, Loss: 0.5658, Val: 0.7837, Test: 0.7815\n",
      "Epoch: 027, Loss: 0.5525, Val: 0.7889, Test: 0.7856\n",
      "Epoch: 028, Loss: 0.5557, Val: 0.7971, Test: 0.7920\n",
      "Epoch: 029, Loss: 0.5487, Val: 0.8071, Test: 0.7982\n",
      "Epoch: 030, Loss: 0.5450, Val: 0.8159, Test: 0.8039\n",
      "Epoch: 031, Loss: 0.5444, Val: 0.8244, Test: 0.8107\n",
      "Epoch: 032, Loss: 0.5345, Val: 0.8319, Test: 0.8182\n",
      "Epoch: 033, Loss: 0.5203, Val: 0.8378, Test: 0.8239\n",
      "Epoch: 034, Loss: 0.5099, Val: 0.8431, Test: 0.8284\n",
      "Epoch: 035, Loss: 0.5163, Val: 0.8481, Test: 0.8325\n",
      "Epoch: 036, Loss: 0.5021, Val: 0.8506, Test: 0.8341\n",
      "Epoch: 037, Loss: 0.5155, Val: 0.8520, Test: 0.8346\n",
      "Epoch: 038, Loss: 0.5015, Val: 0.8539, Test: 0.8347\n",
      "Epoch: 039, Loss: 0.5071, Val: 0.8541, Test: 0.8333\n",
      "Epoch: 040, Loss: 0.5114, Val: 0.8508, Test: 0.8310\n",
      "Epoch: 041, Loss: 0.5067, Val: 0.8506, Test: 0.8308\n",
      "Epoch: 042, Loss: 0.4973, Val: 0.8522, Test: 0.8325\n",
      "Epoch: 043, Loss: 0.4979, Val: 0.8546, Test: 0.8350\n",
      "Epoch: 044, Loss: 0.4939, Val: 0.8536, Test: 0.8353\n",
      "Epoch: 045, Loss: 0.4913, Val: 0.8546, Test: 0.8366\n",
      "Epoch: 046, Loss: 0.4875, Val: 0.8535, Test: 0.8361\n",
      "Epoch: 047, Loss: 0.4962, Val: 0.8532, Test: 0.8362\n",
      "Epoch: 048, Loss: 0.4899, Val: 0.8543, Test: 0.8377\n",
      "Epoch: 049, Loss: 0.4825, Val: 0.8568, Test: 0.8397\n",
      "Epoch: 050, Loss: 0.4890, Val: 0.8591, Test: 0.8421\n",
      "Epoch: 051, Loss: 0.4856, Val: 0.8611, Test: 0.8438\n",
      "Epoch: 052, Loss: 0.4841, Val: 0.8628, Test: 0.8450\n",
      "Epoch: 053, Loss: 0.4905, Val: 0.8619, Test: 0.8451\n",
      "Epoch: 054, Loss: 0.4812, Val: 0.8638, Test: 0.8469\n",
      "Epoch: 055, Loss: 0.4787, Val: 0.8680, Test: 0.8498\n",
      "Epoch: 056, Loss: 0.4833, Val: 0.8693, Test: 0.8506\n",
      "Epoch: 057, Loss: 0.4806, Val: 0.8679, Test: 0.8518\n",
      "Epoch: 058, Loss: 0.4749, Val: 0.8657, Test: 0.8524\n",
      "Epoch: 059, Loss: 0.4854, Val: 0.8699, Test: 0.8569\n",
      "Epoch: 060, Loss: 0.4747, Val: 0.8741, Test: 0.8608\n",
      "Epoch: 061, Loss: 0.4685, Val: 0.8753, Test: 0.8632\n",
      "Epoch: 062, Loss: 0.4682, Val: 0.8773, Test: 0.8674\n",
      "Epoch: 063, Loss: 0.4652, Val: 0.8776, Test: 0.8708\n",
      "Epoch: 064, Loss: 0.4670, Val: 0.8792, Test: 0.8735\n",
      "Epoch: 065, Loss: 0.4622, Val: 0.8798, Test: 0.8770\n",
      "Epoch: 066, Loss: 0.4630, Val: 0.8800, Test: 0.8787\n",
      "Epoch: 067, Loss: 0.4615, Val: 0.8815, Test: 0.8802\n",
      "Epoch: 068, Loss: 0.4602, Val: 0.8817, Test: 0.8824\n",
      "Epoch: 069, Loss: 0.4697, Val: 0.8789, Test: 0.8833\n",
      "Epoch: 070, Loss: 0.4643, Val: 0.8786, Test: 0.8835\n",
      "Epoch: 071, Loss: 0.4589, Val: 0.8809, Test: 0.8836\n",
      "Epoch: 072, Loss: 0.4555, Val: 0.8828, Test: 0.8823\n",
      "Epoch: 073, Loss: 0.4566, Val: 0.8831, Test: 0.8825\n",
      "Epoch: 074, Loss: 0.4578, Val: 0.8829, Test: 0.8827\n",
      "Epoch: 075, Loss: 0.4655, Val: 0.8821, Test: 0.8817\n",
      "Epoch: 076, Loss: 0.4592, Val: 0.8837, Test: 0.8818\n",
      "Epoch: 077, Loss: 0.4468, Val: 0.8868, Test: 0.8817\n",
      "Epoch: 078, Loss: 0.4531, Val: 0.8864, Test: 0.8804\n",
      "Epoch: 079, Loss: 0.4517, Val: 0.8841, Test: 0.8779\n",
      "Epoch: 080, Loss: 0.4639, Val: 0.8841, Test: 0.8785\n",
      "Epoch: 081, Loss: 0.4566, Val: 0.8868, Test: 0.8805\n",
      "Epoch: 082, Loss: 0.4589, Val: 0.8884, Test: 0.8820\n",
      "Epoch: 083, Loss: 0.4545, Val: 0.8900, Test: 0.8830\n",
      "Epoch: 084, Loss: 0.4438, Val: 0.8908, Test: 0.8833\n",
      "Epoch: 085, Loss: 0.4497, Val: 0.8918, Test: 0.8846\n",
      "Epoch: 086, Loss: 0.4488, Val: 0.8939, Test: 0.8878\n",
      "Epoch: 087, Loss: 0.4529, Val: 0.8958, Test: 0.8906\n",
      "Epoch: 088, Loss: 0.4481, Val: 0.8976, Test: 0.8928\n",
      "Epoch: 089, Loss: 0.4468, Val: 0.8990, Test: 0.8935\n",
      "Epoch: 090, Loss: 0.4497, Val: 0.8993, Test: 0.8932\n",
      "Epoch: 091, Loss: 0.4460, Val: 0.8996, Test: 0.8923\n",
      "Epoch: 092, Loss: 0.4448, Val: 0.9011, Test: 0.8943\n",
      "Epoch: 093, Loss: 0.4376, Val: 0.9026, Test: 0.8962\n",
      "Epoch: 094, Loss: 0.4467, Val: 0.9033, Test: 0.8965\n",
      "Epoch: 095, Loss: 0.4398, Val: 0.9035, Test: 0.8955\n",
      "Epoch: 096, Loss: 0.4409, Val: 0.9020, Test: 0.8942\n",
      "Epoch: 097, Loss: 0.4341, Val: 0.9050, Test: 0.8956\n",
      "Epoch: 098, Loss: 0.4387, Val: 0.9068, Test: 0.8974\n",
      "Epoch: 099, Loss: 0.4340, Val: 0.9067, Test: 0.8982\n",
      "Epoch: 100, Loss: 0.4283, Val: 0.9062, Test: 0.8984\n",
      "Epoch: 101, Loss: 0.4243, Val: 0.9054, Test: 0.8971\n",
      "Epoch: 102, Loss: 0.4427, Val: 0.9042, Test: 0.8965\n",
      "Epoch: 103, Loss: 0.4367, Val: 0.9036, Test: 0.8975\n",
      "Epoch: 104, Loss: 0.4348, Val: 0.9039, Test: 0.8990\n",
      "Epoch: 105, Loss: 0.4411, Val: 0.9047, Test: 0.8993\n",
      "Epoch: 106, Loss: 0.4280, Val: 0.9041, Test: 0.8987\n",
      "Epoch: 107, Loss: 0.4328, Val: 0.9020, Test: 0.8977\n",
      "Epoch: 108, Loss: 0.4312, Val: 0.9003, Test: 0.8989\n",
      "Epoch: 109, Loss: 0.4269, Val: 0.9013, Test: 0.9004\n",
      "Epoch: 110, Loss: 0.4324, Val: 0.9022, Test: 0.9012\n",
      "Epoch: 111, Loss: 0.4326, Val: 0.9023, Test: 0.9012\n",
      "Epoch: 112, Loss: 0.4382, Val: 0.9008, Test: 0.9007\n",
      "Epoch: 113, Loss: 0.4312, Val: 0.8987, Test: 0.9008\n",
      "Epoch: 114, Loss: 0.4296, Val: 0.8995, Test: 0.9015\n",
      "Epoch: 115, Loss: 0.4322, Val: 0.9018, Test: 0.9029\n",
      "Epoch: 116, Loss: 0.4186, Val: 0.9028, Test: 0.9030\n",
      "Epoch: 117, Loss: 0.4322, Val: 0.9021, Test: 0.9033\n",
      "Epoch: 118, Loss: 0.4300, Val: 0.8987, Test: 0.9016\n",
      "Epoch: 119, Loss: 0.4270, Val: 0.8997, Test: 0.9011\n",
      "Epoch: 120, Loss: 0.4340, Val: 0.9021, Test: 0.9023\n",
      "Epoch: 121, Loss: 0.4276, Val: 0.9017, Test: 0.9028\n",
      "Epoch: 122, Loss: 0.4282, Val: 0.9002, Test: 0.9034\n",
      "Epoch: 123, Loss: 0.4301, Val: 0.8990, Test: 0.9027\n",
      "Epoch: 124, Loss: 0.4321, Val: 0.8986, Test: 0.9010\n",
      "Epoch: 125, Loss: 0.4261, Val: 0.9000, Test: 0.9015\n",
      "Epoch: 126, Loss: 0.4282, Val: 0.9018, Test: 0.9031\n",
      "Epoch: 127, Loss: 0.4297, Val: 0.9020, Test: 0.9040\n",
      "Epoch: 128, Loss: 0.4268, Val: 0.9023, Test: 0.9042\n",
      "Epoch: 129, Loss: 0.4234, Val: 0.9017, Test: 0.9035\n",
      "Epoch: 130, Loss: 0.4226, Val: 0.9027, Test: 0.9037\n",
      "Epoch: 131, Loss: 0.4258, Val: 0.9034, Test: 0.9046\n",
      "Epoch: 132, Loss: 0.4316, Val: 0.9031, Test: 0.9046\n",
      "Epoch: 133, Loss: 0.4243, Val: 0.9040, Test: 0.9051\n",
      "Epoch: 134, Loss: 0.4325, Val: 0.9043, Test: 0.9053\n",
      "Epoch: 135, Loss: 0.4179, Val: 0.9031, Test: 0.9052\n",
      "Epoch: 136, Loss: 0.4245, Val: 0.9025, Test: 0.9053\n",
      "Epoch: 137, Loss: 0.4193, Val: 0.9029, Test: 0.9055\n",
      "Epoch: 138, Loss: 0.4215, Val: 0.9034, Test: 0.9060\n",
      "Epoch: 139, Loss: 0.4279, Val: 0.9022, Test: 0.9061\n",
      "Epoch: 140, Loss: 0.4196, Val: 0.9017, Test: 0.9061\n",
      "Epoch: 141, Loss: 0.4242, Val: 0.9025, Test: 0.9067\n",
      "Epoch: 142, Loss: 0.4207, Val: 0.9024, Test: 0.9069\n",
      "Epoch: 143, Loss: 0.4271, Val: 0.9021, Test: 0.9065\n",
      "Epoch: 144, Loss: 0.4154, Val: 0.9012, Test: 0.9061\n",
      "Epoch: 145, Loss: 0.4242, Val: 0.9020, Test: 0.9060\n",
      "Epoch: 146, Loss: 0.4127, Val: 0.9036, Test: 0.9061\n",
      "Epoch: 147, Loss: 0.4215, Val: 0.9037, Test: 0.9064\n",
      "Epoch: 148, Loss: 0.4225, Val: 0.9029, Test: 0.9054\n",
      "Epoch: 149, Loss: 0.4182, Val: 0.9026, Test: 0.9044\n",
      "Epoch: 150, Loss: 0.4253, Val: 0.9031, Test: 0.9041\n",
      "Epoch: 151, Loss: 0.4170, Val: 0.9031, Test: 0.9037\n",
      "Epoch: 152, Loss: 0.4226, Val: 0.9027, Test: 0.9041\n",
      "Epoch: 153, Loss: 0.4230, Val: 0.9022, Test: 0.9040\n",
      "Epoch: 154, Loss: 0.4180, Val: 0.9025, Test: 0.9039\n",
      "Epoch: 155, Loss: 0.4232, Val: 0.9048, Test: 0.9041\n",
      "Epoch: 156, Loss: 0.4118, Val: 0.9056, Test: 0.9041\n",
      "Epoch: 157, Loss: 0.4231, Val: 0.9035, Test: 0.9037\n",
      "Epoch: 158, Loss: 0.4124, Val: 0.9021, Test: 0.9039\n",
      "Epoch: 159, Loss: 0.4167, Val: 0.9026, Test: 0.9045\n"
     ]
    },
    {
     "name": "stdout",
     "output_type": "stream",
     "text": [
      "Epoch: 160, Loss: 0.4223, Val: 0.9046, Test: 0.9049\n",
      "Epoch: 161, Loss: 0.4141, Val: 0.9053, Test: 0.9054\n",
      "Epoch: 162, Loss: 0.4126, Val: 0.9046, Test: 0.9054\n",
      "Epoch: 163, Loss: 0.4227, Val: 0.9022, Test: 0.9050\n",
      "Epoch: 164, Loss: 0.4204, Val: 0.9022, Test: 0.9054\n",
      "Epoch: 165, Loss: 0.4242, Val: 0.9036, Test: 0.9061\n",
      "Epoch: 166, Loss: 0.4128, Val: 0.9054, Test: 0.9068\n",
      "Epoch: 167, Loss: 0.4145, Val: 0.9059, Test: 0.9071\n",
      "Epoch: 168, Loss: 0.4154, Val: 0.9046, Test: 0.9070\n",
      "Epoch: 169, Loss: 0.4212, Val: 0.9032, Test: 0.9066\n",
      "Epoch: 170, Loss: 0.4245, Val: 0.9032, Test: 0.9065\n",
      "Epoch: 171, Loss: 0.4153, Val: 0.9054, Test: 0.9072\n",
      "Epoch: 172, Loss: 0.4112, Val: 0.9074, Test: 0.9078\n",
      "Epoch: 173, Loss: 0.4210, Val: 0.9075, Test: 0.9073\n",
      "Epoch: 174, Loss: 0.4135, Val: 0.9057, Test: 0.9068\n",
      "Epoch: 175, Loss: 0.4211, Val: 0.9040, Test: 0.9064\n",
      "Epoch: 176, Loss: 0.4094, Val: 0.9043, Test: 0.9065\n",
      "Epoch: 177, Loss: 0.4159, Val: 0.9057, Test: 0.9068\n",
      "Epoch: 178, Loss: 0.4110, Val: 0.9057, Test: 0.9068\n",
      "Epoch: 179, Loss: 0.4138, Val: 0.9041, Test: 0.9059\n",
      "Epoch: 180, Loss: 0.4099, Val: 0.9030, Test: 0.9055\n",
      "Epoch: 181, Loss: 0.4080, Val: 0.9022, Test: 0.9055\n",
      "Epoch: 182, Loss: 0.4097, Val: 0.9023, Test: 0.9061\n",
      "Epoch: 183, Loss: 0.4154, Val: 0.9028, Test: 0.9066\n",
      "Epoch: 184, Loss: 0.4027, Val: 0.9034, Test: 0.9065\n",
      "Epoch: 185, Loss: 0.4169, Val: 0.9024, Test: 0.9059\n",
      "Epoch: 186, Loss: 0.4073, Val: 0.9021, Test: 0.9056\n",
      "Epoch: 187, Loss: 0.4081, Val: 0.9025, Test: 0.9062\n",
      "Epoch: 188, Loss: 0.4137, Val: 0.9026, Test: 0.9062\n",
      "Epoch: 189, Loss: 0.4093, Val: 0.9025, Test: 0.9059\n",
      "Epoch: 190, Loss: 0.4092, Val: 0.9021, Test: 0.9050\n",
      "Epoch: 191, Loss: 0.4075, Val: 0.9022, Test: 0.9045\n",
      "Epoch: 192, Loss: 0.4152, Val: 0.9023, Test: 0.9044\n",
      "Epoch: 193, Loss: 0.4117, Val: 0.9025, Test: 0.9044\n",
      "Epoch: 194, Loss: 0.4083, Val: 0.9024, Test: 0.9038\n",
      "Epoch: 195, Loss: 0.4124, Val: 0.9026, Test: 0.9034\n",
      "Epoch: 196, Loss: 0.4023, Val: 0.9033, Test: 0.9033\n",
      "Epoch: 197, Loss: 0.4117, Val: 0.9044, Test: 0.9039\n",
      "Epoch: 198, Loss: 0.4104, Val: 0.9045, Test: 0.9037\n",
      "Epoch: 199, Loss: 0.4040, Val: 0.9035, Test: 0.9036\n",
      "Epoch: 200, Loss: 0.4138, Val: 0.9026, Test: 0.9038\n"
     ]
    },
    {
     "data": {
      "image/png": "[encoded data removed]",
      "text/plain": [
       "<Figure size 640x480 with 1 Axes>"
      ]
     },
     "metadata": {},
     "output_type": "display_data"
    },
    {
     "data": {
      "image/png": "[encoded data removed]",
      "text/plain": [
       "<Figure size 640x480 with 1 Axes>"
      ]
     },
     "metadata": {},
     "output_type": "display_data"
    }
   ],
   "source": [
    "loss_values, val_auc_values, test_auc_values, = [], [], []\n",
    "\n",
    "best_val_auc = final_test_auc = 0\n",
    "for epoch in range(1, 201):\n",
    "    loss = train()\n",
    "    val_auc = test(val_data)\n",
    "    test_auc = test(test_data)\n",
    "    loss_values.append(loss.item())\n",
    "    val_auc_values.append(val_auc)\n",
    "    test_auc_values.append(test_auc)\n",
    "    print(f'Epoch: {epoch:03d}, Loss: {loss:.4f}, Val: {val_auc:.4f}, 'f'Test: {test_auc:.4f}')\n",
    "\n",
    "\n",
    "plt.plot(loss_values, 'r',)\n",
    "plt.savefig('loss_cora.png')\n",
    "plt.show()\n",
    "plt.plot(val_auc_values, 'b', test_auc_values, 'g' )\n",
    "plt.savefig('acc_cora.png')\n",
    "plt.show()"
   ]
  },
  {
   "cell_type": "code",
   "execution_count": 11,
   "id": "47021921",
   "metadata": {},
   "outputs": [],
   "source": [
    "z = model.encode(test_data.x, test_data.edge_index)\n",
    "final_edge_index = model.decode_all(z)"
   ]
  },
  {
   "cell_type": "code",
   "execution_count": 12,
   "id": "f8ccd5f8",
   "metadata": {},
   "outputs": [
    {
     "data": {
      "text/plain": [
       "torch.Size([2, 3087244])"
      ]
     },
     "execution_count": 12,
     "metadata": {},
     "output_type": "execute_result"
    }
   ],
   "source": [
    "final_edge_index.shape"
   ]
  }
 ],
 "metadata": {
  "kernelspec": {
   "display_name": "Python [conda env:pyg_env]",
   "language": "python",
   "name": "conda-env-pyg_env-py"
  },
  "language_info": {
   "codemirror_mode": {
    "name": "ipython",
    "version": 3
   },
   "file_extension": ".py",
   "mimetype": "text/x-python",
   "name": "python",
   "nbconvert_exporter": "python",
   "pygments_lexer": "ipython3",
   "version": "3.10.4"
  }
 },
 "nbformat": 4,
 "nbformat_minor": 5
}
