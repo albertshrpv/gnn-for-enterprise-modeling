{
 "cells": [
  {
   "cell_type": "code",
   "execution_count": 2,
   "id": "4d199931",
   "metadata": {},
   "outputs": [
    {
     "data": {
      "text/plain": [
       "<torch._C.Generator at 0x1fcfb9d67f0>"
      ]
     },
     "execution_count": 2,
     "metadata": {},
     "output_type": "execute_result"
    }
   ],
   "source": [
    "import os.path as osp\n",
    "\n",
    "import torch\n",
    "import torch.nn.functional as F\n",
    "from sklearn.metrics import f1_score\n",
    "\n",
    "from torch_geometric.loader import DataLoader\n",
    "from torch_geometric.data import Dataset, Data\n",
    "from torch_geometric.loader import DataLoader\n",
    "from torch_geometric.nn import GATConv\n",
    "import matplotlib.pyplot as plt\n",
    "\n",
    "from sklearn.manifold import TSNE\n",
    "from torch_geometric.nn import Node2Vec\n",
    "\n",
    "torch.manual_seed(42)"
   ]
  },
  {
   "cell_type": "code",
   "execution_count": 3,
   "id": "6439c54c",
   "metadata": {},
   "outputs": [
    {
     "name": "stderr",
     "output_type": "stream",
     "text": [
      "Processing...\n",
      "Done!\n"
     ]
    },
    {
     "name": "stdout",
     "output_type": "stream",
     "text": [
      "DATASET LOADED: USE per_model variable !!!\n",
      "EnterpriseModelDatasetNCPerModeltype(110)\n"
     ]
    }
   ],
   "source": [
    "%run dataset_nc_per_modeltype.ipynb"
   ]
  },
  {
   "cell_type": "code",
   "execution_count": 4,
   "id": "6f6b403c",
   "metadata": {},
   "outputs": [
    {
     "data": {
      "text/plain": [
       "{'Business Process Model': 43,\n",
       " 'Goal Model': 6,\n",
       " 'Product-Service-Model': 4,\n",
       " 'Concepts Model': 10,\n",
       " 'Technical Components and Requirements Model': 10,\n",
       " 'Business Rule & Process Model': 12,\n",
       " 'Goal & Business Rule Model': 7,\n",
       " '4EM General Model': 7,\n",
       " 'Actors and Resources Model': 11}"
      ]
     },
     "execution_count": 4,
     "metadata": {},
     "output_type": "execute_result"
    }
   ],
   "source": [
    "per_model[\"info\"]"
   ]
  },
  {
   "cell_type": "code",
   "execution_count": 5,
   "id": "6d7bc1c4",
   "metadata": {},
   "outputs": [
    {
     "name": "stdout",
     "output_type": "stream",
     "text": [
      "Number of graphs total: 43\n",
      "tensor([23, 22, 23, 23, 22, 22, 22, 21, 21, 23, 23, 22, 23, 21, 23, 23, 22,  2,\n",
      "        22, 21, 23, 22, 19,  1, 23, 22, 22, 23,  7, 23, 22,  2, 23, 23, 23, 22])\n"
     ]
    }
   ],
   "source": [
    "# use only business process models\n",
    "bpms = per_model[\"data\"][\"Business Process Model\"]\n",
    "\n",
    "print(f'Number of graphs total: {len(bpms)}')\n",
    "print(bpms[1].y)"
   ]
  },
  {
   "cell_type": "code",
   "execution_count": 6,
   "id": "1d0cd081",
   "metadata": {},
   "outputs": [
    {
     "name": "stdout",
     "output_type": "stream",
     "text": [
      "[1, 2, 7, 19, 20, 21, 22, 23]\n",
      "['External Process', 'Split (OR)', 'Join (OR)', 'Split (AND)', 'Join (AND)', 'Comment', 'Process', 'Information Set']\n",
      "{1: 0, 2: 1, 7: 2, 19: 3, 20: 4, 21: 5, 22: 6, 23: 7}\n"
     ]
    }
   ],
   "source": [
    "bpm_node_classes = []\n",
    "\n",
    "for graph in bpms:\n",
    "    for nclass in graph.y:\n",
    "        bpm_node_classes.append(nclass.item())\n",
    "    \n",
    "bpm_node_classes = list(set(bpm_node_classes))\n",
    "print(bpm_node_classes)\n",
    "\n",
    "new_node_classes = []\n",
    "map_old_to_new_node_class = {}\n",
    "\n",
    "for i, old_index in enumerate(bpm_node_classes):\n",
    "    new_node_classes.append(node_classes[old_index])\n",
    "    map_old_to_new_node_class[old_index] = i\n",
    "    \n",
    "    \n",
    "print(new_node_classes)\n",
    "print(map_old_to_new_node_class)"
   ]
  },
  {
   "cell_type": "code",
   "execution_count": 7,
   "id": "0502d37d",
   "metadata": {},
   "outputs": [],
   "source": [
    "final_classes = [0, 1, 2] # 0: Information Set, 1: Process, 2: Other\n",
    "\n",
    "for graph in bpms:\n",
    "    for i, nclass in enumerate(graph.y):\n",
    "        if(new_node_classes[map_old_to_new_node_class[nclass.item()]] == \"Information Set\"):\n",
    "            graph.y[i] = 0\n",
    "        elif(new_node_classes[map_old_to_new_node_class[nclass.item()]] == \"Process\"):\n",
    "            graph.y[i] = 1\n",
    "        else:\n",
    "            graph.y[i] = 2"
   ]
  },
  {
   "cell_type": "code",
   "execution_count": 8,
   "id": "3ece0c83",
   "metadata": {},
   "outputs": [],
   "source": [
    "dataset = bpms"
   ]
  },
  {
   "cell_type": "code",
   "execution_count": 9,
   "id": "ded9e4f1",
   "metadata": {},
   "outputs": [
    {
     "data": {
      "text/plain": [
       "tensor([1, 0, 0, 0, 2, 1, 1, 1, 2, 1, 0])"
      ]
     },
     "execution_count": 9,
     "metadata": {},
     "output_type": "execute_result"
    }
   ],
   "source": [
    "dataset[0].y"
   ]
  },
  {
   "cell_type": "code",
   "execution_count": 10,
   "id": "1c6a32c8",
   "metadata": {},
   "outputs": [
    {
     "data": {
      "text/plain": [
       "(array([0, 1, 2], dtype=int64), array([4, 5, 2], dtype=int64))"
      ]
     },
     "execution_count": 10,
     "metadata": {},
     "output_type": "execute_result"
    }
   ],
   "source": [
    "values, counts = np.unique(dataset[0].y, return_counts=True)\n",
    "values, counts"
   ]
  },
  {
   "cell_type": "code",
   "execution_count": 11,
   "id": "a968f064",
   "metadata": {},
   "outputs": [
    {
     "data": {
      "text/plain": [
       "43"
      ]
     },
     "execution_count": 11,
     "metadata": {},
     "output_type": "execute_result"
    }
   ],
   "source": [
    "len(dataset)"
   ]
  },
  {
   "cell_type": "code",
   "execution_count": 12,
   "id": "522dfea9",
   "metadata": {},
   "outputs": [],
   "source": [
    "train_loader = DataLoader(bpms, batch_size=len(bpms), shuffle=False)"
   ]
  },
  {
   "cell_type": "code",
   "execution_count": 13,
   "id": "2dc5c5aa",
   "metadata": {},
   "outputs": [
    {
     "name": "stdout",
     "output_type": "stream",
     "text": [
      "Data(x=[835, 1], edge_index=[2, 836], edge_attr=[836, 1], y=[835], train_mask=[835], test_mask=[835])\n"
     ]
    }
   ],
   "source": [
    "x = []\n",
    "edge_index = []\n",
    "edge_attr = []\n",
    "y = []\n",
    "train_mask = []\n",
    "test_mask = []\n",
    "for batch in train_loader:\n",
    "    x = batch.x\n",
    "    edge_index = batch.edge_index\n",
    "    edge_attr = batch.edge_attr\n",
    "    y = batch.y\n",
    "    train_mask = batch.train_mask\n",
    "    test_mask = batch.test_mask\n",
    "\n",
    "    \n",
    "data = Data(x=x, \n",
    "            edge_index=edge_index,\n",
    "            edge_attr=edge_attr,\n",
    "            y=y,\n",
    "            train_mask=train_mask,\n",
    "            test_mask=test_mask\n",
    "            ) \n",
    "\n",
    "num_nodes = data.x.shape[0]\n",
    "print(data)"
   ]
  },
  {
   "cell_type": "code",
   "execution_count": 14,
   "id": "b78f51a6",
   "metadata": {},
   "outputs": [
    {
     "data": {
      "text/plain": [
       "(array([0, 1, 2], dtype=int64), array([367, 308, 160], dtype=int64))"
      ]
     },
     "execution_count": 14,
     "metadata": {},
     "output_type": "execute_result"
    }
   ],
   "source": [
    "values, counts = np.unique(data.y, return_counts=True)\n",
    "values, counts"
   ]
  },
  {
   "cell_type": "code",
   "execution_count": 15,
   "id": "a15a1ad4",
   "metadata": {},
   "outputs": [
    {
     "data": {
      "text/plain": [
       "tensor([1, 0, 0, 0, 2, 1, 1, 1, 2, 1])"
      ]
     },
     "execution_count": 15,
     "metadata": {},
     "output_type": "execute_result"
    }
   ],
   "source": [
    "data.y[:10]"
   ]
  },
  {
   "cell_type": "code",
   "execution_count": 16,
   "id": "dd94a0fc",
   "metadata": {},
   "outputs": [],
   "source": [
    "embedding_dim = 8"
   ]
  },
  {
   "cell_type": "code",
   "execution_count": 66,
   "id": "1ba40322",
   "metadata": {
    "scrolled": false
   },
   "outputs": [
    {
     "name": "stdout",
     "output_type": "stream",
     "text": [
      "Epoch: 01, Loss: 1.9705, Acc: 0.4306\n",
      "Epoch: 02, Loss: 1.7292, Acc: 0.4213\n",
      "Epoch: 03, Loss: 1.5532, Acc: 0.4259\n",
      "Epoch: 04, Loss: 1.4184, Acc: 0.4259\n",
      "Epoch: 05, Loss: 1.2960, Acc: 0.4259\n",
      "Epoch: 06, Loss: 1.2180, Acc: 0.4352\n",
      "Epoch: 07, Loss: 1.1685, Acc: 0.4306\n",
      "Epoch: 08, Loss: 1.1038, Acc: 0.4213\n",
      "Epoch: 09, Loss: 1.0745, Acc: 0.4306\n",
      "Epoch: 10, Loss: 1.0252, Acc: 0.4306\n",
      "Epoch: 11, Loss: 0.9926, Acc: 0.4306\n",
      "Epoch: 12, Loss: 0.9691, Acc: 0.4213\n",
      "Epoch: 13, Loss: 0.9512, Acc: 0.4306\n",
      "Epoch: 14, Loss: 0.9371, Acc: 0.4259\n",
      "Epoch: 15, Loss: 0.9239, Acc: 0.4352\n",
      "Epoch: 16, Loss: 0.9059, Acc: 0.4259\n",
      "Epoch: 17, Loss: 0.8944, Acc: 0.4213\n",
      "Epoch: 18, Loss: 0.8877, Acc: 0.4213\n",
      "Epoch: 19, Loss: 0.8789, Acc: 0.4120\n",
      "Epoch: 20, Loss: 0.8767, Acc: 0.4167\n",
      "Epoch: 21, Loss: 0.8673, Acc: 0.4167\n",
      "Epoch: 22, Loss: 0.8612, Acc: 0.4167\n",
      "Epoch: 23, Loss: 0.8562, Acc: 0.4167\n",
      "Epoch: 24, Loss: 0.8500, Acc: 0.4167\n",
      "Epoch: 25, Loss: 0.8475, Acc: 0.4213\n",
      "Epoch: 26, Loss: 0.8475, Acc: 0.4167\n",
      "Epoch: 27, Loss: 0.8506, Acc: 0.4167\n",
      "Epoch: 28, Loss: 0.8400, Acc: 0.4167\n",
      "Epoch: 29, Loss: 0.8376, Acc: 0.4120\n",
      "Epoch: 30, Loss: 0.8401, Acc: 0.4074\n",
      "Epoch: 31, Loss: 0.8349, Acc: 0.4167\n",
      "Epoch: 32, Loss: 0.8367, Acc: 0.4167\n",
      "Epoch: 33, Loss: 0.8321, Acc: 0.4120\n",
      "Epoch: 34, Loss: 0.8319, Acc: 0.4074\n",
      "Epoch: 35, Loss: 0.8286, Acc: 0.4074\n",
      "Epoch: 36, Loss: 0.8308, Acc: 0.4120\n",
      "Epoch: 37, Loss: 0.8262, Acc: 0.4167\n",
      "Epoch: 38, Loss: 0.8247, Acc: 0.4074\n",
      "Epoch: 39, Loss: 0.8259, Acc: 0.4120\n",
      "Epoch: 40, Loss: 0.8223, Acc: 0.4120\n",
      "Epoch: 41, Loss: 0.8216, Acc: 0.4259\n",
      "Epoch: 42, Loss: 0.8235, Acc: 0.4167\n",
      "Epoch: 43, Loss: 0.8215, Acc: 0.4167\n",
      "Epoch: 44, Loss: 0.8198, Acc: 0.4167\n",
      "Epoch: 45, Loss: 0.8229, Acc: 0.4120\n",
      "Epoch: 46, Loss: 0.8174, Acc: 0.4120\n",
      "Epoch: 47, Loss: 0.8172, Acc: 0.4120\n",
      "Epoch: 48, Loss: 0.8152, Acc: 0.4213\n",
      "Epoch: 49, Loss: 0.8186, Acc: 0.4213\n",
      "Epoch: 50, Loss: 0.8152, Acc: 0.4167\n",
      "Epoch: 51, Loss: 0.8174, Acc: 0.4167\n",
      "Epoch: 52, Loss: 0.8125, Acc: 0.4213\n",
      "Epoch: 53, Loss: 0.8130, Acc: 0.4213\n",
      "Epoch: 54, Loss: 0.8127, Acc: 0.4167\n",
      "Epoch: 55, Loss: 0.8141, Acc: 0.4167\n",
      "Epoch: 56, Loss: 0.8127, Acc: 0.4167\n",
      "Epoch: 57, Loss: 0.8153, Acc: 0.4120\n",
      "Epoch: 58, Loss: 0.8136, Acc: 0.4120\n",
      "Epoch: 59, Loss: 0.8116, Acc: 0.4074\n",
      "Epoch: 60, Loss: 0.8139, Acc: 0.4120\n",
      "Epoch: 61, Loss: 0.8147, Acc: 0.4167\n",
      "Epoch: 62, Loss: 0.8137, Acc: 0.4167\n",
      "Epoch: 63, Loss: 0.8115, Acc: 0.4120\n",
      "Epoch: 64, Loss: 0.8109, Acc: 0.4120\n",
      "Epoch: 65, Loss: 0.8064, Acc: 0.4074\n",
      "Epoch: 66, Loss: 0.8113, Acc: 0.4120\n",
      "Epoch: 67, Loss: 0.8101, Acc: 0.4028\n",
      "Epoch: 68, Loss: 0.8095, Acc: 0.4028\n",
      "Epoch: 69, Loss: 0.8125, Acc: 0.4028\n",
      "Epoch: 70, Loss: 0.8075, Acc: 0.4074\n",
      "Epoch: 71, Loss: 0.8071, Acc: 0.4213\n",
      "Epoch: 72, Loss: 0.8081, Acc: 0.4213\n",
      "Epoch: 73, Loss: 0.8113, Acc: 0.4167\n",
      "Epoch: 74, Loss: 0.8121, Acc: 0.4120\n",
      "Epoch: 75, Loss: 0.8087, Acc: 0.4167\n",
      "Epoch: 76, Loss: 0.8096, Acc: 0.4213\n",
      "Epoch: 77, Loss: 0.8112, Acc: 0.4120\n",
      "Epoch: 78, Loss: 0.8098, Acc: 0.4167\n",
      "Epoch: 79, Loss: 0.8106, Acc: 0.4167\n",
      "Epoch: 80, Loss: 0.8086, Acc: 0.4213\n",
      "Epoch: 81, Loss: 0.8056, Acc: 0.4306\n",
      "Epoch: 82, Loss: 0.8095, Acc: 0.4213\n",
      "Epoch: 83, Loss: 0.8083, Acc: 0.4259\n",
      "Epoch: 84, Loss: 0.8068, Acc: 0.4306\n",
      "Epoch: 85, Loss: 0.8077, Acc: 0.4306\n",
      "Epoch: 86, Loss: 0.8078, Acc: 0.4213\n",
      "Epoch: 87, Loss: 0.8107, Acc: 0.4213\n",
      "Epoch: 88, Loss: 0.8134, Acc: 0.4213\n",
      "Epoch: 89, Loss: 0.8097, Acc: 0.4120\n",
      "Epoch: 90, Loss: 0.8034, Acc: 0.4167\n",
      "Epoch: 91, Loss: 0.8080, Acc: 0.4074\n",
      "Epoch: 92, Loss: 0.8102, Acc: 0.4167\n",
      "Epoch: 93, Loss: 0.8061, Acc: 0.4074\n",
      "Epoch: 94, Loss: 0.8087, Acc: 0.4120\n",
      "Epoch: 95, Loss: 0.8072, Acc: 0.4120\n",
      "Epoch: 96, Loss: 0.8068, Acc: 0.4213\n",
      "Epoch: 97, Loss: 0.8045, Acc: 0.4167\n",
      "Epoch: 98, Loss: 0.8092, Acc: 0.4167\n",
      "Epoch: 99, Loss: 0.8057, Acc: 0.4074\n",
      "Epoch: 100, Loss: 0.8035, Acc: 0.4028\n"
     ]
    },
    {
     "name": "stderr",
     "output_type": "stream",
     "text": [
      "C:\\Users\\alber\\anaconda3\\envs\\pyg_env\\lib\\site-packages\\sklearn\\manifold\\_t_sne.py:795: FutureWarning: The default initialization in TSNE will change from 'random' to 'pca' in 1.2.\n",
      "  warnings.warn(\n",
      "C:\\Users\\alber\\anaconda3\\envs\\pyg_env\\lib\\site-packages\\sklearn\\manifold\\_t_sne.py:805: FutureWarning: The default learning rate in TSNE will change from 200.0 to 'auto' in 1.2.\n",
      "  warnings.warn(\n"
     ]
    },
    {
     "data": {
      "image/png": "[encoded data removed]",
      "text/plain": [
       "<Figure size 800x800 with 1 Axes>"
      ]
     },
     "metadata": {},
     "output_type": "display_data"
    }
   ],
   "source": [
    "device = 'cuda' if torch.cuda.is_available() else 'cpu'\n",
    "model = Node2Vec(data.edge_index, embedding_dim=embedding_dim, walk_length=15,\n",
    "                 context_size=10, walks_per_node=10,\n",
    "                 num_negative_samples=1, p=1, q=1, sparse=True).to(device)\n",
    "\n",
    "num_workers = 0\n",
    "loader = model.loader(batch_size=64, shuffle=True, num_workers=num_workers)\n",
    "optimizer = torch.optim.SparseAdam(list(model.parameters()), lr=0.01)\n",
    "\n",
    "def train():\n",
    "    model.train()\n",
    "    total_loss = 0\n",
    "    for pos_rw, neg_rw in loader:\n",
    "        optimizer.zero_grad()\n",
    "        loss = model.loss(pos_rw.to(device), neg_rw.to(device))\n",
    "        loss.backward()\n",
    "        optimizer.step()\n",
    "        total_loss += loss.item()\n",
    "    return total_loss / len(loader)\n",
    "\n",
    "@torch.no_grad()\n",
    "def test():\n",
    "    model.eval()\n",
    "    z = model()\n",
    "    acc = model.test(z[data.train_mask], data.y[data.train_mask],\n",
    "                     z[data.test_mask], data.y[data.test_mask],\n",
    "                     max_iter=150)\n",
    "    return acc\n",
    "\n",
    "loss_values = []\n",
    "acc_values = []\n",
    "for epoch in range(1, 101):\n",
    "    loss = train()\n",
    "    acc = test()\n",
    "    loss_values.append(loss)\n",
    "    acc_values.append(acc)\n",
    "    print(f'Epoch: {epoch:02d}, Loss: {loss:.4f}, Acc: {acc:.4f}')\n",
    "\n",
    "@torch.no_grad()\n",
    "def plot_points(colors):\n",
    "    model.eval()\n",
    "    z = model(torch.arange(data.num_nodes, device=device))\n",
    "    z = TSNE(n_components=2).fit_transform(z.cpu().numpy())\n",
    "    y = data.y.cpu().numpy()\n",
    "\n",
    "    plt.figure(figsize=(8, 8))\n",
    "    for i in range(len(new_node_classes)):\n",
    "        plt.scatter(z[y == i, 0], z[y == i, 1], s=20, color=colors[i])\n",
    "    plt.axis('off')\n",
    "    plt.show()\n",
    "\n",
    "colors = [\n",
    "    '#ffc0cb', '#bada55', '#008080', '#420420', '#7fe5f0', '#065535',\n",
    "    '#ffd700', '#9900ff', '#008080', '#420420', '#7fe5f0', '#065535',\n",
    "    '#008080', '#420420', '#7fe5f0', '#ff00ff', '#993366', '#ff5050',\n",
    "    '#ff9933', '#ffff66', '#ffffcc', '#0066cc', '#00cc66', '#333300',\n",
    "    '#996600', '#99ff66', '#cc99ff', '#336699', '#33cc33', '#339966',\n",
    "    '#cc9900', '#66ff66', '#6666ff', '#009999', '#666699', '#ffcccc',\n",
    "]\n",
    "plot_points(colors)"
   ]
  },
  {
   "cell_type": "code",
   "execution_count": 67,
   "id": "a24dbc0b",
   "metadata": {},
   "outputs": [
    {
     "data": {
      "image/png": "[encoded data removed]",
      "text/plain": [
       "<Figure size 640x480 with 1 Axes>"
      ]
     },
     "metadata": {},
     "output_type": "display_data"
    },
    {
     "data": {
      "image/png": "[encoded data removed]",
      "text/plain": [
       "<Figure size 640x480 with 1 Axes>"
      ]
     },
     "metadata": {},
     "output_type": "display_data"
    }
   ],
   "source": [
    "plt.plot(acc_values, 'b',)\n",
    "plt.savefig('node2vec_acc.png')\n",
    "plt.show()\n",
    "\n",
    "plt.plot(loss_values, 'r')\n",
    "plt.savefig('node2vec_loss.png')\n",
    "plt.show()"
   ]
  },
  {
   "cell_type": "code",
   "execution_count": 68,
   "id": "4ec50330",
   "metadata": {},
   "outputs": [
    {
     "data": {
      "text/plain": [
       "tensor([ 0.1687,  0.0440, -0.2328, -0.0811,  0.1562, -0.0006,  0.4476,  0.0410],\n",
       "       grad_fn=<SelectBackward0>)"
      ]
     },
     "execution_count": 68,
     "metadata": {},
     "output_type": "execute_result"
    }
   ],
   "source": [
    "z = model()\n",
    "z[0]"
   ]
  },
  {
   "cell_type": "code",
   "execution_count": 69,
   "id": "27e9f250",
   "metadata": {},
   "outputs": [
    {
     "data": {
      "text/plain": [
       "835"
      ]
     },
     "execution_count": 69,
     "metadata": {},
     "output_type": "execute_result"
    }
   ],
   "source": [
    " embeddings = []\n",
    "for emb in z:\n",
    "    new = []\n",
    "    for val in emb:\n",
    "        new.append(val.item())\n",
    "    embeddings.append(new)\n",
    "\n",
    "len(embeddings)"
   ]
  },
  {
   "cell_type": "code",
   "execution_count": 70,
   "id": "95c2f822",
   "metadata": {},
   "outputs": [
    {
     "data": {
      "text/plain": [
       "torch.Size([11, 1])"
      ]
     },
     "execution_count": 70,
     "metadata": {},
     "output_type": "execute_result"
    }
   ],
   "source": [
    "bpms[0]\n",
    "bpms[0].x.shape"
   ]
  },
  {
   "cell_type": "code",
   "execution_count": 71,
   "id": "3163d171",
   "metadata": {},
   "outputs": [],
   "source": [
    "data_emb = []\n",
    "i = 0\n",
    "for graph in bpms:\n",
    "    emb = []\n",
    "    edge_index = graph.edge_index\n",
    "    edge_attr = graph.edge_attr\n",
    "    y = graph.y\n",
    "    train_mask = graph.train_mask\n",
    "    test_mask = graph.test_mask\n",
    "    for j, _ in enumerate(graph.x):\n",
    "        emb.append(embeddings[i])\n",
    "        i += 1\n",
    "        \n",
    "    new_data = Data(x=torch.tensor(emb, dtype=torch.float), \n",
    "            edge_index=edge_index,\n",
    "            edge_attr=edge_attr,\n",
    "            y=y,\n",
    "            train_mask=train_mask,\n",
    "            test_mask=test_mask\n",
    "            )\n",
    "    data_emb.append(new_data)"
   ]
  },
  {
   "cell_type": "code",
   "execution_count": 72,
   "id": "93d8ab2b",
   "metadata": {},
   "outputs": [
    {
     "data": {
      "text/plain": [
       "8"
      ]
     },
     "execution_count": 72,
     "metadata": {},
     "output_type": "execute_result"
    }
   ],
   "source": [
    "data_emb[0].x.shape[1]"
   ]
  },
  {
   "cell_type": "code",
   "execution_count": 73,
   "id": "253e24d5",
   "metadata": {},
   "outputs": [
    {
     "name": "stdout",
     "output_type": "stream",
     "text": [
      "Number of graphs total: 43\n",
      "Number of training graphs: 43\n",
      "Data(x=[11, 8], edge_index=[2, 11], edge_attr=[11, 1], y=[11], train_mask=[11], test_mask=[11])\n"
     ]
    }
   ],
   "source": [
    "dataset = data_emb\n",
    "\n",
    "train_dataset = dataset[:int(len(dataset) * 1)]\n",
    "\n",
    "print(f'Number of graphs total: {len(dataset)}')\n",
    "print(f'Number of training graphs: {len(train_dataset)}')\n",
    "print(dataset[0])"
   ]
  },
  {
   "cell_type": "code",
   "execution_count": 80,
   "id": "9db98cba",
   "metadata": {},
   "outputs": [],
   "source": [
    "from torch_geometric.loader import DataLoader\n",
    "from torch_geometric.data import Dataset, Data\n",
    "\n",
    "NUM_GRAPHS_PER_BATCH = 8\n",
    "hidden_channels = 32\n",
    "\n",
    "train_loader = DataLoader(train_dataset, batch_size=NUM_GRAPHS_PER_BATCH, shuffle=True)"
   ]
  },
  {
   "cell_type": "code",
   "execution_count": 81,
   "id": "b4eab3b2",
   "metadata": {},
   "outputs": [],
   "source": [
    "class GATGNN(torch.nn.Module):\n",
    "    def __init__(self):\n",
    "        super().__init__()\n",
    "        self.conv1 = GATConv(embedding_dim, hidden_channels, heads=4, edge_dim=1)\n",
    "        self.lin1 = torch.nn.Linear(embedding_dim, 4 * hidden_channels)\n",
    "        \n",
    "        self.conv2 = GATConv(4 * hidden_channels, hidden_channels, heads=4, edge_dim=1)\n",
    "        self.lin2 = torch.nn.Linear(4 * hidden_channels, 4 * hidden_channels)\n",
    "        \n",
    "        \n",
    "        self.conv3 = GATConv(4 * hidden_channels, len(final_classes), heads=6, concat=False, edge_dim=1)\n",
    "        self.lin3 = torch.nn.Linear(4 * hidden_channels, len(final_classes))\n",
    "\n",
    "        \n",
    "    def forward(self, data):\n",
    "        x, edge_index, edge_attr = data.x, data.edge_index, data.edge_attr\n",
    "        x = F.elu(self.conv1(x, edge_index, edge_attr) + self.lin1(x))\n",
    "        x = F.elu(self.conv2(x, edge_index, edge_attr) + self.lin2(x))\n",
    "        x = self.conv3(x, edge_index, edge_attr) + self.lin3(x)\n",
    "        return F.log_softmax(x, dim=1)"
   ]
  },
  {
   "cell_type": "code",
   "execution_count": 82,
   "id": "61b5307e",
   "metadata": {},
   "outputs": [
    {
     "name": "stdout",
     "output_type": "stream",
     "text": [
      "GATGNN(\n",
      "  (conv1): GATConv(8, 32, heads=4)\n",
      "  (lin1): Linear(in_features=8, out_features=128, bias=True)\n",
      "  (conv2): GATConv(128, 32, heads=4)\n",
      "  (lin2): Linear(in_features=128, out_features=128, bias=True)\n",
      "  (conv3): GATConv(128, 3, heads=6)\n",
      "  (lin3): Linear(in_features=128, out_features=3, bias=True)\n",
      ")\n",
      "Number of parameters:  39118\n"
     ]
    }
   ],
   "source": [
    "device = torch.device('cuda' if torch.cuda.is_available() else 'cpu')\n",
    "model = GATGNN().to(device)\n",
    "\n",
    "optimizer = torch.optim.Adam(model.parameters(), lr=0.005, weight_decay=5e-4)\n",
    "print(model)\n",
    "print(\"Number of parameters: \", sum(p.numel() for p in model.parameters()))"
   ]
  },
  {
   "cell_type": "code",
   "execution_count": 83,
   "id": "8fdf916d",
   "metadata": {},
   "outputs": [],
   "source": [
    "def train():\n",
    "    model.train()\n",
    "\n",
    "    total_loss = 0\n",
    "    for data in train_loader:\n",
    "        data = data.to(device)\n",
    "        optimizer.zero_grad()\n",
    "        out = model(data)\n",
    "        loss = F.nll_loss(out[data.train_mask], data.y[data.train_mask])\n",
    "        total_loss += loss.item() * data.num_graphs\n",
    "        loss.backward()\n",
    "        optimizer.step()\n",
    "    return total_loss / len(train_loader.dataset)"
   ]
  },
  {
   "cell_type": "code",
   "execution_count": 84,
   "id": "c8de5722",
   "metadata": {},
   "outputs": [],
   "source": [
    "@torch.no_grad()\n",
    "def test():\n",
    "    model.eval()\n",
    "\n",
    "    total_acc = 0\n",
    "    for data in train_loader:\n",
    "        pred = model(data).argmax(dim=1)\n",
    "        correct = (pred[data.test_mask] == data.y[data.test_mask]).sum()\n",
    "        acc = int(correct) / int(data.test_mask.sum())\n",
    "        total_acc += acc * data.num_graphs\n",
    "    return total_acc / len(train_loader.dataset)\n",
    "\n",
    "@torch.no_grad()\n",
    "def test_train():\n",
    "    model.eval()\n",
    "\n",
    "    total_acc = 0\n",
    "    for data in train_loader:\n",
    "        pred = model(data).argmax(dim=1)\n",
    "        correct = (pred[data.train_mask] == data.y[data.train_mask]).sum()\n",
    "        acc = int(correct) / int(data.train_mask.sum())\n",
    "        total_acc += acc * data.num_graphs\n",
    "    return total_acc / len(train_loader.dataset)"
   ]
  },
  {
   "cell_type": "code",
   "execution_count": 85,
   "id": "6cf27939",
   "metadata": {
    "scrolled": false
   },
   "outputs": [
    {
     "name": "stdout",
     "output_type": "stream",
     "text": [
      "Epoch: 001, Loss: 1.1505, Train Acc: 0.4269, Test Acc: 0.3507\n",
      "Epoch: 002, Loss: 1.0862, Train Acc: 0.4463, Test Acc: 0.4208\n",
      "Epoch: 003, Loss: 1.0491, Train Acc: 0.3945, Test Acc: 0.3659\n",
      "Epoch: 004, Loss: 1.0390, Train Acc: 0.4514, Test Acc: 0.4299\n",
      "Epoch: 005, Loss: 1.0328, Train Acc: 0.4764, Test Acc: 0.4500\n",
      "Epoch: 006, Loss: 1.0195, Train Acc: 0.4340, Test Acc: 0.3763\n",
      "Epoch: 007, Loss: 1.0193, Train Acc: 0.4728, Test Acc: 0.4183\n",
      "Epoch: 008, Loss: 1.0174, Train Acc: 0.4676, Test Acc: 0.3683\n",
      "Epoch: 009, Loss: 1.0092, Train Acc: 0.4805, Test Acc: 0.3829\n",
      "Epoch: 010, Loss: 1.0103, Train Acc: 0.4872, Test Acc: 0.3689\n",
      "Epoch: 011, Loss: 1.0065, Train Acc: 0.4981, Test Acc: 0.3789\n",
      "Epoch: 012, Loss: 1.0090, Train Acc: 0.4921, Test Acc: 0.3904\n",
      "Epoch: 013, Loss: 1.0051, Train Acc: 0.4780, Test Acc: 0.4113\n",
      "Epoch: 014, Loss: 1.0139, Train Acc: 0.4552, Test Acc: 0.3683\n",
      "Epoch: 015, Loss: 1.0126, Train Acc: 0.4950, Test Acc: 0.3981\n",
      "Epoch: 016, Loss: 1.0001, Train Acc: 0.4739, Test Acc: 0.3955\n",
      "Epoch: 017, Loss: 1.0032, Train Acc: 0.5001, Test Acc: 0.3910\n",
      "Epoch: 018, Loss: 0.9905, Train Acc: 0.5097, Test Acc: 0.3883\n",
      "Epoch: 019, Loss: 0.9840, Train Acc: 0.4971, Test Acc: 0.4216\n",
      "Epoch: 020, Loss: 0.9928, Train Acc: 0.4964, Test Acc: 0.4002\n",
      "Epoch: 021, Loss: 0.9781, Train Acc: 0.5265, Test Acc: 0.4173\n",
      "Epoch: 022, Loss: 0.9883, Train Acc: 0.5143, Test Acc: 0.4094\n",
      "Epoch: 023, Loss: 0.9825, Train Acc: 0.5170, Test Acc: 0.3969\n",
      "Epoch: 024, Loss: 0.9831, Train Acc: 0.5041, Test Acc: 0.3724\n",
      "Epoch: 025, Loss: 0.9791, Train Acc: 0.5260, Test Acc: 0.4132\n",
      "Epoch: 026, Loss: 0.9782, Train Acc: 0.5214, Test Acc: 0.4343\n",
      "Epoch: 027, Loss: 0.9769, Train Acc: 0.5348, Test Acc: 0.3926\n",
      "Epoch: 028, Loss: 0.9684, Train Acc: 0.5274, Test Acc: 0.4116\n",
      "Epoch: 029, Loss: 0.9693, Train Acc: 0.5271, Test Acc: 0.3902\n",
      "Epoch: 030, Loss: 0.9620, Train Acc: 0.5615, Test Acc: 0.3747\n",
      "Epoch: 031, Loss: 0.9626, Train Acc: 0.5271, Test Acc: 0.4094\n",
      "Epoch: 032, Loss: 0.9663, Train Acc: 0.5307, Test Acc: 0.4087\n",
      "Epoch: 033, Loss: 0.9501, Train Acc: 0.5514, Test Acc: 0.3884\n",
      "Epoch: 034, Loss: 0.9663, Train Acc: 0.5240, Test Acc: 0.4312\n",
      "Epoch: 035, Loss: 0.9692, Train Acc: 0.5242, Test Acc: 0.4445\n",
      "Epoch: 036, Loss: 0.9688, Train Acc: 0.5225, Test Acc: 0.4351\n",
      "Epoch: 037, Loss: 0.9624, Train Acc: 0.5126, Test Acc: 0.3833\n",
      "Epoch: 038, Loss: 0.9574, Train Acc: 0.5276, Test Acc: 0.4476\n",
      "Epoch: 039, Loss: 0.9539, Train Acc: 0.5396, Test Acc: 0.4338\n",
      "Epoch: 040, Loss: 0.9450, Train Acc: 0.5420, Test Acc: 0.4194\n",
      "Epoch: 041, Loss: 0.9501, Train Acc: 0.5421, Test Acc: 0.4444\n",
      "Epoch: 042, Loss: 0.9414, Train Acc: 0.5413, Test Acc: 0.4265\n",
      "Epoch: 043, Loss: 0.9324, Train Acc: 0.5651, Test Acc: 0.4131\n",
      "Epoch: 044, Loss: 0.9343, Train Acc: 0.5578, Test Acc: 0.4202\n",
      "Epoch: 045, Loss: 0.9164, Train Acc: 0.5684, Test Acc: 0.4288\n",
      "Epoch: 046, Loss: 0.9205, Train Acc: 0.5744, Test Acc: 0.4079\n",
      "Epoch: 047, Loss: 0.9171, Train Acc: 0.5605, Test Acc: 0.4538\n",
      "Epoch: 048, Loss: 0.9204, Train Acc: 0.5725, Test Acc: 0.4304\n",
      "Epoch: 049, Loss: 0.9028, Train Acc: 0.5613, Test Acc: 0.4293\n",
      "Epoch: 050, Loss: 0.8984, Train Acc: 0.5851, Test Acc: 0.4431\n",
      "Epoch: 051, Loss: 0.8803, Train Acc: 0.5738, Test Acc: 0.4289\n",
      "Epoch: 052, Loss: 0.8969, Train Acc: 0.5982, Test Acc: 0.4615\n",
      "Epoch: 053, Loss: 0.8844, Train Acc: 0.5813, Test Acc: 0.4640\n",
      "Epoch: 054, Loss: 0.8658, Train Acc: 0.5806, Test Acc: 0.4513\n",
      "Epoch: 055, Loss: 0.8782, Train Acc: 0.6070, Test Acc: 0.4073\n",
      "Epoch: 056, Loss: 0.8814, Train Acc: 0.5753, Test Acc: 0.4216\n",
      "Epoch: 057, Loss: 0.8693, Train Acc: 0.5907, Test Acc: 0.4598\n",
      "Epoch: 058, Loss: 0.8547, Train Acc: 0.5889, Test Acc: 0.4437\n",
      "Epoch: 059, Loss: 0.8574, Train Acc: 0.6090, Test Acc: 0.4102\n",
      "Epoch: 060, Loss: 0.8595, Train Acc: 0.6223, Test Acc: 0.4659\n",
      "Epoch: 061, Loss: 0.8516, Train Acc: 0.6115, Test Acc: 0.4203\n",
      "Epoch: 062, Loss: 0.8225, Train Acc: 0.6023, Test Acc: 0.4258\n",
      "Epoch: 063, Loss: 0.8422, Train Acc: 0.6227, Test Acc: 0.4569\n",
      "Epoch: 064, Loss: 0.8237, Train Acc: 0.5987, Test Acc: 0.4259\n",
      "Epoch: 065, Loss: 0.8348, Train Acc: 0.6253, Test Acc: 0.4458\n",
      "Epoch: 066, Loss: 0.8291, Train Acc: 0.6068, Test Acc: 0.4375\n",
      "Epoch: 067, Loss: 0.8286, Train Acc: 0.6241, Test Acc: 0.4246\n",
      "Epoch: 068, Loss: 0.8089, Train Acc: 0.6246, Test Acc: 0.4601\n",
      "Epoch: 069, Loss: 0.8351, Train Acc: 0.5990, Test Acc: 0.4083\n",
      "Epoch: 070, Loss: 0.8306, Train Acc: 0.6237, Test Acc: 0.4530\n",
      "Epoch: 071, Loss: 0.8191, Train Acc: 0.5920, Test Acc: 0.4094\n",
      "Epoch: 072, Loss: 0.8429, Train Acc: 0.6311, Test Acc: 0.4435\n",
      "Epoch: 073, Loss: 0.8203, Train Acc: 0.5976, Test Acc: 0.4051\n",
      "Epoch: 074, Loss: 0.8244, Train Acc: 0.6481, Test Acc: 0.4468\n",
      "Epoch: 075, Loss: 0.7985, Train Acc: 0.6065, Test Acc: 0.4317\n",
      "Epoch: 076, Loss: 0.8007, Train Acc: 0.6332, Test Acc: 0.4389\n",
      "Epoch: 077, Loss: 0.7828, Train Acc: 0.6334, Test Acc: 0.4201\n",
      "Epoch: 078, Loss: 0.7875, Train Acc: 0.6353, Test Acc: 0.4608\n",
      "Epoch: 079, Loss: 0.7609, Train Acc: 0.6244, Test Acc: 0.3898\n",
      "Epoch: 080, Loss: 0.7842, Train Acc: 0.6623, Test Acc: 0.4392\n",
      "Epoch: 081, Loss: 0.7899, Train Acc: 0.6316, Test Acc: 0.4032\n",
      "Epoch: 082, Loss: 0.7689, Train Acc: 0.6723, Test Acc: 0.4809\n",
      "Epoch: 083, Loss: 0.7689, Train Acc: 0.6920, Test Acc: 0.4444\n",
      "Epoch: 084, Loss: 0.7700, Train Acc: 0.6503, Test Acc: 0.4347\n",
      "Epoch: 085, Loss: 0.7383, Train Acc: 0.6570, Test Acc: 0.4364\n",
      "Epoch: 086, Loss: 0.7495, Train Acc: 0.6818, Test Acc: 0.5078\n",
      "Epoch: 087, Loss: 0.7583, Train Acc: 0.6692, Test Acc: 0.4436\n",
      "Epoch: 088, Loss: 0.7552, Train Acc: 0.6551, Test Acc: 0.4395\n",
      "Epoch: 089, Loss: 0.7574, Train Acc: 0.6943, Test Acc: 0.4482\n",
      "Epoch: 090, Loss: 0.7499, Train Acc: 0.6686, Test Acc: 0.5017\n",
      "Epoch: 091, Loss: 0.7421, Train Acc: 0.6834, Test Acc: 0.5020\n",
      "Epoch: 092, Loss: 0.7357, Train Acc: 0.6678, Test Acc: 0.4756\n",
      "Epoch: 093, Loss: 0.7441, Train Acc: 0.6604, Test Acc: 0.4566\n",
      "Epoch: 094, Loss: 0.7536, Train Acc: 0.6184, Test Acc: 0.4384\n",
      "Epoch: 095, Loss: 0.7513, Train Acc: 0.6742, Test Acc: 0.4852\n",
      "Epoch: 096, Loss: 0.7663, Train Acc: 0.6429, Test Acc: 0.4362\n",
      "Epoch: 097, Loss: 0.7306, Train Acc: 0.6601, Test Acc: 0.4489\n",
      "Epoch: 098, Loss: 0.7468, Train Acc: 0.7050, Test Acc: 0.5076\n",
      "Epoch: 099, Loss: 0.7030, Train Acc: 0.6736, Test Acc: 0.4602\n",
      "Epoch: 100, Loss: 0.6947, Train Acc: 0.7109, Test Acc: 0.4880\n",
      "Epoch: 101, Loss: 0.6798, Train Acc: 0.6875, Test Acc: 0.4420\n",
      "Epoch: 102, Loss: 0.6774, Train Acc: 0.7288, Test Acc: 0.5167\n",
      "Epoch: 103, Loss: 0.6627, Train Acc: 0.6923, Test Acc: 0.5164\n",
      "Epoch: 104, Loss: 0.6656, Train Acc: 0.7325, Test Acc: 0.5109\n",
      "Epoch: 105, Loss: 0.6494, Train Acc: 0.7119, Test Acc: 0.4910\n",
      "Epoch: 106, Loss: 0.6447, Train Acc: 0.7133, Test Acc: 0.5419\n",
      "Epoch: 107, Loss: 0.6622, Train Acc: 0.7260, Test Acc: 0.5084\n",
      "Epoch: 108, Loss: 0.6547, Train Acc: 0.7485, Test Acc: 0.5274\n",
      "Epoch: 109, Loss: 0.6330, Train Acc: 0.7273, Test Acc: 0.5211\n",
      "Epoch: 110, Loss: 0.6562, Train Acc: 0.7087, Test Acc: 0.4497\n",
      "Epoch: 111, Loss: 0.6546, Train Acc: 0.7489, Test Acc: 0.4875\n",
      "Epoch: 112, Loss: 0.6203, Train Acc: 0.7308, Test Acc: 0.5053\n",
      "Epoch: 113, Loss: 0.6233, Train Acc: 0.7523, Test Acc: 0.5404\n",
      "Epoch: 114, Loss: 0.6730, Train Acc: 0.7284, Test Acc: 0.5011\n",
      "Epoch: 115, Loss: 0.6639, Train Acc: 0.7372, Test Acc: 0.5059\n",
      "Epoch: 116, Loss: 0.6282, Train Acc: 0.7382, Test Acc: 0.4907\n",
      "Epoch: 117, Loss: 0.6064, Train Acc: 0.7515, Test Acc: 0.5261\n",
      "Epoch: 118, Loss: 0.5741, Train Acc: 0.7402, Test Acc: 0.5197\n",
      "Epoch: 119, Loss: 0.5890, Train Acc: 0.7608, Test Acc: 0.5161\n",
      "Epoch: 120, Loss: 0.6206, Train Acc: 0.7500, Test Acc: 0.4838\n",
      "Epoch: 121, Loss: 0.5777, Train Acc: 0.7827, Test Acc: 0.4970\n",
      "Epoch: 122, Loss: 0.5571, Train Acc: 0.7891, Test Acc: 0.5492\n",
      "Epoch: 123, Loss: 0.5468, Train Acc: 0.7595, Test Acc: 0.5120\n",
      "Epoch: 124, Loss: 0.5647, Train Acc: 0.7588, Test Acc: 0.5046\n",
      "Epoch: 125, Loss: 0.5558, Train Acc: 0.7648, Test Acc: 0.5430\n",
      "Epoch: 126, Loss: 0.5797, Train Acc: 0.7570, Test Acc: 0.5283\n",
      "Epoch: 127, Loss: 0.5589, Train Acc: 0.7563, Test Acc: 0.5223\n",
      "Epoch: 128, Loss: 0.5856, Train Acc: 0.7606, Test Acc: 0.4642\n",
      "Epoch: 129, Loss: 0.5797, Train Acc: 0.7770, Test Acc: 0.5130\n",
      "Epoch: 130, Loss: 0.5543, Train Acc: 0.7632, Test Acc: 0.4972\n",
      "Epoch: 131, Loss: 0.5523, Train Acc: 0.7865, Test Acc: 0.5560\n",
      "Epoch: 132, Loss: 0.5230, Train Acc: 0.7904, Test Acc: 0.5515\n",
      "Epoch: 133, Loss: 0.5281, Train Acc: 0.7871, Test Acc: 0.5169\n"
     ]
    },
    {
     "name": "stdout",
     "output_type": "stream",
     "text": [
      "Epoch: 134, Loss: 0.5322, Train Acc: 0.7898, Test Acc: 0.5102\n",
      "Epoch: 135, Loss: 0.5121, Train Acc: 0.7710, Test Acc: 0.5374\n",
      "Epoch: 136, Loss: 0.5205, Train Acc: 0.7755, Test Acc: 0.4945\n",
      "Epoch: 137, Loss: 0.5371, Train Acc: 0.7997, Test Acc: 0.5343\n",
      "Epoch: 138, Loss: 0.5165, Train Acc: 0.8000, Test Acc: 0.5398\n",
      "Epoch: 139, Loss: 0.5248, Train Acc: 0.7812, Test Acc: 0.5268\n",
      "Epoch: 140, Loss: 0.5289, Train Acc: 0.8040, Test Acc: 0.5703\n",
      "Epoch: 141, Loss: 0.4945, Train Acc: 0.7821, Test Acc: 0.5549\n",
      "Epoch: 142, Loss: 0.5333, Train Acc: 0.8080, Test Acc: 0.5694\n",
      "Epoch: 143, Loss: 0.4775, Train Acc: 0.8084, Test Acc: 0.5680\n",
      "Epoch: 144, Loss: 0.5003, Train Acc: 0.8003, Test Acc: 0.5599\n",
      "Epoch: 145, Loss: 0.5129, Train Acc: 0.8235, Test Acc: 0.5189\n",
      "Epoch: 146, Loss: 0.4438, Train Acc: 0.8292, Test Acc: 0.5462\n",
      "Epoch: 147, Loss: 0.4492, Train Acc: 0.8341, Test Acc: 0.5320\n",
      "Epoch: 148, Loss: 0.4338, Train Acc: 0.8382, Test Acc: 0.5507\n",
      "Epoch: 149, Loss: 0.4323, Train Acc: 0.8323, Test Acc: 0.5208\n",
      "Epoch: 150, Loss: 0.4137, Train Acc: 0.8362, Test Acc: 0.6062\n",
      "Epoch: 151, Loss: 0.4144, Train Acc: 0.8466, Test Acc: 0.5823\n",
      "Epoch: 152, Loss: 0.4117, Train Acc: 0.8488, Test Acc: 0.5658\n",
      "Epoch: 153, Loss: 0.3904, Train Acc: 0.8447, Test Acc: 0.5724\n",
      "Epoch: 154, Loss: 0.3876, Train Acc: 0.8582, Test Acc: 0.5843\n",
      "Epoch: 155, Loss: 0.4033, Train Acc: 0.8630, Test Acc: 0.5662\n",
      "Epoch: 156, Loss: 0.4169, Train Acc: 0.8530, Test Acc: 0.5704\n",
      "Epoch: 157, Loss: 0.3924, Train Acc: 0.8595, Test Acc: 0.5730\n",
      "Epoch: 158, Loss: 0.3866, Train Acc: 0.8526, Test Acc: 0.5486\n",
      "Epoch: 159, Loss: 0.4031, Train Acc: 0.8402, Test Acc: 0.5535\n",
      "Epoch: 160, Loss: 0.3967, Train Acc: 0.8647, Test Acc: 0.5701\n",
      "Epoch: 161, Loss: 0.3900, Train Acc: 0.8534, Test Acc: 0.5540\n",
      "Epoch: 162, Loss: 0.4000, Train Acc: 0.8668, Test Acc: 0.5659\n",
      "Epoch: 163, Loss: 0.3774, Train Acc: 0.8473, Test Acc: 0.5538\n",
      "Epoch: 164, Loss: 0.4023, Train Acc: 0.8593, Test Acc: 0.5476\n",
      "Epoch: 165, Loss: 0.4052, Train Acc: 0.8565, Test Acc: 0.5473\n",
      "Epoch: 166, Loss: 0.4239, Train Acc: 0.8574, Test Acc: 0.5746\n",
      "Epoch: 167, Loss: 0.4486, Train Acc: 0.8326, Test Acc: 0.5553\n",
      "Epoch: 168, Loss: 0.4438, Train Acc: 0.8349, Test Acc: 0.5810\n",
      "Epoch: 169, Loss: 0.4728, Train Acc: 0.8357, Test Acc: 0.5199\n",
      "Epoch: 170, Loss: 0.5003, Train Acc: 0.8220, Test Acc: 0.5358\n",
      "Epoch: 171, Loss: 0.5338, Train Acc: 0.8039, Test Acc: 0.5348\n",
      "Epoch: 172, Loss: 0.4665, Train Acc: 0.8128, Test Acc: 0.5017\n",
      "Epoch: 173, Loss: 0.4916, Train Acc: 0.8365, Test Acc: 0.5825\n",
      "Epoch: 174, Loss: 0.4152, Train Acc: 0.8189, Test Acc: 0.4883\n",
      "Epoch: 175, Loss: 0.4223, Train Acc: 0.8384, Test Acc: 0.5618\n",
      "Epoch: 176, Loss: 0.4269, Train Acc: 0.8465, Test Acc: 0.5502\n",
      "Epoch: 177, Loss: 0.4382, Train Acc: 0.8550, Test Acc: 0.5705\n",
      "Epoch: 178, Loss: 0.4203, Train Acc: 0.8435, Test Acc: 0.5375\n",
      "Epoch: 179, Loss: 0.3787, Train Acc: 0.8558, Test Acc: 0.5529\n",
      "Epoch: 180, Loss: 0.3726, Train Acc: 0.8457, Test Acc: 0.5203\n",
      "Epoch: 181, Loss: 0.4094, Train Acc: 0.8716, Test Acc: 0.5556\n",
      "Epoch: 182, Loss: 0.4235, Train Acc: 0.8611, Test Acc: 0.5339\n",
      "Epoch: 183, Loss: 0.3793, Train Acc: 0.8314, Test Acc: 0.5506\n",
      "Epoch: 184, Loss: 0.4226, Train Acc: 0.8391, Test Acc: 0.5210\n",
      "Epoch: 185, Loss: 0.4479, Train Acc: 0.8347, Test Acc: 0.5631\n",
      "Epoch: 186, Loss: 0.4128, Train Acc: 0.8405, Test Acc: 0.5313\n",
      "Epoch: 187, Loss: 0.4085, Train Acc: 0.8419, Test Acc: 0.5582\n",
      "Epoch: 188, Loss: 0.3907, Train Acc: 0.8521, Test Acc: 0.5475\n",
      "Epoch: 189, Loss: 0.4161, Train Acc: 0.8549, Test Acc: 0.5546\n",
      "Epoch: 190, Loss: 0.3834, Train Acc: 0.8562, Test Acc: 0.5654\n",
      "Epoch: 191, Loss: 0.3616, Train Acc: 0.8633, Test Acc: 0.5573\n",
      "Epoch: 192, Loss: 0.3644, Train Acc: 0.8827, Test Acc: 0.5784\n",
      "Epoch: 193, Loss: 0.3370, Train Acc: 0.8744, Test Acc: 0.5638\n",
      "Epoch: 194, Loss: 0.3424, Train Acc: 0.8893, Test Acc: 0.5311\n",
      "Epoch: 195, Loss: 0.3568, Train Acc: 0.8850, Test Acc: 0.5672\n",
      "Epoch: 196, Loss: 0.3467, Train Acc: 0.8650, Test Acc: 0.5465\n",
      "Epoch: 197, Loss: 0.3859, Train Acc: 0.8734, Test Acc: 0.5631\n",
      "Epoch: 198, Loss: 0.3821, Train Acc: 0.8825, Test Acc: 0.5672\n",
      "Epoch: 199, Loss: 0.3684, Train Acc: 0.8655, Test Acc: 0.5685\n",
      "Epoch: 200, Loss: 0.3611, Train Acc: 0.8764, Test Acc: 0.5521\n"
     ]
    },
    {
     "data": {
      "image/png": "[encoded data removed]",
      "text/plain": [
       "<Figure size 640x480 with 1 Axes>"
      ]
     },
     "metadata": {},
     "output_type": "display_data"
    },
    {
     "data": {
      "image/png": "[encoded data removed]",
      "text/plain": [
       "<Figure size 640x480 with 1 Axes>"
      ]
     },
     "metadata": {},
     "output_type": "display_data"
    }
   ],
   "source": [
    "loss_values = []\n",
    "train_acc_values = []\n",
    "test_acc_values = []\n",
    "\n",
    "for epoch in range(1, 201):\n",
    "    loss = train()\n",
    "    test_acc = test()\n",
    "    train_acc = test_train()\n",
    "    \n",
    "    loss_values.append(loss)\n",
    "    test_acc_values.append(test_acc)\n",
    "    train_acc_values.append(train_acc)\n",
    "    print(f'Epoch: {epoch:03d}, Loss: {loss:.4f}, Train Acc: {train_acc:.4f}, Test Acc: {test_acc:.4f}')\n",
    "    if(acc > 0.61): break\n",
    "\n",
    "plt.plot(loss_values, 'r',)\n",
    "plt.savefig('loss_nc.png')\n",
    "plt.show()\n",
    "plt.plot(test_acc_values, 'b', train_acc_values, 'g')\n",
    "\n",
    "plt.savefig('acc_nc.png')\n",
    "plt.show()"
   ]
  }
 ],
 "metadata": {
  "kernelspec": {
   "display_name": "Python [conda env:pyg_env]",
   "language": "python",
   "name": "conda-env-pyg_env-py"
  },
  "language_info": {
   "codemirror_mode": {
    "name": "ipython",
    "version": 3
   },
   "file_extension": ".py",
   "mimetype": "text/x-python",
   "name": "python",
   "nbconvert_exporter": "python",
   "pygments_lexer": "ipython3",
   "version": "3.10.4"
  }
 },
 "nbformat": 4,
 "nbformat_minor": 5
}
