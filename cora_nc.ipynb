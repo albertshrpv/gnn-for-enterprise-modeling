{
 "cells": [
  {
   "cell_type": "code",
   "execution_count": 1,
   "id": "2de277d1",
   "metadata": {},
   "outputs": [],
   "source": [
    "import os.path as osp\n",
    "\n",
    "import torch\n",
    "import torch.nn.functional as F\n",
    "from sklearn.metrics import roc_auc_score\n",
    "import matplotlib.pyplot as plt\n",
    "\n",
    "import torch_geometric.transforms as T\n",
    "from torch_geometric.datasets import Planetoid\n",
    "from torch_geometric.nn import GCNConv, GATConv\n",
    "from torch_geometric.utils import negative_sampling\n",
    "\n",
    "device = torch.device('cuda' if torch.cuda.is_available() else 'cpu')"
   ]
  },
  {
   "cell_type": "code",
   "execution_count": 2,
   "id": "e704c618",
   "metadata": {},
   "outputs": [],
   "source": [
    "dataset = Planetoid('./data/Planetoid', name='Cora')"
   ]
  },
  {
   "cell_type": "code",
   "execution_count": 3,
   "id": "c621ec61",
   "metadata": {},
   "outputs": [
    {
     "data": {
      "text/plain": [
       "Data(x=[2708, 1433], edge_index=[2, 10556], y=[2708], train_mask=[2708], val_mask=[2708], test_mask=[2708])"
      ]
     },
     "execution_count": 3,
     "metadata": {},
     "output_type": "execute_result"
    }
   ],
   "source": [
    "cora = dataset[0]\n",
    "cora"
   ]
  },
  {
   "cell_type": "code",
   "execution_count": 5,
   "id": "f8e76a67",
   "metadata": {},
   "outputs": [],
   "source": [
    "class GCN(torch.nn.Module):\n",
    "    def __init__(self):\n",
    "        super().__init__()\n",
    "        self.conv1 = GCNConv(dataset.num_node_features, 16)\n",
    "        self.conv2 = GCNConv(16, dataset.num_classes)\n",
    "\n",
    "    def forward(self, data):\n",
    "        x, edge_index = data.x, data.edge_index\n",
    "\n",
    "        x = self.conv1(x, edge_index)\n",
    "        x = F.relu(x)\n",
    "        x = F.dropout(x, training=self.training)\n",
    "        x = self.conv2(x, edge_index)\n",
    "\n",
    "        return F.log_softmax(x, dim=1)"
   ]
  },
  {
   "cell_type": "code",
   "execution_count": 6,
   "id": "1f8235c8",
   "metadata": {},
   "outputs": [],
   "source": [
    "device = torch.device('cuda' if torch.cuda.is_available() else 'cpu')\n",
    "model = GCN().to(device)\n",
    "cora = cora.to(device)\n",
    "optimizer = torch.optim.Adam(model.parameters(), lr=0.01, weight_decay=5e-4)\n",
    "\n",
    "for epoch in range(200):\n",
    "    optimizer.zero_grad()\n",
    "    out = model(cora)\n",
    "    loss = F.nll_loss(out[cora.train_mask], cora.y[cora.train_mask])\n",
    "    loss.backward()\n",
    "    optimizer.step()"
   ]
  },
  {
   "cell_type": "code",
   "execution_count": 7,
   "id": "259ab8d9",
   "metadata": {},
   "outputs": [
    {
     "name": "stdout",
     "output_type": "stream",
     "text": [
      "Accuracy: 0.8060\n"
     ]
    }
   ],
   "source": [
    "model.eval()\n",
    "pred = model(cora).argmax(dim=1)\n",
    "correct = (pred[cora.test_mask] == cora.y[cora.test_mask]).sum()\n",
    "acc = int(correct) / int(cora.test_mask.sum())\n",
    "print(f'Accuracy: {acc:.4f}')"
   ]
  },
  {
   "cell_type": "code",
   "execution_count": null,
   "id": "aa838314",
   "metadata": {},
   "outputs": [],
   "source": []
  },
  {
   "cell_type": "code",
   "execution_count": null,
   "id": "97397500",
   "metadata": {},
   "outputs": [],
   "source": []
  },
  {
   "cell_type": "code",
   "execution_count": null,
   "id": "db13892f",
   "metadata": {},
   "outputs": [],
   "source": []
  },
  {
   "cell_type": "code",
   "execution_count": null,
   "id": "3166da0f",
   "metadata": {},
   "outputs": [],
   "source": []
  },
  {
   "cell_type": "code",
   "execution_count": null,
   "id": "612347bc",
   "metadata": {},
   "outputs": [],
   "source": []
  },
  {
   "cell_type": "code",
   "execution_count": 8,
   "id": "2103209f",
   "metadata": {},
   "outputs": [],
   "source": [
    "hidden_channels = 32"
   ]
  },
  {
   "cell_type": "code",
   "execution_count": 9,
   "id": "bda6b97d",
   "metadata": {},
   "outputs": [],
   "source": [
    "class GATGNN(torch.nn.Module):\n",
    "    def __init__(self):\n",
    "        super().__init__()\n",
    "        self.conv1 = GATConv(dataset.num_node_features, hidden_channels, heads=4, edge_dim=1)\n",
    "        self.lin1 = torch.nn.Linear(dataset.num_node_features, 4 * hidden_channels)\n",
    "        \n",
    "        self.conv2 = GATConv(4 * hidden_channels, hidden_channels, heads=4, edge_dim=1)\n",
    "        self.lin2 = torch.nn.Linear(4 * hidden_channels, 4 * hidden_channels)\n",
    "        \n",
    "        \n",
    "        self.conv3 = GATConv(4 * hidden_channels, dataset.num_classes, heads=6, concat=False, edge_dim=1)\n",
    "        self.lin3 = torch.nn.Linear(4 * hidden_channels, dataset.num_classes)\n",
    "\n",
    "        \n",
    "    def forward(self, data):\n",
    "        x, edge_index, edge_attr = data.x, data.edge_index, data.edge_attr\n",
    "        x = F.elu(self.conv1(x, edge_index, edge_attr) + self.lin1(x))\n",
    "        x = F.elu(self.conv2(x, edge_index, edge_attr) + self.lin2(x))\n",
    "        x = self.conv3(x, edge_index, edge_attr) + self.lin3(x)\n",
    "        return F.log_softmax(x, dim=1)"
   ]
  },
  {
   "cell_type": "code",
   "execution_count": 14,
   "id": "d27852ee",
   "metadata": {},
   "outputs": [],
   "source": [
    "device = torch.device('cuda' if torch.cuda.is_available() else 'cpu')\n",
    "model = GATGNN().to(device)\n",
    "cora = cora.to(device)\n",
    "optimizer = torch.optim.Adam(model.parameters(), lr=0.01, weight_decay=5e-4)"
   ]
  },
  {
   "cell_type": "code",
   "execution_count": 11,
   "id": "fb09a692",
   "metadata": {},
   "outputs": [],
   "source": [
    "def train():\n",
    "    model.train()\n",
    "    optimizer.zero_grad()\n",
    "    out = model(cora)\n",
    "    loss = F.nll_loss(out[cora.train_mask], cora.y[cora.train_mask])\n",
    "    loss.backward()\n",
    "    optimizer.step()\n",
    "    return loss\n"
   ]
  },
  {
   "cell_type": "code",
   "execution_count": 12,
   "id": "d4cdd930",
   "metadata": {},
   "outputs": [],
   "source": [
    "@torch.no_grad()\n",
    "def test():\n",
    "    model.eval()\n",
    "    pred = model(cora).argmax(dim=1)\n",
    "    correct = (pred[cora.test_mask] == cora.y[cora.test_mask]).sum()\n",
    "    acc = int(correct) / int(cora.test_mask.sum())\n",
    "    return acc\n",
    "\n",
    "\n",
    "@torch.no_grad()\n",
    "def test_train():\n",
    "    model.eval()\n",
    "    pred = model(cora).argmax(dim=1)\n",
    "    correct = (pred[cora.train_mask] == cora.y[cora.train_mask]).sum()\n",
    "    acc = int(correct) / int(cora.train_mask.sum())\n",
    "    return acc"
   ]
  },
  {
   "cell_type": "code",
   "execution_count": 15,
   "id": "e0650ce4",
   "metadata": {
    "scrolled": false
   },
   "outputs": [
    {
     "name": "stdout",
     "output_type": "stream",
     "text": [
      "Epoch: 001, Loss: 1.9422, Train Acc: 0.9643, Test Acc: 0.6400\n",
      "Epoch: 002, Loss: 0.9561, Train Acc: 0.9929, Test Acc: 0.7920\n",
      "Epoch: 003, Loss: 0.1746, Train Acc: 1.0000, Test Acc: 0.7870\n",
      "Epoch: 004, Loss: 0.0190, Train Acc: 1.0000, Test Acc: 0.7880\n",
      "Epoch: 005, Loss: 0.0021, Train Acc: 1.0000, Test Acc: 0.7770\n",
      "Epoch: 006, Loss: 0.0004, Train Acc: 1.0000, Test Acc: 0.7750\n",
      "Epoch: 007, Loss: 0.0001, Train Acc: 1.0000, Test Acc: 0.7740\n",
      "Epoch: 008, Loss: 0.0000, Train Acc: 1.0000, Test Acc: 0.7710\n",
      "Epoch: 009, Loss: 0.0000, Train Acc: 1.0000, Test Acc: 0.7630\n",
      "Epoch: 010, Loss: 0.0000, Train Acc: 1.0000, Test Acc: 0.7660\n",
      "Epoch: 011, Loss: 0.0000, Train Acc: 1.0000, Test Acc: 0.7670\n",
      "Epoch: 012, Loss: 0.0000, Train Acc: 1.0000, Test Acc: 0.7650\n",
      "Epoch: 013, Loss: 0.0000, Train Acc: 1.0000, Test Acc: 0.7650\n",
      "Epoch: 014, Loss: 0.0000, Train Acc: 1.0000, Test Acc: 0.7640\n",
      "Epoch: 015, Loss: 0.0000, Train Acc: 1.0000, Test Acc: 0.7620\n",
      "Epoch: 016, Loss: 0.0000, Train Acc: 1.0000, Test Acc: 0.7620\n",
      "Epoch: 017, Loss: 0.0000, Train Acc: 1.0000, Test Acc: 0.7640\n",
      "Epoch: 018, Loss: 0.0000, Train Acc: 1.0000, Test Acc: 0.7630\n",
      "Epoch: 019, Loss: 0.0000, Train Acc: 1.0000, Test Acc: 0.7620\n",
      "Epoch: 020, Loss: 0.0000, Train Acc: 1.0000, Test Acc: 0.7640\n",
      "Epoch: 021, Loss: 0.0000, Train Acc: 1.0000, Test Acc: 0.7630\n",
      "Epoch: 022, Loss: 0.0000, Train Acc: 1.0000, Test Acc: 0.7640\n",
      "Epoch: 023, Loss: 0.0000, Train Acc: 1.0000, Test Acc: 0.7640\n",
      "Epoch: 024, Loss: 0.0000, Train Acc: 1.0000, Test Acc: 0.7650\n",
      "Epoch: 025, Loss: 0.0000, Train Acc: 1.0000, Test Acc: 0.7660\n",
      "Epoch: 026, Loss: 0.0000, Train Acc: 1.0000, Test Acc: 0.7640\n",
      "Epoch: 027, Loss: 0.0000, Train Acc: 1.0000, Test Acc: 0.7640\n",
      "Epoch: 028, Loss: 0.0000, Train Acc: 1.0000, Test Acc: 0.7660\n",
      "Epoch: 029, Loss: 0.0000, Train Acc: 1.0000, Test Acc: 0.7630\n",
      "Epoch: 030, Loss: 0.0000, Train Acc: 1.0000, Test Acc: 0.7640\n",
      "Epoch: 031, Loss: 0.0001, Train Acc: 1.0000, Test Acc: 0.7660\n",
      "Epoch: 032, Loss: 0.0001, Train Acc: 1.0000, Test Acc: 0.7650\n",
      "Epoch: 033, Loss: 0.0000, Train Acc: 1.0000, Test Acc: 0.7670\n",
      "Epoch: 034, Loss: 0.0000, Train Acc: 1.0000, Test Acc: 0.7670\n",
      "Epoch: 035, Loss: 0.0000, Train Acc: 1.0000, Test Acc: 0.7660\n",
      "Epoch: 036, Loss: 0.0000, Train Acc: 1.0000, Test Acc: 0.7700\n",
      "Epoch: 037, Loss: 0.0000, Train Acc: 1.0000, Test Acc: 0.7720\n",
      "Epoch: 038, Loss: 0.0001, Train Acc: 1.0000, Test Acc: 0.7740\n",
      "Epoch: 039, Loss: 0.0001, Train Acc: 1.0000, Test Acc: 0.7740\n",
      "Epoch: 040, Loss: 0.0001, Train Acc: 1.0000, Test Acc: 0.7750\n",
      "Epoch: 041, Loss: 0.0001, Train Acc: 1.0000, Test Acc: 0.7770\n",
      "Epoch: 042, Loss: 0.0001, Train Acc: 1.0000, Test Acc: 0.7800\n",
      "Epoch: 043, Loss: 0.0001, Train Acc: 1.0000, Test Acc: 0.7820\n",
      "Epoch: 044, Loss: 0.0001, Train Acc: 1.0000, Test Acc: 0.7850\n",
      "Epoch: 045, Loss: 0.0001, Train Acc: 1.0000, Test Acc: 0.7850\n",
      "Epoch: 046, Loss: 0.0002, Train Acc: 1.0000, Test Acc: 0.7840\n",
      "Epoch: 047, Loss: 0.0002, Train Acc: 1.0000, Test Acc: 0.7880\n",
      "Epoch: 048, Loss: 0.0002, Train Acc: 1.0000, Test Acc: 0.7880\n",
      "Epoch: 049, Loss: 0.0002, Train Acc: 1.0000, Test Acc: 0.7860\n",
      "Epoch: 050, Loss: 0.0003, Train Acc: 1.0000, Test Acc: 0.7870\n",
      "Epoch: 051, Loss: 0.0003, Train Acc: 1.0000, Test Acc: 0.7900\n",
      "Epoch: 052, Loss: 0.0003, Train Acc: 1.0000, Test Acc: 0.7880\n",
      "Epoch: 053, Loss: 0.0004, Train Acc: 1.0000, Test Acc: 0.7870\n",
      "Epoch: 054, Loss: 0.0004, Train Acc: 1.0000, Test Acc: 0.7860\n",
      "Epoch: 055, Loss: 0.0005, Train Acc: 1.0000, Test Acc: 0.7850\n",
      "Epoch: 056, Loss: 0.0006, Train Acc: 1.0000, Test Acc: 0.7880\n",
      "Epoch: 057, Loss: 0.0007, Train Acc: 1.0000, Test Acc: 0.7880\n",
      "Epoch: 058, Loss: 0.0007, Train Acc: 1.0000, Test Acc: 0.7880\n",
      "Epoch: 059, Loss: 0.0008, Train Acc: 1.0000, Test Acc: 0.7920\n",
      "Epoch: 060, Loss: 0.0009, Train Acc: 1.0000, Test Acc: 0.7920\n",
      "Epoch: 061, Loss: 0.0009, Train Acc: 1.0000, Test Acc: 0.7910\n",
      "Epoch: 062, Loss: 0.0010, Train Acc: 1.0000, Test Acc: 0.7920\n",
      "Epoch: 063, Loss: 0.0010, Train Acc: 1.0000, Test Acc: 0.7900\n",
      "Epoch: 064, Loss: 0.0011, Train Acc: 1.0000, Test Acc: 0.7890\n",
      "Epoch: 065, Loss: 0.0011, Train Acc: 1.0000, Test Acc: 0.7890\n",
      "Epoch: 066, Loss: 0.0012, Train Acc: 1.0000, Test Acc: 0.7890\n",
      "Epoch: 067, Loss: 0.0012, Train Acc: 1.0000, Test Acc: 0.7920\n",
      "Epoch: 068, Loss: 0.0013, Train Acc: 1.0000, Test Acc: 0.7950\n",
      "Epoch: 069, Loss: 0.0013, Train Acc: 1.0000, Test Acc: 0.7980\n",
      "Epoch: 070, Loss: 0.0013, Train Acc: 1.0000, Test Acc: 0.7990\n",
      "Epoch: 071, Loss: 0.0014, Train Acc: 1.0000, Test Acc: 0.7990\n",
      "Epoch: 072, Loss: 0.0014, Train Acc: 1.0000, Test Acc: 0.7950\n",
      "Epoch: 073, Loss: 0.0014, Train Acc: 1.0000, Test Acc: 0.7950\n",
      "Epoch: 074, Loss: 0.0014, Train Acc: 1.0000, Test Acc: 0.7950\n",
      "Epoch: 075, Loss: 0.0014, Train Acc: 1.0000, Test Acc: 0.7950\n",
      "Epoch: 076, Loss: 0.0014, Train Acc: 1.0000, Test Acc: 0.7930\n",
      "Epoch: 077, Loss: 0.0014, Train Acc: 1.0000, Test Acc: 0.7940\n",
      "Epoch: 078, Loss: 0.0014, Train Acc: 1.0000, Test Acc: 0.7910\n",
      "Epoch: 079, Loss: 0.0014, Train Acc: 1.0000, Test Acc: 0.7920\n",
      "Epoch: 080, Loss: 0.0014, Train Acc: 1.0000, Test Acc: 0.7930\n",
      "Epoch: 081, Loss: 0.0014, Train Acc: 1.0000, Test Acc: 0.7940\n",
      "Epoch: 082, Loss: 0.0014, Train Acc: 1.0000, Test Acc: 0.7950\n",
      "Epoch: 083, Loss: 0.0014, Train Acc: 1.0000, Test Acc: 0.7960\n",
      "Epoch: 084, Loss: 0.0014, Train Acc: 1.0000, Test Acc: 0.7970\n",
      "Epoch: 085, Loss: 0.0014, Train Acc: 1.0000, Test Acc: 0.7990\n",
      "Epoch: 086, Loss: 0.0014, Train Acc: 1.0000, Test Acc: 0.7990\n",
      "Epoch: 087, Loss: 0.0014, Train Acc: 1.0000, Test Acc: 0.7990\n",
      "Epoch: 088, Loss: 0.0014, Train Acc: 1.0000, Test Acc: 0.7990\n",
      "Epoch: 089, Loss: 0.0014, Train Acc: 1.0000, Test Acc: 0.7990\n",
      "Epoch: 090, Loss: 0.0014, Train Acc: 1.0000, Test Acc: 0.7990\n",
      "Epoch: 091, Loss: 0.0014, Train Acc: 1.0000, Test Acc: 0.7980\n",
      "Epoch: 092, Loss: 0.0014, Train Acc: 1.0000, Test Acc: 0.7990\n",
      "Epoch: 093, Loss: 0.0014, Train Acc: 1.0000, Test Acc: 0.7990\n",
      "Epoch: 094, Loss: 0.0014, Train Acc: 1.0000, Test Acc: 0.7980\n",
      "Epoch: 095, Loss: 0.0014, Train Acc: 1.0000, Test Acc: 0.7970\n",
      "Epoch: 096, Loss: 0.0014, Train Acc: 1.0000, Test Acc: 0.7980\n",
      "Epoch: 097, Loss: 0.0014, Train Acc: 1.0000, Test Acc: 0.7980\n",
      "Epoch: 098, Loss: 0.0014, Train Acc: 1.0000, Test Acc: 0.7980\n",
      "Epoch: 099, Loss: 0.0014, Train Acc: 1.0000, Test Acc: 0.7980\n",
      "Epoch: 100, Loss: 0.0014, Train Acc: 1.0000, Test Acc: 0.7980\n"
     ]
    },
    {
     "data": {
      "image/png": "[encoded data removed]",
      "text/plain": [
       "<Figure size 640x480 with 1 Axes>"
      ]
     },
     "metadata": {},
     "output_type": "display_data"
    },
    {
     "data": {
      "image/png": "[encoded data removed]",
      "text/plain": [
       "<Figure size 640x480 with 1 Axes>"
      ]
     },
     "metadata": {},
     "output_type": "display_data"
    }
   ],
   "source": [
    "loss_values = []\n",
    "test_acc_values = []\n",
    "train_acc_values = []\n",
    "\n",
    "for epoch in range(1, 101):\n",
    "    loss = train()\n",
    "    train_acc = test_train()\n",
    "    test_acc = test()\n",
    "    \n",
    "    loss_values.append(loss.item())\n",
    "    train_acc_values.append(train_acc)\n",
    "    test_acc_values.append(test_acc)\n",
    "    print(f'Epoch: {epoch:03d}, Loss: {loss:.4f}, Train Acc: {train_acc:.4f}, Test Acc: {test_acc:.4f}')\n",
    "\n",
    "\n",
    "plt.plot(loss_values, 'r',)\n",
    "plt.savefig('loss_cora_nc.png')\n",
    "plt.show()\n",
    "plt.plot(test_acc_values, 'b')\n",
    "\n",
    "plt.savefig('acc_cora_nc.png')\n",
    "plt.show()"
   ]
  }
 ],
 "metadata": {
  "kernelspec": {
   "display_name": "Python [conda env:pyg_env]",
   "language": "python",
   "name": "conda-env-pyg_env-py"
  },
  "language_info": {
   "codemirror_mode": {
    "name": "ipython",
    "version": 3
   },
   "file_extension": ".py",
   "mimetype": "text/x-python",
   "name": "python",
   "nbconvert_exporter": "python",
   "pygments_lexer": "ipython3",
   "version": "3.10.4"
  }
 },
 "nbformat": 4,
 "nbformat_minor": 5
}
